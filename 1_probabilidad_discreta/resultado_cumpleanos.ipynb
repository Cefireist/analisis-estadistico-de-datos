{
 "cells": [
  {
   "cell_type": "markdown",
   "id": "65bbd085-c477-4887-a5e5-084ee1ce8467",
   "metadata": {},
   "source": [
    "# Cumpleaños coincidentes en la clase"
   ]
  },
  {
   "cell_type": "markdown",
   "id": "89aad0b8-e64c-43fd-9aad-cfb254e69078",
   "metadata": {},
   "source": [
    "Identifica coincidencias en las respuestas a la encuesta sobre el día de cumpleaños"
   ]
  },
  {
   "cell_type": "markdown",
   "id": "0ec4f373-68e4-46e1-b683-72887587323d",
   "metadata": {},
   "source": [
    "Carga las respuestas de la encuesta"
   ]
  },
  {
   "cell_type": "code",
   "execution_count": null,
   "id": "f1863e20-8dde-40ea-b028-a63676d0b5c0",
   "metadata": {},
   "outputs": [],
   "source": [
    "import pandas as pd\n",
    "data = pd.read_csv(\"cumpleanos.csv\")\n",
    "data.head()"
   ]
  },
  {
   "cell_type": "code",
   "execution_count": null,
   "id": "5317f794-8401-43b1-ae1c-ee798319ac2b",
   "metadata": {},
   "outputs": [],
   "source": [
    "print(f\"Número de personas en la clase: {len(data.index)}\")"
   ]
  },
  {
   "cell_type": "markdown",
   "id": "df6ace65-5e76-4b14-b26e-aff154e8daa9",
   "metadata": {},
   "source": [
    "Calcula el número de día en el año para todas las personas"
   ]
  },
  {
   "cell_type": "code",
   "execution_count": null,
   "id": "bf9558d8-d58d-459f-bedb-37930fbf3a5f",
   "metadata": {},
   "outputs": [],
   "source": [
    "from datetime import datetime\n",
    "\n",
    "day_in_year_list = []\n",
    "for index, row in data.iterrows():\n",
    "    # Datetime requires a year. Using a fixed year for all records.\n",
    "    # Using a leap year just in case someone was born on Feb 29\n",
    "    day_in_year = datetime(year=2024, month=row[\"Mes\"], day=row[\"Día\"]).timetuple().tm_yday\n",
    "    day_in_year_list.append(day_in_year)\n",
    "\n",
    "data[\"Clave\"] = day_in_year_list\n",
    "\n",
    "data.head()"
   ]
  },
  {
   "cell_type": "markdown",
   "id": "bd79aba4-49b3-4645-ade1-aa8b93056d0a",
   "metadata": {},
   "source": [
    "Chequea si hay alguna clase repetida y muestra los datos de las personas en coincidencia"
   ]
  },
  {
   "cell_type": "code",
   "execution_count": null,
   "id": "7ed82e22-769b-446d-8a7e-0bacdd1df61f",
   "metadata": {},
   "outputs": [],
   "source": [
    "import numpy as np\n",
    "unique_keys, key_frequency = np.unique(data[\"Clave\"], return_counts=True)\n",
    "if max(key_frequency)>1:\n",
    "    print(\"Coincidencia!\")\n",
    "    coincident_keys = unique_keys[key_frequency>1]\n",
    "    coincident_people = data[data[\"Clave\"].isin(coincident_keys)]\n",
    "    print(coincident_people.sort_values(by='Clave'))\n",
    "else:\n",
    "    print(\"No hay coincidencias\")"
   ]
  },
  {
   "cell_type": "code",
   "execution_count": null,
   "id": "7aed086c-2ff8-41f7-bcea-75f09d682f38",
   "metadata": {},
   "outputs": [],
   "source": []
  }
 ],
 "metadata": {
  "kernelspec": {
   "display_name": "Python 3 (ipykernel)",
   "language": "python",
   "name": "python3"
  },
  "language_info": {
   "codemirror_mode": {
    "name": "ipython",
    "version": 3
   },
   "file_extension": ".py",
   "mimetype": "text/x-python",
   "name": "python",
   "nbconvert_exporter": "python",
   "pygments_lexer": "ipython3",
   "version": "3.10.12"
  }
 },
 "nbformat": 4,
 "nbformat_minor": 5
}
