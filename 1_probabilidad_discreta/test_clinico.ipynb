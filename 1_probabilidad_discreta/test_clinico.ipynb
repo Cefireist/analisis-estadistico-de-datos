{
 "cells": [
  {
   "cell_type": "markdown",
   "metadata": {
    "id": "fs5fU-8KasRb"
   },
   "source": [
    "# Test clínico"
   ]
  },
  {
   "cell_type": "markdown",
   "metadata": {},
   "source": [
    "Calcula la probabilidad que un paciente esté enfermo dado que tuvo un test positivo aplicando el teorema de Bayes"
   ]
  },
  {
   "cell_type": "markdown",
   "metadata": {
    "id": "wz--fOR5asRe"
   },
   "source": [
    "Sensibilidad"
   ]
  },
  {
   "cell_type": "code",
   "execution_count": null,
   "metadata": {
    "colab": {
     "base_uri": "https://localhost:8080/"
    },
    "executionInfo": {
     "elapsed": 41,
     "status": "ok",
     "timestamp": 1692298846692,
     "user": {
      "displayName": "Diego Ravignani Guerrero",
      "userId": "10540030550289703153"
     },
     "user_tz": 180
    },
    "id": "tWLHDZxoasRg",
    "outputId": "6741bf0f-82f7-4770-d783-be3a16c91162"
   },
   "outputs": [],
   "source": [
    "sensibilidad = 67/100\n",
    "falso_negativo = 1 - sensibilidad\n",
    "print(f'{100*falso_negativo:.0f}%')"
   ]
  },
  {
   "cell_type": "markdown",
   "metadata": {
    "id": "SsA7qwEMasRk"
   },
   "source": [
    "Especifidad"
   ]
  },
  {
   "cell_type": "code",
   "execution_count": null,
   "metadata": {
    "colab": {
     "base_uri": "https://localhost:8080/"
    },
    "executionInfo": {
     "elapsed": 38,
     "status": "ok",
     "timestamp": 1692298846693,
     "user": {
      "displayName": "Diego Ravignani Guerrero",
      "userId": "10540030550289703153"
     },
     "user_tz": 180
    },
    "id": "zx0oG_ZSasRl",
    "outputId": "bc8c0d1c-3c4e-408d-eacb-e7f76a6d1930"
   },
   "outputs": [],
   "source": [
    "especifidad = 91/100\n",
    "falso_positivo = 1 - especifidad\n",
    "print(f'{100*falso_positivo:.0f}%')"
   ]
  },
  {
   "cell_type": "markdown",
   "metadata": {
    "id": "Jb_gUM0FasRq"
   },
   "source": [
    "Prevalencia"
   ]
  },
  {
   "cell_type": "code",
   "execution_count": null,
   "metadata": {
    "colab": {
     "base_uri": "https://localhost:8080/"
    },
    "executionInfo": {
     "elapsed": 34,
     "status": "ok",
     "timestamp": 1692298846694,
     "user": {
      "displayName": "Diego Ravignani Guerrero",
      "userId": "10540030550289703153"
     },
     "user_tz": 180
    },
    "id": "RyfVrNbjasRr",
    "outputId": "0f370b81-08e5-4c05-8b3d-e3abeac4540e"
   },
   "outputs": [],
   "source": [
    "prevalencia = 1.48/100\n",
    "proba_sano = 1 - prevalencia\n",
    "print(f'{100*proba_sano:.2f}%')"
   ]
  },
  {
   "cell_type": "markdown",
   "metadata": {
    "id": "v3pu5PXyasRu"
   },
   "source": [
    "### Ley de probabilidad total"
   ]
  },
  {
   "cell_type": "markdown",
   "metadata": {},
   "source": [
    "Probabilidad que un test sea positivo"
   ]
  },
  {
   "cell_type": "code",
   "execution_count": null,
   "metadata": {
    "id": "KF381_niasRu"
   },
   "outputs": [],
   "source": [
    "proba_positivo = sensibilidad * prevalencia + falso_positivo * proba_sano\n",
    "proba_positivo*100"
   ]
  },
  {
   "cell_type": "markdown",
   "metadata": {},
   "source": [
    "Probabilidad conjunta test positivo y paciente enfermo"
   ]
  },
  {
   "cell_type": "code",
   "execution_count": null,
   "metadata": {
    "colab": {
     "base_uri": "https://localhost:8080/"
    },
    "executionInfo": {
     "elapsed": 30,
     "status": "ok",
     "timestamp": 1692298846696,
     "user": {
      "displayName": "Diego Ravignani Guerrero",
      "userId": "10540030550289703153"
     },
     "user_tz": 180
    },
    "id": "BCelGBM4asRv",
    "outputId": "3e89a50a-5647-4b34-82ac-1ffc60396a2d"
   },
   "outputs": [],
   "source": [
    "print(f'{100*sensibilidad*prevalencia:.2f}%')"
   ]
  },
  {
   "cell_type": "markdown",
   "metadata": {},
   "source": [
    "Probabilidad conjunta test positivo y paciente sano"
   ]
  },
  {
   "cell_type": "code",
   "execution_count": null,
   "metadata": {
    "colab": {
     "base_uri": "https://localhost:8080/"
    },
    "executionInfo": {
     "elapsed": 27,
     "status": "ok",
     "timestamp": 1692298846697,
     "user": {
      "displayName": "Diego Ravignani Guerrero",
      "userId": "10540030550289703153"
     },
     "user_tz": 180
    },
    "id": "aIc7aVh_asRx",
    "outputId": "f7a8bfae-0c51-44e1-9c35-79001b355957"
   },
   "outputs": [],
   "source": [
    "print(f'{100*falso_positivo*proba_sano:.2f}%')"
   ]
  },
  {
   "cell_type": "markdown",
   "metadata": {
    "id": "C-OrOikKasRz"
   },
   "source": [
    "La mayoría de los test positivos provienen de la población sana!"
   ]
  },
  {
   "cell_type": "code",
   "execution_count": null,
   "metadata": {
    "colab": {
     "base_uri": "https://localhost:8080/"
    },
    "executionInfo": {
     "elapsed": 24,
     "status": "ok",
     "timestamp": 1692298846698,
     "user": {
      "displayName": "Diego Ravignani Guerrero",
      "userId": "10540030550289703153"
     },
     "user_tz": 180
    },
    "id": "-ypuoZgjasRz",
    "outputId": "b6335ef2-7c72-4d0d-d050-8804b8391ef6"
   },
   "outputs": [],
   "source": [
    "print(f'{100*proba_positivo:.2f}%')"
   ]
  },
  {
   "cell_type": "markdown",
   "metadata": {
    "id": "020NDrnCh9_A"
   },
   "source": [
    "### Teorema de Bayes"
   ]
  },
  {
   "cell_type": "markdown",
   "metadata": {},
   "source": [
    "Probabilidad condicional de que el paciente esté sano dado que el test es positivo"
   ]
  },
  {
   "cell_type": "code",
   "execution_count": null,
   "metadata": {
    "id": "21MZ14NDasR0"
   },
   "outputs": [],
   "source": [
    "proba_enfermo_positivo = sensibilidad * prevalencia / proba_positivo\n",
    "print(f'{100*proba_enfermo_positivo:.1f}%')"
   ]
  },
  {
   "cell_type": "markdown",
   "metadata": {},
   "source": [
    "## Ejercicio"
   ]
  },
  {
   "cell_type": "markdown",
   "metadata": {},
   "source": [
    "Usando el teorema de Bayes calcular las probabilidad condicionales:\n",
    "\n",
    "- P(paciente sano | test positivo)\n",
    "- P(paciente enfermo | test negativo)\n",
    "- P(paciente sano| test negativo)"
   ]
  }
 ],
 "metadata": {
  "colab": {
   "provenance": []
  },
  "kernelspec": {
   "display_name": "Python 3 (ipykernel)",
   "language": "python",
   "name": "python3"
  },
  "language_info": {
   "codemirror_mode": {
    "name": "ipython",
    "version": 3
   },
   "file_extension": ".py",
   "mimetype": "text/x-python",
   "name": "python",
   "nbconvert_exporter": "python",
   "pygments_lexer": "ipython3",
   "version": "3.10.12"
  }
 },
 "nbformat": 4,
 "nbformat_minor": 4
}
