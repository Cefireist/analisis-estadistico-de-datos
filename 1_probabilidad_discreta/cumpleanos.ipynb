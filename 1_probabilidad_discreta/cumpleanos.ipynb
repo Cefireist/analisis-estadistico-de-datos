{
 "cells": [
  {
   "cell_type": "markdown",
   "metadata": {},
   "source": [
    "# Día de cumpleaños"
   ]
  },
  {
   "cell_type": "markdown",
   "metadata": {},
   "source": [
    "Estima la probabilidad que dos personas de un grupo cumplan años el mismo día"
   ]
  },
  {
   "cell_type": "code",
   "execution_count": 1,
   "metadata": {},
   "outputs": [],
   "source": [
    "import numpy as np"
   ]
  },
  {
   "cell_type": "code",
   "execution_count": 2,
   "metadata": {},
   "outputs": [],
   "source": [
    "npersonas = 33\n",
    "dia_año = 365\n",
    "nsimulaciones = 10000"
   ]
  },
  {
   "cell_type": "markdown",
   "metadata": {},
   "source": [
    "Generador de números aleatorios"
   ]
  },
  {
   "cell_type": "code",
   "execution_count": 3,
   "metadata": {},
   "outputs": [],
   "source": [
    "rng = np.random.default_rng(seed=6870)"
   ]
  },
  {
   "cell_type": "code",
   "execution_count": 4,
   "metadata": {
    "scrolled": false
   },
   "outputs": [],
   "source": [
    "nexitos = 0\n",
    "for evento in range(nsimulaciones):\n",
    "    cumpleaños = rng.integers(1, high=dia_año, size=npersonas, endpoint=True)\n",
    "    # print(\"Días de cumpleaños: \", cumpleaños)\n",
    "    unicos, cuentas = np.unique(cumpleaños, return_counts=True)\n",
    "    # print(\"Cuentas: \", cuentas)\n",
    "    # print(\"Cuenta máxima: \", max(cuentas))\n",
    "    # print(\"Duplicados: \", unicos[cuentas > 1])\n",
    "    coincidencia = max(cuentas)>1\n",
    "    # print(\"Coincidencia: \", coincidencia)\n",
    "    if (coincidencia):\n",
    "        nexitos += 1"
   ]
  },
  {
   "cell_type": "code",
   "execution_count": 5,
   "metadata": {},
   "outputs": [
    {
     "name": "stdout",
     "output_type": "stream",
     "text": [
      "Numero de éxitos:  7698\n"
     ]
    }
   ],
   "source": [
    "print(\"Numero de éxitos: \", nexitos)"
   ]
  },
  {
   "cell_type": "code",
   "execution_count": 6,
   "metadata": {},
   "outputs": [],
   "source": [
    "probabilidad_coincidencia = nexitos / nsimulaciones"
   ]
  },
  {
   "cell_type": "code",
   "execution_count": 7,
   "metadata": {},
   "outputs": [
    {
     "name": "stdout",
     "output_type": "stream",
     "text": [
      "Tasa de coincidencias: 77%\n"
     ]
    }
   ],
   "source": [
    "print(f'Tasa de coincidencias: {100*probabilidad_coincidencia:.0f}%')"
   ]
  }
 ],
 "metadata": {
  "kernelspec": {
   "display_name": "Python 3 (ipykernel)",
   "language": "python",
   "name": "python3"
  },
  "language_info": {
   "codemirror_mode": {
    "name": "ipython",
    "version": 3
   },
   "file_extension": ".py",
   "mimetype": "text/x-python",
   "name": "python",
   "nbconvert_exporter": "python",
   "pygments_lexer": "ipython3",
   "version": "3.10.12"
  }
 },
 "nbformat": 4,
 "nbformat_minor": 4
}
