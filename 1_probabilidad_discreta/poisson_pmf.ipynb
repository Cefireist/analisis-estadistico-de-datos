{
 "cells": [
  {
   "cell_type": "code",
   "execution_count": null,
   "id": "e58a6ffc-5e33-48c2-a158-07a24e8ce9f7",
   "metadata": {},
   "outputs": [],
   "source": [
    "mu = 5.4"
   ]
  },
  {
   "cell_type": "code",
   "execution_count": null,
   "id": "6dcc1559-3181-44eb-8e96-4d5b610a12e8",
   "metadata": {},
   "outputs": [],
   "source": [
    "import numpy as np\n",
    "k = np.arange(0, 11)"
   ]
  },
  {
   "cell_type": "code",
   "execution_count": null,
   "id": "0401e1a1-6778-4f69-9b2d-7457cddc22e9",
   "metadata": {},
   "outputs": [],
   "source": [
    "from scipy.stats import poisson\n",
    "probability = poisson.pmf(k, mu)"
   ]
  },
  {
   "cell_type": "code",
   "execution_count": null,
   "id": "fad5baf3-d001-41dd-9588-d7b9e660a8a1",
   "metadata": {},
   "outputs": [],
   "source": [
    "import matplotlib.pyplot as plt\n",
    "fig, ax = plt.subplots()\n",
    "ax.set_xlabel(\"$k$\")\n",
    "ax.set_ylabel(\"Probability\")\n",
    "ax.plot(k, probability, ls='', marker='o', label=\"PMF\")\n",
    "fig.tight_layout()\n",
    "# fig.savefig(\"poisson_pmf.svg\")"
   ]
  }
 ],
 "metadata": {
  "kernelspec": {
   "display_name": "Python 3 (ipykernel)",
   "language": "python",
   "name": "python3"
  },
  "language_info": {
   "codemirror_mode": {
    "name": "ipython",
    "version": 3
   },
   "file_extension": ".py",
   "mimetype": "text/x-python",
   "name": "python",
   "nbconvert_exporter": "python",
   "pygments_lexer": "ipython3",
   "version": "3.10.12"
  }
 },
 "nbformat": 4,
 "nbformat_minor": 5
}
