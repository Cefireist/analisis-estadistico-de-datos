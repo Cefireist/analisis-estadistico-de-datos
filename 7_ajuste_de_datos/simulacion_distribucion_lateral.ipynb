{
 "cells": [
  {
   "cell_type": "markdown",
   "metadata": {
    "id": "RDXFQ4FY76V7"
   },
   "source": [
    "# Simulación de la distribución lateral"
   ]
  },
  {
   "cell_type": "markdown",
   "metadata": {},
   "source": [
    "- Simula el número de partículas en tres detectores a distintas distancias del eje de la lluvia.\n",
    "- Ajsuta los datos. \n",
    "- Compara los modelos con: 1) los parámetros verdaderos y 2) los estimadores"
   ]
  },
  {
   "cell_type": "code",
   "execution_count": 1,
   "metadata": {
    "executionInfo": {
     "elapsed": 622,
     "status": "ok",
     "timestamp": 1680464081465,
     "user": {
      "displayName": "Ezequiel Rodriguez",
      "userId": "03024089132465404102"
     },
     "user_tz": -120
    },
    "id": "45169ZMM76V8"
   },
   "outputs": [],
   "source": [
    "import math\n",
    "import numpy as np\n",
    "import matplotlib.pyplot as plt\n",
    "from scipy.stats import poisson"
   ]
  },
  {
   "cell_type": "markdown",
   "metadata": {},
   "source": [
    "If danatools is not available install it with: pip -m install danatools"
   ]
  },
  {
   "cell_type": "code",
   "execution_count": 2,
   "metadata": {},
   "outputs": [],
   "source": [
    "import danatools"
   ]
  },
  {
   "cell_type": "markdown",
   "metadata": {},
   "source": [
    "If likefit is not available install it with: pip -m install likefit"
   ]
  },
  {
   "cell_type": "code",
   "execution_count": 3,
   "metadata": {},
   "outputs": [],
   "source": [
    "import likefit"
   ]
  },
  {
   "cell_type": "markdown",
   "metadata": {
    "id": "-u858pnD76V9"
   },
   "source": [
    "Semilla random para reproducir los resultados"
   ]
  },
  {
   "cell_type": "code",
   "execution_count": 4,
   "metadata": {
    "executionInfo": {
     "elapsed": 22,
     "status": "ok",
     "timestamp": 1680464081466,
     "user": {
      "displayName": "Ezequiel Rodriguez",
      "userId": "03024089132465404102"
     },
     "user_tz": -120
    },
    "id": "srTFdP2T76V9"
   },
   "outputs": [],
   "source": [
    "rng = np.random.seed(seed=60870)"
   ]
  },
  {
   "cell_type": "markdown",
   "metadata": {},
   "source": [
    "Parámetros *verdaderos*"
   ]
  },
  {
   "cell_type": "code",
   "execution_count": 5,
   "metadata": {
    "executionInfo": {
     "elapsed": 23,
     "status": "ok",
     "timestamp": 1680464081465,
     "user": {
      "displayName": "Ezequiel Rodriguez",
      "userId": "03024089132465404102"
     },
     "user_tz": -120
    },
    "id": "SI0d6I8I76V9",
    "scrolled": true
   },
   "outputs": [],
   "source": [
    "S0 = 19.1\n",
    "beta = 2.1\n",
    "par_true = np.array([S0, beta])"
   ]
  },
  {
   "cell_type": "code",
   "execution_count": 6,
   "metadata": {
    "executionInfo": {
     "elapsed": 23,
     "status": "ok",
     "timestamp": 1680464081466,
     "user": {
      "displayName": "Ezequiel Rodriguez",
      "userId": "03024089132465404102"
     },
     "user_tz": -120
    },
    "id": "vqdus2-M76V9"
   },
   "outputs": [],
   "source": [
    "distance = np.array([191, 263, 309])  # distancia en metros"
   ]
  },
  {
   "cell_type": "code",
   "execution_count": 7,
   "metadata": {
    "executionInfo": {
     "elapsed": 22,
     "status": "ok",
     "timestamp": 1680464081466,
     "user": {
      "displayName": "Ezequiel Rodriguez",
      "userId": "03024089132465404102"
     },
     "user_tz": -120
    },
    "id": "DKQJAYV476V9"
   },
   "outputs": [],
   "source": [
    "# Fit model\n",
    "def fit_model(x, par):\n",
    "    x0 = 250  # Reference distance in metres\n",
    "    return par[0] * np.power(x/x0, -par[1])"
   ]
  },
  {
   "cell_type": "markdown",
   "metadata": {},
   "source": [
    "## Simulación de un evento"
   ]
  },
  {
   "cell_type": "markdown",
   "metadata": {},
   "source": [
    "Media del número de eventos en cada detector"
   ]
  },
  {
   "cell_type": "code",
   "execution_count": 8,
   "metadata": {
    "colab": {
     "base_uri": "https://localhost:8080/"
    },
    "executionInfo": {
     "elapsed": 22,
     "status": "ok",
     "timestamp": 1680464081467,
     "user": {
      "displayName": "Ezequiel Rodriguez",
      "userId": "03024089132465404102"
     },
     "user_tz": -120
    },
    "id": "pElDa3TZ76V-",
    "outputId": "fda08ecb-1a74-44e7-905a-e7a7f13d164d"
   },
   "outputs": [
    {
     "data": {
      "text/plain": [
       "array([33.61532498, 17.17118683, 12.24037093])"
      ]
     },
     "execution_count": 8,
     "metadata": {},
     "output_type": "execute_result"
    }
   ],
   "source": [
    "mu = fit_model(distance, par_true)\n",
    "mu"
   ]
  },
  {
   "cell_type": "markdown",
   "metadata": {},
   "source": [
    "Número de partículas en cada detector"
   ]
  },
  {
   "cell_type": "code",
   "execution_count": 9,
   "metadata": {},
   "outputs": [
    {
     "data": {
      "text/plain": [
       "array([27, 16, 19])"
      ]
     },
     "execution_count": 9,
     "metadata": {},
     "output_type": "execute_result"
    }
   ],
   "source": [
    "particles = poisson.rvs(mu, random_state=rng)\n",
    "particles"
   ]
  },
  {
   "cell_type": "markdown",
   "metadata": {},
   "source": [
    "## Ajuste de la función de distribución lateral"
   ]
  },
  {
   "cell_type": "code",
   "execution_count": 10,
   "metadata": {},
   "outputs": [
    {
     "name": "stdout",
     "output_type": "stream",
     "text": [
      "Estimators: [20.28608815  0.90298485]\n",
      "Errors: [2.61172668 0.61734424]\n",
      "Covariance matrix: [[ 6.82111627 -0.32557728]\n",
      " [-0.32557728  0.38111391]]\n",
      "Correlation matrix: [[ 1.         -0.20192913]\n",
      " [-0.20192913  1.        ]]\n",
      "Deviance: 0.9639782301116235\n",
      "Degrees of freedom: 1\n",
      "Pvalue: 0.32618659670304434\n"
     ]
    }
   ],
   "source": [
    "fitter = likefit.Poisson(distance, particles, fit_model)\n",
    "fitter.fit(seed=par_true)\n",
    "fitter.print_results()"
   ]
  },
  {
   "cell_type": "markdown",
   "metadata": {
    "id": "ZCLUpIjL76V_"
   },
   "source": [
    "## Plot del ajuste"
   ]
  },
  {
   "cell_type": "code",
   "execution_count": 11,
   "metadata": {},
   "outputs": [],
   "source": [
    "xfit = np.linspace(150, 400, 256)"
   ]
  },
  {
   "cell_type": "markdown",
   "metadata": {},
   "source": [
    "Modelo verdadero"
   ]
  },
  {
   "cell_type": "code",
   "execution_count": 12,
   "metadata": {},
   "outputs": [],
   "source": [
    "mu_true = fit_model(xfit, par_true)"
   ]
  },
  {
   "cell_type": "markdown",
   "metadata": {},
   "source": [
    "Modelo ajustado"
   ]
  },
  {
   "cell_type": "code",
   "execution_count": 13,
   "metadata": {},
   "outputs": [],
   "source": [
    "estimators = fitter.get_estimators()\n",
    "mu_fit = fit_model(xfit, estimators)"
   ]
  },
  {
   "cell_type": "markdown",
   "metadata": {},
   "source": [
    "Errores del ajuste"
   ]
  },
  {
   "cell_type": "code",
   "execution_count": 14,
   "metadata": {},
   "outputs": [],
   "source": [
    "fit_error = fitter.get_yfit_error(xfit)"
   ]
  },
  {
   "cell_type": "code",
   "execution_count": 18,
   "metadata": {
    "colab": {
     "base_uri": "https://localhost:8080/",
     "height": 349
    },
    "executionInfo": {
     "elapsed": 27,
     "status": "ok",
     "timestamp": 1680464131831,
     "user": {
      "displayName": "Ezequiel Rodriguez",
      "userId": "03024089132465404102"
     },
     "user_tz": -120
    },
    "id": "Q9R6Tbt576V_",
    "outputId": "7c464fc8-563f-4b78-9c53-dc42719b8447",
    "scrolled": true
   },
   "outputs": [
    {
     "name": "stderr",
     "output_type": "stream",
     "text": [
      "The PostScript backend does not support transparency; partially transparent artists will be rendered opaque.\n"
     ]
    },
    {
     "name": "stdout",
     "output_type": "stream",
     "text": [
      "Saving figure to simulacion_distribucion_lateral.eps\n",
      "Saving figure to simulacion_distribucion_lateral.pdf\n",
      "Saving figure to simulacion_distribucion_lateral.png\n",
      "Saving figure to simulacion_distribucion_lateral.svg\n"
     ]
    },
    {
     "data": {
      "image/png": "[encoded data removed]",
      "text/plain": [
       "<Figure size 480x360 with 1 Axes>"
      ]
     },
     "metadata": {},
     "output_type": "display_data"
    }
   ],
   "source": [
    "fig, ax = plt.subplots()\n",
    "ax.set_xlabel('Distancia (m)')\n",
    "ax.set_ylabel('Partículas')\n",
    "\n",
    "# True\n",
    "ax.plot(xfit, mu_true, color='tab:blue', label=\"Verdadero\")\n",
    "ax.plot(distance, mu, ls='none', marker='o', color='tab:blue')\n",
    "\n",
    "# Fit\n",
    "yerrors = np.sqrt(particles)\n",
    "ax.errorbar(distance, particles, yerrors, ls='none', marker='s', color='tab:orange', label=\"Ajuste\")\n",
    "ax.plot(xfit, mu_fit, color='tab:orange')\n",
    "ax.fill_between(xfit, mu_fit - fit_error, mu_fit + fit_error, color='tab:orange', alpha=0.2)\n",
    "\n",
    "ax.legend()\n",
    "plt.tight_layout()\n",
    "\n",
    "danatools.savefigs(\"simulacion_distribucion_lateral\")\n",
    "plt.show()"
   ]
  },
  {
   "cell_type": "code",
   "execution_count": null,
   "metadata": {},
   "outputs": [],
   "source": []
  }
 ],
 "metadata": {
  "colab": {
   "provenance": [],
   "toc_visible": true
  },
  "kernelspec": {
   "display_name": "Python 3 (ipykernel)",
   "language": "python",
   "name": "python3"
  },
  "language_info": {
   "codemirror_mode": {
    "name": "ipython",
    "version": 3
   },
   "file_extension": ".py",
   "mimetype": "text/x-python",
   "name": "python",
   "nbconvert_exporter": "python",
   "pygments_lexer": "ipython3",
   "version": "3.10.12"
  }
 },
 "nbformat": 4,
 "nbformat_minor": 1
}
