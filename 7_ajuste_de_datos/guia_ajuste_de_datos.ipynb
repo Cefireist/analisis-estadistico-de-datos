{
 "cells": [
  {
   "cell_type": "markdown",
   "id": "467866f1-ccca-4216-88c1-63cc791e8041",
   "metadata": {},
   "source": [
    "# Guía ajuste de datos"
   ]
  },
  {
   "cell_type": "markdown",
   "id": "a382497d-e75e-4f23-8e85-8d95cd8153bc",
   "metadata": {},
   "source": [
    "Curso *Análisis Estadístico de Datos*"
   ]
  },
  {
   "cell_type": "code",
   "execution_count": 1,
   "id": "8917406e-4745-4f81-a471-94a262130d7b",
   "metadata": {},
   "outputs": [],
   "source": [
    "import numpy as np\n",
    "import pandas as pd"
   ]
  },
  {
   "cell_type": "markdown",
   "id": "902beaf1-d733-495b-a797-f6089fe0dfe9",
   "metadata": {},
   "source": [
    "## 1. Cuadrados mínimos lineal"
   ]
  },
  {
   "cell_type": "markdown",
   "id": "e5721b19-dd8a-4be5-9f95-dd8d7bdf9123",
   "metadata": {},
   "source": [
    "Ajustar los datos a continuación con el modelo,  \n",
    "$f(x) = a_0 + a_1 \\, (x-1.2) + a_2 \\, (x-1.2)^2.$  \n",
    "Considerar que la variable dependiente $y$ es normal. "
   ]
  },
  {
   "cell_type": "code",
   "execution_count": 2,
   "id": "c8545543-4b1d-4366-9297-30eb3af819bd",
   "metadata": {},
   "outputs": [
    {
     "name": "stdout",
     "output_type": "stream",
     "text": [
      "      x       y      dy\n",
      "0  1.02  2.2432  0.0083\n",
      "1  1.06  2.2168  0.0079\n",
      "2  1.10  2.2007  0.0099\n",
      "3  1.14  2.1749  0.0093\n",
      "4  1.18  2.1319  0.0105\n",
      "5  1.22  2.1164  0.0158\n",
      "6  1.26  2.0832  0.0185\n",
      "7  1.30  2.0158  0.0209\n",
      "8  1.34  2.0036  0.0167\n"
     ]
    }
   ],
   "source": [
    "x = np.array([1.02, 1.06, 1.1 , 1.14, 1.18, 1.22, 1.26, 1.3 , 1.34])\n",
    "y = np.array([2.2432, 2.2168, 2.2007, 2.1749, 2.1319, 2.1164, 2.0832, 2.0158, 2.0036])\n",
    "dy = np.array([0.0083, 0.0079, 0.0099, 0.0093, 0.0105, 0.0158, 0.0185, 0.0209, 0.0167])\n",
    "data = pd.DataFrame({'x': x, 'y': y, 'dy': dy})\n",
    "print(data)"
   ]
  },
  {
   "cell_type": "markdown",
   "id": "d3e7c090-5938-4512-97fe-c26d94deabcb",
   "metadata": {},
   "source": [
    "- Calcular los estimadores y los errores de los parámetros $a_0$, $a_1$ y $a_2$.\n",
    "- Calcular la matriz de covarianza de los estimadores de los parámetros.\n",
    "- Evaluar la bondad del ajuste\n",
    "- Graficar el ajuste"
   ]
  },
  {
   "cell_type": "markdown",
   "id": "1f4ecd93-4bd1-4960-b524-c5212cef0bb9",
   "metadata": {},
   "source": [
    "## 2. Cuadrados mínimos no-lineal"
   ]
  },
  {
   "cell_type": "markdown",
   "id": "46848393-d867-4d8d-90e8-5b10ce430ea2",
   "metadata": {},
   "source": [
    "Ajustar los datos a continuación con el modelo, $f(x) = y_0 \\, (1 + a \\, (x-0.25) + b \\, (x-0.25)^2)$.\n",
    "Considerar que la variable dependiente $y$ es normal. "
   ]
  },
  {
   "cell_type": "code",
   "execution_count": 3,
   "id": "4b9242b1-7e96-4f48-85df-1890adf43bcb",
   "metadata": {},
   "outputs": [
    {
     "name": "stdout",
     "output_type": "stream",
     "text": [
      "        x      y    dy\n",
      "0   0.028  228.1   9.7\n",
      "1   0.084  232.3  10.6\n",
      "2   0.140  225.4   9.7\n",
      "3   0.196  215.3  10.2\n",
      "4   0.252  227.7  11.4\n",
      "5   0.308  198.6  12.6\n",
      "6   0.363  189.2   9.8\n",
      "7   0.419  167.3   9.5\n",
      "8   0.475  156.5   7.5\n",
      "9   0.531  122.5   7.6\n",
      "10  0.587   97.0   3.2\n",
      "11  0.643   68.9   3.1\n"
     ]
    }
   ],
   "source": [
    "x = np.array([0.028, 0.084, 0.14 , 0.196, 0.252, 0.308, 0.363, 0.419, 0.475, 0.531, 0.587, 0.643])\n",
    "y = np.array([228.1, 232.3, 225.4, 215.3, 227.7, 198.6, 189.2, 167.3, 156.5, 122.5,  97.0, 68.9])\n",
    "dy = np.array([ 9.7, 10.6,  9.7, 10.2, 11.4, 12.6,  9.8,  9.5,  7.5,  7.6,  3.2, 3.1])\n",
    "data = pd.DataFrame({'x': x, 'y': y, 'dy': dy})\n",
    "print(data)"
   ]
  },
  {
   "cell_type": "markdown",
   "id": "6d17928b-3d2a-4d4e-84e0-0c1ff4859cc0",
   "metadata": {},
   "source": [
    "- Calcular los estimadores y los errores de los parámetros $y_0$, $a$ y $b$.\n",
    "- Calcular la matriz de covarianza de los estimadores de los parámetros.\n",
    "- Evaluar la bondad del ajuste\n",
    "- Graficar el ajuste"
   ]
  },
  {
   "cell_type": "markdown",
   "id": "f165b87c-20a1-4665-b8b9-3edb44cd2cfc",
   "metadata": {},
   "source": [
    "## 3. Histograma"
   ]
  },
  {
   "cell_type": "markdown",
   "id": "5719fad2-13e6-4b33-a25d-9414bc135e77",
   "metadata": {},
   "source": [
    "Ajustar los datos del histograma a continuación con el modelo, $f(x) = y_0 \\, 10^{(a - b \\, (x-19.5))}$. Considerar que el número de cuentas en un bin sigue una distribución de Poisson. "
   ]
  },
  {
   "cell_type": "code",
   "execution_count": 4,
   "id": "daf32bb6-a5c8-46ec-af49-f6c4e5b8ffa7",
   "metadata": {},
   "outputs": [
    {
     "name": "stdout",
     "output_type": "stream",
     "text": [
      "     xbin  counts\n",
      "0   19.45     200\n",
      "1   19.55     110\n",
      "2   19.65      43\n",
      "3   19.75      28\n",
      "4   19.85      23\n",
      "5   19.95       5\n",
      "6   20.05       2\n",
      "7   20.15       0\n",
      "8   20.25       1\n",
      "9   20.35       0\n",
      "10  20.45       0\n"
     ]
    }
   ],
   "source": [
    "xbin = np.array([19.45, 19.55, 19.65, 19.75, 19.85, 19.95, 20.05, 20.15, 20.25, 20.35, 20.45])\n",
    "counts = np.array([200, 110,  43,  28,  23,   5,   2,   0,   1,   0,   0])\n",
    "data = pd.DataFrame({'xbin': xbin, 'counts': counts})\n",
    "print(data)"
   ]
  },
  {
   "cell_type": "markdown",
   "id": "7ba03955-7e1a-428c-a6f7-aa08546f1107",
   "metadata": {},
   "source": [
    "- Calcular los estimadores y los errores de los parámetros $y_0$, $a$ y $b$.\n",
    "- Calcular la matriz de covarianza de los estimadores de los parámetros.\n",
    "- Evaluar la bondad del ajuste\n",
    "- Graficar el ajuste"
   ]
  },
  {
   "cell_type": "code",
   "execution_count": null,
   "id": "ed3dffe9-c102-4480-a48b-ede6810598e8",
   "metadata": {},
   "outputs": [],
   "source": []
  }
 ],
 "metadata": {
  "kernelspec": {
   "display_name": "Python 3 (ipykernel)",
   "language": "python",
   "name": "python3"
  },
  "language_info": {
   "codemirror_mode": {
    "name": "ipython",
    "version": 3
   },
   "file_extension": ".py",
   "mimetype": "text/x-python",
   "name": "python",
   "nbconvert_exporter": "python",
   "pygments_lexer": "ipython3",
   "version": "3.10.12"
  }
 },
 "nbformat": 4,
 "nbformat_minor": 5
}
