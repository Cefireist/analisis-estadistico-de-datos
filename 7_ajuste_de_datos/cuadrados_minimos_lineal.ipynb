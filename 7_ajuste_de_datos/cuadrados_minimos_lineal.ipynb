{
 "cells": [
  {
   "cell_type": "markdown",
   "metadata": {
    "id": "CtuGmVWxn8mF"
   },
   "source": [
    "# Cuadrados mínimos lineal paso a paso"
   ]
  },
  {
   "cell_type": "code",
   "execution_count": 1,
   "metadata": {
    "executionInfo": {
     "elapsed": 1215,
     "status": "ok",
     "timestamp": 1699548660507,
     "user": {
      "displayName": "Diego Ravignani Guerrero",
      "userId": "10540030550289703153"
     },
     "user_tz": 180
    },
    "id": "k_qXGHAAn8mJ",
    "scrolled": true
   },
   "outputs": [],
   "source": [
    "import math\n",
    "import numpy as np\n",
    "from numpy.linalg import inv\n",
    "import pandas as pd\n",
    "import matplotlib.pyplot as plt\n",
    "from matplotlib import cm, colors\n",
    "from scipy.stats import chi2"
   ]
  },
  {
   "cell_type": "code",
   "execution_count": 2,
   "metadata": {},
   "outputs": [],
   "source": [
    "import danatools"
   ]
  },
  {
   "cell_type": "markdown",
   "metadata": {
    "id": "SF0InR24n8mK"
   },
   "source": [
    "## Datos"
   ]
  },
  {
   "cell_type": "code",
   "execution_count": 3,
   "metadata": {},
   "outputs": [
    {
     "name": "stdout",
     "output_type": "stream",
     "text": [
      "      x      y     dy\n",
      "i                    \n",
      "1 -0.18  2.243  0.008\n",
      "2 -0.14  2.217  0.008\n",
      "3 -0.10  2.201  0.010\n",
      "4 -0.06  2.175  0.009\n",
      "5 -0.02  2.132  0.011\n",
      "6  0.02  2.116  0.016\n",
      "7  0.06  2.083  0.018\n",
      "8  0.10  2.016  0.021\n",
      "9  0.14  2.004  0.017\n"
     ]
    }
   ],
   "source": [
    "input_file = \"cuadrados_minimos_lineal.csv\"\n",
    "data = pd.read_csv(input_file, index_col='i')\n",
    "print(data)"
   ]
  },
  {
   "cell_type": "code",
   "execution_count": 4,
   "metadata": {
    "colab": {
     "base_uri": "https://localhost:8080/",
     "height": 410
    },
    "executionInfo": {
     "elapsed": 27,
     "status": "ok",
     "timestamp": 1699548660508,
     "user": {
      "displayName": "Diego Ravignani Guerrero",
      "userId": "10540030550289703153"
     },
     "user_tz": 180
    },
    "id": "qPsUFcImn8mN",
    "outputId": "59e62b5d-5351-4e12-e8d2-1df03be2f503"
   },
   "outputs": [
    {
     "data": {
      "text/plain": [
       "<ErrorbarContainer object of 3 artists>"
      ]
     },
     "execution_count": 4,
     "metadata": {},
     "output_type": "execute_result"
    },
    {
     "data": {
      "image/png": "[encoded data removed]",
      "text/plain": [
       "<Figure size 480x360 with 1 Axes>"
      ]
     },
     "metadata": {},
     "output_type": "display_data"
    }
   ],
   "source": [
    "fig, ax = plt.subplots()\n",
    "plt.title(\"Datos\")\n",
    "ax.set_xlabel(\"x\")\n",
    "ax.set_ylabel(\"y\")\n",
    "ax.errorbar(data['x'], data['y'], data['dy'],ls='none', marker='o', label=\"Datos\")\n",
    "# fig.savefig('linear_least_squares_data.svg')"
   ]
  },
  {
   "cell_type": "markdown",
   "metadata": {
    "id": "Ngth9sJMn8mT"
   },
   "source": [
    "## Estimador de máxima verosimilitud"
   ]
  },
  {
   "cell_type": "code",
   "execution_count": 5,
   "metadata": {
    "colab": {
     "base_uri": "https://localhost:8080/"
    },
    "executionInfo": {
     "elapsed": 21,
     "status": "ok",
     "timestamp": 1699548662433,
     "user": {
      "displayName": "Diego Ravignani Guerrero",
      "userId": "10540030550289703153"
     },
     "user_tz": 180
    },
    "id": "5KCisIe8n8mU",
    "outputId": "8e80f816-5672-4382-82dc-a7a28168fdaf",
    "scrolled": true
   },
   "outputs": [
    {
     "data": {
      "text/plain": [
       "array([[6.40e-05, 0.00e+00, 0.00e+00, 0.00e+00, 0.00e+00, 0.00e+00,\n",
       "        0.00e+00, 0.00e+00, 0.00e+00],\n",
       "       [0.00e+00, 6.40e-05, 0.00e+00, 0.00e+00, 0.00e+00, 0.00e+00,\n",
       "        0.00e+00, 0.00e+00, 0.00e+00],\n",
       "       [0.00e+00, 0.00e+00, 1.00e-04, 0.00e+00, 0.00e+00, 0.00e+00,\n",
       "        0.00e+00, 0.00e+00, 0.00e+00],\n",
       "       [0.00e+00, 0.00e+00, 0.00e+00, 8.10e-05, 0.00e+00, 0.00e+00,\n",
       "        0.00e+00, 0.00e+00, 0.00e+00],\n",
       "       [0.00e+00, 0.00e+00, 0.00e+00, 0.00e+00, 1.21e-04, 0.00e+00,\n",
       "        0.00e+00, 0.00e+00, 0.00e+00],\n",
       "       [0.00e+00, 0.00e+00, 0.00e+00, 0.00e+00, 0.00e+00, 2.56e-04,\n",
       "        0.00e+00, 0.00e+00, 0.00e+00],\n",
       "       [0.00e+00, 0.00e+00, 0.00e+00, 0.00e+00, 0.00e+00, 0.00e+00,\n",
       "        3.24e-04, 0.00e+00, 0.00e+00],\n",
       "       [0.00e+00, 0.00e+00, 0.00e+00, 0.00e+00, 0.00e+00, 0.00e+00,\n",
       "        0.00e+00, 4.41e-04, 0.00e+00],\n",
       "       [0.00e+00, 0.00e+00, 0.00e+00, 0.00e+00, 0.00e+00, 0.00e+00,\n",
       "        0.00e+00, 0.00e+00, 2.89e-04]])"
      ]
     },
     "execution_count": 5,
     "metadata": {},
     "output_type": "execute_result"
    }
   ],
   "source": [
    "V = np.diag(data['dy']**2)\n",
    "V"
   ]
  },
  {
   "cell_type": "markdown",
   "metadata": {},
   "source": [
    "The fit model is par[0] + par[1] * x"
   ]
  },
  {
   "cell_type": "code",
   "execution_count": 6,
   "metadata": {
    "colab": {
     "base_uri": "https://localhost:8080/"
    },
    "executionInfo": {
     "elapsed": 18,
     "status": "ok",
     "timestamp": 1699548662433,
     "user": {
      "displayName": "Diego Ravignani Guerrero",
      "userId": "10540030550289703153"
     },
     "user_tz": 180
    },
    "id": "SRw07hjrn8mV",
    "outputId": "2f64c2a5-cbc9-4366-876e-86d70fda9068",
    "scrolled": true
   },
   "outputs": [
    {
     "data": {
      "text/plain": [
       "array([[ 1.  , -0.18],\n",
       "       [ 1.  , -0.14],\n",
       "       [ 1.  , -0.1 ],\n",
       "       [ 1.  , -0.06],\n",
       "       [ 1.  , -0.02],\n",
       "       [ 1.  ,  0.02],\n",
       "       [ 1.  ,  0.06],\n",
       "       [ 1.  ,  0.1 ],\n",
       "       [ 1.  ,  0.14]])"
      ]
     },
     "execution_count": 6,
     "metadata": {},
     "output_type": "execute_result"
    }
   ],
   "source": [
    "A = np.column_stack([data['x']**0, data['x']])\n",
    "A"
   ]
  },
  {
   "cell_type": "code",
   "execution_count": 7,
   "metadata": {
    "colab": {
     "base_uri": "https://localhost:8080/"
    },
    "executionInfo": {
     "elapsed": 16,
     "status": "ok",
     "timestamp": 1699548662433,
     "user": {
      "displayName": "Diego Ravignani Guerrero",
      "userId": "10540030550289703153"
     },
     "user_tz": 180
    },
    "id": "FpHn6M2Pn8mV",
    "outputId": "6beccfb8-ab23-4bef-e639-0bf862014cfd"
   },
   "outputs": [
    {
     "data": {
      "text/plain": [
       "array([[2.40988624e-05, 1.34418437e-04],\n",
       "       [1.34418437e-04, 1.69012059e-03]])"
      ]
     },
     "execution_count": 7,
     "metadata": {},
     "output_type": "execute_result"
    }
   ],
   "source": [
    "cova = inv( A.T @ inv(V) @ A )\n",
    "cova"
   ]
  },
  {
   "cell_type": "code",
   "execution_count": 8,
   "metadata": {
    "colab": {
     "base_uri": "https://localhost:8080/"
    },
    "executionInfo": {
     "elapsed": 14,
     "status": "ok",
     "timestamp": 1699548662433,
     "user": {
      "displayName": "Diego Ravignani Guerrero",
      "userId": "10540030550289703153"
     },
     "user_tz": 180
    },
    "id": "HhDtfeqan8mW",
    "outputId": "8412535d-1c04-4180-a3b2-192808391439",
    "scrolled": true
   },
   "outputs": [
    {
     "data": {
      "text/plain": [
       "array([[-1.50712868e-03,  8.25043943e-02,  1.06570187e-01,\n",
       "         1.97947607e-01,  1.76946228e-01,  1.04637622e-01,\n",
       "         9.92715080e-02,  8.51263176e-02,  1.48503265e-01],\n",
       "       [-2.65317609e+00, -1.59685072e+00, -3.45936225e-01,\n",
       "         4.07545693e-01,  8.31537396e-01,  6.57112690e-01,\n",
       "         7.27857013e-01,  6.88051011e-01,  1.28385924e+00]])"
      ]
     },
     "execution_count": 8,
     "metadata": {},
     "output_type": "execute_result"
    }
   ],
   "source": [
    "B = cova @ A.T @ inv(V)\n",
    "B"
   ]
  },
  {
   "cell_type": "code",
   "execution_count": 9,
   "metadata": {
    "colab": {
     "base_uri": "https://localhost:8080/"
    },
    "executionInfo": {
     "elapsed": 12,
     "status": "ok",
     "timestamp": 1699548662433,
     "user": {
      "displayName": "Diego Ravignani Guerrero",
      "userId": "10540030550289703153"
     },
     "user_tz": 180
    },
    "id": "GcdbFqK0n8mW",
    "outputId": "de948258-6ad2-4132-eb6e-f4e2119a06e6"
   },
   "outputs": [
    {
     "data": {
      "text/plain": [
       "array([ 2.1192891 , -0.72690669])"
      ]
     },
     "execution_count": 9,
     "metadata": {},
     "output_type": "execute_result"
    }
   ],
   "source": [
    "par_est = B @ data['y']\n",
    "y0_est = par_est[0]\n",
    "m_est = par_est[1]\n",
    "par_est"
   ]
  },
  {
   "cell_type": "markdown",
   "metadata": {
    "id": "HuCiEbJmn8mW"
   },
   "source": [
    "## Plot del ajuste"
   ]
  },
  {
   "cell_type": "code",
   "execution_count": 10,
   "metadata": {
    "executionInfo": {
     "elapsed": 25,
     "status": "ok",
     "timestamp": 1699548660509,
     "user": {
      "displayName": "Diego Ravignani Guerrero",
      "userId": "10540030550289703153"
     },
     "user_tz": 180
    },
    "id": "2gefwExun8mO"
   },
   "outputs": [],
   "source": [
    "xfit = np.linspace( data['x'].min(), data['x'].max())\n",
    "Afit = np.column_stack([xfit**0, xfit])\n",
    "mu_est = Afit @ par_est"
   ]
  },
  {
   "cell_type": "code",
   "execution_count": 11,
   "metadata": {
    "colab": {
     "base_uri": "https://localhost:8080/",
     "height": 388
    },
    "executionInfo": {
     "elapsed": 51,
     "status": "ok",
     "timestamp": 1699548663565,
     "user": {
      "displayName": "Diego Ravignani Guerrero",
      "userId": "10540030550289703153"
     },
     "user_tz": 180
    },
    "id": "NHYwAxQDn8mX",
    "outputId": "51372ca9-d4b6-4194-8f02-46aef7e0ba7d"
   },
   "outputs": [
    {
     "data": {
      "text/plain": [
       "<matplotlib.legend.Legend at 0x77a0659d6bc0>"
      ]
     },
     "execution_count": 11,
     "metadata": {},
     "output_type": "execute_result"
    },
    {
     "data": {
      "image/png": "[encoded data removed]",
      "text/plain": [
       "<Figure size 480x360 with 1 Axes>"
      ]
     },
     "metadata": {},
     "output_type": "display_data"
    }
   ],
   "source": [
    "fig, ax = plt.subplots()\n",
    "ax.set_xlabel('x')\n",
    "ax.set_ylabel('y')\n",
    "ax.errorbar(data['x'], data['y'], data['dy'],ls='none', marker='o', label=\"Datos\")\n",
    "ax.plot(xfit, mu_est, ls='--', label=\"Ajuste\")\n",
    "ax.legend()"
   ]
  },
  {
   "cell_type": "markdown",
   "metadata": {
    "id": "51eoZcdBn8mX"
   },
   "source": [
    "## Errores de los parámetros"
   ]
  },
  {
   "cell_type": "code",
   "execution_count": 12,
   "metadata": {
    "executionInfo": {
     "elapsed": 47,
     "status": "ok",
     "timestamp": 1699548663565,
     "user": {
      "displayName": "Diego Ravignani Guerrero",
      "userId": "10540030550289703153"
     },
     "user_tz": 180
    },
    "id": "oMsR1jdpn8mY"
   },
   "outputs": [],
   "source": [
    "dy0 = math.sqrt(cova[0][0])\n",
    "dm = math.sqrt(cova[1][1])\n",
    "rho = cova[0][1] / (dy0 *dm)"
   ]
  },
  {
   "cell_type": "code",
   "execution_count": 13,
   "metadata": {
    "colab": {
     "base_uri": "https://localhost:8080/"
    },
    "executionInfo": {
     "elapsed": 46,
     "status": "ok",
     "timestamp": 1699548663565,
     "user": {
      "displayName": "Diego Ravignani Guerrero",
      "userId": "10540030550289703153"
     },
     "user_tz": 180
    },
    "id": "nKx5Hn3Bn8mY",
    "outputId": "8aa5e4d4-8705-43d7-e12d-ae4087d1a5ef",
    "scrolled": true
   },
   "outputs": [
    {
     "name": "stdout",
     "output_type": "stream",
     "text": [
      "Ordenada al origen:  2.12 ± 0.00\n",
      "Pendiente ajustada: -0.73 ± 0.04\n",
      "Correlación: 0.67\n"
     ]
    }
   ],
   "source": [
    "print(f'Ordenada al origen:  {y0_est:2.2f} ± {dy0:2.2f}')\n",
    "print(f'Pendiente ajustada: {m_est:2.2f} ± {dm:2.2f}')\n",
    "print(f'Correlación: {rho:2.2f}')"
   ]
  },
  {
   "cell_type": "code",
   "execution_count": 14,
   "metadata": {
    "colab": {
     "base_uri": "https://localhost:8080/",
     "height": 388
    },
    "executionInfo": {
     "elapsed": 42,
     "status": "ok",
     "timestamp": 1699548663567,
     "user": {
      "displayName": "Diego Ravignani Guerrero",
      "userId": "10540030550289703153"
     },
     "user_tz": 180
    },
    "id": "HLljIS0Vn8mY",
    "outputId": "55cd74b9-2889-4f92-d6d0-e81852294dc6"
   },
   "outputs": [
    {
     "data": {
      "text/plain": [
       "[<matplotlib.lines.Line2D at 0x77a0658ed060>]"
      ]
     },
     "execution_count": 14,
     "metadata": {},
     "output_type": "execute_result"
    },
    {
     "data": {
      "image/png": "[encoded data removed]",
      "text/plain": [
       "<Figure size 480x360 with 1 Axes>"
      ]
     },
     "metadata": {},
     "output_type": "display_data"
    }
   ],
   "source": [
    "fig, ax = plt.subplots()\n",
    "ax.set_xlabel(\"Intercept\")\n",
    "ax.set_ylabel(\"Slope\")\n",
    "ax.plot(*par_est, 'o')\n",
    "elipse_1sigma = danatools.get_ellipse(par_est, cova, nsigma=1)\n",
    "ax.plot(*elipse_1sigma, ls='--')\n",
    "elipse_2sigma = danatools.get_ellipse(par_est, cova, nsigma=2)\n",
    "ax.plot(*elipse_2sigma, ls='--')"
   ]
  },
  {
   "cell_type": "markdown",
   "metadata": {
    "id": "hk3PIj9Mn8mZ"
   },
   "source": [
    "## Bondad del ajuste"
   ]
  },
  {
   "cell_type": "code",
   "execution_count": 15,
   "metadata": {
    "colab": {
     "base_uri": "https://localhost:8080/"
    },
    "executionInfo": {
     "elapsed": 38,
     "status": "ok",
     "timestamp": 1699548663567,
     "user": {
      "displayName": "Diego Ravignani Guerrero",
      "userId": "10540030550289703153"
     },
     "user_tz": 180
    },
    "id": "R8hWK5-6n8mZ",
    "outputId": "9150968e-4859-4aa5-e2ab-ce89250c3ab9"
   },
   "outputs": [
    {
     "data": {
      "text/plain": [
       "7.1152775288882255"
      ]
     },
     "execution_count": 15,
     "metadata": {},
     "output_type": "execute_result"
    }
   ],
   "source": [
    "residuos = data['y'] - A@par_est\n",
    "J_min_observado = residuos.T @ inv(V) @ residuos\n",
    "J_min_observado"
   ]
  },
  {
   "cell_type": "code",
   "execution_count": 16,
   "metadata": {
    "colab": {
     "base_uri": "https://localhost:8080/"
    },
    "executionInfo": {
     "elapsed": 34,
     "status": "ok",
     "timestamp": 1699548663567,
     "user": {
      "displayName": "Diego Ravignani Guerrero",
      "userId": "10540030550289703153"
     },
     "user_tz": 180
    },
    "id": "E7ZGv_nVn8ma",
    "outputId": "3289f270-6078-463a-bcc8-e80a36ca2b73",
    "scrolled": true
   },
   "outputs": [
    {
     "data": {
      "text/plain": [
       "7"
      ]
     },
     "execution_count": 16,
     "metadata": {},
     "output_type": "execute_result"
    }
   ],
   "source": [
    "ndatos = len(data['x'])\n",
    "grados_libertad = ndatos - 2\n",
    "grados_libertad"
   ]
  },
  {
   "cell_type": "code",
   "execution_count": 17,
   "metadata": {
    "colab": {
     "base_uri": "https://localhost:8080/"
    },
    "executionInfo": {
     "elapsed": 30,
     "status": "ok",
     "timestamp": 1699548663568,
     "user": {
      "displayName": "Diego Ravignani Guerrero",
      "userId": "10540030550289703153"
     },
     "user_tz": 180
    },
    "id": "PJUSaMzsn8ma",
    "outputId": "0f08c7b2-b12d-4611-b452-0ac05cffd7d3"
   },
   "outputs": [
    {
     "name": "stdout",
     "output_type": "stream",
     "text": [
      "pvalor = 41.70%\n"
     ]
    }
   ],
   "source": [
    "pvalor = chi2.sf(J_min_observado, grados_libertad)\n",
    "print(f\"pvalor = {pvalor*100:.2f}%\")"
   ]
  },
  {
   "cell_type": "markdown",
   "metadata": {
    "id": "1kzd7SWYn8ma"
   },
   "source": [
    "## Banda de error"
   ]
  },
  {
   "cell_type": "code",
   "execution_count": 18,
   "metadata": {
    "colab": {
     "base_uri": "https://localhost:8080/",
     "height": 449
    },
    "executionInfo": {
     "elapsed": 17,
     "status": "ok",
     "timestamp": 1699551080165,
     "user": {
      "displayName": "Diego Ravignani Guerrero",
      "userId": "10540030550289703153"
     },
     "user_tz": 180
    },
    "id": "XJ-M64spn8mb",
    "outputId": "a5371457-f830-4a09-d2d7-d4878f63fec2"
   },
   "outputs": [
    {
     "data": {
      "text/plain": [
       "<matplotlib.legend.Legend at 0x77a065936410>"
      ]
     },
     "execution_count": 18,
     "metadata": {},
     "output_type": "execute_result"
    },
    {
     "data": {
      "image/png": "[encoded data removed]",
      "text/plain": [
       "<Figure size 480x360 with 1 Axes>"
      ]
     },
     "metadata": {},
     "output_type": "display_data"
    }
   ],
   "source": [
    "fig, ax = plt.subplots()\n",
    "ax.set_xlabel(\"x\")\n",
    "ax.set_ylabel(\"y\")\n",
    "ax.errorbar(data['x'], data['y'], data['dy'],ls='none', marker='o', label=\"Datos\")\n",
    "ax.plot(xfit, mu_est, ls='--', label=\"Ajuste\")\n",
    "var_mu_est = cova[0][0] + xfit**2*cova[1][1] + 2*xfit*cova[0][1]\n",
    "sigma_mu_est = np.sqrt(var_mu_est)\n",
    "ax.fill_between(xfit, mu_est-sigma_mu_est, mu_est+sigma_mu_est, color='tab:orange', alpha=0.2)\n",
    "ax.legend()\n",
    "# fig.savefig('linear_least_squares_fit.svg')"
   ]
  }
 ],
 "metadata": {
  "colab": {
   "provenance": [],
   "toc_visible": true
  },
  "kernelspec": {
   "display_name": "Demos Análisis Datos",
   "language": "python",
   "name": "aed_demos"
  },
  "language_info": {
   "codemirror_mode": {
    "name": "ipython",
    "version": 3
   },
   "file_extension": ".py",
   "mimetype": "text/x-python",
   "name": "python",
   "nbconvert_exporter": "python",
   "pygments_lexer": "ipython3",
   "version": "3.10.12"
  }
 },
 "nbformat": 4,
 "nbformat_minor": 4
}
