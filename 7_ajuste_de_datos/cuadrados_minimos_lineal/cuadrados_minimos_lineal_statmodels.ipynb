{
 "cells": [
  {
   "cell_type": "markdown",
   "id": "f3cf1409-9821-4025-929d-b0f0adcf13e9",
   "metadata": {},
   "source": [
    "# Cuadrados mínimos lineal con statmodels"
   ]
  },
  {
   "cell_type": "markdown",
   "id": "ea465dbf-d5a4-4cd4-a53a-dce72ed3043d",
   "metadata": {},
   "source": [
    "statmodels can be installed with: `pip install statsmodels`"
   ]
  },
  {
   "cell_type": "code",
   "execution_count": null,
   "id": "2fd38696-c71a-41ae-b28e-6402adc7a47c",
   "metadata": {},
   "outputs": [],
   "source": [
    "import pandas as pd\n",
    "input_file = \"cuadrados_minimos_lineal.csv\"\n",
    "data = pd.read_csv(input_file, index_col='i')\n",
    "print(data)"
   ]
  },
  {
   "cell_type": "code",
   "execution_count": null,
   "id": "12823bd6-3c3a-480c-8477-f8cb0635c30b",
   "metadata": {},
   "outputs": [],
   "source": [
    "import statsmodels.api as sm"
   ]
  },
  {
   "cell_type": "code",
   "execution_count": null,
   "id": "b9025c21-e80b-4e28-ba53-557436ea57bb",
   "metadata": {},
   "outputs": [],
   "source": [
    "data_endog = data['y']"
   ]
  },
  {
   "cell_type": "code",
   "execution_count": null,
   "id": "c380ded4-3d5c-4f46-acfd-dc6d0c06f743",
   "metadata": {},
   "outputs": [],
   "source": [
    "data_exog = data['x']\n",
    "data_exog = sm.add_constant(data_exog)\n",
    "data_exog"
   ]
  },
  {
   "cell_type": "code",
   "execution_count": null,
   "id": "f5df98e4-4062-44c2-838a-e99266543d9f",
   "metadata": {},
   "outputs": [],
   "source": [
    "weights = 1 / data['dy']**2\n",
    "gls_model = sm.WLS(data_endog, data_exog, weights)"
   ]
  },
  {
   "cell_type": "code",
   "execution_count": null,
   "id": "53cda5b2-9748-416c-b325-5143fc20ca1e",
   "metadata": {},
   "outputs": [],
   "source": [
    "gls_results = gls_model.fit()"
   ]
  },
  {
   "cell_type": "code",
   "execution_count": null,
   "id": "9f4fdff3-d738-4469-8e7f-2f377d23c8a1",
   "metadata": {},
   "outputs": [],
   "source": [
    "print(gls_results.summary())"
   ]
  }
 ],
 "metadata": {
  "kernelspec": {
   "display_name": "Python 3 (ipykernel)",
   "language": "python",
   "name": "python3"
  },
  "language_info": {
   "codemirror_mode": {
    "name": "ipython",
    "version": 3
   },
   "file_extension": ".py",
   "mimetype": "text/x-python",
   "name": "python",
   "nbconvert_exporter": "python",
   "pygments_lexer": "ipython3",
   "version": "3.10.12"
  }
 },
 "nbformat": 4,
 "nbformat_minor": 5
}
