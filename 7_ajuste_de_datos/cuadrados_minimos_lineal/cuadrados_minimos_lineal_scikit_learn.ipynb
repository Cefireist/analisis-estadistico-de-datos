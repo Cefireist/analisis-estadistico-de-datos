{
 "cells": [
  {
   "cell_type": "markdown",
   "id": "f3cf1409-9821-4025-929d-b0f0adcf13e9",
   "metadata": {},
   "source": [
    "# Cuadrados mínimos lineal con scikit-learn"
   ]
  },
  {
   "cell_type": "code",
   "execution_count": null,
   "id": "2fd38696-c71a-41ae-b28e-6402adc7a47c",
   "metadata": {},
   "outputs": [],
   "source": [
    "import pandas as pd\n",
    "input_file = \"cuadrados_minimos_lineal.csv\"\n",
    "data = pd.read_csv(input_file, index_col='i')\n",
    "data"
   ]
  },
  {
   "cell_type": "code",
   "execution_count": null,
   "id": "d0f20bb7-fdb9-4c01-abe1-4be18d7010b9",
   "metadata": {},
   "outputs": [],
   "source": [
    "import numpy as np\n",
    "x = data['x'].to_numpy()\n",
    "x = x[:,np.newaxis]\n",
    "x"
   ]
  },
  {
   "cell_type": "code",
   "execution_count": null,
   "id": "c3888bce-1e39-44eb-98f9-d5c671de66fb",
   "metadata": {},
   "outputs": [],
   "source": [
    "y = data['y'].to_numpy()\n",
    "y = y[:,np.newaxis]\n",
    "y"
   ]
  },
  {
   "cell_type": "code",
   "execution_count": null,
   "id": "add77287-9e4f-4de0-aaa6-c2b55fa29871",
   "metadata": {},
   "outputs": [],
   "source": [
    "weights = 1 / data['dy'].to_numpy()**2"
   ]
  },
  {
   "cell_type": "code",
   "execution_count": null,
   "id": "41fd0d2b-d0cf-47d2-84c0-8ec4b9083d48",
   "metadata": {},
   "outputs": [],
   "source": [
    "from sklearn.linear_model import LinearRegression\n",
    "regr = LinearRegression()\n",
    "regr.fit(x, y, weights)"
   ]
  },
  {
   "cell_type": "code",
   "execution_count": null,
   "id": "801ad25a-4d00-4322-9119-dc6548255786",
   "metadata": {},
   "outputs": [],
   "source": [
    "regr.intercept_"
   ]
  },
  {
   "cell_type": "code",
   "execution_count": null,
   "id": "d557f4e7-dae9-476c-8dd4-ce5389b68de3",
   "metadata": {},
   "outputs": [],
   "source": [
    "regr.coef_"
   ]
  },
  {
   "cell_type": "markdown",
   "id": "31f93658-0020-421f-a19c-9d16d6dedff3",
   "metadata": {},
   "source": [
    "## Observaciones"
   ]
  },
  {
   "cell_type": "markdown",
   "id": "99de07e0-07ef-4506-9fc3-b609418e7227",
   "metadata": {},
   "source": [
    "- scikit-learn no calcula los errores de los parámetros ni la bondad del ajuste"
   ]
  }
 ],
 "metadata": {
  "kernelspec": {
   "display_name": "Python 3 (ipykernel)",
   "language": "python",
   "name": "python3"
  },
  "language_info": {
   "codemirror_mode": {
    "name": "ipython",
    "version": 3
   },
   "file_extension": ".py",
   "mimetype": "text/x-python",
   "name": "python",
   "nbconvert_exporter": "python",
   "pygments_lexer": "ipython3",
   "version": "3.10.12"
  }
 },
 "nbformat": 4,
 "nbformat_minor": 5
}
