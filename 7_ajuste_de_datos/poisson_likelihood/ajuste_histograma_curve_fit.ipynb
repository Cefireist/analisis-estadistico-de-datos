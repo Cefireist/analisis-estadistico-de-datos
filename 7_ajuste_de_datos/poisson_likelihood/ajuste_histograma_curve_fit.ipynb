{
 "cells": [
  {
   "cell_type": "markdown",
   "id": "5b7e68f9-a2cf-46f1-a59b-841a9ec52bc6",
   "metadata": {},
   "source": [
    "# Ajuste de un histograma con [curve_fit](https://docs.scipy.org/doc/scipy/reference/generated/scipy.optimize.curve_fit.html)"
   ]
  },
  {
   "cell_type": "markdown",
   "id": "6db8506a-054b-4140-9581-28777faf188f",
   "metadata": {},
   "source": [
    "## Datos"
   ]
  },
  {
   "cell_type": "code",
   "execution_count": null,
   "id": "dc4239c3-9821-4572-9949-90138c49eeea",
   "metadata": {},
   "outputs": [],
   "source": [
    "import pandas as pd\n",
    "data = pd.read_csv(\"histogram.csv\")\n",
    "data"
   ]
  },
  {
   "cell_type": "markdown",
   "id": "6913c2bc-b11b-49fc-aaae-268edef219d2",
   "metadata": {},
   "source": [
    "La función `curve_fit` ajusta los datos con cuadrados mínimos solamente. Por lo tanto asume que la variable independiente $Y$ es normal. Para calcular la función de costo normal es necesario conocer la desviación estándar de $Y$. Como $Y$ es una variable poissoniana, aproximamos su desviación estándar como la raíz cuadrada del valor medido $y$."
   ]
  },
  {
   "cell_type": "code",
   "execution_count": null,
   "id": "4fdf7a5d-46a1-4df6-a6ce-858096492b3b",
   "metadata": {},
   "outputs": [],
   "source": [
    "import numpy as np\n",
    "data['ysigma'] = np.sqrt(data['y'])\n",
    "data"
   ]
  },
  {
   "cell_type": "markdown",
   "id": "6f216b3f-60d5-4cb9-b4fa-ac22f74011e3",
   "metadata": {},
   "source": [
    "La función de costo normal $ \\left( \\frac{y-\\mu}{\\sigma} \\right)^2$ requiere $\\sigma \\ne 0$. \n",
    "Por lo tanto los bines sin entradas ($y=0$) no pueden ser ajustados data que para éstos $\\sigma = \\sqrt{y} = 0$.\n",
    "Sacamos estos bines de los datos usados para el ajuste."
   ]
  },
  {
   "cell_type": "code",
   "execution_count": null,
   "id": "7b8f8f89-6a92-445a-886c-e5f89419eeb1",
   "metadata": {},
   "outputs": [],
   "source": [
    "fit_data = data.loc[data['y']>0]\n",
    "fit_data"
   ]
  },
  {
   "cell_type": "markdown",
   "id": "4aad1b5a-7bce-41ab-83fa-0465279c647c",
   "metadata": {},
   "source": [
    "Vemos que el bin $x=-2.9$ es rechazado de esta forma."
   ]
  },
  {
   "cell_type": "markdown",
   "id": "01f70924-5c5e-4503-b3be-7a0ab6ef10ae",
   "metadata": {},
   "source": [
    "## Modelo"
   ]
  },
  {
   "cell_type": "markdown",
   "id": "93fcb68c-a46a-48a4-9474-5668b656b3bd",
   "metadata": {},
   "source": [
    "El modelo es una PDF normal escalada por una constante de normalización.  \n",
    "Parámetros:\n",
    "- Constante de normalización\n",
    "- Media $\\mu$\n",
    "- Desviación estándar $\\sigma$"
   ]
  },
  {
   "cell_type": "code",
   "execution_count": null,
   "id": "4487483d-d73d-4a43-a188-a44098441ea8",
   "metadata": {},
   "outputs": [],
   "source": [
    "from scipy.stats import norm\n",
    "def fit_model(x, par0, par1, par2):\n",
    "    return par0 * norm.pdf(x, loc=par1, scale=par2)"
   ]
  },
  {
   "cell_type": "markdown",
   "id": "635a3510-89e8-4834-b92e-11a83fb467bd",
   "metadata": {},
   "source": [
    "## Minimización"
   ]
  },
  {
   "cell_type": "markdown",
   "id": "d5a594bb-da5e-45f4-895c-ea3987c8257f",
   "metadata": {},
   "source": [
    "Estimamos los errores en la variable dependiente $y$ considerando que sigue una distribución de Poisson"
   ]
  },
  {
   "cell_type": "code",
   "execution_count": null,
   "id": "bd29580e-53df-4dfc-83d2-a2b096ae389a",
   "metadata": {},
   "outputs": [],
   "source": [
    "import scipy\n",
    "par_est, cova = scipy.optimize.curve_fit(f=fit_model, \n",
    "                                            xdata=fit_data['x'], \n",
    "                                            ydata=fit_data['y'], \n",
    "                                            sigma=fit_data['ysigma'], \n",
    "                                            absolute_sigma=True)"
   ]
  },
  {
   "cell_type": "markdown",
   "id": "aa9e9821-aa87-44a3-bc77-c493056cfa50",
   "metadata": {},
   "source": [
    "## Parámetros"
   ]
  },
  {
   "cell_type": "code",
   "execution_count": null,
   "id": "c143e397-8581-40f6-a10f-639e214b8fd4",
   "metadata": {},
   "outputs": [],
   "source": [
    "import numpy as np\n",
    "error = np.sqrt(np.diag(cova))\n",
    "print(f\"Normalization = {par_est[0]:.2f} ± {error[0]:.2f}\")\n",
    "print(f\"Mean = {par_est[1]:.3f} ± {error[1]:.3f}\")\n",
    "print(f\"Standard deviation = {par_est[2]:.3f} ± {error[2]:.3f}\")"
   ]
  },
  {
   "cell_type": "markdown",
   "id": "c5b03246-6090-4221-a43e-f66666ac0a2c",
   "metadata": {},
   "source": [
    "Los estimadores de `curve_fit` son diferentes a los calculados con una función de costo de Poisson, la distribución exacta de la variable dependiente $y$. Estas diferencias son pocas si el número de entradas en el histograma es grande. Sin embargo para histogramas con pocas entradas es incorrecto usar cuadrados mínimos. En este segundo caso para ajustar datos se debe usar alguna opción distinta a `curve_fit`. "
   ]
  }
 ],
 "metadata": {
  "kernelspec": {
   "display_name": "Python 3 (ipykernel)",
   "language": "python",
   "name": "python3"
  },
  "language_info": {
   "codemirror_mode": {
    "name": "ipython",
    "version": 3
   },
   "file_extension": ".py",
   "mimetype": "text/x-python",
   "name": "python",
   "nbconvert_exporter": "python",
   "pygments_lexer": "ipython3",
   "version": "3.10.12"
  }
 },
 "nbformat": 4,
 "nbformat_minor": 5
}
