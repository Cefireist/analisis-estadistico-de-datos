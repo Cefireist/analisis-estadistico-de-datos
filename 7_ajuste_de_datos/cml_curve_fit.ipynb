{
 "cells": [
  {
   "cell_type": "markdown",
   "id": "8adf4e3a-3869-45b0-ae71-8005d36e7c97",
   "metadata": {},
   "source": [
    "# Cuadrados mínimos lineal con curve_fit"
   ]
  },
  {
   "cell_type": "code",
   "execution_count": null,
   "id": "6c30e5ba-d599-4f6f-94c1-eb59912bb835",
   "metadata": {},
   "outputs": [],
   "source": [
    "import pandas as pd\n",
    "input_file = \"cuadrados_minimos_lineal.csv\"\n",
    "data = pd.read_csv(input_file, index_col='i')\n",
    "print(data)"
   ]
  },
  {
   "cell_type": "markdown",
   "id": "0a6e9b55-bcea-4cfc-ba2e-69e248ffb7e9",
   "metadata": {},
   "source": [
    "## Modelo de ajuste"
   ]
  },
  {
   "cell_type": "markdown",
   "id": "431a365f-ebdb-4d44-9ec8-9bfe3841aa5b",
   "metadata": {},
   "source": [
    "The model function must take the independent variable as the first argument and the parameters to fit as separate remaining arguments."
   ]
  },
  {
   "cell_type": "code",
   "execution_count": null,
   "id": "2741b1e3-498b-4308-bfc7-f91257af0b37",
   "metadata": {},
   "outputs": [],
   "source": [
    "import numpy as np\n",
    "def fit_model(x, par0, par1):\n",
    "    return par0 + par1 * x"
   ]
  },
  {
   "cell_type": "code",
   "execution_count": null,
   "id": "e5c83c5b-5549-4bbf-acd2-1a7175b1a456",
   "metadata": {},
   "outputs": [],
   "source": [
    "import scipy\n",
    "estimators, cova = scipy.optimize.curve_fit(f=fit_model, xdata=data['x'], ydata=data['y'], sigma=data['dy'], absolute_sigma=True)"
   ]
  },
  {
   "cell_type": "code",
   "execution_count": null,
   "id": "fb71323f-0ee4-46ec-b4b7-b267b2cca365",
   "metadata": {},
   "outputs": [],
   "source": [
    "estimators"
   ]
  },
  {
   "cell_type": "code",
   "execution_count": null,
   "id": "d6fa28d3-080c-44f0-8589-3ce47c358def",
   "metadata": {},
   "outputs": [],
   "source": [
    "errors = np.sqrt(np.diag(cova))\n",
    "errors           "
   ]
  },
  {
   "cell_type": "markdown",
   "id": "81a1daff-aaca-4b69-bec3-f0653690d62d",
   "metadata": {},
   "source": [
    "## Observaciones"
   ]
  },
  {
   "cell_type": "markdown",
   "id": "51b0968c-6ac1-4f2e-a80d-eeb08336a5d0",
   "metadata": {},
   "source": [
    "- curve_fit es popular por su sencilla interfaz sin embargo...\n",
    "- curve_fit calcula los estimadores numéricamente en forma aproximada en lugar de multiplicar de matrices para encontrar estimadores *exactos*\n",
    "- La minimización númerica de curve_fit puede desastabilizar ajustes con muchos datos o hacerlos más lentos \n",
    "- curve_fit no reporta la bondad del ajuste, el cuál debe ser realizado manualmente"
   ]
  },
  {
   "cell_type": "code",
   "execution_count": null,
   "id": "f79b87af-1ac1-4075-ba97-8f4fab4e1144",
   "metadata": {},
   "outputs": [],
   "source": []
  }
 ],
 "metadata": {
  "kernelspec": {
   "display_name": "Demos Análisis Datos",
   "language": "python",
   "name": "aed_demos"
  },
  "language_info": {
   "codemirror_mode": {
    "name": "ipython",
    "version": 3
   },
   "file_extension": ".py",
   "mimetype": "text/x-python",
   "name": "python",
   "nbconvert_exporter": "python",
   "pygments_lexer": "ipython3",
   "version": "3.10.12"
  }
 },
 "nbformat": 4,
 "nbformat_minor": 5
}
