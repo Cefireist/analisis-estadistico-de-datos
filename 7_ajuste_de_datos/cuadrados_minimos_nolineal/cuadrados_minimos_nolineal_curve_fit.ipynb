{
 "cells": [
  {
   "cell_type": "markdown",
   "id": "adcf9b36-e32f-4d48-a9e1-57b4388d28de",
   "metadata": {},
   "source": [
    "# Cuadrados mínimos no-lineal con [curve_fit](https://docs.scipy.org/doc/scipy/reference/generated/scipy.optimize.curve_fit.html)"
   ]
  },
  {
   "cell_type": "markdown",
   "id": "e3933023-4652-4bd0-b58e-8ac83f90e1c5",
   "metadata": {},
   "source": [
    "Calibración del detector de superficie del Observatorio Pierre Auger"
   ]
  },
  {
   "cell_type": "markdown",
   "id": "367ac9c5-fb7a-48b8-9454-02365b61489b",
   "metadata": {},
   "source": [
    "Esta demo usa datos abiertos disponibles en https://doi.org/10.5281/zenodo.4487612."
   ]
  },
  {
   "cell_type": "code",
   "execution_count": null,
   "id": "788efc33-9ba5-4b68-8b55-e67c6ead2905",
   "metadata": {},
   "outputs": [],
   "source": [
    "import pandas as pd\n",
    "data = pd.read_csv(\"cuadrados_minimos_nolineal.csv\")\n",
    "print(data)"
   ]
  },
  {
   "cell_type": "code",
   "execution_count": null,
   "id": "67255c1a-1b65-41ac-a6b5-5889a550ea3c",
   "metadata": {},
   "outputs": [],
   "source": [
    "import numpy as np\n",
    "def fit_model(energy, par0, par1):\n",
    "    size_0 = 30          # Reference shower size\n",
    "    energy_0 = par0\n",
    "    power_law_index = par1\n",
    "    return size_0 * np.power(energy / energy_0, 1 / power_law_index)"
   ]
  },
  {
   "cell_type": "code",
   "execution_count": null,
   "id": "a1c78885-aa9b-4426-8e72-3d3069f4685b",
   "metadata": {},
   "outputs": [],
   "source": [
    "import scipy\n",
    "estimators, cova = scipy.optimize.curve_fit(f=fit_model, xdata=data['energy'], ydata=data['shower_size'], sigma=data['shower_size_error'], absolute_sigma=True)"
   ]
  },
  {
   "cell_type": "code",
   "execution_count": null,
   "id": "31661b41-a2f2-4bf4-9c05-509c387ea91a",
   "metadata": {},
   "outputs": [],
   "source": [
    "estimators"
   ]
  },
  {
   "cell_type": "code",
   "execution_count": null,
   "id": "25ce41b7-78f7-414a-a6d1-a6090915efdb",
   "metadata": {},
   "outputs": [],
   "source": [
    "errors = np.sqrt(np.diag(cova))\n",
    "errors     "
   ]
  }
 ],
 "metadata": {
  "kernelspec": {
   "display_name": "Python 3 (ipykernel)",
   "language": "python",
   "name": "python3"
  },
  "language_info": {
   "codemirror_mode": {
    "name": "ipython",
    "version": 3
   },
   "file_extension": ".py",
   "mimetype": "text/x-python",
   "name": "python",
   "nbconvert_exporter": "python",
   "pygments_lexer": "ipython3",
   "version": "3.10.12"
  }
 },
 "nbformat": 4,
 "nbformat_minor": 5
}
