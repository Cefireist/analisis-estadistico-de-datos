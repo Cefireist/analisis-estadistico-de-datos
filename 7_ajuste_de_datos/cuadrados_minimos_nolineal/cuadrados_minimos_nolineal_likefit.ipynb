{
 "cells": [
  {
   "cell_type": "markdown",
   "id": "adcf9b36-e32f-4d48-a9e1-57b4388d28de",
   "metadata": {},
   "source": [
    "# Cuadrados mínimos no-lineal con la librería [LikeFit](https://github.com/ravignad/likefit)"
   ]
  },
  {
   "cell_type": "markdown",
   "id": "e3933023-4652-4bd0-b58e-8ac83f90e1c5",
   "metadata": {},
   "source": [
    "Calibración del detector de superficie del Observatorio Pierre Auger"
   ]
  },
  {
   "cell_type": "markdown",
   "id": "b5fbf4c3-d7bd-48dd-9049-d26795985da6",
   "metadata": {},
   "source": [
    "Esta demo usa datos abiertos disponibles en https://doi.org/10.5281/zenodo.4487612."
   ]
  },
  {
   "cell_type": "code",
   "execution_count": 1,
   "id": "788efc33-9ba5-4b68-8b55-e67c6ead2905",
   "metadata": {},
   "outputs": [
    {
     "name": "stdout",
     "output_type": "stream",
     "text": [
      "               id  shower_size  shower_size_error     energy  energy_error\n",
      "0     51556398500        23.17           3.247301   4.402000      0.306000\n",
      "1     52816064300        18.92           3.299227   3.842000      0.304000\n",
      "2     53076621500        61.00           6.286975  14.408000      1.234000\n",
      "3     53275880800        27.04           3.777108   5.097000      0.369000\n",
      "4     60256582700        28.49           3.757630   5.429000      0.409000\n",
      "..            ...          ...                ...        ...           ...\n",
      "306  172996559000        13.78           2.413062   3.090000      0.252000\n",
      "307  173156026200        21.79           3.000982   4.239000      0.305000\n",
      "308  173245270900        28.32           3.574100   5.668000      0.398000\n",
      "309  173275788100        49.41           5.161966  10.177000      0.838000\n",
      "310  173496697500        61.46           6.000589  12.268814      0.681466\n",
      "\n",
      "[311 rows x 5 columns]\n"
     ]
    }
   ],
   "source": [
    "import pandas as pd\n",
    "data = pd.read_csv(\"cuadrados_minimos_nolineal.csv\")\n",
    "print(data)"
   ]
  },
  {
   "cell_type": "code",
   "execution_count": 2,
   "id": "81cea22c-b9f2-43c4-8a1c-498c357d5263",
   "metadata": {},
   "outputs": [],
   "source": [
    "import numpy as np\n",
    "def fit_model(energy, par):\n",
    "    size_0 = 30          # Reference shower size\n",
    "    energy_0 = par[0]\n",
    "    power_law_index = par[1]\n",
    "    return size_0 * np.power(energy / energy_0, 1 / power_law_index)"
   ]
  },
  {
   "cell_type": "markdown",
   "id": "1ef0ae49-3d40-4109-aaf1-ec26926e3b6b",
   "metadata": {},
   "source": [
    "La librería LikeFit se instala con `pip install likefit`"
   ]
  },
  {
   "cell_type": "code",
   "execution_count": 7,
   "id": "12ff456d-ca38-4de7-8d00-91cd4f83a354",
   "metadata": {},
   "outputs": [],
   "source": [
    "import likefit\n",
    "fitter = likefit.LeastSquares(data['energy'], data['shower_size'], fit_model, data['shower_size_error'])"
   ]
  },
  {
   "cell_type": "code",
   "execution_count": 8,
   "id": "4ac9c06d-6f1e-4ac0-a811-4494e01207e3",
   "metadata": {},
   "outputs": [
    {
     "name": "stdout",
     "output_type": "stream",
     "text": [
      "Fit summary\n",
      "Estimators: [6.42800295 1.0315957 ]\n",
      "Errors: [0.05089929 0.0131236 ]\n",
      "Covariance matrix: [[ 2.59073808e-03 -7.54565870e-05]\n",
      " [-7.54565870e-05  1.72228756e-04]]\n",
      "Correlation matrix: [[ 1.         -0.11296205]\n",
      " [-0.11296205  1.        ]]\n",
      "Chi square: 389.16231899830075\n",
      "Degrees of freedom: 309\n",
      "Pvalue: 0.001315434876823342\n"
     ]
    }
   ],
   "source": [
    "initial_parameters = np.array([7, 1])\n",
    "fit_result = fitter.fit(initial_parameters)\n",
    "fitter.print_results()"
   ]
  },
  {
   "cell_type": "code",
   "execution_count": 14,
   "id": "799f7c35-b83b-44c3-a2cd-55413a38991f",
   "metadata": {},
   "outputs": [
    {
     "name": "stdout",
     "output_type": "stream",
     "text": [
      "Reference energy: 6.428 ± 0.051\n",
      "Index: 1.032 ± 0.013\n"
     ]
    }
   ],
   "source": [
    "estimators = fitter.get_estimators()\n",
    "errors = fitter.get_errors()\n",
    "print(f\"Reference energy: {estimators[0]:.3f} ± {errors[0]:.3f}\")\n",
    "print(f\"Index: {estimators[1]:.3f} ± {errors[1]:.3f}\")"
   ]
  },
  {
   "cell_type": "code",
   "execution_count": 9,
   "id": "c899aa5f-fbc8-4c9d-9bc5-e4490d41bb6c",
   "metadata": {},
   "outputs": [
    {
     "name": "stdout",
     "output_type": "stream",
     "text": [
      "Help on method plot_fit in module likefit:\n",
      "\n",
      "plot_fit(xlabel='x', ylabel='y', ax=None) method of likefit.LeastSquares instance\n",
      "    Plot the data, the fit, and the error band.\n",
      "    \n",
      "    Parameters\n",
      "    ----------\n",
      "    xlabel : str, optional\n",
      "        Label for the x-axis.\n",
      "    ylabel : str, optional\n",
      "        Label for the y-axis.\n",
      "    ax : matplotlib.axis.Axis, optional\n",
      "        Axis to make the plot.\n",
      "\n"
     ]
    }
   ],
   "source": [
    "help(fitter.plot_fit)"
   ]
  },
  {
   "cell_type": "code",
   "execution_count": 10,
   "id": "bb409437-c46c-443e-8648-95ddc5994cb2",
   "metadata": {},
   "outputs": [
    {
     "data": {
      "image/png": "[encoded data removed]",
      "text/plain": [
       "<Figure size 480x360 with 1 Axes>"
      ]
     },
     "metadata": {},
     "output_type": "display_data"
    }
   ],
   "source": [
    "fitter.plot_fit(xlabel=\"Energy\", ylabel=\"Shower size\")"
   ]
  }
 ],
 "metadata": {
  "kernelspec": {
   "display_name": "Python 3 (ipykernel)",
   "language": "python",
   "name": "python3"
  },
  "language_info": {
   "codemirror_mode": {
    "name": "ipython",
    "version": 3
   },
   "file_extension": ".py",
   "mimetype": "text/x-python",
   "name": "python",
   "nbconvert_exporter": "python",
   "pygments_lexer": "ipython3",
   "version": "3.10.12"
  }
 },
 "nbformat": 4,
 "nbformat_minor": 5
}
