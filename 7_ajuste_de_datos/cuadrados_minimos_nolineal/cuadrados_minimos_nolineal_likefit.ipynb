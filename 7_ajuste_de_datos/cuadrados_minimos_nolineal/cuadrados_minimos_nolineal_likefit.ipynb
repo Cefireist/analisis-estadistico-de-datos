{
 "cells": [
  {
   "cell_type": "markdown",
   "id": "adcf9b36-e32f-4d48-a9e1-57b4388d28de",
   "metadata": {},
   "source": [
    "# Cuadrados mínimos no-lineal con la librería [LikeFit](https://github.com/ravignad/likefit)"
   ]
  },
  {
   "cell_type": "markdown",
   "id": "e3933023-4652-4bd0-b58e-8ac83f90e1c5",
   "metadata": {},
   "source": [
    "Calibración del detector de superficie del Observatorio Pierre Auger"
   ]
  },
  {
   "cell_type": "markdown",
   "id": "b5fbf4c3-d7bd-48dd-9049-d26795985da6",
   "metadata": {},
   "source": [
    "Esta demo usa datos abiertos disponibles en https://doi.org/10.5281/zenodo.4487612."
   ]
  },
  {
   "cell_type": "code",
   "execution_count": null,
   "id": "788efc33-9ba5-4b68-8b55-e67c6ead2905",
   "metadata": {},
   "outputs": [],
   "source": [
    "import pandas as pd\n",
    "data = pd.read_csv(\"cuadrados_minimos_nolineal.csv\")\n",
    "print(data)"
   ]
  },
  {
   "cell_type": "code",
   "execution_count": null,
   "id": "81cea22c-b9f2-43c4-8a1c-498c357d5263",
   "metadata": {},
   "outputs": [],
   "source": [
    "import numpy as np\n",
    "def fit_model(energy, par):\n",
    "    size_0 = 30          # Reference shower size\n",
    "    energy_0 = par[0]\n",
    "    power_law_index = par[1]\n",
    "    return size_0 * np.power(energy / energy_0, 1 / power_law_index)"
   ]
  },
  {
   "cell_type": "markdown",
   "id": "1ef0ae49-3d40-4109-aaf1-ec26926e3b6b",
   "metadata": {},
   "source": [
    "La librería LikeFit se instala con:"
   ]
  },
  {
   "cell_type": "code",
   "execution_count": null,
   "id": "a3e7f4c4-539f-41b1-9a77-667f6524a9f1",
   "metadata": {},
   "outputs": [],
   "source": [
    "# pip install likefit"
   ]
  },
  {
   "cell_type": "code",
   "execution_count": null,
   "id": "12ff456d-ca38-4de7-8d00-91cd4f83a354",
   "metadata": {},
   "outputs": [],
   "source": [
    "import likefit\n",
    "fitter = likefit.LeastSquares(data['energy'], data['shower_size'], fit_model, data['shower_size_error'])"
   ]
  },
  {
   "cell_type": "code",
   "execution_count": null,
   "id": "4ac9c06d-6f1e-4ac0-a811-4494e01207e3",
   "metadata": {},
   "outputs": [],
   "source": [
    "initial_parameters = np.array([7, 1])\n",
    "fit_result = fitter.fit(initial_parameters)\n",
    "fitter.print_results()"
   ]
  },
  {
   "cell_type": "code",
   "execution_count": null,
   "id": "799f7c35-b83b-44c3-a2cd-55413a38991f",
   "metadata": {},
   "outputs": [],
   "source": [
    "estimators = fitter.get_estimators()\n",
    "errors = fitter.get_errors()\n",
    "print(f\"Reference energy: {estimators[0]:.3f} ± {errors[0]:.3f}\")\n",
    "print(f\"Index: {estimators[1]:.3f} ± {errors[1]:.3f}\")"
   ]
  },
  {
   "cell_type": "code",
   "execution_count": null,
   "id": "c899aa5f-fbc8-4c9d-9bc5-e4490d41bb6c",
   "metadata": {},
   "outputs": [],
   "source": [
    "help(fitter.plot_fit)"
   ]
  },
  {
   "cell_type": "code",
   "execution_count": null,
   "id": "bb409437-c46c-443e-8648-95ddc5994cb2",
   "metadata": {},
   "outputs": [],
   "source": [
    "fitter.plot_fit(xlabel=\"Energy\", ylabel=\"Shower size\")"
   ]
  },
  {
   "cell_type": "code",
   "execution_count": null,
   "id": "3ac3bed1-37f4-45c2-9dc6-013606fe9c6a",
   "metadata": {},
   "outputs": [],
   "source": []
  }
 ],
 "metadata": {
  "kernelspec": {
   "display_name": "Python 3 (ipykernel)",
   "language": "python",
   "name": "python3"
  },
  "language_info": {
   "codemirror_mode": {
    "name": "ipython",
    "version": 3
   },
   "file_extension": ".py",
   "mimetype": "text/x-python",
   "name": "python",
   "nbconvert_exporter": "python",
   "pygments_lexer": "ipython3",
   "version": "3.10.12"
  }
 },
 "nbformat": 4,
 "nbformat_minor": 5
}
