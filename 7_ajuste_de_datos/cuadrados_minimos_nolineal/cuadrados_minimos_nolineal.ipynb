{
 "cells": [
  {
   "cell_type": "markdown",
   "metadata": {},
   "source": [
    "# Cuadrados mínimos no-lineal paso a paso"
   ]
  },
  {
   "cell_type": "markdown",
   "metadata": {
    "id": "aOZ_h3DT7zlt"
   },
   "source": [
    "Calibración del detector de superficie del Observatorio Pierre Auger"
   ]
  },
  {
   "cell_type": "code",
   "execution_count": 1,
   "metadata": {
    "id": "5XsowlYY7zlu"
   },
   "outputs": [],
   "source": [
    "import numpy as np\n",
    "import pandas as pd\n",
    "import matplotlib.pyplot as plt\n",
    "from scipy.stats import chi2\n",
    "from scipy.optimize import minimize"
   ]
  },
  {
   "cell_type": "markdown",
   "metadata": {
    "id": "ROBypVjp7zlv"
   },
   "source": [
    "## Datos"
   ]
  },
  {
   "cell_type": "markdown",
   "metadata": {},
   "source": [
    "Esta demo usa datos abiertos disponibles en https://doi.org/10.5281/zenodo.4487612."
   ]
  },
  {
   "cell_type": "code",
   "execution_count": 2,
   "metadata": {
    "id": "xd4sVo5d7zlw"
   },
   "outputs": [
    {
     "name": "stdout",
     "output_type": "stream",
     "text": [
      "               id  energy  shower_size  shower_size_error\n",
      "0     51556398500    4.40        23.17               3.25\n",
      "1     52816064300    3.84        18.92               3.30\n",
      "2     53076621500   14.41        61.00               6.29\n",
      "3     53275880800    5.10        27.04               3.78\n",
      "4     60256582700    5.43        28.49               3.76\n",
      "..            ...     ...          ...                ...\n",
      "306  172996559000    3.09        13.78               2.41\n",
      "307  173156026200    4.24        21.79               3.00\n",
      "308  173245270900    5.67        28.32               3.57\n",
      "309  173275788100   10.18        49.41               5.16\n",
      "310  173496697500   12.27        61.46               6.00\n",
      "\n",
      "[311 rows x 4 columns]\n"
     ]
    }
   ],
   "source": [
    "data = pd.read_csv(\"cuadrados_minimos_nolineal.csv\")\n",
    "xdata = data[\"energy\"]\n",
    "ydata = data[\"shower_size\"]\n",
    "yerror = data[\"shower_size_error\"]\n",
    "print(data)"
   ]
  },
  {
   "cell_type": "markdown",
   "metadata": {
    "id": "xxAcQZVr7zlx"
   },
   "source": [
    "## Modelo"
   ]
  },
  {
   "cell_type": "code",
   "execution_count": 3,
   "metadata": {
    "id": "nVumabXo7zlx"
   },
   "outputs": [],
   "source": [
    "def fit_model(energy, par):\n",
    "    size_0 = 30          # Reference shower size\n",
    "    energy_0 = par[0]\n",
    "    power_law_index = par[1]\n",
    "    return size_0 * np.power(energy / energy_0, 1 / power_law_index)"
   ]
  },
  {
   "cell_type": "markdown",
   "metadata": {},
   "source": [
    "## Función de costo de un dato"
   ]
  },
  {
   "cell_type": "code",
   "execution_count": 4,
   "metadata": {},
   "outputs": [],
   "source": [
    "def normal_cost(mu, y, sigma):\n",
    "    residual = (y - mu) / sigma    \n",
    "    cost = residual**2\n",
    "    return cost"
   ]
  },
  {
   "cell_type": "markdown",
   "metadata": {
    "id": "xJMO1a6a7zlx"
   },
   "source": [
    "## Función de costo"
   ]
  },
  {
   "cell_type": "code",
   "execution_count": 5,
   "metadata": {
    "id": "l0ug7c3s7zlx"
   },
   "outputs": [],
   "source": [
    "def fit_cost(x, y, ysigma, par):\n",
    "        mu = fit_model(x, par)\n",
    "        cost = 0\n",
    "        for mu1, y1, ysigma1 in zip(mu, y, ysigma):\n",
    "            cost += normal_cost(mu1, y1, ysigma1)\n",
    "        return cost"
   ]
  },
  {
   "cell_type": "code",
   "execution_count": 6,
   "metadata": {
    "id": "h9NRW8Bw7zly"
   },
   "outputs": [],
   "source": [
    "J = lambda par: fit_cost(xdata, ydata, yerror, par)"
   ]
  },
  {
   "cell_type": "markdown",
   "metadata": {
    "id": "ippIjIqQ7zly"
   },
   "source": [
    "## Minimización"
   ]
  },
  {
   "cell_type": "code",
   "execution_count": 7,
   "metadata": {
    "colab": {
     "base_uri": "https://localhost:8080/"
    },
    "executionInfo": {
     "elapsed": 7,
     "status": "ok",
     "timestamp": 1699555092765,
     "user": {
      "displayName": "Diego Ravignani Guerrero",
      "userId": "10540030550289703153"
     },
     "user_tz": 180
    },
    "id": "TMlT7V5Z7zly",
    "outputId": "cedc8f4d-8f2c-49ed-9a44-5bc76b9a0fb9"
   },
   "outputs": [
    {
     "data": {
      "text/plain": [
       "      fun: 389.0265388718711\n",
       " hess_inv: array([[2.34670559e-04, 1.85466780e-05],\n",
       "       [1.85466780e-05, 1.28283893e-04]])\n",
       "      jac: array([3.81469727e-06, 1.14440918e-05])\n",
       "  message: 'Desired error not necessarily achieved due to precision loss.'\n",
       "     nfev: 140\n",
       "      nit: 11\n",
       "     njev: 43\n",
       "   status: 2\n",
       "  success: False\n",
       "        x: array([6.42829421, 1.03150428])"
      ]
     },
     "execution_count": 7,
     "metadata": {},
     "output_type": "execute_result"
    }
   ],
   "source": [
    "res = minimize(J, x0=(7, 1))\n",
    "res"
   ]
  },
  {
   "cell_type": "markdown",
   "metadata": {
    "id": "zC45m72X7zly"
   },
   "source": [
    "## Estimadores"
   ]
  },
  {
   "cell_type": "code",
   "execution_count": 8,
   "metadata": {
    "id": "S0wscugF7zly"
   },
   "outputs": [],
   "source": [
    "par_est = res.x"
   ]
  },
  {
   "cell_type": "markdown",
   "metadata": {
    "id": "LdzPn4liJMPR"
   },
   "source": [
    "## Errores"
   ]
  },
  {
   "cell_type": "code",
   "execution_count": 9,
   "metadata": {
    "colab": {
     "base_uri": "https://localhost:8080/"
    },
    "executionInfo": {
     "elapsed": 277,
     "status": "ok",
     "timestamp": 1699555241202,
     "user": {
      "displayName": "Diego Ravignani Guerrero",
      "userId": "10540030550289703153"
     },
     "user_tz": 180
    },
    "id": "52VtulpS7zly",
    "outputId": "6bece1ed-4c2c-4cdf-97c1-ad5a328aded7"
   },
   "outputs": [
    {
     "name": "stdout",
     "output_type": "stream",
     "text": [
      "a = 6.428 ± 0.022\n",
      "b = 1.032 ± 0.016\n",
      "ρ = 0.11\n"
     ]
    }
   ],
   "source": [
    "cova = 2*res.hess_inv\n",
    "error = np.sqrt( np.diagonal(cova) )\n",
    "rho = cova[0][1]/(error[0]*error[1])\n",
    "print(f\"a = {par_est[0]:.3f} ± {error[0]:.3f}\")\n",
    "print(f\"b = {par_est[1]:.3f} ± {error[1]:.3f}\")\n",
    "print(f\"ρ = {rho:.2f}\")"
   ]
  },
  {
   "cell_type": "markdown",
   "metadata": {
    "id": "1GvDjBep7zlz"
   },
   "source": [
    "## Bondad del ajuste"
   ]
  },
  {
   "cell_type": "code",
   "execution_count": 10,
   "metadata": {
    "colab": {
     "base_uri": "https://localhost:8080/"
    },
    "executionInfo": {
     "elapsed": 291,
     "status": "ok",
     "timestamp": 1699555781920,
     "user": {
      "displayName": "Diego Ravignani Guerrero",
      "userId": "10540030550289703153"
     },
     "user_tz": 180
    },
    "id": "SWQac5k67zlz",
    "outputId": "ed3ac44c-ffc1-41f0-81e4-74c5b6b9f8ad"
   },
   "outputs": [
    {
     "name": "stdout",
     "output_type": "stream",
     "text": [
      "χ²min = 389.03\n",
      "ndof = 309\n",
      "pvalor = 0.13%\n"
     ]
    }
   ],
   "source": [
    "cost_min = res.fun\n",
    "ndof = len(xdata) - len(par_est)\n",
    "pvalor = chi2.sf(cost_min, ndof)\n",
    "print(f\"χ²min = {cost_min:.2f}\")\n",
    "print(f\"ndof = {ndof}\")\n",
    "print(f\"pvalor = {pvalor*100:.2}%\")"
   ]
  },
  {
   "cell_type": "markdown",
   "metadata": {},
   "source": [
    "## Plot del ajuste"
   ]
  },
  {
   "cell_type": "code",
   "execution_count": 11,
   "metadata": {},
   "outputs": [],
   "source": [
    "xfit = np.linspace( xdata.min(), xdata.max(), 256)\n",
    "mu_est = fit_model(xfit, par_est)"
   ]
  },
  {
   "cell_type": "code",
   "execution_count": 12,
   "metadata": {
    "colab": {
     "base_uri": "https://localhost:8080/",
     "height": 392
    },
    "executionInfo": {
     "elapsed": 843,
     "status": "ok",
     "timestamp": 1699554555442,
     "user": {
      "displayName": "Diego Ravignani Guerrero",
      "userId": "10540030550289703153"
     },
     "user_tz": 180
    },
    "id": "ggbGuciX7zlw",
    "outputId": "abcb5617-0d62-47e3-f7a5-6d8c5d25ad07",
    "scrolled": true
   },
   "outputs": [
    {
     "data": {
      "image/png": "[encoded data removed]",
      "text/plain": [
       "<Figure size 480x360 with 1 Axes>"
      ]
     },
     "metadata": {},
     "output_type": "display_data"
    }
   ],
   "source": [
    "fig, ax = plt.subplots()\n",
    "ax.set_xlabel(\"Shower size (VEM)\")\n",
    "ax.set_ylabel(\"Energy (EeV)\")\n",
    "ax.errorbar(xdata, ydata, yerror,ls='none', marker='o', ms=4, label=\"Datos\")\n",
    "ax.plot(xfit, mu_est, label=\"Ajuste\")\n",
    "plt.legend()\n",
    "plt.show()"
   ]
  }
 ],
 "metadata": {
  "colab": {
   "provenance": [],
   "toc_visible": true
  },
  "kernelspec": {
   "display_name": "Python 3 (ipykernel)",
   "language": "python",
   "name": "python3"
  },
  "language_info": {
   "codemirror_mode": {
    "name": "ipython",
    "version": 3
   },
   "file_extension": ".py",
   "mimetype": "text/x-python",
   "name": "python",
   "nbconvert_exporter": "python",
   "pygments_lexer": "ipython3",
   "version": "3.10.12"
  }
 },
 "nbformat": 4,
 "nbformat_minor": 4
}
