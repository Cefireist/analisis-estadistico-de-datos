{
 "cells": [
  {
   "cell_type": "markdown",
   "metadata": {
    "id": "RDXFQ4FY76V7"
   },
   "source": [
    "# Simulación de la distribución lateral"
   ]
  },
  {
   "cell_type": "markdown",
   "metadata": {},
   "source": [
    "- Simula el número de partículas en tres detectores a distintas distancias del eje de la lluvia.\n",
    "- Ajsuta los datos. \n",
    "- Compara los modelos con: 1) los parámetros verdaderos y 2) los estimadores"
   ]
  },
  {
   "cell_type": "code",
   "execution_count": null,
   "metadata": {
    "executionInfo": {
     "elapsed": 622,
     "status": "ok",
     "timestamp": 1680464081465,
     "user": {
      "displayName": "Ezequiel Rodriguez",
      "userId": "03024089132465404102"
     },
     "user_tz": -120
    },
    "id": "45169ZMM76V8"
   },
   "outputs": [],
   "source": [
    "import math\n",
    "import numpy as np\n",
    "import matplotlib.pyplot as plt\n",
    "from scipy.stats import poisson"
   ]
  },
  {
   "cell_type": "markdown",
   "metadata": {},
   "source": [
    "If danatools is not available install it with: pip -m install danatools"
   ]
  },
  {
   "cell_type": "code",
   "execution_count": null,
   "metadata": {},
   "outputs": [],
   "source": [
    "import danatools"
   ]
  },
  {
   "cell_type": "markdown",
   "metadata": {},
   "source": [
    "If likefit is not available install it with: pip -m install likefit"
   ]
  },
  {
   "cell_type": "code",
   "execution_count": null,
   "metadata": {},
   "outputs": [],
   "source": [
    "import likefit"
   ]
  },
  {
   "cell_type": "markdown",
   "metadata": {
    "id": "-u858pnD76V9"
   },
   "source": [
    "Semilla random para reproducir los resultados"
   ]
  },
  {
   "cell_type": "code",
   "execution_count": null,
   "metadata": {
    "executionInfo": {
     "elapsed": 22,
     "status": "ok",
     "timestamp": 1680464081466,
     "user": {
      "displayName": "Ezequiel Rodriguez",
      "userId": "03024089132465404102"
     },
     "user_tz": -120
    },
    "id": "srTFdP2T76V9"
   },
   "outputs": [],
   "source": [
    "rng = np.random.seed(seed=60870)"
   ]
  },
  {
   "cell_type": "markdown",
   "metadata": {},
   "source": [
    "Parámetros *verdaderos*"
   ]
  },
  {
   "cell_type": "code",
   "execution_count": null,
   "metadata": {
    "executionInfo": {
     "elapsed": 23,
     "status": "ok",
     "timestamp": 1680464081465,
     "user": {
      "displayName": "Ezequiel Rodriguez",
      "userId": "03024089132465404102"
     },
     "user_tz": -120
    },
    "id": "SI0d6I8I76V9",
    "scrolled": true
   },
   "outputs": [],
   "source": [
    "S0 = 19.1\n",
    "beta = 2.1\n",
    "par_true = np.array([S0, beta])"
   ]
  },
  {
   "cell_type": "code",
   "execution_count": null,
   "metadata": {
    "executionInfo": {
     "elapsed": 23,
     "status": "ok",
     "timestamp": 1680464081466,
     "user": {
      "displayName": "Ezequiel Rodriguez",
      "userId": "03024089132465404102"
     },
     "user_tz": -120
    },
    "id": "vqdus2-M76V9"
   },
   "outputs": [],
   "source": [
    "distance = np.array([191, 263, 309])  # distancia en metros"
   ]
  },
  {
   "cell_type": "code",
   "execution_count": null,
   "metadata": {
    "executionInfo": {
     "elapsed": 22,
     "status": "ok",
     "timestamp": 1680464081466,
     "user": {
      "displayName": "Ezequiel Rodriguez",
      "userId": "03024089132465404102"
     },
     "user_tz": -120
    },
    "id": "DKQJAYV476V9"
   },
   "outputs": [],
   "source": [
    "# Fit model\n",
    "def fit_model(x, par):\n",
    "    x0 = 250  # Reference distance in metres\n",
    "    return par[0] * np.power(x/x0, -par[1])"
   ]
  },
  {
   "cell_type": "markdown",
   "metadata": {},
   "source": [
    "## Simulación de un evento"
   ]
  },
  {
   "cell_type": "markdown",
   "metadata": {},
   "source": [
    "Media del número de eventos en cada detector"
   ]
  },
  {
   "cell_type": "code",
   "execution_count": null,
   "metadata": {
    "colab": {
     "base_uri": "https://localhost:8080/"
    },
    "executionInfo": {
     "elapsed": 22,
     "status": "ok",
     "timestamp": 1680464081467,
     "user": {
      "displayName": "Ezequiel Rodriguez",
      "userId": "03024089132465404102"
     },
     "user_tz": -120
    },
    "id": "pElDa3TZ76V-",
    "outputId": "fda08ecb-1a74-44e7-905a-e7a7f13d164d"
   },
   "outputs": [],
   "source": [
    "mu = fit_model(distance, par_true)\n",
    "mu"
   ]
  },
  {
   "cell_type": "markdown",
   "metadata": {},
   "source": [
    "Número de partículas en cada detector"
   ]
  },
  {
   "cell_type": "code",
   "execution_count": null,
   "metadata": {},
   "outputs": [],
   "source": [
    "particles = poisson.rvs(mu, random_state=rng)\n",
    "particles"
   ]
  },
  {
   "cell_type": "markdown",
   "metadata": {},
   "source": [
    "## Ajuste de la función de distribución lateral"
   ]
  },
  {
   "cell_type": "code",
   "execution_count": null,
   "metadata": {},
   "outputs": [],
   "source": [
    "fitter = likefit.Poisson(distance, particles, fit_model)\n",
    "fitter.fit(seed=par_true)\n",
    "fitter.print_results()"
   ]
  },
  {
   "cell_type": "markdown",
   "metadata": {
    "id": "ZCLUpIjL76V_"
   },
   "source": [
    "## Plot del ajuste"
   ]
  },
  {
   "cell_type": "code",
   "execution_count": null,
   "metadata": {},
   "outputs": [],
   "source": [
    "xfit = np.linspace(150, 400, 256)"
   ]
  },
  {
   "cell_type": "markdown",
   "metadata": {},
   "source": [
    "Modelo verdadero"
   ]
  },
  {
   "cell_type": "code",
   "execution_count": null,
   "metadata": {},
   "outputs": [],
   "source": [
    "mu_true = fit_model(xfit, par_true)"
   ]
  },
  {
   "cell_type": "markdown",
   "metadata": {},
   "source": [
    "Modelo ajustado"
   ]
  },
  {
   "cell_type": "code",
   "execution_count": null,
   "metadata": {},
   "outputs": [],
   "source": [
    "estimators = fitter.get_estimators()\n",
    "mu_fit = fit_model(xfit, estimators)"
   ]
  },
  {
   "cell_type": "markdown",
   "metadata": {},
   "source": [
    "Errores del ajuste"
   ]
  },
  {
   "cell_type": "code",
   "execution_count": null,
   "metadata": {},
   "outputs": [],
   "source": [
    "fit_error = fitter.get_yfit_error(xfit)"
   ]
  },
  {
   "cell_type": "code",
   "execution_count": null,
   "metadata": {
    "colab": {
     "base_uri": "https://localhost:8080/",
     "height": 349
    },
    "executionInfo": {
     "elapsed": 27,
     "status": "ok",
     "timestamp": 1680464131831,
     "user": {
      "displayName": "Ezequiel Rodriguez",
      "userId": "03024089132465404102"
     },
     "user_tz": -120
    },
    "id": "Q9R6Tbt576V_",
    "outputId": "7c464fc8-563f-4b78-9c53-dc42719b8447",
    "scrolled": true
   },
   "outputs": [],
   "source": [
    "fig, ax = plt.subplots()\n",
    "ax.set_xlabel('Distancia (m)')\n",
    "ax.set_ylabel('Partículas')\n",
    "\n",
    "# True\n",
    "ax.plot(xfit, mu_true, color='tab:blue', label=\"Verdadero\")\n",
    "ax.plot(distance, mu, ls='none', marker='o', color='tab:blue')\n",
    "\n",
    "# Fit\n",
    "yerrors = np.sqrt(particles)\n",
    "ax.errorbar(distance, particles, yerrors, ls='none', marker='s', color='tab:orange', label=\"Ajuste\")\n",
    "ax.plot(xfit, mu_fit, color='tab:orange')\n",
    "ax.fill_between(xfit, mu_fit - fit_error, mu_fit + fit_error, color='tab:orange', alpha=0.2)\n",
    "\n",
    "ax.legend()\n",
    "plt.tight_layout()\n",
    "\n",
    "danatools.savefigs(\"simulacion_distribucion_lateral\")\n",
    "plt.show()"
   ]
  },
  {
   "cell_type": "markdown",
   "metadata": {},
   "source": [
    "## Función de costo"
   ]
  },
  {
   "cell_type": "code",
   "execution_count": null,
   "metadata": {},
   "outputs": [],
   "source": [
    "fig = plt.figure(figsize=(6, 6))\n",
    "ax = fig.subplots(subplot_kw={'projection': '3d'})\n",
    "ax.set_xlabel(\"$S_0$\")\n",
    "ax.set_ylabel(r\"$\\beta$\")\n",
    "fitter.plot_cost_function(ax=ax)\n",
    "fig.savefig(\"cost_function.svg\")"
   ]
  },
  {
   "cell_type": "markdown",
   "metadata": {},
   "source": [
    "## Elipses de confianza"
   ]
  },
  {
   "cell_type": "markdown",
   "metadata": {},
   "source": [
    "Si la función de costo es similar a una parábola, los errores se pueden representar por las elipses de confianza calculadas a partir de la matriz Hessiana de la función de costo evaluada en el estimador de máxima verosimilitud. La aproximación parabólica es válida cuando la distribución de los estimadores es aproximadamente normal. En la inmensa mayoría de los ajustes trabajamos dentro de esta aproximación."
   ]
  },
  {
   "cell_type": "code",
   "execution_count": null,
   "metadata": {},
   "outputs": [],
   "source": [
    "fig, ax = plt.subplots(layout='constrained')\n",
    "ax.set_xlabel(\"$S_0$\")\n",
    "ax.set_ylabel(r\"$\\beta$\")\n",
    "fitter.plot_confidence_ellipses(ax=ax)\n",
    "fig.savefig(\"confidence_ellipses.svg\")"
   ]
  },
  {
   "cell_type": "markdown",
   "metadata": {},
   "source": [
    "## Regiones de confianza"
   ]
  },
  {
   "cell_type": "markdown",
   "metadata": {},
   "source": [
    "En problemas muy particulares dónde la aproximación normal no es válida, las superficies de nivel de la función de costo dejan de ser elipses. En estos casos, es preferible representar las regiones de confianza como las superficies de nivel $(n\\sigma)^2$ de la función de costo. "
   ]
  },
  {
   "cell_type": "code",
   "execution_count": null,
   "metadata": {},
   "outputs": [],
   "source": [
    "fig, ax = plt.subplots(layout='constrained')\n",
    "ax.set_xlabel(\"$S_0$\")\n",
    "ax.set_ylabel(r\"$\\beta$\")\n",
    "fitter.plot_confidence_regions(ax=ax)\n",
    "fig.savefig(\"confidence_regions.svg\")"
   ]
  },
  {
   "cell_type": "markdown",
   "metadata": {},
   "source": [
    "Comparando los dos últimos plots, vemos que la región de confianza 1σ es similar a la elipse 1σ. Sin embargo en los contornos a 2σ hay diferencias. En la práctica, como las diferencias son pocas, preferiremos trabajar con las elipses de confianza por la posibilidad que brindar de representar los errores y correlaciones de los estimadores en forma numérica."
   ]
  }
 ],
 "metadata": {
  "colab": {
   "provenance": [],
   "toc_visible": true
  },
  "kernelspec": {
   "display_name": "Python 3 (ipykernel)",
   "language": "python",
   "name": "python3"
  },
  "language_info": {
   "codemirror_mode": {
    "name": "ipython",
    "version": 3
   },
   "file_extension": ".py",
   "mimetype": "text/x-python",
   "name": "python",
   "nbconvert_exporter": "python",
   "pygments_lexer": "ipython3",
   "version": "3.10.12"
  }
 },
 "nbformat": 4,
 "nbformat_minor": 4
}
