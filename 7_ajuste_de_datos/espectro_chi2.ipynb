{
 "cells": [
  {
   "cell_type": "markdown",
   "metadata": {
    "id": "aOZ_h3DT7zlt"
   },
   "source": [
    "# Ajuste del espectro "
   ]
  },
  {
   "cell_type": "markdown",
   "metadata": {},
   "source": [
    "Usa el método de cuadrados mínimos no-lineales"
   ]
  },
  {
   "cell_type": "code",
   "execution_count": 1,
   "metadata": {
    "id": "5XsowlYY7zlu"
   },
   "outputs": [],
   "source": [
    "import math\n",
    "import numpy as np\n",
    "import matplotlib.pyplot as plt\n",
    "from scipy.stats import chi2\n",
    "from scipy.optimize import minimize"
   ]
  },
  {
   "cell_type": "code",
   "execution_count": 2,
   "metadata": {
    "colab": {
     "base_uri": "https://localhost:8080/",
     "height": 247
    },
    "executionInfo": {
     "elapsed": 6,
     "status": "error",
     "timestamp": 1700142255487,
     "user": {
      "displayName": "Diego Ravignani Guerrero",
      "userId": "10540030550289703153"
     },
     "user_tz": 180
    },
    "id": "NdFkdRJTH9TL",
    "outputId": "0b653c03-285c-4c21-bce3-50dce55b45ee"
   },
   "outputs": [],
   "source": [
    "import danatools"
   ]
  },
  {
   "cell_type": "markdown",
   "metadata": {
    "id": "ROBypVjp7zlv"
   },
   "source": [
    "## Datos"
   ]
  },
  {
   "cell_type": "markdown",
   "metadata": {
    "id": "ksgs4Hx17zlv"
   },
   "source": [
    "Datos bineados en $x = log_{10}(E/eV)$, y = número de eventos en el bin"
   ]
  },
  {
   "cell_type": "code",
   "execution_count": 3,
   "metadata": {
    "id": "xd4sVo5d7zlw"
   },
   "outputs": [],
   "source": [
    "xdata = np.linspace(18.45, 20.45, 21)\n",
    "ydata = np.array([13023, 7711, 4478, 3159, 2162, 1483, 1052, 699, 451, 323, 200, 110, 43, 28, 23, 5, 2, 0, 1, 0, 0])"
   ]
  },
  {
   "cell_type": "markdown",
   "metadata": {
    "id": "xxAcQZVr7zlx"
   },
   "source": [
    "## Modelo"
   ]
  },
  {
   "cell_type": "code",
   "execution_count": 4,
   "metadata": {
    "id": "nVumabXo7zlx"
   },
   "outputs": [],
   "source": [
    "def modelo(x, theta):\n",
    "    return np.power(10, theta[0]-theta[1]*(x-19) )"
   ]
  },
  {
   "cell_type": "markdown",
   "metadata": {
    "id": "xJMO1a6a7zlx"
   },
   "source": [
    "## Función de costo"
   ]
  },
  {
   "cell_type": "code",
   "execution_count": 5,
   "metadata": {
    "id": "l0ug7c3s7zlx"
   },
   "outputs": [],
   "source": [
    "def funcion_costo(theta, xdata, ydata):\n",
    "        costo = np.zeros_like(theta[0])\n",
    "        for (x1, y1) in zip(xdata, ydata):\n",
    "            mu1 = modelo(x1, theta)\n",
    "            residuo = y1 - mu1\n",
    "            sigma_sqr = y1     # errores tomados de los datos (Pearson)\n",
    "            costo += residuo**2 / sigma_sqr\n",
    "        return costo"
   ]
  },
  {
   "cell_type": "code",
   "execution_count": 6,
   "metadata": {
    "id": "74HWHErD7zlx"
   },
   "outputs": [],
   "source": [
    "xfit, yfit = xdata[3:11], ydata[3:11]"
   ]
  },
  {
   "cell_type": "code",
   "execution_count": 7,
   "metadata": {
    "colab": {
     "base_uri": "https://localhost:8080/"
    },
    "executionInfo": {
     "elapsed": 309,
     "status": "ok",
     "timestamp": 1699554703123,
     "user": {
      "displayName": "Diego Ravignani Guerrero",
      "userId": "10540030550289703153"
     },
     "user_tz": 180
    },
    "id": "zps5awcO7zlx",
    "outputId": "1ff93bf2-e68b-4727-cf0d-23fea0e1d930",
    "scrolled": true
   },
   "outputs": [
    {
     "data": {
      "text/plain": [
       "array([18.75, 18.85, 18.95, 19.05, 19.15, 19.25, 19.35, 19.45])"
      ]
     },
     "execution_count": 7,
     "metadata": {},
     "output_type": "execute_result"
    }
   ],
   "source": [
    "xfit"
   ]
  },
  {
   "cell_type": "code",
   "execution_count": 8,
   "metadata": {
    "colab": {
     "base_uri": "https://localhost:8080/"
    },
    "executionInfo": {
     "elapsed": 283,
     "status": "ok",
     "timestamp": 1699554718699,
     "user": {
      "displayName": "Diego Ravignani Guerrero",
      "userId": "10540030550289703153"
     },
     "user_tz": 180
    },
    "id": "sfFxW4uP7zlx",
    "outputId": "57c79e7d-c5b1-4be6-e7c9-4a6a85ecf876"
   },
   "outputs": [
    {
     "data": {
      "text/plain": [
       "array([3159, 2162, 1483, 1052,  699,  451,  323,  200])"
      ]
     },
     "execution_count": 8,
     "metadata": {},
     "output_type": "execute_result"
    }
   ],
   "source": [
    "yfit"
   ]
  },
  {
   "cell_type": "code",
   "execution_count": 9,
   "metadata": {
    "id": "h9NRW8Bw7zly"
   },
   "outputs": [],
   "source": [
    "J = lambda theta: funcion_costo(theta, xfit, yfit)"
   ]
  },
  {
   "cell_type": "markdown",
   "metadata": {
    "id": "ippIjIqQ7zly"
   },
   "source": [
    "## Minimización"
   ]
  },
  {
   "cell_type": "code",
   "execution_count": 10,
   "metadata": {
    "colab": {
     "base_uri": "https://localhost:8080/"
    },
    "executionInfo": {
     "elapsed": 7,
     "status": "ok",
     "timestamp": 1699555092765,
     "user": {
      "displayName": "Diego Ravignani Guerrero",
      "userId": "10540030550289703153"
     },
     "user_tz": 180
    },
    "id": "TMlT7V5Z7zly",
    "outputId": "cedc8f4d-8f2c-49ed-9a44-5bc76b9a0fb9"
   },
   "outputs": [
    {
     "data": {
      "text/plain": [
       "      fun: 4.508157233047195\n",
       " hess_inv: array([[ 1.15563295e-05, -2.10936802e-05],\n",
       "       [-2.10936802e-05,  2.78824663e-04]])\n",
       "      jac: array([4.73976135e-04, 8.46385956e-06])\n",
       "  message: 'Desired error not necessarily achieved due to precision loss.'\n",
       "     nfev: 142\n",
       "      nit: 7\n",
       "     njev: 44\n",
       "   status: 2\n",
       "  success: False\n",
       "        x: array([3.08622272, 1.66648429])"
      ]
     },
     "execution_count": 10,
     "metadata": {},
     "output_type": "execute_result"
    }
   ],
   "source": [
    "# La minimización no converge con la tolerancia por defecto\n",
    "res = minimize(J, x0=(3, 2), tol=1e-6)\n",
    "res"
   ]
  },
  {
   "cell_type": "code",
   "execution_count": 11,
   "metadata": {
    "colab": {
     "base_uri": "https://localhost:8080/"
    },
    "executionInfo": {
     "elapsed": 384,
     "status": "ok",
     "timestamp": 1699555111923,
     "user": {
      "displayName": "Diego Ravignani Guerrero",
      "userId": "10540030550289703153"
     },
     "user_tz": 180
    },
    "id": "oyWr_qMI7zly",
    "outputId": "2cf60501-0812-4687-8352-e449225bb9e5",
    "scrolled": false
   },
   "outputs": [
    {
     "data": {
      "text/plain": [
       "      fun: 4.508157233047195\n",
       " hess_inv: array([[ 1.15572237e-05, -2.10383933e-05],\n",
       "       [-2.10383933e-05,  2.78632732e-04]])\n",
       "      jac: array([4.73976135e-04, 8.46385956e-06])\n",
       "  message: 'Optimization terminated successfully.'\n",
       "     nfev: 30\n",
       "      nit: 7\n",
       "     njev: 10\n",
       "   status: 0\n",
       "  success: True\n",
       "        x: array([3.08622272, 1.66648429])"
      ]
     },
     "execution_count": 11,
     "metadata": {},
     "output_type": "execute_result"
    }
   ],
   "source": [
    "# Hago la tolerancia menor al módulo del gradiente (jac)\n",
    "res = minimize(J, x0=(3, 2), tol=1e-3)\n",
    "res"
   ]
  },
  {
   "cell_type": "markdown",
   "metadata": {
    "id": "zC45m72X7zly"
   },
   "source": [
    "## Estimadores"
   ]
  },
  {
   "cell_type": "code",
   "execution_count": 12,
   "metadata": {
    "id": "S0wscugF7zly"
   },
   "outputs": [],
   "source": [
    "theta_est = res.x"
   ]
  },
  {
   "cell_type": "markdown",
   "metadata": {
    "id": "LdzPn4liJMPR"
   },
   "source": [
    "## Errores"
   ]
  },
  {
   "cell_type": "code",
   "execution_count": 13,
   "metadata": {
    "colab": {
     "base_uri": "https://localhost:8080/"
    },
    "executionInfo": {
     "elapsed": 277,
     "status": "ok",
     "timestamp": 1699555241202,
     "user": {
      "displayName": "Diego Ravignani Guerrero",
      "userId": "10540030550289703153"
     },
     "user_tz": 180
    },
    "id": "52VtulpS7zly",
    "outputId": "6bece1ed-4c2c-4cdf-97c1-ad5a328aded7"
   },
   "outputs": [
    {
     "name": "stdout",
     "output_type": "stream",
     "text": [
      "a = 3.086 ± 0.005\n",
      "b = 1.666 ± 0.024\n",
      "ρ = -0.37\n"
     ]
    }
   ],
   "source": [
    "cova = 2*res.hess_inv\n",
    "error = np.sqrt( np.diagonal(cova) )\n",
    "rho = cova[0][1]/(error[0]*error[1])\n",
    "print(f'a = {theta_est[0]:.3f} ± {error[0]:.3f}')\n",
    "print(f'b = {theta_est[1]:.3f} ± {error[1]:.3f}')\n",
    "print(f'ρ = {rho:.2f}')"
   ]
  },
  {
   "cell_type": "markdown",
   "metadata": {
    "id": "1GvDjBep7zlz"
   },
   "source": [
    "## Bondad del ajuste"
   ]
  },
  {
   "cell_type": "code",
   "execution_count": 14,
   "metadata": {
    "colab": {
     "base_uri": "https://localhost:8080/"
    },
    "executionInfo": {
     "elapsed": 291,
     "status": "ok",
     "timestamp": 1699555781920,
     "user": {
      "displayName": "Diego Ravignani Guerrero",
      "userId": "10540030550289703153"
     },
     "user_tz": 180
    },
    "id": "SWQac5k67zlz",
    "outputId": "ed3ac44c-ffc1-41f0-81e4-74c5b6b9f8ad",
    "scrolled": false
   },
   "outputs": [
    {
     "name": "stdout",
     "output_type": "stream",
     "text": [
      "χ²min = 4.51\n",
      "ndof = 6\n",
      "pvalor = 60.8%\n"
     ]
    }
   ],
   "source": [
    "costo_min = res.fun\n",
    "ndof = len(xfit) - len(theta_est)\n",
    "pvalor = chi2.sf(costo_min, ndof)\n",
    "print(f'χ²min = {costo_min:.2f}')\n",
    "print(f'ndof = {ndof}')\n",
    "print(f'pvalor = {pvalor*100:.1f}%')"
   ]
  },
  {
   "cell_type": "markdown",
   "metadata": {},
   "source": [
    "## Plot del ajuste"
   ]
  },
  {
   "cell_type": "markdown",
   "metadata": {},
   "source": [
    "Ajuste"
   ]
  },
  {
   "cell_type": "code",
   "execution_count": 15,
   "metadata": {},
   "outputs": [],
   "source": [
    "x = np.linspace( xfit.min(), xfit.max(), 256)\n",
    "mu_est = modelo(x, theta_est)"
   ]
  },
  {
   "cell_type": "markdown",
   "metadata": {},
   "source": [
    "Error del ajuste"
   ]
  },
  {
   "cell_type": "code",
   "execution_count": 16,
   "metadata": {},
   "outputs": [],
   "source": [
    "grad_theta1 = math.log(10) * mu_est\n",
    "grad_theta2 = (x-19) * math.log(10) * mu_est\n",
    "grad = np.column_stack( (grad_theta1, grad_theta2) )\n",
    "sigma_mu_est = danatools.fit_errors(grad, cova)"
   ]
  },
  {
   "cell_type": "code",
   "execution_count": 17,
   "metadata": {
    "colab": {
     "base_uri": "https://localhost:8080/",
     "height": 392
    },
    "executionInfo": {
     "elapsed": 843,
     "status": "ok",
     "timestamp": 1699554555442,
     "user": {
      "displayName": "Diego Ravignani Guerrero",
      "userId": "10540030550289703153"
     },
     "user_tz": 180
    },
    "id": "ggbGuciX7zlw",
    "outputId": "abcb5617-0d62-47e3-f7a5-6d8c5d25ad07",
    "scrolled": true
   },
   "outputs": [
    {
     "data": {
      "image/png": "[encoded data removed]",
      "text/plain": [
       "<Figure size 480x360 with 1 Axes>"
      ]
     },
     "metadata": {},
     "output_type": "display_data"
    }
   ],
   "source": [
    "fig, ax = plt.subplots()\n",
    "ax.set_xlabel('$log_{10}(E/eV)$')\n",
    "ax.set_ylabel('Eventos')\n",
    "ax.set_yscale(\"log\")\n",
    "ysigma = np.sqrt(ydata)\n",
    "ax.errorbar(xdata, ydata, ysigma,ls='none', marker='o', ms=4, label='datos')\n",
    "ax.plot(x, mu_est, label='Ajuste')\n",
    "ax.fill_between(x, mu_est-sigma_mu_est, mu_est+sigma_mu_est, color='tab:orange', alpha=0.2)\n",
    "plt.show()"
   ]
  }
 ],
 "metadata": {
  "colab": {
   "provenance": [],
   "toc_visible": true
  },
  "kernelspec": {
   "display_name": "Python 3 (ipykernel)",
   "language": "python",
   "name": "python3"
  },
  "language_info": {
   "codemirror_mode": {
    "name": "ipython",
    "version": 3
   },
   "file_extension": ".py",
   "mimetype": "text/x-python",
   "name": "python",
   "nbconvert_exporter": "python",
   "pygments_lexer": "ipython3",
   "version": "3.10.12"
  }
 },
 "nbformat": 4,
 "nbformat_minor": 1
}
