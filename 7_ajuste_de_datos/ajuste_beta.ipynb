{
 "cells": [
  {
   "cell_type": "markdown",
   "metadata": {
    "id": "MZCehVcW6c_X"
   },
   "source": [
    "## Cuadrados mínimos lineal - modelo cuadrático"
   ]
  },
  {
   "cell_type": "markdown",
   "metadata": {
    "id": "y-ycu-W66c_Z"
   },
   "source": [
    "<ol>\n",
    "<li>Modelo lineal</li>\n",
    "<li>Modelo cuadrático</li>\n",
    "<li>Reparametrización</li>\n",
    "</ol>"
   ]
  },
  {
   "cell_type": "code",
   "execution_count": 1,
   "metadata": {
    "executionInfo": {
     "elapsed": 611,
     "status": "ok",
     "timestamp": 1699553945869,
     "user": {
      "displayName": "Diego Ravignani Guerrero",
      "userId": "10540030550289703153"
     },
     "user_tz": 180
    },
    "id": "sadRqjkN6c_a"
   },
   "outputs": [],
   "source": [
    "import math\n",
    "import numpy as np\n",
    "import pandas as pd\n",
    "from numpy.linalg import inv\n",
    "import matplotlib.pyplot as plt\n",
    "from scipy.stats import chi2\n",
    "import sda"
   ]
  },
  {
   "cell_type": "markdown",
   "metadata": {
    "id": "94yieHLV6c_b"
   },
   "source": [
    "### Datos"
   ]
  },
  {
   "cell_type": "code",
   "execution_count": 2,
   "metadata": {
    "colab": {
     "base_uri": "https://localhost:8080/"
    },
    "executionInfo": {
     "elapsed": 69,
     "status": "ok",
     "timestamp": 1699553949782,
     "user": {
      "displayName": "Diego Ravignani Guerrero",
      "userId": "10540030550289703153"
     },
     "user_tz": 180
    },
    "id": "rIZ-N-lY6c_c",
    "outputId": "fd0fee26-a584-493b-b191-6a9a76097cdc"
   },
   "outputs": [
    {
     "data": {
      "text/html": [
       "<div>\n",
       "<style scoped>\n",
       "    .dataframe tbody tr th:only-of-type {\n",
       "        vertical-align: middle;\n",
       "    }\n",
       "\n",
       "    .dataframe tbody tr th {\n",
       "        vertical-align: top;\n",
       "    }\n",
       "\n",
       "    .dataframe thead th {\n",
       "        text-align: right;\n",
       "    }\n",
       "</style>\n",
       "<table border=\"1\" class=\"dataframe\">\n",
       "  <thead>\n",
       "    <tr style=\"text-align: right;\">\n",
       "      <th></th>\n",
       "      <th>x</th>\n",
       "      <th>beta</th>\n",
       "      <th>dbeta</th>\n",
       "    </tr>\n",
       "  </thead>\n",
       "  <tbody>\n",
       "    <tr>\n",
       "      <th>0</th>\n",
       "      <td>1.02</td>\n",
       "      <td>2.24327</td>\n",
       "      <td>0.008319</td>\n",
       "    </tr>\n",
       "    <tr>\n",
       "      <th>1</th>\n",
       "      <td>1.06</td>\n",
       "      <td>2.21686</td>\n",
       "      <td>0.007972</td>\n",
       "    </tr>\n",
       "    <tr>\n",
       "      <th>2</th>\n",
       "      <td>1.10</td>\n",
       "      <td>2.20075</td>\n",
       "      <td>0.009987</td>\n",
       "    </tr>\n",
       "    <tr>\n",
       "      <th>3</th>\n",
       "      <td>1.14</td>\n",
       "      <td>2.17497</td>\n",
       "      <td>0.009385</td>\n",
       "    </tr>\n",
       "    <tr>\n",
       "      <th>4</th>\n",
       "      <td>1.18</td>\n",
       "      <td>2.13199</td>\n",
       "      <td>0.010520</td>\n",
       "    </tr>\n",
       "    <tr>\n",
       "      <th>5</th>\n",
       "      <td>1.22</td>\n",
       "      <td>2.11644</td>\n",
       "      <td>0.015872</td>\n",
       "    </tr>\n",
       "    <tr>\n",
       "      <th>6</th>\n",
       "      <td>1.26</td>\n",
       "      <td>2.08321</td>\n",
       "      <td>0.018500</td>\n",
       "    </tr>\n",
       "    <tr>\n",
       "      <th>7</th>\n",
       "      <td>1.30</td>\n",
       "      <td>2.01585</td>\n",
       "      <td>0.020952</td>\n",
       "    </tr>\n",
       "    <tr>\n",
       "      <th>8</th>\n",
       "      <td>1.34</td>\n",
       "      <td>2.00369</td>\n",
       "      <td>0.016701</td>\n",
       "    </tr>\n",
       "  </tbody>\n",
       "</table>\n",
       "</div>"
      ],
      "text/plain": [
       "      x     beta     dbeta\n",
       "0  1.02  2.24327  0.008319\n",
       "1  1.06  2.21686  0.007972\n",
       "2  1.10  2.20075  0.009987\n",
       "3  1.14  2.17497  0.009385\n",
       "4  1.18  2.13199  0.010520\n",
       "5  1.22  2.11644  0.015872\n",
       "6  1.26  2.08321  0.018500\n",
       "7  1.30  2.01585  0.020952\n",
       "8  1.34  2.00369  0.016701"
      ]
     },
     "execution_count": 2,
     "metadata": {},
     "output_type": "execute_result"
    }
   ],
   "source": [
    "input_file = 'beta.dat'\n",
    "data = pd.read_csv(input_file)\n",
    "data"
   ]
  },
  {
   "cell_type": "code",
   "execution_count": 3,
   "metadata": {
    "colab": {
     "base_uri": "https://localhost:8080/",
     "height": 449
    },
    "executionInfo": {
     "elapsed": 63,
     "status": "ok",
     "timestamp": 1699553949783,
     "user": {
      "displayName": "Diego Ravignani Guerrero",
      "userId": "10540030550289703153"
     },
     "user_tz": 180
    },
    "id": "PAmk6Pl66c_c",
    "outputId": "af394702-44e7-4a2b-e30a-d4fbe171e205",
    "scrolled": true
   },
   "outputs": [
    {
     "data": {
      "image/png": "[encoded data removed]",
      "text/plain": [
       "<Figure size 480x360 with 1 Axes>"
      ]
     },
     "metadata": {},
     "output_type": "display_data"
    }
   ],
   "source": [
    "fig, ax = plt.subplots()\n",
    "ax.set_xlabel('x')\n",
    "ax.set_ylabel('y')\n",
    "ax.errorbar(data[\"x\"], data[\"beta\"], data[\"dbeta\"],ls='none', marker='o', label=\"Datos\")\n",
    "plt.show()"
   ]
  },
  {
   "cell_type": "markdown",
   "metadata": {
    "id": "rkYoMS5_6c_d"
   },
   "source": [
    "### Matriz del modelo"
   ]
  },
  {
   "cell_type": "code",
   "execution_count": 4,
   "metadata": {
    "executionInfo": {
     "elapsed": 58,
     "status": "ok",
     "timestamp": 1699553949783,
     "user": {
      "displayName": "Diego Ravignani Guerrero",
      "userId": "10540030550289703153"
     },
     "user_tz": 180
    },
    "id": "HdXEWakk6c_d"
   },
   "outputs": [],
   "source": [
    "def model_matrix(x):\n",
    "    # return np.column_stack([x**0, x])  # modelo lineal\n",
    "    return np.column_stack([x**0, x**1, x**2])  # modelo cuadrático\n",
    "    # return np.column_stack([x**0, (x-1.2)**1, (x-1.2)**2]) # modelo cuadrático reparametrizado"
   ]
  },
  {
   "cell_type": "code",
   "execution_count": 5,
   "metadata": {
    "colab": {
     "base_uri": "https://localhost:8080/"
    },
    "executionInfo": {
     "elapsed": 57,
     "status": "ok",
     "timestamp": 1699553949784,
     "user": {
      "displayName": "Diego Ravignani Guerrero",
      "userId": "10540030550289703153"
     },
     "user_tz": 180
    },
    "id": "XSV9Fq0O6c_d",
    "outputId": "f78571b8-2ccf-425d-c54e-4345bcb84214"
   },
   "outputs": [
    {
     "data": {
      "text/plain": [
       "array([[1.    , 1.02  , 1.0404],\n",
       "       [1.    , 1.06  , 1.1236],\n",
       "       [1.    , 1.1   , 1.21  ],\n",
       "       [1.    , 1.14  , 1.2996],\n",
       "       [1.    , 1.18  , 1.3924],\n",
       "       [1.    , 1.22  , 1.4884],\n",
       "       [1.    , 1.26  , 1.5876],\n",
       "       [1.    , 1.3   , 1.69  ],\n",
       "       [1.    , 1.34  , 1.7956]])"
      ]
     },
     "execution_count": 5,
     "metadata": {},
     "output_type": "execute_result"
    }
   ],
   "source": [
    "A = model_matrix(data[\"x\"])\n",
    "A"
   ]
  },
  {
   "cell_type": "markdown",
   "metadata": {
    "id": "NVadJ9cG6c_d"
   },
   "source": [
    "### Ajuste"
   ]
  },
  {
   "cell_type": "code",
   "execution_count": 6,
   "metadata": {
    "colab": {
     "base_uri": "https://localhost:8080/"
    },
    "executionInfo": {
     "elapsed": 53,
     "status": "ok",
     "timestamp": 1699553949784,
     "user": {
      "displayName": "Diego Ravignani Guerrero",
      "userId": "10540030550289703153"
     },
     "user_tz": 180
    },
    "id": "hmhrVytZ6c_d",
    "outputId": "40841d66-7561-4458-8343-486a0dceb85d",
    "scrolled": true
   },
   "outputs": [
    {
     "data": {
      "text/plain": [
       "{'est': array([ 1.89354509,  1.18353602, -0.8253585 ]),\n",
       " 'errors': array([0.55782534, 0.96657847, 0.41649271]),\n",
       " 'cova': array([[ 0.31116911, -0.53872862,  0.23152104],\n",
       "        [-0.53872862,  0.93427394, -0.4022051 ],\n",
       "        [ 0.23152104, -0.4022051 ,  0.17346618]]),\n",
       " 'corr': array([[ 1.        , -0.9991592 ,  0.99651722],\n",
       "        [-0.9991592 ,  1.        , -0.99908639],\n",
       "        [ 0.99651722, -0.99908639,  1.        ]]),\n",
       " 'chi2_min': 3.025813328271747,\n",
       " 'ndof': 6,\n",
       " 'pvalue': 0.8056000818372332}"
      ]
     },
     "execution_count": 6,
     "metadata": {},
     "output_type": "execute_result"
    }
   ],
   "source": [
    "res = sda.linear_least_squares(A, data[\"beta\"], data[\"dbeta\"])\n",
    "res"
   ]
  },
  {
   "cell_type": "code",
   "execution_count": 7,
   "metadata": {
    "colab": {
     "base_uri": "https://localhost:8080/"
    },
    "executionInfo": {
     "elapsed": 50,
     "status": "ok",
     "timestamp": 1699553949785,
     "user": {
      "displayName": "Diego Ravignani Guerrero",
      "userId": "10540030550289703153"
     },
     "user_tz": 180
    },
    "id": "o03WvY_Y6c_e",
    "outputId": "66bf3a24-615b-4bbf-d8b4-30f8e808e907",
    "scrolled": true
   },
   "outputs": [
    {
     "name": "stdout",
     "output_type": "stream",
     "text": [
      "Estimadores: [ 1.89354509  1.18353602 -0.8253585 ]\n"
     ]
    }
   ],
   "source": [
    "estimadores = res['est']\n",
    "print(f'Estimadores: {estimadores}')"
   ]
  },
  {
   "cell_type": "code",
   "execution_count": 8,
   "metadata": {
    "colab": {
     "base_uri": "https://localhost:8080/"
    },
    "executionInfo": {
     "elapsed": 47,
     "status": "ok",
     "timestamp": 1699553949785,
     "user": {
      "displayName": "Diego Ravignani Guerrero",
      "userId": "10540030550289703153"
     },
     "user_tz": 180
    },
    "id": "zKyveJ9i6c_e",
    "outputId": "6508e6b2-8d18-413d-d706-afdc4b15ae1f"
   },
   "outputs": [
    {
     "name": "stdout",
     "output_type": "stream",
     "text": [
      "Errores: [0.55782534 0.96657847 0.41649271]\n"
     ]
    }
   ],
   "source": [
    "errores = res['errors']\n",
    "print(f'Errores: {errores}')"
   ]
  },
  {
   "cell_type": "code",
   "execution_count": 9,
   "metadata": {
    "colab": {
     "base_uri": "https://localhost:8080/"
    },
    "executionInfo": {
     "elapsed": 42,
     "status": "ok",
     "timestamp": 1699553949785,
     "user": {
      "displayName": "Diego Ravignani Guerrero",
      "userId": "10540030550289703153"
     },
     "user_tz": 180
    },
    "id": "GCikJl146c_e",
    "outputId": "7badbbec-c1b1-49da-edd6-39958a6951aa"
   },
   "outputs": [
    {
     "name": "stdout",
     "output_type": "stream",
     "text": [
      "Covarianza parámetros: [[ 0.31116911 -0.53872862  0.23152104]\n",
      " [-0.53872862  0.93427394 -0.4022051 ]\n",
      " [ 0.23152104 -0.4022051   0.17346618]]\n"
     ]
    }
   ],
   "source": [
    "cova = res['cova']\n",
    "print(f'Covarianza parámetros: {cova}')"
   ]
  },
  {
   "cell_type": "code",
   "execution_count": 10,
   "metadata": {
    "colab": {
     "base_uri": "https://localhost:8080/"
    },
    "executionInfo": {
     "elapsed": 41,
     "status": "ok",
     "timestamp": 1699553949786,
     "user": {
      "displayName": "Diego Ravignani Guerrero",
      "userId": "10540030550289703153"
     },
     "user_tz": 180
    },
    "id": "tbZAIVqZ6c_e",
    "outputId": "d20f49d1-7964-494d-b08d-6f072fefedab"
   },
   "outputs": [
    {
     "name": "stdout",
     "output_type": "stream",
     "text": [
      "Correlación parámetros: [[ 1.         -0.9991592   0.99651722]\n",
      " [-0.9991592   1.         -0.99908639]\n",
      " [ 0.99651722 -0.99908639  1.        ]]\n"
     ]
    }
   ],
   "source": [
    "corr = res['corr']\n",
    "print(f'Correlación parámetros: {corr}')"
   ]
  },
  {
   "cell_type": "markdown",
   "metadata": {
    "id": "owZUDZ-_6c_e"
   },
   "source": [
    "### Graficar"
   ]
  },
  {
   "cell_type": "code",
   "execution_count": 12,
   "metadata": {
    "executionInfo": {
     "elapsed": 36,
     "status": "ok",
     "timestamp": 1699553949786,
     "user": {
      "displayName": "Diego Ravignani Guerrero",
      "userId": "10540030550289703153"
     },
     "user_tz": 180
    },
    "id": "TQ_PQCC06c_e",
    "scrolled": true
   },
   "outputs": [],
   "source": [
    "xmin=1\n",
    "xmax=1.35\n",
    "x = np.linspace( xmin, xmax, 100)\n",
    "A1 = model_matrix(x)\n",
    "mu_est = A1 @ estimadores\n",
    "sigma_mu_est = sda.fit_errors(A1, cova)"
   ]
  },
  {
   "cell_type": "code",
   "execution_count": 13,
   "metadata": {
    "colab": {
     "base_uri": "https://localhost:8080/",
     "height": 449
    },
    "executionInfo": {
     "elapsed": 35,
     "status": "ok",
     "timestamp": 1699553949787,
     "user": {
      "displayName": "Diego Ravignani Guerrero",
      "userId": "10540030550289703153"
     },
     "user_tz": 180
    },
    "id": "UNRf3-CI6c_e",
    "outputId": "f0efe00c-54ad-4c5d-e87a-ede16965aba5"
   },
   "outputs": [
    {
     "ename": "NameError",
     "evalue": "name 'xdata' is not defined",
     "output_type": "error",
     "traceback": [
      "\u001b[0;31m---------------------------------------------------------------------------\u001b[0m",
      "\u001b[0;31mNameError\u001b[0m                                 Traceback (most recent call last)",
      "Cell \u001b[0;32mIn[13], line 4\u001b[0m\n\u001b[1;32m      2\u001b[0m ax\u001b[38;5;241m.\u001b[39mset_xlabel(\u001b[38;5;124m'\u001b[39m\u001b[38;5;124mx\u001b[39m\u001b[38;5;124m'\u001b[39m)\n\u001b[1;32m      3\u001b[0m ax\u001b[38;5;241m.\u001b[39mset_ylabel(\u001b[38;5;124m'\u001b[39m\u001b[38;5;124my\u001b[39m\u001b[38;5;124m'\u001b[39m)\n\u001b[0;32m----> 4\u001b[0m ax\u001b[38;5;241m.\u001b[39merrorbar(\u001b[43mxdata\u001b[49m, ydata, ysigma, ls\u001b[38;5;241m=\u001b[39m\u001b[38;5;124m'\u001b[39m\u001b[38;5;124mnone\u001b[39m\u001b[38;5;124m'\u001b[39m, marker\u001b[38;5;241m=\u001b[39m\u001b[38;5;124m'\u001b[39m\u001b[38;5;124mo\u001b[39m\u001b[38;5;124m'\u001b[39m, label\u001b[38;5;241m=\u001b[39m\u001b[38;5;124m'\u001b[39m\u001b[38;5;124mDatos\u001b[39m\u001b[38;5;124m'\u001b[39m)\n\u001b[1;32m      5\u001b[0m ax\u001b[38;5;241m.\u001b[39mplot(x, mu_est, ls\u001b[38;5;241m=\u001b[39m\u001b[38;5;124m'\u001b[39m\u001b[38;5;124m--\u001b[39m\u001b[38;5;124m'\u001b[39m, label\u001b[38;5;241m=\u001b[39m\u001b[38;5;124m'\u001b[39m\u001b[38;5;124mAjuste\u001b[39m\u001b[38;5;124m'\u001b[39m)\n\u001b[1;32m      6\u001b[0m ax\u001b[38;5;241m.\u001b[39mfill_between(x, mu_est\u001b[38;5;241m-\u001b[39msigma_mu_est, mu_est\u001b[38;5;241m+\u001b[39msigma_mu_est, color\u001b[38;5;241m=\u001b[39m\u001b[38;5;124m'\u001b[39m\u001b[38;5;124mtab:orange\u001b[39m\u001b[38;5;124m'\u001b[39m, alpha\u001b[38;5;241m=\u001b[39m\u001b[38;5;241m0.2\u001b[39m)\n",
      "\u001b[0;31mNameError\u001b[0m: name 'xdata' is not defined"
     ]
    },
    {
     "data": {
      "image/png": "[encoded data removed]",
      "text/plain": [
       "<Figure size 480x360 with 1 Axes>"
      ]
     },
     "metadata": {},
     "output_type": "display_data"
    }
   ],
   "source": [
    "fig, ax = plt.subplots()\n",
    "ax.set_xlabel('x')\n",
    "ax.set_ylabel('y')\n",
    "ax.errorbar(data[\"x\"], data[\"beta\"], data[\"dbeta\"],ls='none', marker='o', label=\"Datos\")\n",
    "ax.plot(x, mu_est, ls='--', label='Ajuste')\n",
    "ax.fill_between(x, mu_est-sigma_mu_est, mu_est+sigma_mu_est, color='tab:orange', alpha=0.2)\n",
    "ax.legend()\n",
    "plt.show()"
   ]
  },
  {
   "cell_type": "code",
   "execution_count": null,
   "metadata": {},
   "outputs": [],
   "source": []
  }
 ],
 "metadata": {
  "colab": {
   "provenance": []
  },
  "kernelspec": {
   "display_name": "Python 3 (ipykernel)",
   "language": "python",
   "name": "python3"
  },
  "language_info": {
   "codemirror_mode": {
    "name": "ipython",
    "version": 3
   },
   "file_extension": ".py",
   "mimetype": "text/x-python",
   "name": "python",
   "nbconvert_exporter": "python",
   "pygments_lexer": "ipython3",
   "version": "3.10.12"
  }
 },
 "nbformat": 4,
 "nbformat_minor": 1
}
