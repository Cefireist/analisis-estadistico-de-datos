{
 "cells": [
  {
   "cell_type": "markdown",
   "metadata": {
    "id": "wPgbGnCm7dLY"
   },
   "source": [
    "# Test del efecto hipnótico de la hiosciamina"
   ]
  },
  {
   "cell_type": "markdown",
   "metadata": {},
   "source": [
    "## Test de Student de una muestra"
   ]
  },
  {
   "cell_type": "markdown",
   "metadata": {
    "id": "vNGqiJYg7dLb"
   },
   "source": [
    "The probable error of a mean, Student, Biometrika volumen 6, issue 1, (1908), section IX, pág. 20."
   ]
  },
  {
   "cell_type": "code",
   "execution_count": 1,
   "metadata": {
    "executionInfo": {
     "elapsed": 1918,
     "status": "ok",
     "timestamp": 1698339209627,
     "user": {
      "displayName": "Diego Ravignani Guerrero",
      "userId": "10540030550289703153"
     },
     "user_tz": 180
    },
    "id": "CksT_ndY7dLb"
   },
   "outputs": [],
   "source": [
    "import math\n",
    "import numpy as np\n",
    "import matplotlib.pyplot as plt\n",
    "import pandas as pd\n",
    "import scipy.stats"
   ]
  },
  {
   "cell_type": "markdown",
   "metadata": {
    "id": "h7PhdtEG7dLc"
   },
   "source": [
    "## Datos"
   ]
  },
  {
   "cell_type": "code",
   "execution_count": 2,
   "metadata": {
    "colab": {
     "base_uri": "https://localhost:8080/",
     "height": 363
    },
    "executionInfo": {
     "elapsed": 27,
     "status": "ok",
     "timestamp": 1698339238872,
     "user": {
      "displayName": "Diego Ravignani Guerrero",
      "userId": "10540030550289703153"
     },
     "user_tz": 180
    },
    "id": "rNS7bO6S7dLc",
    "outputId": "457bdda4-c050-4d65-8dd7-681a04080cc6"
   },
   "outputs": [
    {
     "data": {
      "text/html": [
       "<div>\n",
       "<style scoped>\n",
       "    .dataframe tbody tr th:only-of-type {\n",
       "        vertical-align: middle;\n",
       "    }\n",
       "\n",
       "    .dataframe tbody tr th {\n",
       "        vertical-align: top;\n",
       "    }\n",
       "\n",
       "    .dataframe thead th {\n",
       "        text-align: right;\n",
       "    }\n",
       "</style>\n",
       "<table border=\"1\" class=\"dataframe\">\n",
       "  <thead>\n",
       "    <tr style=\"text-align: right;\">\n",
       "      <th></th>\n",
       "      <th>Dextro</th>\n",
       "      <th>Levo</th>\n",
       "    </tr>\n",
       "  </thead>\n",
       "  <tbody>\n",
       "    <tr>\n",
       "      <th>0</th>\n",
       "      <td>0.7</td>\n",
       "      <td>1.9</td>\n",
       "    </tr>\n",
       "    <tr>\n",
       "      <th>1</th>\n",
       "      <td>-1.6</td>\n",
       "      <td>0.8</td>\n",
       "    </tr>\n",
       "    <tr>\n",
       "      <th>2</th>\n",
       "      <td>-0.2</td>\n",
       "      <td>1.1</td>\n",
       "    </tr>\n",
       "    <tr>\n",
       "      <th>3</th>\n",
       "      <td>-1.2</td>\n",
       "      <td>0.1</td>\n",
       "    </tr>\n",
       "    <tr>\n",
       "      <th>4</th>\n",
       "      <td>-0.1</td>\n",
       "      <td>-0.1</td>\n",
       "    </tr>\n",
       "    <tr>\n",
       "      <th>5</th>\n",
       "      <td>3.4</td>\n",
       "      <td>4.4</td>\n",
       "    </tr>\n",
       "    <tr>\n",
       "      <th>6</th>\n",
       "      <td>3.7</td>\n",
       "      <td>5.5</td>\n",
       "    </tr>\n",
       "    <tr>\n",
       "      <th>7</th>\n",
       "      <td>0.8</td>\n",
       "      <td>1.6</td>\n",
       "    </tr>\n",
       "    <tr>\n",
       "      <th>8</th>\n",
       "      <td>0.0</td>\n",
       "      <td>4.6</td>\n",
       "    </tr>\n",
       "    <tr>\n",
       "      <th>9</th>\n",
       "      <td>2.0</td>\n",
       "      <td>3.4</td>\n",
       "    </tr>\n",
       "  </tbody>\n",
       "</table>\n",
       "</div>"
      ],
      "text/plain": [
       "   Dextro  Levo\n",
       "0     0.7   1.9\n",
       "1    -1.6   0.8\n",
       "2    -0.2   1.1\n",
       "3    -1.2   0.1\n",
       "4    -0.1  -0.1\n",
       "5     3.4   4.4\n",
       "6     3.7   5.5\n",
       "7     0.8   1.6\n",
       "8     0.0   4.6\n",
       "9     2.0   3.4"
      ]
     },
     "execution_count": 2,
     "metadata": {},
     "output_type": "execute_result"
    }
   ],
   "source": [
    "scyamine_data = pd.read_csv(\"test_student.csv\")\n",
    "scyamine_data"
   ]
  },
  {
   "cell_type": "markdown",
   "metadata": {
    "id": "_fMJRWPe7dLc"
   },
   "source": [
    "Pandas dataframe boxplot (https://pandas.pydata.org/docs/reference/api/pandas.DataFrame.boxplot.html)"
   ]
  },
  {
   "cell_type": "code",
   "execution_count": 3,
   "metadata": {
    "colab": {
     "base_uri": "https://localhost:8080/",
     "height": 609
    },
    "executionInfo": {
     "elapsed": 1354,
     "status": "ok",
     "timestamp": 1698339240203,
     "user": {
      "displayName": "Diego Ravignani Guerrero",
      "userId": "10540030550289703153"
     },
     "user_tz": 180
    },
    "id": "xWuGlIeP7dLc",
    "outputId": "60a5b55e-fc49-4051-9a4e-459d0757becb",
    "scrolled": true
   },
   "outputs": [
    {
     "data": {
      "image/png": "[encoded data removed]",
      "text/plain": [
       "<Figure size 480x360 with 1 Axes>"
      ]
     },
     "metadata": {},
     "output_type": "display_data"
    }
   ],
   "source": [
    "scyamine_data.plot(kind='box')\n",
    "plt.ylabel(ylabel=\"Horas ganadas\")\n",
    "plt.show()"
   ]
  },
  {
   "cell_type": "markdown",
   "metadata": {
    "id": "h7OOKNyb7dLc"
   },
   "source": [
    "## Estadístico t de Student"
   ]
  },
  {
   "cell_type": "markdown",
   "metadata": {
    "id": "sJSNn92z7dLd"
   },
   "source": [
    "Media muestral"
   ]
  },
  {
   "cell_type": "code",
   "execution_count": 4,
   "metadata": {
    "colab": {
     "base_uri": "https://localhost:8080/"
    },
    "executionInfo": {
     "elapsed": 59,
     "status": "ok",
     "timestamp": 1698339240206,
     "user": {
      "displayName": "Diego Ravignani Guerrero",
      "userId": "10540030550289703153"
     },
     "user_tz": 180
    },
    "id": "MSR_Cd5b7dLd",
    "outputId": "ac37b825-1ff2-49fa-801d-48b21a1e44f9"
   },
   "outputs": [
    {
     "data": {
      "text/plain": [
       "Dextro    0.75\n",
       "Levo      2.33\n",
       "dtype: float64"
      ]
     },
     "execution_count": 4,
     "metadata": {},
     "output_type": "execute_result"
    }
   ],
   "source": [
    "sample_mean = scyamine_data.mean()\n",
    "sample_mean"
   ]
  },
  {
   "cell_type": "markdown",
   "metadata": {
    "id": "1s43Bjat7dLd"
   },
   "source": [
    "Desviación estándar muestral - *pandas aplica la corrección de Bessel por defecto!*"
   ]
  },
  {
   "cell_type": "code",
   "execution_count": 5,
   "metadata": {
    "colab": {
     "base_uri": "https://localhost:8080/"
    },
    "executionInfo": {
     "elapsed": 53,
     "status": "ok",
     "timestamp": 1698339240206,
     "user": {
      "displayName": "Diego Ravignani Guerrero",
      "userId": "10540030550289703153"
     },
     "user_tz": 180
    },
    "id": "QxjvSWpk7dLd",
    "outputId": "52a201c3-7b06-4f0e-f200-487581d8cdcc",
    "scrolled": false
   },
   "outputs": [
    {
     "data": {
      "text/plain": [
       "Dextro    1.789010\n",
       "Levo      2.002249\n",
       "dtype: float64"
      ]
     },
     "execution_count": 5,
     "metadata": {},
     "output_type": "execute_result"
    }
   ],
   "source": [
    "sample_dev = scyamine_data.std(ddof=1)\n",
    "sample_dev"
   ]
  },
  {
   "cell_type": "markdown",
   "metadata": {
    "id": "uJ_LJUzw7dLd"
   },
   "source": [
    "Desviación estándar de la media muestral"
   ]
  },
  {
   "cell_type": "code",
   "execution_count": 6,
   "metadata": {
    "colab": {
     "base_uri": "https://localhost:8080/"
    },
    "executionInfo": {
     "elapsed": 49,
     "status": "ok",
     "timestamp": 1698339240206,
     "user": {
      "displayName": "Diego Ravignani Guerrero",
      "userId": "10540030550289703153"
     },
     "user_tz": 180
    },
    "id": "zFhVTzNi7dLd",
    "outputId": "a15967c8-adab-4f8e-f351-287a8656b967"
   },
   "outputs": [
    {
     "data": {
      "text/plain": [
       "10"
      ]
     },
     "execution_count": 6,
     "metadata": {},
     "output_type": "execute_result"
    }
   ],
   "source": [
    "ndata = len(scyamine_data.index)\n",
    "ndata"
   ]
  },
  {
   "cell_type": "code",
   "execution_count": 7,
   "metadata": {
    "colab": {
     "base_uri": "https://localhost:8080/"
    },
    "executionInfo": {
     "elapsed": 43,
     "status": "ok",
     "timestamp": 1698339240207,
     "user": {
      "displayName": "Diego Ravignani Guerrero",
      "userId": "10540030550289703153"
     },
     "user_tz": 180
    },
    "id": "Ksb5jshB7dLd",
    "outputId": "0a39ba6c-449b-4652-f3ab-5a00c5a65aa6"
   },
   "outputs": [
    {
     "data": {
      "text/plain": [
       "Dextro    0.565735\n",
       "Levo      0.633167\n",
       "dtype: float64"
      ]
     },
     "execution_count": 7,
     "metadata": {},
     "output_type": "execute_result"
    }
   ],
   "source": [
    "mean_dev = sample_dev / math.sqrt(ndata)\n",
    "mean_dev"
   ]
  },
  {
   "cell_type": "markdown",
   "metadata": {
    "id": "ZTAxwFAH7dLd"
   },
   "source": [
    "Número de grados de libertad"
   ]
  },
  {
   "cell_type": "code",
   "execution_count": 8,
   "metadata": {
    "colab": {
     "base_uri": "https://localhost:8080/"
    },
    "executionInfo": {
     "elapsed": 40,
     "status": "ok",
     "timestamp": 1698339240208,
     "user": {
      "displayName": "Diego Ravignani Guerrero",
      "userId": "10540030550289703153"
     },
     "user_tz": 180
    },
    "id": "47iEMLvd7dLe",
    "outputId": "21d3e178-0ef2-4b57-96da-6c2d1ec146d7"
   },
   "outputs": [
    {
     "data": {
      "text/plain": [
       "9"
      ]
     },
     "execution_count": 8,
     "metadata": {},
     "output_type": "execute_result"
    }
   ],
   "source": [
    "ndof = ndata - 1\n",
    "ndof"
   ]
  },
  {
   "cell_type": "markdown",
   "metadata": {
    "id": "9g5eev4M7dLe"
   },
   "source": [
    "Estadística t de Studen: $t = \\frac{\\bar{x}}{s/\\sqrt{n}}$, toma $\\mu = 0$ como hipótesis nula"
   ]
  },
  {
   "cell_type": "code",
   "execution_count": 9,
   "metadata": {
    "colab": {
     "base_uri": "https://localhost:8080/"
    },
    "executionInfo": {
     "elapsed": 35,
     "status": "ok",
     "timestamp": 1698339240208,
     "user": {
      "displayName": "Diego Ravignani Guerrero",
      "userId": "10540030550289703153"
     },
     "user_tz": 180
    },
    "id": "NS-Go2eu7dLe",
    "outputId": "bce6e456-2876-43a9-c599-ebf907653193"
   },
   "outputs": [
    {
     "data": {
      "text/plain": [
       "Dextro    1.325710\n",
       "Levo      3.679916\n",
       "dtype: float64"
      ]
     },
     "execution_count": 9,
     "metadata": {},
     "output_type": "execute_result"
    }
   ],
   "source": [
    "t_statistic = sample_mean / mean_dev\n",
    "t_statistic"
   ]
  },
  {
   "cell_type": "markdown",
   "metadata": {},
   "source": [
    "## Pvalor"
   ]
  },
  {
   "cell_type": "code",
   "execution_count": 15,
   "metadata": {
    "colab": {
     "base_uri": "https://localhost:8080/"
    },
    "executionInfo": {
     "elapsed": 31,
     "status": "ok",
     "timestamp": 1698339240208,
     "user": {
      "displayName": "Diego Ravignani Guerrero",
      "userId": "10540030550289703153"
     },
     "user_tz": 180
    },
    "id": "Ojb4H5p37dLe",
    "outputId": "22fa0d72-39b7-434f-9058-8a569256c6cb"
   },
   "outputs": [
    {
     "name": "stdout",
     "output_type": "stream",
     "text": [
      "Pvalue scyamine dextro: 10.88%\n",
      "Pvalue scyamine levo: 0.25%\n"
     ]
    }
   ],
   "source": [
    "pvalue = scipy.stats.t.sf(t_statistic, df=ndof)\n",
    "print(f\"Pvalue scyamine dextro: {pvalue[0]*100:.2f}%\")\n",
    "print(f\"Pvalue scyamine levo: {pvalue[1]*100:.2f}%\")"
   ]
  },
  {
   "cell_type": "markdown",
   "metadata": {
    "id": "k9hrZH2B7dLe"
   },
   "source": [
    "### **Figura**"
   ]
  },
  {
   "cell_type": "code",
   "execution_count": 16,
   "metadata": {
    "colab": {
     "base_uri": "https://localhost:8080/",
     "height": 603
    },
    "executionInfo": {
     "elapsed": 26,
     "status": "ok",
     "timestamp": 1698339240208,
     "user": {
      "displayName": "Diego Ravignani Guerrero",
      "userId": "10540030550289703153"
     },
     "user_tz": 180
    },
    "id": "l5AAppcB7dLe",
    "outputId": "a5137feb-a177-4287-d2dc-edea03a1aafb"
   },
   "outputs": [
    {
     "data": {
      "image/png": "[encoded data removed]",
      "text/plain": [
       "<Figure size 480x360 with 1 Axes>"
      ]
     },
     "metadata": {},
     "output_type": "display_data"
    }
   ],
   "source": [
    "fig2, ax2 = plt.subplots()\n",
    "ax2.set_ylabel('f(t)')\n",
    "x = np.linspace(-5,5,1000)\n",
    "ax2.plot(x, scipy.stats.t.pdf(x, ndof), ls='--', color='tab:grey', label='Student')\n",
    "ax2.axvline(t_statistic[0], color='tab:blue', label=\"Dextro\")\n",
    "ax2.axvline(t_statistic[1], color='tab:green', label=\"Levo\")\n",
    "ax2.legend()\n",
    "plt.show()"
   ]
  },
  {
   "cell_type": "markdown",
   "metadata": {},
   "source": [
    "## Test de Student de una muestra con scipy"
   ]
  },
  {
   "cell_type": "code",
   "execution_count": 13,
   "metadata": {},
   "outputs": [
    {
     "name": "stdout",
     "output_type": "stream",
     "text": [
      "           t_obs    pvalue\n",
      "Dextro  1.325710  0.217598\n",
      "Levo    3.679916  0.005076\n"
     ]
    }
   ],
   "source": [
    "t_obs, pvalue = scipy.stats.ttest_1samp(a=scyamine_data[[\"Dextro\", \"Levo\"]], popmean=0)\n",
    "results = pd.DataFrame({\"t_obs\": t_obs, \"pvalue\": pvalue}, index=(\"Dextro\",\"Levo\"))\n",
    "print(results)"
   ]
  }
 ],
 "metadata": {
  "colab": {
   "provenance": []
  },
  "kernelspec": {
   "display_name": "Python 3 (ipykernel)",
   "language": "python",
   "name": "python3"
  },
  "language_info": {
   "codemirror_mode": {
    "name": "ipython",
    "version": 3
   },
   "file_extension": ".py",
   "mimetype": "text/x-python",
   "name": "python",
   "nbconvert_exporter": "python",
   "pygments_lexer": "ipython3",
   "version": "3.10.12"
  }
 },
 "nbformat": 4,
 "nbformat_minor": 1
}
