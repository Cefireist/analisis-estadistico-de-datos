{
 "cells": [
  {
   "cell_type": "markdown",
   "metadata": {
    "id": "WQVmvPoRtCv5"
   },
   "source": [
    "# Edad de los ladrones de guante blanco"
   ]
  },
  {
   "cell_type": "markdown",
   "metadata": {
    "id": "vZullcrRw9fi"
   },
   "source": [
    "Fuente: Statistics in Criminal Justice, David Weisburd, Chester Britt, https://doi.org/10.1007/978-1-4614-9170-5"
   ]
  },
  {
   "cell_type": "markdown",
   "metadata": {
    "id": "ajVF4068t9Hu"
   },
   "source": [
    "**Hipótesis nula**: La edad media de los tres delitos es igual"
   ]
  },
  {
   "cell_type": "code",
   "execution_count": 1,
   "metadata": {
    "id": "tVFnFkJ6SYZQ"
   },
   "outputs": [],
   "source": [
    "import numpy as np\n",
    "import pandas as pd\n",
    "import matplotlib.pyplot as plt\n",
    "import scipy.stats"
   ]
  },
  {
   "cell_type": "markdown",
   "metadata": {},
   "source": [
    "## Datos"
   ]
  },
  {
   "cell_type": "markdown",
   "metadata": {
    "id": "K15TuhXHXfIg"
   },
   "source": [
    "Edades por delito"
   ]
  },
  {
   "cell_type": "code",
   "execution_count": 2,
   "metadata": {
    "colab": {
     "base_uri": "https://localhost:8080/"
    },
    "id": "FxPF4edVWx3-",
    "outputId": "2a0ed12a-b1ef-4261-8e3f-ee5b65aa6c56",
    "scrolled": true
   },
   "outputs": [
    {
     "name": "stdout",
     "output_type": "stream",
     "text": [
      "         Malversación  Soborno  Monopolio\n",
      "Persona                                  \n",
      "1                  19       28         35\n",
      "2                  21       29         46\n",
      "3                  23       32         48\n",
      "4                  25       40         53\n",
      "5                  29       42         58\n",
      "6                  30       48         61\n",
      "7                  31       58         62\n",
      "8                  35       58         62\n",
      "9                  42       64         62\n",
      "10                 49       68         75\n"
     ]
    }
   ],
   "source": [
    "guante_blanco = pd.read_csv(\"guante_blanco.csv\", index_col=0)\n",
    "print(guante_blanco)"
   ]
  },
  {
   "cell_type": "code",
   "execution_count": 3,
   "metadata": {
    "id": "u8pYpW46exkW"
   },
   "outputs": [
    {
     "data": {
      "text/plain": [
       "30"
      ]
     },
     "execution_count": 3,
     "metadata": {},
     "output_type": "execute_result"
    }
   ],
   "source": [
    "sample_size = guante_blanco.size\n",
    "sample_size"
   ]
  },
  {
   "cell_type": "code",
   "execution_count": 4,
   "metadata": {},
   "outputs": [
    {
     "data": {
      "text/plain": [
       "10"
      ]
     },
     "execution_count": 4,
     "metadata": {},
     "output_type": "execute_result"
    }
   ],
   "source": [
    "group_size = len(guante_blanco.index)\n",
    "group_size"
   ]
  },
  {
   "cell_type": "code",
   "execution_count": 5,
   "metadata": {},
   "outputs": [
    {
     "data": {
      "text/plain": [
       "3"
      ]
     },
     "execution_count": 5,
     "metadata": {},
     "output_type": "execute_result"
    }
   ],
   "source": [
    "number_of_groups = len(guante_blanco.columns)\n",
    "number_of_groups"
   ]
  },
  {
   "cell_type": "code",
   "execution_count": 6,
   "metadata": {},
   "outputs": [
    {
     "data": {
      "text/html": [
       "<div>\n",
       "<style scoped>\n",
       "    .dataframe tbody tr th:only-of-type {\n",
       "        vertical-align: middle;\n",
       "    }\n",
       "\n",
       "    .dataframe tbody tr th {\n",
       "        vertical-align: top;\n",
       "    }\n",
       "\n",
       "    .dataframe thead th {\n",
       "        text-align: right;\n",
       "    }\n",
       "</style>\n",
       "<table border=\"1\" class=\"dataframe\">\n",
       "  <thead>\n",
       "    <tr style=\"text-align: right;\">\n",
       "      <th></th>\n",
       "      <th>Malversación</th>\n",
       "      <th>Soborno</th>\n",
       "      <th>Monopolio</th>\n",
       "    </tr>\n",
       "  </thead>\n",
       "  <tbody>\n",
       "    <tr>\n",
       "      <th>count</th>\n",
       "      <td>10.000000</td>\n",
       "      <td>10.000000</td>\n",
       "      <td>10.000000</td>\n",
       "    </tr>\n",
       "    <tr>\n",
       "      <th>mean</th>\n",
       "      <td>30.400000</td>\n",
       "      <td>46.700000</td>\n",
       "      <td>56.200000</td>\n",
       "    </tr>\n",
       "    <tr>\n",
       "      <th>std</th>\n",
       "      <td>9.465728</td>\n",
       "      <td>14.742606</td>\n",
       "      <td>11.113555</td>\n",
       "    </tr>\n",
       "    <tr>\n",
       "      <th>min</th>\n",
       "      <td>19.000000</td>\n",
       "      <td>28.000000</td>\n",
       "      <td>35.000000</td>\n",
       "    </tr>\n",
       "    <tr>\n",
       "      <th>25%</th>\n",
       "      <td>23.500000</td>\n",
       "      <td>34.000000</td>\n",
       "      <td>49.250000</td>\n",
       "    </tr>\n",
       "    <tr>\n",
       "      <th>50%</th>\n",
       "      <td>29.500000</td>\n",
       "      <td>45.000000</td>\n",
       "      <td>59.500000</td>\n",
       "    </tr>\n",
       "    <tr>\n",
       "      <th>75%</th>\n",
       "      <td>34.000000</td>\n",
       "      <td>58.000000</td>\n",
       "      <td>62.000000</td>\n",
       "    </tr>\n",
       "    <tr>\n",
       "      <th>max</th>\n",
       "      <td>49.000000</td>\n",
       "      <td>68.000000</td>\n",
       "      <td>75.000000</td>\n",
       "    </tr>\n",
       "  </tbody>\n",
       "</table>\n",
       "</div>"
      ],
      "text/plain": [
       "       Malversación    Soborno  Monopolio\n",
       "count     10.000000  10.000000  10.000000\n",
       "mean      30.400000  46.700000  56.200000\n",
       "std        9.465728  14.742606  11.113555\n",
       "min       19.000000  28.000000  35.000000\n",
       "25%       23.500000  34.000000  49.250000\n",
       "50%       29.500000  45.000000  59.500000\n",
       "75%       34.000000  58.000000  62.000000\n",
       "max       49.000000  68.000000  75.000000"
      ]
     },
     "execution_count": 6,
     "metadata": {},
     "output_type": "execute_result"
    }
   ],
   "source": [
    "guante_blanco.describe()"
   ]
  },
  {
   "cell_type": "code",
   "execution_count": 7,
   "metadata": {},
   "outputs": [
    {
     "data": {
      "text/plain": [
       "<ErrorbarContainer object of 3 artists>"
      ]
     },
     "execution_count": 7,
     "metadata": {},
     "output_type": "execute_result"
    },
    {
     "data": {
      "image/png": "[encoded data removed]",
      "text/plain": [
       "<Figure size 480x360 with 1 Axes>"
      ]
     },
     "metadata": {},
     "output_type": "display_data"
    }
   ],
   "source": [
    "fig1, ax1 = plt.subplots()\n",
    "ax1.set_xlabel(\"Delito\")\n",
    "ax1.set_ylabel(\"Edad\")\n",
    "ax1.errorbar(x=guante_blanco.columns, y=guante_blanco.mean(), yerr=guante_blanco.std(), ls='', marker='o')"
   ]
  },
  {
   "cell_type": "markdown",
   "metadata": {
    "id": "hNLQjFekoG11"
   },
   "source": [
    "## Estadístico F crítico"
   ]
  },
  {
   "cell_type": "code",
   "execution_count": 8,
   "metadata": {
    "colab": {
     "base_uri": "https://localhost:8080/"
    },
    "id": "cuoZ_QUln_JH",
    "outputId": "16f739d6-9b83-490e-c1dd-d721cf027b83",
    "scrolled": true
   },
   "outputs": [
    {
     "data": {
      "text/plain": [
       "3.3541308285291986"
      ]
     },
     "execution_count": 8,
     "metadata": {},
     "output_type": "execute_result"
    }
   ],
   "source": [
    "significance = 0.05\n",
    "ndof_between = number_of_groups - 1\n",
    "ndof_within = sample_size - number_of_groups\n",
    "F_distribution = scipy.stats.f(ndof_between, ndof_within)\n",
    "F_critical = F_distribution.isf(significance)\n",
    "F_critical"
   ]
  },
  {
   "cell_type": "markdown",
   "metadata": {
    "id": "TpU3NAuIj688"
   },
   "source": [
    "## Estadístico F observado"
   ]
  },
  {
   "cell_type": "markdown",
   "metadata": {},
   "source": [
    "*Nota*: Las varianzas muestrales usan el denominador n-1 (corrección de Bessel)"
   ]
  },
  {
   "cell_type": "code",
   "execution_count": 9,
   "metadata": {
    "colab": {
     "base_uri": "https://localhost:8080/"
    },
    "id": "ZxJ8ZhEyiWLy",
    "outputId": "50b82245-9583-427e-d366-385877f0c2a9"
   },
   "outputs": [
    {
     "data": {
      "text/plain": [
       "11.866265713326968"
      ]
     },
     "execution_count": 9,
     "metadata": {},
     "output_type": "execute_result"
    }
   ],
   "source": [
    "age_mean = guante_blanco.mean()\n",
    "square_sum_between = group_size * (number_of_groups-1) * age_mean.var()\n",
    "group_var = guante_blanco.var()\n",
    "square_sum_within = (group_size-1) * group_var.sum()\n",
    "F_observed = ( square_sum_between / ndof_between ) / (square_sum_within / ndof_within)\n",
    "F_observed"
   ]
  },
  {
   "cell_type": "markdown",
   "metadata": {
    "id": "Mjq5fdXIzi3R"
   },
   "source": [
    "## Test de Fisher con scipy"
   ]
  },
  {
   "cell_type": "code",
   "execution_count": 10,
   "metadata": {},
   "outputs": [
    {
     "name": "stdout",
     "output_type": "stream",
     "text": [
      "[19 21 23 25 29 30 31 35 42 49] [28 29 32 40 42 48 58 58 64 68] [35 46 48 53 58 61 62 62 62 75]\n"
     ]
    }
   ],
   "source": [
    "print(*guante_blanco.values.T)"
   ]
  },
  {
   "cell_type": "code",
   "execution_count": 11,
   "metadata": {
    "colab": {
     "base_uri": "https://localhost:8080/"
    },
    "id": "Lhcp-dMizrES",
    "outputId": "e000a51b-667c-4b83-a241-cd07ef44e1f1"
   },
   "outputs": [
    {
     "name": "stdout",
     "output_type": "stream",
     "text": [
      "F observado = 11.866265713326964\n",
      "Pvalor = 0.0002004668746959287\n"
     ]
    }
   ],
   "source": [
    "F_observed, pvalue = scipy.stats.f_oneway(*guante_blanco.values.T)\n",
    "print(f\"F observado = {F_observed}\")\n",
    "print(f\"Pvalor = {pvalue}\")"
   ]
  },
  {
   "cell_type": "markdown",
   "metadata": {
    "id": "X0p4mlD2sNqu"
   },
   "source": [
    "Test de cola superior: rechazamos la hipótesis nula con una significancia de 0.05 (nivel de confianza 95%) porque el estadístico F observado es mayor al crítico. Esta condición es equivalente a que el pvalor observado sea menor a la significancia del test.\n",
    "La región crítica corresponde a una varianza entre grupos mayor a la variancia dentro de los grupos."
   ]
  },
  {
   "cell_type": "markdown",
   "metadata": {},
   "source": [
    "## Plot"
   ]
  },
  {
   "cell_type": "code",
   "execution_count": 12,
   "metadata": {
    "colab": {
     "base_uri": "https://localhost:8080/",
     "height": 466
    },
    "id": "wC7JVruSmOt4",
    "outputId": "355e5e8d-28ef-4337-b9af-d59f5e4f3eb7"
   },
   "outputs": [
    {
     "data": {
      "text/plain": [
       "Text(11.866265713326964, 0.5, ' $F_{observado}$')"
      ]
     },
     "execution_count": 12,
     "metadata": {},
     "output_type": "execute_result"
    },
    {
     "data": {
      "image/png": "[encoded data removed]",
      "text/plain": [
       "<Figure size 480x360 with 1 Axes>"
      ]
     },
     "metadata": {},
     "output_type": "display_data"
    }
   ],
   "source": [
    "fig2, ax2 = plt.subplots()\n",
    "ax2.set_xlabel(\"Estadístico F\")\n",
    "ax2.set_ylabel(\"$PDF\")\n",
    "x = np.linspace(0, 20, 100)\n",
    "y = scipy.stats.f.pdf(x, ndof_between, ndof_within)\n",
    "ax2.plot(x,y)\n",
    "trans = ax2.get_xaxis_transform()\n",
    "ax2.axvline(F_critical, color='tab:green', ls='--')\n",
    "plt.text(F_critical, .5, r\" $F_{crítico}$\", transform=trans)\n",
    "ax2.axvline(F_observed, color='tab:orange', ls='--')\n",
    "plt.text(F_observed, .5, r\" $F_{observado}$\", transform=trans)"
   ]
  }
 ],
 "metadata": {
  "colab": {
   "provenance": []
  },
  "kernelspec": {
   "display_name": "Python 3 (ipykernel)",
   "language": "python",
   "name": "python3"
  },
  "language_info": {
   "codemirror_mode": {
    "name": "ipython",
    "version": 3
   },
   "file_extension": ".py",
   "mimetype": "text/x-python",
   "name": "python",
   "nbconvert_exporter": "python",
   "pygments_lexer": "ipython3",
   "version": "3.10.12"
  }
 },
 "nbformat": 4,
 "nbformat_minor": 1
}
