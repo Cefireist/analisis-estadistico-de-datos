{
 "cells": [
  {
   "cell_type": "markdown",
   "metadata": {
    "id": "37ZgoirU7eKk"
   },
   "source": [
    "# Test del aditivo para pintura"
   ]
  },
  {
   "cell_type": "markdown",
   "metadata": {},
   "source": [
    "Ejemplo tomado de Devore, Jay L. Probabilidad y Estadística para Ingeniería y Ciencias. Séptima edición. ISBN-13: 978-607-481-338-8, ISBN-10: 607-481-338-8"
   ]
  },
  {
   "cell_type": "code",
   "execution_count": null,
   "metadata": {
    "executionInfo": {
     "elapsed": 1105,
     "status": "ok",
     "timestamp": 1698168670788,
     "user": {
      "displayName": "Diego Ravignani Guerrero",
      "userId": "10540030550289703153"
     },
     "user_tz": 180
    },
    "id": "GlfyZhUS7eKo"
   },
   "outputs": [],
   "source": [
    "import math\n",
    "import numpy as np\n",
    "import matplotlib.pyplot as plt\n",
    "import scipy.stats"
   ]
  },
  {
   "cell_type": "markdown",
   "metadata": {
    "id": "c5Rf8WXw7eKp"
   },
   "source": [
    "## Significancia del test"
   ]
  },
  {
   "cell_type": "code",
   "execution_count": null,
   "metadata": {
    "executionInfo": {
     "elapsed": 301,
     "status": "ok",
     "timestamp": 1698168674609,
     "user": {
      "displayName": "Diego Ravignani Guerrero",
      "userId": "10540030550289703153"
     },
     "user_tz": 180
    },
    "id": "b6N9Rji57eKp"
   },
   "outputs": [],
   "source": [
    "alpha = 0.05"
   ]
  },
  {
   "cell_type": "markdown",
   "metadata": {
    "id": "Ywyj3guw7eKq"
   },
   "source": [
    "## Estadístico Z crítico (cola inferior)"
   ]
  },
  {
   "cell_type": "code",
   "execution_count": null,
   "metadata": {
    "colab": {
     "base_uri": "https://localhost:8080/"
    },
    "executionInfo": {
     "elapsed": 458,
     "status": "ok",
     "timestamp": 1698168796984,
     "user": {
      "displayName": "Diego Ravignani Guerrero",
      "userId": "10540030550289703153"
     },
     "user_tz": 180
    },
    "id": "RCpm1CHB7eKq",
    "outputId": "eaf7b6ea-e20b-4d1a-e09e-68714866a99b"
   },
   "outputs": [],
   "source": [
    "z_crit = scipy.stats.norm.ppf(alpha)\n",
    "z_crit"
   ]
  },
  {
   "cell_type": "markdown",
   "metadata": {
    "id": "cuFyzDa67eKr"
   },
   "source": [
    "## Estadístico Z observado"
   ]
  },
  {
   "cell_type": "code",
   "execution_count": null,
   "metadata": {
    "executionInfo": {
     "elapsed": 292,
     "status": "ok",
     "timestamp": 1698168883540,
     "user": {
      "displayName": "Diego Ravignani Guerrero",
      "userId": "10540030550289703153"
     },
     "user_tz": 180
    },
    "id": "E7jEMiRy7eKr"
   },
   "outputs": [],
   "source": [
    "mu_x = 75\n",
    "sigma = 9"
   ]
  },
  {
   "cell_type": "code",
   "execution_count": null,
   "metadata": {
    "executionInfo": {
     "elapsed": 285,
     "status": "ok",
     "timestamp": 1698168915595,
     "user": {
      "displayName": "Diego Ravignani Guerrero",
      "userId": "10540030550289703153"
     },
     "user_tz": 180
    },
    "id": "YTJEoYzm7eKr"
   },
   "outputs": [],
   "source": [
    "ndata = 25\n",
    "x_obs = 70.8"
   ]
  },
  {
   "cell_type": "code",
   "execution_count": null,
   "metadata": {
    "colab": {
     "base_uri": "https://localhost:8080/"
    },
    "executionInfo": {
     "elapsed": 321,
     "status": "ok",
     "timestamp": 1698168929418,
     "user": {
      "displayName": "Diego Ravignani Guerrero",
      "userId": "10540030550289703153"
     },
     "user_tz": 180
    },
    "id": "mcNItZy17eKr",
    "outputId": "8bfd7082-7f41-40f3-c974-713c41b1504e"
   },
   "outputs": [],
   "source": [
    "sigma_mean = sigma / math.sqrt(ndata)\n",
    "sigma_mean"
   ]
  },
  {
   "cell_type": "code",
   "execution_count": null,
   "metadata": {
    "colab": {
     "base_uri": "https://localhost:8080/"
    },
    "executionInfo": {
     "elapsed": 427,
     "status": "ok",
     "timestamp": 1698168945631,
     "user": {
      "displayName": "Diego Ravignani Guerrero",
      "userId": "10540030550289703153"
     },
     "user_tz": 180
    },
    "id": "H_YkZhpl7eKr",
    "outputId": "564f355a-bf2a-4536-ba0a-cdf1e4a5a481"
   },
   "outputs": [],
   "source": [
    "z_obs = (x_obs - mu_x)/sigma_mean\n",
    "z_obs"
   ]
  },
  {
   "cell_type": "markdown",
   "metadata": {
    "id": "8JvHT-mcbj5H"
   },
   "source": [
    "## Distribución del estadístico Z según la hipótesis nula"
   ]
  },
  {
   "cell_type": "code",
   "execution_count": null,
   "metadata": {},
   "outputs": [],
   "source": [
    "xmax = 3\n",
    "z = np.linspace(-xmax, xmax, 100)\n",
    "pdf_z = scipy.stats.norm.pdf(z)"
   ]
  },
  {
   "cell_type": "code",
   "execution_count": null,
   "metadata": {
    "colab": {
     "base_uri": "https://localhost:8080/",
     "height": 607
    },
    "executionInfo": {
     "elapsed": 818,
     "status": "ok",
     "timestamp": 1698168967202,
     "user": {
      "displayName": "Diego Ravignani Guerrero",
      "userId": "10540030550289703153"
     },
     "user_tz": 180
    },
    "id": "S3TsksNJ7eKs",
    "outputId": "e06b376e-dd59-4f38-a7fe-7d6eb7d7f7f8"
   },
   "outputs": [],
   "source": [
    "fig, ax = plt.subplots()\n",
    "ax.set_xlabel(\"z\")\n",
    "ax.set_ylabel(\"f(z)\")\n",
    "\n",
    "# Plot PDF de Z\n",
    "ax.plot(z, pdf_z)\n",
    "ax.axvline(0, ls='--')\n",
    "\n",
    "# Plot región crítica\n",
    "ax.fill_between(z[z<z_crit], 0, pdf_z[z<z_crit], alpha=0.5)\n",
    "ax.axvline(z_obs, ls='--', color='tab:orange')\n",
    "\n",
    "# Plot Z observado\n",
    "ax.text(z_obs, 0.5, \" $z_{obs}$\",\n",
    "        transform=ax.get_xaxis_text1_transform(0)[0])\n",
    "\n",
    "plt.tight_layout()\n",
    "plt.show()"
   ]
  },
  {
   "cell_type": "code",
   "execution_count": null,
   "metadata": {},
   "outputs": [],
   "source": []
  }
 ],
 "metadata": {
  "colab": {
   "provenance": []
  },
  "kernelspec": {
   "display_name": "Python 3 (ipykernel)",
   "language": "python",
   "name": "python3"
  },
  "language_info": {
   "codemirror_mode": {
    "name": "ipython",
    "version": 3
   },
   "file_extension": ".py",
   "mimetype": "text/x-python",
   "name": "python",
   "nbconvert_exporter": "python",
   "pygments_lexer": "ipython3",
   "version": "3.10.12"
  }
 },
 "nbformat": 4,
 "nbformat_minor": 4
}
