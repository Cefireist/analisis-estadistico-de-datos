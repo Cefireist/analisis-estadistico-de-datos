{
 "cells": [
  {
   "cell_type": "markdown",
   "metadata": {
    "id": "wPgbGnCm7dLY"
   },
   "source": [
    "# Test del efecto hipnótico de la hiosciamina"
   ]
  },
  {
   "cell_type": "markdown",
   "metadata": {
    "id": "AkGKIGGM7dLe"
   },
   "source": [
    "## Test de Student con dos muestras"
   ]
  },
  {
   "cell_type": "markdown",
   "metadata": {
    "id": "vNGqiJYg7dLb"
   },
   "source": [
    "The probable error of a mean, Student, Biometrika volumen 6, issue 1, (1908), section IX, pág. 20."
   ]
  },
  {
   "cell_type": "code",
   "execution_count": 1,
   "metadata": {
    "executionInfo": {
     "elapsed": 1918,
     "status": "ok",
     "timestamp": 1698339209627,
     "user": {
      "displayName": "Diego Ravignani Guerrero",
      "userId": "10540030550289703153"
     },
     "user_tz": 180
    },
    "id": "CksT_ndY7dLb"
   },
   "outputs": [],
   "source": [
    "import math\n",
    "import numpy as np\n",
    "import matplotlib.pyplot as plt\n",
    "import pandas as pd\n",
    "import scipy.stats"
   ]
  },
  {
   "cell_type": "markdown",
   "metadata": {
    "id": "h7PhdtEG7dLc"
   },
   "source": [
    "**Datos**"
   ]
  },
  {
   "cell_type": "code",
   "execution_count": 2,
   "metadata": {
    "colab": {
     "base_uri": "https://localhost:8080/",
     "height": 363
    },
    "executionInfo": {
     "elapsed": 27,
     "status": "ok",
     "timestamp": 1698339238872,
     "user": {
      "displayName": "Diego Ravignani Guerrero",
      "userId": "10540030550289703153"
     },
     "user_tz": 180
    },
    "id": "rNS7bO6S7dLc",
    "outputId": "457bdda4-c050-4d65-8dd7-681a04080cc6"
   },
   "outputs": [
    {
     "data": {
      "text/html": [
       "<div>\n",
       "<style scoped>\n",
       "    .dataframe tbody tr th:only-of-type {\n",
       "        vertical-align: middle;\n",
       "    }\n",
       "\n",
       "    .dataframe tbody tr th {\n",
       "        vertical-align: top;\n",
       "    }\n",
       "\n",
       "    .dataframe thead th {\n",
       "        text-align: right;\n",
       "    }\n",
       "</style>\n",
       "<table border=\"1\" class=\"dataframe\">\n",
       "  <thead>\n",
       "    <tr style=\"text-align: right;\">\n",
       "      <th></th>\n",
       "      <th>Dextro</th>\n",
       "      <th>Levo</th>\n",
       "    </tr>\n",
       "  </thead>\n",
       "  <tbody>\n",
       "    <tr>\n",
       "      <th>0</th>\n",
       "      <td>0.7</td>\n",
       "      <td>1.9</td>\n",
       "    </tr>\n",
       "    <tr>\n",
       "      <th>1</th>\n",
       "      <td>-1.6</td>\n",
       "      <td>0.8</td>\n",
       "    </tr>\n",
       "    <tr>\n",
       "      <th>2</th>\n",
       "      <td>-0.2</td>\n",
       "      <td>1.1</td>\n",
       "    </tr>\n",
       "    <tr>\n",
       "      <th>3</th>\n",
       "      <td>-1.2</td>\n",
       "      <td>0.1</td>\n",
       "    </tr>\n",
       "    <tr>\n",
       "      <th>4</th>\n",
       "      <td>-0.1</td>\n",
       "      <td>-0.1</td>\n",
       "    </tr>\n",
       "    <tr>\n",
       "      <th>5</th>\n",
       "      <td>3.4</td>\n",
       "      <td>4.4</td>\n",
       "    </tr>\n",
       "    <tr>\n",
       "      <th>6</th>\n",
       "      <td>3.7</td>\n",
       "      <td>5.5</td>\n",
       "    </tr>\n",
       "    <tr>\n",
       "      <th>7</th>\n",
       "      <td>0.8</td>\n",
       "      <td>1.6</td>\n",
       "    </tr>\n",
       "    <tr>\n",
       "      <th>8</th>\n",
       "      <td>0.0</td>\n",
       "      <td>4.6</td>\n",
       "    </tr>\n",
       "    <tr>\n",
       "      <th>9</th>\n",
       "      <td>2.0</td>\n",
       "      <td>3.4</td>\n",
       "    </tr>\n",
       "  </tbody>\n",
       "</table>\n",
       "</div>"
      ],
      "text/plain": [
       "   Dextro  Levo\n",
       "0     0.7   1.9\n",
       "1    -1.6   0.8\n",
       "2    -0.2   1.1\n",
       "3    -1.2   0.1\n",
       "4    -0.1  -0.1\n",
       "5     3.4   4.4\n",
       "6     3.7   5.5\n",
       "7     0.8   1.6\n",
       "8     0.0   4.6\n",
       "9     2.0   3.4"
      ]
     },
     "execution_count": 2,
     "metadata": {},
     "output_type": "execute_result"
    }
   ],
   "source": [
    "scyamine_data = pd.read_csv(\"test_student.csv\")\n",
    "scyamine_data"
   ]
  },
  {
   "cell_type": "markdown",
   "metadata": {
    "id": "bk1hF4gd7dLe"
   },
   "source": [
    "$H_0$: Levo es igual de hipnótica que dextro <br>"
   ]
  },
  {
   "cell_type": "code",
   "execution_count": 3,
   "metadata": {
    "colab": {
     "base_uri": "https://localhost:8080/"
    },
    "executionInfo": {
     "elapsed": 375,
     "status": "ok",
     "timestamp": 1698340824167,
     "user": {
      "displayName": "Diego Ravignani Guerrero",
      "userId": "10540030550289703153"
     },
     "user_tz": 180
    },
    "id": "lB-4Sd7V7dLe",
    "outputId": "937d75fa-e68f-456f-fb71-ad6b9204be74"
   },
   "outputs": [
    {
     "data": {
      "text/plain": [
       "0    1.2\n",
       "1    2.4\n",
       "2    1.3\n",
       "3    1.3\n",
       "4    0.0\n",
       "5    1.0\n",
       "6    1.8\n",
       "7    0.8\n",
       "8    4.6\n",
       "9    1.4\n",
       "dtype: float64"
      ]
     },
     "execution_count": 3,
     "metadata": {},
     "output_type": "execute_result"
    }
   ],
   "source": [
    "z = scyamine_data[\"Levo\"]-scyamine_data[\"Dextro\"]\n",
    "z"
   ]
  },
  {
   "cell_type": "code",
   "execution_count": 4,
   "metadata": {
    "colab": {
     "base_uri": "https://localhost:8080/"
    },
    "executionInfo": {
     "elapsed": 348,
     "status": "ok",
     "timestamp": 1698340840451,
     "user": {
      "displayName": "Diego Ravignani Guerrero",
      "userId": "10540030550289703153"
     },
     "user_tz": 180
    },
    "id": "JNvKy5Hy7dLe",
    "outputId": "12457578-6c1d-4257-ef50-a00f67369fcf"
   },
   "outputs": [
    {
     "name": "stdout",
     "output_type": "stream",
     "text": [
      "Media de los datos:  1.58\n"
     ]
    }
   ],
   "source": [
    "print(\"Media de los datos: \", z.mean())"
   ]
  },
  {
   "cell_type": "code",
   "execution_count": 5,
   "metadata": {
    "colab": {
     "base_uri": "https://localhost:8080/"
    },
    "executionInfo": {
     "elapsed": 354,
     "status": "ok",
     "timestamp": 1698340851525,
     "user": {
      "displayName": "Diego Ravignani Guerrero",
      "userId": "10540030550289703153"
     },
     "user_tz": 180
    },
    "id": "XtrZlp077dLf",
    "outputId": "78930f46-3a35-4f48-d1a0-6a2741a69ade",
    "scrolled": false
   },
   "outputs": [
    {
     "name": "stdout",
     "output_type": "stream",
     "text": [
      "Desviación estándar de los datos:  1.2299954832798732\n"
     ]
    }
   ],
   "source": [
    "print(\"Desviación estándar de los datos: \", z.std(ddof=1))"
   ]
  },
  {
   "cell_type": "code",
   "execution_count": 6,
   "metadata": {
    "colab": {
     "base_uri": "https://localhost:8080/"
    },
    "executionInfo": {
     "elapsed": 342,
     "status": "ok",
     "timestamp": 1698340882219,
     "user": {
      "displayName": "Diego Ravignani Guerrero",
      "userId": "10540030550289703153"
     },
     "user_tz": 180
    },
    "id": "6772dh_17dLf",
    "outputId": "874f9e9b-57b1-41cc-d5af-e69af989beb5",
    "scrolled": true
   },
   "outputs": [
    {
     "name": "stdout",
     "output_type": "stream",
     "text": [
      "Desviación estándar de la media:  0.3889587238883952\n"
     ]
    }
   ],
   "source": [
    "ndata = len(scyamine_data.index)\n",
    "zmean_sigma = z.std()/ math.sqrt(ndata)\n",
    "print(\"Desviación estándar de la media: \", zmean_sigma )"
   ]
  },
  {
   "cell_type": "markdown",
   "metadata": {
    "id": "B-B9bhZj7dLf"
   },
   "source": [
    "Estadística t de Student"
   ]
  },
  {
   "cell_type": "code",
   "execution_count": 7,
   "metadata": {
    "colab": {
     "base_uri": "https://localhost:8080/"
    },
    "executionInfo": {
     "elapsed": 432,
     "status": "ok",
     "timestamp": 1698340901876,
     "user": {
      "displayName": "Diego Ravignani Guerrero",
      "userId": "10540030550289703153"
     },
     "user_tz": 180
    },
    "id": "8LbL1FYh7dLf",
    "outputId": "341dfe71-125b-4421-cc6d-f8d1da1cc7df"
   },
   "outputs": [
    {
     "data": {
      "text/plain": [
       "4.062127683382037"
      ]
     },
     "execution_count": 7,
     "metadata": {},
     "output_type": "execute_result"
    }
   ],
   "source": [
    "t2 = z.mean() / zmean_sigma\n",
    "t2"
   ]
  },
  {
   "cell_type": "code",
   "execution_count": 8,
   "metadata": {
    "colab": {
     "base_uri": "https://localhost:8080/"
    },
    "executionInfo": {
     "elapsed": 363,
     "status": "ok",
     "timestamp": 1698340969141,
     "user": {
      "displayName": "Diego Ravignani Guerrero",
      "userId": "10540030550289703153"
     },
     "user_tz": 180
    },
    "id": "vNPheZMl7dLf",
    "outputId": "e4bd386a-1964-470c-9b7c-609a5a2985af"
   },
   "outputs": [
    {
     "name": "stdout",
     "output_type": "stream",
     "text": [
      "Pvalue: 1.42e-03\n"
     ]
    }
   ],
   "source": [
    "ndof = ndata - 1\n",
    "pvalue = scipy.stats.t.sf(t2, df=ndof)\n",
    "print(f\"Pvalue: {pvalue:.2e}\")"
   ]
  },
  {
   "cell_type": "code",
   "execution_count": 9,
   "metadata": {
    "colab": {
     "base_uri": "https://localhost:8080/",
     "height": 633
    },
    "executionInfo": {
     "elapsed": 652,
     "status": "ok",
     "timestamp": 1698340986083,
     "user": {
      "displayName": "Diego Ravignani Guerrero",
      "userId": "10540030550289703153"
     },
     "user_tz": 180
    },
    "id": "pM4FyHNp7dLf",
    "outputId": "9d139928-6cc9-47d8-dc36-04794f390d1f",
    "scrolled": true
   },
   "outputs": [
    {
     "data": {
      "image/png": "[encoded data removed]",
      "text/plain": [
       "<Figure size 480x360 with 1 Axes>"
      ]
     },
     "metadata": {},
     "output_type": "display_data"
    }
   ],
   "source": [
    "fig2, ax2 = plt.subplots()\n",
    "ax2.set_xlabel(\"t\")\n",
    "ax2.set_ylabel(\"f(t)\")\n",
    "x = np.linspace(-5,5,1000)\n",
    "ax2.plot(x, scipy.stats.t.pdf(x, ndof), ls='--', color='tab:grey', label=\"PDF\")\n",
    "ax2.axvline(t2, color='tab:blue', label=r\"$t_{obs}$\")\n",
    "ax2.legend()\n",
    "plt.show()"
   ]
  },
  {
   "cell_type": "markdown",
   "metadata": {},
   "source": [
    "## Test de Student de dos muestras con scipy"
   ]
  },
  {
   "cell_type": "markdown",
   "metadata": {},
   "source": [
    "*Nota*: las horas de sueño ganadas dependen de cada paciente. Los pacientes que durmieron más con la hiosciamina levo también durmieron más la dextro. En términos estadísticos significa que las variables $X_1$: {horas ganadas con dextro} y $X_2$: {horas ganadas con levo} están correlacionadas. Por lo tanto, aplico la versión correlacionada del test de Student de dos muestras con la función scipy.stats.ttest_rel. "
   ]
  },
  {
   "cell_type": "code",
   "execution_count": 10,
   "metadata": {},
   "outputs": [
    {
     "name": "stdout",
     "output_type": "stream",
     "text": [
      "t observado = 4.06\n",
      "pvalue = 0.14%\n"
     ]
    }
   ],
   "source": [
    "t_obs, pvalue = scipy.stats.ttest_rel(scyamine_data[\"Levo\"], scyamine_data[\"Dextro\"], alternative='greater')\n",
    "print(f\"t observado = {t_obs:.2f}\")\n",
    "print(f\"pvalue = {pvalue*100:.2f}%\")"
   ]
  },
  {
   "cell_type": "markdown",
   "metadata": {},
   "source": [
    "Si las muestras no están correlacionadas corresponde aplicar la versión independiente del test con scipy.stats.ttest_rel.    "
   ]
  },
  {
   "cell_type": "markdown",
   "metadata": {
    "id": "eZy8lfgi7dLf"
   },
   "source": [
    "## Informe del resultado"
   ]
  },
  {
   "cell_type": "code",
   "execution_count": 11,
   "metadata": {
    "colab": {
     "base_uri": "https://localhost:8080/"
    },
    "executionInfo": {
     "elapsed": 374,
     "status": "ok",
     "timestamp": 1698341025071,
     "user": {
      "displayName": "Diego Ravignani Guerrero",
      "userId": "10540030550289703153"
     },
     "user_tz": 180
    },
    "id": "3XKFNgKL7dLf",
    "outputId": "11c91049-e6a8-4885-bb4f-3ed7bca4d73e"
   },
   "outputs": [
    {
     "name": "stdout",
     "output_type": "stream",
     "text": [
      "La hiosciamina levo es más hipnótica que la dextro con una signficancia de 0.14%\n"
     ]
    }
   ],
   "source": [
    "alpha = pvalue\n",
    "print(f\"La hiosciamina levo es más hipnótica que la dextro con una signficancia de {100*alpha:.2f}%\")"
   ]
  },
  {
   "cell_type": "code",
   "execution_count": 12,
   "metadata": {
    "colab": {
     "base_uri": "https://localhost:8080/"
    },
    "executionInfo": {
     "elapsed": 341,
     "status": "ok",
     "timestamp": 1698341062753,
     "user": {
      "displayName": "Diego Ravignani Guerrero",
      "userId": "10540030550289703153"
     },
     "user_tz": 180
    },
    "id": "sOer68CZ7dLf",
    "outputId": "7916d158-121e-446e-99ec-7a86e3a22e6e"
   },
   "outputs": [
    {
     "name": "stdout",
     "output_type": "stream",
     "text": [
      "La hiosciamina levo es más hipnótica que la dextro con un nivel de confianza de 99.86%\n"
     ]
    }
   ],
   "source": [
    "CL = 1 - alpha\n",
    "print(f\"La hiosciamina levo es más hipnótica que la dextro con un nivel de confianza de {100*CL:.2f}%\")"
   ]
  },
  {
   "cell_type": "code",
   "execution_count": 13,
   "metadata": {},
   "outputs": [
    {
     "name": "stdout",
     "output_type": "stream",
     "text": [
      "La hiosciamina levo es más hipnótica que la dextro con un nivel de confianza de 3.0 sigmas\n"
     ]
    }
   ],
   "source": [
    "nsigmas = scipy.stats.norm.ppf(CL)\n",
    "print(f\"La hiosciamina levo es más hipnótica que la dextro con un nivel de confianza de {nsigmas:.1f} sigmas\")"
   ]
  }
 ],
 "metadata": {
  "colab": {
   "provenance": []
  },
  "kernelspec": {
   "display_name": "Python 3 (ipykernel)",
   "language": "python",
   "name": "python3"
  },
  "language_info": {
   "codemirror_mode": {
    "name": "ipython",
    "version": 3
   },
   "file_extension": ".py",
   "mimetype": "text/x-python",
   "name": "python",
   "nbconvert_exporter": "python",
   "pygments_lexer": "ipython3",
   "version": "3.10.12"
  }
 },
 "nbformat": 4,
 "nbformat_minor": 1
}
