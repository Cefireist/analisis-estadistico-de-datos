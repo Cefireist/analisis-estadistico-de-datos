{
 "cells": [
  {
   "cell_type": "markdown",
   "metadata": {
    "id": "afIwXH9c56x1"
   },
   "source": [
    "# Intervalo aproximado"
   ]
  },
  {
   "cell_type": "markdown",
   "metadata": {},
   "source": [
    "Estima la cobertura de un intervalo aproximado con simulaciones Monte Carlo. Usa una muestra de datos que siguen una distribución exponencial."
   ]
  },
  {
   "cell_type": "code",
   "execution_count": 1,
   "metadata": {
    "executionInfo": {
     "elapsed": 1708,
     "status": "ok",
     "timestamp": 1696532028173,
     "user": {
      "displayName": "Diego Ravignani Guerrero",
      "userId": "10540030550289703153"
     },
     "user_tz": 180
    },
    "id": "aZOiY13T56x4"
   },
   "outputs": [],
   "source": [
    "import math\n",
    "import numpy as np\n",
    "from scipy.stats import norm, erlang\n",
    "import matplotlib.pyplot as plt"
   ]
  },
  {
   "cell_type": "markdown",
   "metadata": {
    "id": "jow3Gu3c56x5"
   },
   "source": [
    "Parámetro de la exponencial"
   ]
  },
  {
   "cell_type": "code",
   "execution_count": 2,
   "metadata": {
    "executionInfo": {
     "elapsed": 371,
     "status": "ok",
     "timestamp": 1696532033249,
     "user": {
      "displayName": "Diego Ravignani Guerrero",
      "userId": "10540030550289703153"
     },
     "user_tz": 180
    },
    "id": "4c0OxaeL56x6"
   },
   "outputs": [],
   "source": [
    "tau = 10"
   ]
  },
  {
   "cell_type": "markdown",
   "metadata": {
    "id": "HYQuW-ET56x6"
   },
   "source": [
    "Tamaño de la muestra"
   ]
  },
  {
   "cell_type": "code",
   "execution_count": 3,
   "metadata": {
    "executionInfo": {
     "elapsed": 526,
     "status": "ok",
     "timestamp": 1696532037246,
     "user": {
      "displayName": "Diego Ravignani Guerrero",
      "userId": "10540030550289703153"
     },
     "user_tz": 180
    },
    "id": "BPsw-qgJ56x6"
   },
   "outputs": [],
   "source": [
    "n = 5"
   ]
  },
  {
   "cell_type": "markdown",
   "metadata": {
    "id": "CpYrM6xE56x6"
   },
   "source": [
    "Nivel de confianza"
   ]
  },
  {
   "cell_type": "code",
   "execution_count": 4,
   "metadata": {
    "colab": {
     "base_uri": "https://localhost:8080/"
    },
    "executionInfo": {
     "elapsed": 327,
     "status": "ok",
     "timestamp": 1696532054244,
     "user": {
      "displayName": "Diego Ravignani Guerrero",
      "userId": "10540030550289703153"
     },
     "user_tz": 180
    },
    "id": "btG3f9lz56x7",
    "outputId": "a6a7c056-3762-4b5e-e5eb-dd8f56e72ebf"
   },
   "outputs": [
    {
     "data": {
      "text/plain": [
       "0.04999999999999999"
      ]
     },
     "execution_count": 4,
     "metadata": {},
     "output_type": "execute_result"
    }
   ],
   "source": [
    "confidence_level = 0.9\n",
    "proba_tail = (1 - confidence_level)/2\n",
    "proba_tail"
   ]
  },
  {
   "cell_type": "markdown",
   "metadata": {
    "id": "yTrwiXPs56x7"
   },
   "source": [
    "Cuantil de la aproximación normal a la PDF de la media muestral $\\bar{t} = \\frac{1}{n} \\sum_{i=1}^n t_i$"
   ]
  },
  {
   "cell_type": "code",
   "execution_count": 5,
   "metadata": {
    "colab": {
     "base_uri": "https://localhost:8080/"
    },
    "executionInfo": {
     "elapsed": 6,
     "status": "ok",
     "timestamp": 1696532075021,
     "user": {
      "displayName": "Diego Ravignani Guerrero",
      "userId": "10540030550289703153"
     },
     "user_tz": 180
    },
    "id": "K6gq_cEp56x8",
    "outputId": "953ae77f-da12-4db6-a53f-f814c00754fe"
   },
   "outputs": [
    {
     "data": {
      "text/plain": [
       "1.6448536269514729"
      ]
     },
     "execution_count": 5,
     "metadata": {},
     "output_type": "execute_result"
    }
   ],
   "source": [
    "quantile = -norm.ppf(proba_tail)\n",
    "quantile"
   ]
  },
  {
   "cell_type": "markdown",
   "metadata": {
    "id": "XRhIVS-L56x8"
   },
   "source": [
    "Número de simulaciones"
   ]
  },
  {
   "cell_type": "code",
   "execution_count": 6,
   "metadata": {
    "executionInfo": {
     "elapsed": 304,
     "status": "ok",
     "timestamp": 1696532096328,
     "user": {
      "displayName": "Diego Ravignani Guerrero",
      "userId": "10540030550289703153"
     },
     "user_tz": 180
    },
    "id": "nll3-4e256x8"
   },
   "outputs": [],
   "source": [
    "nsimulations = 10000"
   ]
  },
  {
   "cell_type": "markdown",
   "metadata": {
    "id": "FoSg2TwW56x8"
   },
   "source": [
    "Generador de números aleatorios"
   ]
  },
  {
   "cell_type": "code",
   "execution_count": 7,
   "metadata": {
    "executionInfo": {
     "elapsed": 308,
     "status": "ok",
     "timestamp": 1696532104845,
     "user": {
      "displayName": "Diego Ravignani Guerrero",
      "userId": "10540030550289703153"
     },
     "user_tz": 180
    },
    "id": "8XyzBpno56x9"
   },
   "outputs": [],
   "source": [
    "rng = np.random.default_rng(seed=6870)"
   ]
  },
  {
   "cell_type": "markdown",
   "metadata": {
    "id": "GX4LAfAd56x9"
   },
   "source": [
    "Simulación de datos y conteo del número de éxitos"
   ]
  },
  {
   "cell_type": "code",
   "execution_count": 8,
   "metadata": {
    "executionInfo": {
     "elapsed": 306,
     "status": "ok",
     "timestamp": 1696532110272,
     "user": {
      "displayName": "Diego Ravignani Guerrero",
      "userId": "10540030550289703153"
     },
     "user_tz": 180
    },
    "id": "scnKQNC_56x9"
   },
   "outputs": [],
   "source": [
    "nsuccess = 0\n",
    "\n",
    "# Guardo los estimadores de τ generados\n",
    "tau_est_list = []     \n",
    "\n",
    "for i in range(nsimulations):\n",
    "    data = rng.exponential(tau, n)\n",
    "    tau_est = np.mean(data)\n",
    "    tau1 = tau_est / (1 + quantile/math.sqrt(n))\n",
    "    tau2 = tau_est / (1 - quantile/math.sqrt(n))\n",
    "    if tau1 < tau and tau < tau2:\n",
    "        nsuccess += 1\n",
    "\n",
    "    tau_est_list.append(tau_est)"
   ]
  },
  {
   "cell_type": "code",
   "execution_count": 9,
   "metadata": {
    "colab": {
     "base_uri": "https://localhost:8080/"
    },
    "executionInfo": {
     "elapsed": 304,
     "status": "ok",
     "timestamp": 1696532208637,
     "user": {
      "displayName": "Diego Ravignani Guerrero",
      "userId": "10540030550289703153"
     },
     "user_tz": 180
    },
    "id": "ctUWHxDi56x9",
    "outputId": "7148efbf-d6d7-405a-ebc9-bbadffedb978"
   },
   "outputs": [
    {
     "data": {
      "text/plain": [
       "9208"
      ]
     },
     "execution_count": 9,
     "metadata": {},
     "output_type": "execute_result"
    }
   ],
   "source": [
    "nsuccess"
   ]
  },
  {
   "cell_type": "markdown",
   "metadata": {
    "id": "bJkBjlNy56x9"
   },
   "source": [
    "Cobertura"
   ]
  },
  {
   "cell_type": "code",
   "execution_count": 10,
   "metadata": {
    "executionInfo": {
     "elapsed": 306,
     "status": "ok",
     "timestamp": 1696532218508,
     "user": {
      "displayName": "Diego Ravignani Guerrero",
      "userId": "10540030550289703153"
     },
     "user_tz": 180
    },
    "id": "t_UgZmGM56x9"
   },
   "outputs": [],
   "source": [
    "coverage = nsuccess / nsimulations"
   ]
  },
  {
   "cell_type": "code",
   "execution_count": 11,
   "metadata": {
    "colab": {
     "base_uri": "https://localhost:8080/"
    },
    "executionInfo": {
     "elapsed": 306,
     "status": "ok",
     "timestamp": 1696532221837,
     "user": {
      "displayName": "Diego Ravignani Guerrero",
      "userId": "10540030550289703153"
     },
     "user_tz": 180
    },
    "id": "NEXyk6vD56x9",
    "outputId": "3010bdca-9280-4f29-fd09-dba414498adc",
    "scrolled": true
   },
   "outputs": [
    {
     "name": "stdout",
     "output_type": "stream",
     "text": [
      "Cobertura: 92.1%\n"
     ]
    }
   ],
   "source": [
    "print(f'Cobertura: {coverage*100:2.1f}%')"
   ]
  },
  {
   "cell_type": "markdown",
   "metadata": {},
   "source": [
    "## Distribución de $\\hat{τ}$"
   ]
  },
  {
   "cell_type": "code",
   "execution_count": 12,
   "metadata": {},
   "outputs": [],
   "source": [
    "xmax = np.max(tau_est_list)\n",
    "x = np.linspace(0, xmax, 100)\n",
    "y1 = norm.pdf(x, loc=tau, scale=tau/np.sqrt(n))\n",
    "y2 = erlang.pdf(n*x, a=n, scale=tau) * n"
   ]
  },
  {
   "cell_type": "code",
   "execution_count": 13,
   "metadata": {
    "colab": {
     "base_uri": "https://localhost:8080/",
     "height": 706
    },
    "executionInfo": {
     "elapsed": 1121,
     "status": "ok",
     "timestamp": 1696532249219,
     "user": {
      "displayName": "Diego Ravignani Guerrero",
      "userId": "10540030550289703153"
     },
     "user_tz": 180
    },
    "id": "CeD7d9BzVSzS",
    "outputId": "e0528cd6-5489-47ad-dd17-876b9ff70490"
   },
   "outputs": [
    {
     "data": {
      "text/plain": [
       "<matplotlib.legend.Legend at 0x7fa37c82da50>"
      ]
     },
     "execution_count": 13,
     "metadata": {},
     "output_type": "execute_result"
    },
    {
     "data": {
      "image/png": "[encoded data removed]",
      "text/plain": [
       "<Figure size 480x360 with 1 Axes>"
      ]
     },
     "metadata": {},
     "output_type": "display_data"
    }
   ],
   "source": [
    "fig, ax = plt.subplots()\n",
    "ax.set_xlabel(r\"$\\hat{\\tau}$\")\n",
    "ax.set_ylabel(\"PDF\")\n",
    "ax.hist(tau_est_list, density=True, bins=20, histtype='step', label=\"Simulado\")\n",
    "ax.plot(x, y1, label=\"PDF aprox.\")\n",
    "ax.plot(x, y2, label=\"PDF exacta\")\n",
    "plt.legend()"
   ]
  },
  {
   "cell_type": "code",
   "execution_count": null,
   "metadata": {},
   "outputs": [],
   "source": []
  }
 ],
 "metadata": {
  "colab": {
   "provenance": [],
   "toc_visible": true
  },
  "kernelspec": {
   "display_name": "Python 3 (ipykernel)",
   "language": "python",
   "name": "python3"
  },
  "language_info": {
   "codemirror_mode": {
    "name": "ipython",
    "version": 3
   },
   "file_extension": ".py",
   "mimetype": "text/x-python",
   "name": "python",
   "nbconvert_exporter": "python",
   "pygments_lexer": "ipython3",
   "version": "3.10.12"
  }
 },
 "nbformat": 4,
 "nbformat_minor": 1
}
