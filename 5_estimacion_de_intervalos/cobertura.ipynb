{
 "cells": [
  {
   "cell_type": "markdown",
   "id": "e6ccf764-2132-4ce6-b8a1-c9518c8ca78d",
   "metadata": {},
   "source": [
    "# Cobertura de un intervalo de confianza"
   ]
  },
  {
   "cell_type": "markdown",
   "id": "0c112196-578a-4ed8-a257-fd709a80a4fc",
   "metadata": {},
   "source": [
    "Estimamos númericamente la cobertura de un intervalo de confianza"
   ]
  },
  {
   "cell_type": "markdown",
   "id": "aa5d4eff-721f-4d22-a9b1-5e5858bf8301",
   "metadata": {},
   "source": [
    "Consideramos una variable normal estándar. Escribimos explícitamente sus parámetros:"
   ]
  },
  {
   "cell_type": "code",
   "execution_count": null,
   "id": "2a17fc65-1450-454d-af22-084413d35302",
   "metadata": {},
   "outputs": [],
   "source": [
    "mu = 0\n",
    "sigma = 1"
   ]
  },
  {
   "cell_type": "markdown",
   "id": "33eca4d9-ca9c-4c55-954d-4682769fd941",
   "metadata": {},
   "source": [
    "Consideramos una muestra de tamaño:"
   ]
  },
  {
   "cell_type": "code",
   "execution_count": null,
   "id": "54f5f94a-7a36-4c4f-80d9-862dd37b1f4a",
   "metadata": {},
   "outputs": [],
   "source": [
    "sample_size = 3"
   ]
  },
  {
   "cell_type": "markdown",
   "id": "f6bbb65f-24d9-4adf-90d4-936bc894541a",
   "metadata": {},
   "source": [
    "Simulamos muchas muestras:"
   ]
  },
  {
   "cell_type": "markdown",
   "id": "0a8e8103-0010-430c-9922-dc5460a3a24f",
   "metadata": {},
   "source": [
    "## Datos"
   ]
  },
  {
   "cell_type": "code",
   "execution_count": null,
   "id": "2d318bef-17c4-475e-bd15-8069d31a9f0e",
   "metadata": {},
   "outputs": [],
   "source": [
    "from scipy.stats import norm\n",
    "import numpy as np\n",
    "# Number of simulated samples\n",
    "nsimulations = 100000\n",
    "rng = np.random.default_rng(seed=6870)\n",
    "data = norm.rvs(loc=mu, scale=sigma, size=(nsimulations, sample_size), random_state=rng)\n",
    "data[0:10]"
   ]
  },
  {
   "cell_type": "markdown",
   "id": "3c977c73-1e17-4a60-96eb-025f68cf59bc",
   "metadata": {},
   "source": [
    "Calculamos la media muestral de cada muestra:"
   ]
  },
  {
   "cell_type": "code",
   "execution_count": null,
   "id": "bd34c05d-8994-4637-801c-c214ede4a1a8",
   "metadata": {},
   "outputs": [],
   "source": [
    "sample_mean = np.mean(data, axis=1)\n",
    "sample_mean[0:10]"
   ]
  },
  {
   "cell_type": "markdown",
   "id": "60d2b298-0042-43d0-8b2f-61d384175b35",
   "metadata": {},
   "source": [
    "Calculamos la desviación estándar de la media muestral:"
   ]
  },
  {
   "cell_type": "code",
   "execution_count": null,
   "id": "0de4a07c-5a1c-402d-b25b-c58eaed62967",
   "metadata": {},
   "outputs": [],
   "source": [
    "import math\n",
    "sample_mean_sigma = sigma/math.sqrt(sample_size)\n",
    "sample_mean_sigma"
   ]
  },
  {
   "cell_type": "markdown",
   "id": "6e57eaec-a694-4c4c-9c89-e47f70879b98",
   "metadata": {},
   "source": [
    "Notemos que esta desviación estándar es conocida e igual para todas las muestras."
   ]
  },
  {
   "cell_type": "markdown",
   "id": "20c9e2aa-f14f-496a-8b4d-96c3aaf926ef",
   "metadata": {},
   "source": [
    "## Intervalo de confianza"
   ]
  },
  {
   "cell_type": "markdown",
   "id": "6e711c17-3788-410d-8453-1a1ab3d27873",
   "metadata": {},
   "source": [
    "Definimos el nivel de confianza de los intervalos en términos del número de desviaciones estándares:"
   ]
  },
  {
   "cell_type": "code",
   "execution_count": null,
   "id": "2fe748d5-c0f1-40d3-869b-18dd8101d2f2",
   "metadata": {},
   "outputs": [],
   "source": [
    "nsigma = 1"
   ]
  },
  {
   "cell_type": "markdown",
   "id": "04c20fe6-20c6-4e67-9566-c99e009b2a8d",
   "metadata": {},
   "source": [
    "El términos de probabilidad el nivel de confianza es:"
   ]
  },
  {
   "cell_type": "code",
   "execution_count": null,
   "id": "39a29c39-6d8b-4e88-ad14-8d849e00ab16",
   "metadata": {},
   "outputs": [],
   "source": [
    "confidence_level = 1 - 2 * norm.cdf(-nsigma)\n",
    "confidence_level"
   ]
  },
  {
   "cell_type": "markdown",
   "id": "f06713c7-5966-42a1-b1ec-4f287573e0f0",
   "metadata": {},
   "source": [
    "Calculamos el *error*: "
   ]
  },
  {
   "cell_type": "code",
   "execution_count": null,
   "id": "bdd0cd57-5153-40df-b7aa-221b20dcaacc",
   "metadata": {},
   "outputs": [],
   "source": [
    "error = nsigma * sample_mean_sigma\n",
    "error"
   ]
  },
  {
   "cell_type": "markdown",
   "id": "d8efb645-b508-4d2e-bff6-60e5fe3ad0e0",
   "metadata": {},
   "source": [
    "Calculamos el estadístico *límite inferior del intervalo de confianza*:"
   ]
  },
  {
   "cell_type": "code",
   "execution_count": null,
   "id": "f9cfc5ea-22cd-47f9-8f1d-9ffc588e775a",
   "metadata": {},
   "outputs": [],
   "source": [
    "mu_1 = sample_mean - error\n",
    "mu_1[0:10]"
   ]
  },
  {
   "cell_type": "markdown",
   "id": "626cf4de-f9a1-4103-a0ad-96b195d3fa0e",
   "metadata": {},
   "source": [
    "Este estadístico es igual a la media muestral menos una constante. Entonces sus fluctuaciones se deben exclusivamente a las de la media muestral. "
   ]
  },
  {
   "cell_type": "markdown",
   "id": "a2a52a92-f9f3-4665-b59a-77fe27861638",
   "metadata": {},
   "source": [
    "Calculamos el límite superior:"
   ]
  },
  {
   "cell_type": "code",
   "execution_count": null,
   "id": "02cdb837-5643-4a56-8b28-787d89ae9fa0",
   "metadata": {},
   "outputs": [],
   "source": [
    "mu_2 = sample_mean + error\n",
    "mu_2[0:10]"
   ]
  },
  {
   "cell_type": "markdown",
   "id": "7ff7db34-38a4-4c2e-9a93-a16bb4f09839",
   "metadata": {},
   "source": [
    "## Cobertura"
   ]
  },
  {
   "cell_type": "markdown",
   "id": "a380d2b1-68a4-4230-820f-719d0c110de5",
   "metadata": {},
   "source": [
    "Identificamos para cada simulación si el intervalo [μ₁, μ₂] **cubre** a la media μ:"
   ]
  },
  {
   "cell_type": "code",
   "execution_count": null,
   "id": "d4379d28-0fc2-4c4c-a061-7dea1b85f354",
   "metadata": {},
   "outputs": [],
   "source": [
    "coverage = np.logical_and(mu_1<mu, mu<mu_2)\n",
    "coverage[0:10]"
   ]
  },
  {
   "cell_type": "markdown",
   "id": "13f3889f-f3be-4482-b3ba-e97dc704ab43",
   "metadata": {},
   "source": [
    "Mostramos si los primeros intervalos simulados cubren a μ:"
   ]
  },
  {
   "cell_type": "code",
   "execution_count": null,
   "id": "a091a4da-3950-4c70-a899-34d45374c376",
   "metadata": {},
   "outputs": [],
   "source": [
    "import pandas as pd\n",
    "intervals = pd.DataFrame({\"$\\mu_1$\": mu_1, \"$\\mu_2$\":mu_2, \"Coverage\": coverage})\n",
    "intervals.head(10)"
   ]
  },
  {
   "cell_type": "markdown",
   "id": "3521727e-e145-4a5d-aa3a-c838334589ce",
   "metadata": {},
   "source": [
    "Contamos cuántos intervalos cubren a μ:"
   ]
  },
  {
   "cell_type": "code",
   "execution_count": null,
   "id": "1e3344b3-1156-4f58-a545-f2a9ff2cf6cc",
   "metadata": {},
   "outputs": [],
   "source": [
    "nhits = coverage.sum()\n",
    "nhits"
   ]
  },
  {
   "cell_type": "markdown",
   "id": "e72b4d81-8173-4103-9655-653a08c2c51e",
   "metadata": {},
   "source": [
    "Calculamos que fracción de los intervalos simulados cubren a μ:"
   ]
  },
  {
   "cell_type": "code",
   "execution_count": null,
   "id": "5a6ab02a-bed6-49bf-835c-a40ba3f49d74",
   "metadata": {},
   "outputs": [],
   "source": [
    "coverage_proba = nhits / nsimulations\n",
    "print(f\"Coverage probability: {coverage_proba:.4f}\")"
   ]
  },
  {
   "cell_type": "markdown",
   "id": "1ea65615-3b72-4faf-9eb0-0df5608f3964",
   "metadata": {},
   "source": [
    "Esta fracción aproxima la probabilidad de cobertura. La aproximación será tanto mejor conforme aumentamos el número de simulaciones."
   ]
  },
  {
   "cell_type": "markdown",
   "id": "75c44a63-631b-4d39-9731-53def63492b5",
   "metadata": {},
   "source": [
    "Alternativamente, calculamos la probabilidad de cobertura con la librería danatools: "
   ]
  },
  {
   "cell_type": "code",
   "execution_count": null,
   "id": "2b1813da-158d-478a-b980-665b941bdb06",
   "metadata": {},
   "outputs": [],
   "source": [
    "import danatools\n",
    "coverage_proba2, coverage_proba2_error = danatools.get_coverage(mu_1, mu_2, mu)\n",
    "print(f\"Coverage probability: {coverage_proba2:.4f} ± {coverage_proba2_error:.4f}\")"
   ]
  },
  {
   "cell_type": "markdown",
   "id": "a21f0a57-7608-46d0-a5e4-7a7a8baeff3a",
   "metadata": {},
   "source": [
    "Además del estimador del nivel de confianza, danatools reporta un error en el estimador de la cobertura. Veremos más adelante como calcular este error."
   ]
  },
  {
   "cell_type": "markdown",
   "id": "8e09d7b0-7b3b-45a9-976f-c504da923c17",
   "metadata": {},
   "source": [
    "Recordamos el nivel de confianza que usamos para construir el intervalo:"
   ]
  },
  {
   "cell_type": "code",
   "execution_count": null,
   "id": "a4576494-eda9-4333-b53b-0b4ac07709bf",
   "metadata": {},
   "outputs": [],
   "source": [
    "print(f\"Confidence level: {confidence_level:.4f}\")"
   ]
  },
  {
   "cell_type": "markdown",
   "id": "510876b1-ab33-4f95-9bf3-995352a1ab3d",
   "metadata": {},
   "source": [
    "La cobertura coincide con el nivel de confianza dentro de las incertezas. Esto es esperable, ya que el intervalo de confianza de la media μ para una muestra normal es **exacto**. "
   ]
  }
 ],
 "metadata": {
  "kernelspec": {
   "display_name": "Demos Análisis Datos",
   "language": "python",
   "name": "aed_demos"
  },
  "language_info": {
   "codemirror_mode": {
    "name": "ipython",
    "version": 3
   },
   "file_extension": ".py",
   "mimetype": "text/x-python",
   "name": "python",
   "nbconvert_exporter": "python",
   "pygments_lexer": "ipython3",
   "version": "3.10.12"
  }
 },
 "nbformat": 4,
 "nbformat_minor": 5
}
