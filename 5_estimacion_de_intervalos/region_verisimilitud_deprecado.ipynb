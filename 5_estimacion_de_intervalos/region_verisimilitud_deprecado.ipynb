{
 "cells": [
  {
   "cell_type": "markdown",
   "metadata": {},
   "source": [
    "**Esta demo esta fuera de uso**. Sus contenidos demo están cubiertos dentro de la demo 7_ajuste_de_datos/distribucion_lateral.ipynb. "
   ]
  },
  {
   "cell_type": "markdown",
   "metadata": {},
   "source": [
    "# Región de confianza no Gaussiana "
   ]
  },
  {
   "cell_type": "markdown",
   "metadata": {},
   "source": [
    "Usando la función de costo / verosimilitud"
   ]
  },
  {
   "cell_type": "code",
   "execution_count": null,
   "metadata": {},
   "outputs": [],
   "source": [
    "%matplotlib notebook"
   ]
  },
  {
   "cell_type": "code",
   "execution_count": null,
   "metadata": {},
   "outputs": [],
   "source": [
    "import math\n",
    "import numpy as np\n",
    "import matplotlib.pyplot as plt\n",
    "from matplotlib import cm\n",
    "from matplotlib import colors\n",
    "from scipy.stats import chi2\n",
    "from scipy.optimize import minimize"
   ]
  },
  {
   "cell_type": "code",
   "execution_count": null,
   "metadata": {},
   "outputs": [],
   "source": [
    "def get_ellipse(center, cova, nsigma=1):\n",
    "    L = np.linalg.cholesky(cova)\n",
    "    t = np.linspace(0, 2 * np.pi, 1000)\n",
    "    circulo = np.column_stack([np.cos(t), np.sin(t)])\n",
    "    elipse =  nsigma * circulo @ L.T + center\n",
    "    return elipse.T"
   ]
  },
  {
   "cell_type": "markdown",
   "metadata": {},
   "source": [
    "## Datos"
   ]
  },
  {
   "cell_type": "code",
   "execution_count": null,
   "metadata": {},
   "outputs": [],
   "source": [
    "xdata = np.array([191, 263, 309])  # distancia en metros\n",
    "ydata = np.array([33, 19, 11])     # número de partículas medidas"
   ]
  },
  {
   "cell_type": "markdown",
   "metadata": {},
   "source": [
    "## Modelo"
   ]
  },
  {
   "cell_type": "code",
   "execution_count": null,
   "metadata": {},
   "outputs": [],
   "source": [
    "def modelo(x, theta):\n",
    "    S0 = theta[0]\n",
    "    beta = theta[1]\n",
    "    x0 = 250\n",
    "    return S0 * np.power(x/x0, -beta)"
   ]
  },
  {
   "cell_type": "markdown",
   "metadata": {},
   "source": [
    "## Función de costo"
   ]
  },
  {
   "cell_type": "markdown",
   "metadata": {},
   "source": [
    "$J(S_{0}, \\beta) = 2 \\, \\sum_i \\left[ (\\mu_i(S_{0}, \\beta)-y_i) - k_i \\log(\\mu_i(S_{0}, \\beta) / y_i) \\right]$"
   ]
  },
  {
   "cell_type": "code",
   "execution_count": null,
   "metadata": {},
   "outputs": [],
   "source": [
    "def funcion_costo(theta, xdata, ydata):\n",
    "        costo = np.zeros_like(theta[0])\n",
    "        for (x1, y1) in zip(xdata, ydata):\n",
    "            mu1 = modelo(x1, theta)\n",
    "            costo += (mu1-y1) - y1 * np.log(mu1/y1)\n",
    "        return 2*costo"
   ]
  },
  {
   "cell_type": "code",
   "execution_count": null,
   "metadata": {},
   "outputs": [],
   "source": [
    "J = lambda theta: funcion_costo(theta, xdata, ydata)  "
   ]
  },
  {
   "cell_type": "markdown",
   "metadata": {},
   "source": [
    "## Estimadores de máxima verosimilitud"
   ]
  },
  {
   "cell_type": "code",
   "execution_count": null,
   "metadata": {
    "scrolled": true
   },
   "outputs": [],
   "source": [
    "res = minimize(J, x0=(3,0.2))\n",
    "res"
   ]
  },
  {
   "cell_type": "code",
   "execution_count": null,
   "metadata": {},
   "outputs": [],
   "source": [
    "theta_est = res.x\n",
    "theta_est"
   ]
  },
  {
   "cell_type": "markdown",
   "metadata": {},
   "source": [
    "## Valle de la verosimilitud"
   ]
  },
  {
   "cell_type": "code",
   "execution_count": null,
   "metadata": {
    "scrolled": true
   },
   "outputs": [],
   "source": [
    "S0 = np.linspace(10, 30, 128)\n",
    "beta = np.linspace(0.1, 4.5, 128)\n",
    "S0, beta = np.meshgrid(S0, beta)\n",
    "theta = np.array([S0, beta])\n",
    "z = J(theta)"
   ]
  },
  {
   "cell_type": "code",
   "execution_count": null,
   "metadata": {
    "scrolled": true
   },
   "outputs": [],
   "source": [
    "fig1 = plt.figure(figsize=(4,4))\n",
    "ax1 = fig1.subplots(subplot_kw={\"projection\": \"3d\"})\n",
    "ax1.set_xlabel('$S_0$')\n",
    "ax1.set_ylabel('β')\n",
    "ax1.set_zlabel('J($S_0$,β)')\n",
    "zmin = res.fun\n",
    "levels = zmin + np.array([0, 1, 4, 9]) \n",
    "norm = colors.BoundaryNorm(boundaries=levels, ncolors=len(levels))\n",
    "ax1.plot_surface(S0, beta, z, cmap=cm.tab10, norm=norm, rstride=1, cstride=1, linewidth=0)"
   ]
  },
  {
   "cell_type": "code",
   "execution_count": null,
   "metadata": {},
   "outputs": [],
   "source": [
    "# fig1.savefig('region_anormal_costo.svg')"
   ]
  },
  {
   "cell_type": "markdown",
   "metadata": {},
   "source": [
    "## Contorno de niveles"
   ]
  },
  {
   "cell_type": "code",
   "execution_count": null,
   "metadata": {},
   "outputs": [],
   "source": [
    "fig2, ax2 = plt.subplots()\n",
    "ax2.set_xlabel('$S_0$')\n",
    "ax2.set_ylabel('β')\n",
    "levels = zmin + np.array([1, 4, 9]) \n",
    "contour = ax2.contour(S0, beta, z, levels, colors=['tab:blue', 'tab:orange', 'tab:green'])"
   ]
  },
  {
   "cell_type": "markdown",
   "metadata": {},
   "source": [
    "Etiquetas de los niveles de contorno"
   ]
  },
  {
   "cell_type": "code",
   "execution_count": null,
   "metadata": {
    "scrolled": true
   },
   "outputs": [],
   "source": [
    "fmt = {}\n",
    "strs = ['1σ', '2σ', '3σ']\n",
    "for l, s in zip(contour.levels, strs):\n",
    "    fmt[l] = s\n",
    "ax2.clabel(contour, fmt=fmt)\n",
    "fmt"
   ]
  },
  {
   "cell_type": "code",
   "execution_count": null,
   "metadata": {
    "scrolled": true
   },
   "outputs": [],
   "source": [
    "cova = 2 * res.hess_inv\n",
    "error = np.sqrt(np.diagonal(cova))\n",
    "error"
   ]
  },
  {
   "cell_type": "code",
   "execution_count": null,
   "metadata": {},
   "outputs": [],
   "source": [
    "rho = cova[0][1]/(error[0]*error[1])\n",
    "rho"
   ]
  },
  {
   "cell_type": "code",
   "execution_count": null,
   "metadata": {},
   "outputs": [],
   "source": [
    "elipse_1sigma = get_ellipse(theta_est, cova, nsigma=1)\n",
    "ax2.plot(*elipse_1sigma, ls='--')\n",
    "elipse_2sigma = get_ellipse(theta_est, cova, nsigma=2)\n",
    "ax2.plot(*elipse_2sigma, ls='--')\n",
    "elipse_3sigma = get_ellipse(theta_est, cova, nsigma=3)\n",
    "ax2.plot(*elipse_3sigma, ls='--')"
   ]
  },
  {
   "cell_type": "code",
   "execution_count": null,
   "metadata": {},
   "outputs": [],
   "source": [
    "ax2.plot(*theta_est, 'o')"
   ]
  },
  {
   "cell_type": "code",
   "execution_count": null,
   "metadata": {},
   "outputs": [],
   "source": [
    "# fig2.savefig('region_anormal.svg')"
   ]
  },
  {
   "cell_type": "markdown",
   "metadata": {},
   "source": [
    "## Bondad del ajuste"
   ]
  },
  {
   "cell_type": "code",
   "execution_count": null,
   "metadata": {},
   "outputs": [],
   "source": [
    "# Jmin = res.fun\n",
    "# Jmin"
   ]
  },
  {
   "cell_type": "code",
   "execution_count": null,
   "metadata": {
    "scrolled": true
   },
   "outputs": [],
   "source": [
    "# ndof = len(xdata) - len(theta_est)\n",
    "# ndof"
   ]
  },
  {
   "cell_type": "code",
   "execution_count": null,
   "metadata": {},
   "outputs": [],
   "source": [
    "# pvalor = chi2.sf(Jmin, df=ndof)\n",
    "# pvalor"
   ]
  }
 ],
 "metadata": {
  "kernelspec": {
   "display_name": "Python 3 (ipykernel)",
   "language": "python",
   "name": "python3"
  },
  "language_info": {
   "codemirror_mode": {
    "name": "ipython",
    "version": 3
   },
   "file_extension": ".py",
   "mimetype": "text/x-python",
   "name": "python",
   "nbconvert_exporter": "python",
   "pygments_lexer": "ipython3",
   "version": "3.10.12"
  }
 },
 "nbformat": 4,
 "nbformat_minor": 4
}
