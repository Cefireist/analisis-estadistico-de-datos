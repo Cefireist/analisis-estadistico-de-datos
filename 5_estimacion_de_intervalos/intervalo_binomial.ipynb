{
 "cells": [
  {
   "cell_type": "markdown",
   "id": "caf7a83c-ba7f-44ff-aa89-950404d5bf18",
   "metadata": {},
   "source": [
    "# Intervalo binomial"
   ]
  },
  {
   "cell_type": "markdown",
   "id": "7062e91d-229a-4c16-8344-5f50ba4f9310",
   "metadata": {},
   "source": [
    "Calculamos el intervalo de confianza para el parámetro *probabilidad de éxito* $p$ de una variable binomial, $k \\sim B(n,p)$, dónde $n$ es el número de pruebas de Bernoulli."
   ]
  },
  {
   "cell_type": "markdown",
   "id": "75d9bba4-90ed-44ac-9b51-7baeda3583f1",
   "metadata": {},
   "source": [
    "El número de pruebas de Bernoulli está fijado por experimento:"
   ]
  },
  {
   "cell_type": "code",
   "execution_count": null,
   "id": "27126f9b-0f0f-4068-a54b-74cc49907790",
   "metadata": {},
   "outputs": [],
   "source": [
    "ntrials = 100"
   ]
  },
  {
   "cell_type": "markdown",
   "id": "fdb42a74-7b4b-4ccf-a74b-c9bf63f00f5e",
   "metadata": {},
   "source": [
    "El número de pruebas exitosas de nuestro experimento fue:"
   ]
  },
  {
   "cell_type": "code",
   "execution_count": null,
   "id": "d2769957-2171-4e36-a1fd-1733b09d1561",
   "metadata": {},
   "outputs": [],
   "source": [
    "k_obs = 66"
   ]
  },
  {
   "cell_type": "markdown",
   "id": "d1e2510d-b350-4e91-be8c-019250dc6367",
   "metadata": {},
   "source": [
    "El estimador de máxima verosimilitud del parámetro $\\hat{p}$ es:"
   ]
  },
  {
   "cell_type": "code",
   "execution_count": null,
   "id": "4f70296d-9ac1-42f6-b30d-200ba36505cd",
   "metadata": {},
   "outputs": [],
   "source": [
    "proba_est = k_obs / ntrials\n",
    "proba_est"
   ]
  },
  {
   "cell_type": "markdown",
   "id": "d846d0ac-b650-4e3a-a001-6ddc979e949d",
   "metadata": {},
   "source": [
    "## Superficie de nivel"
   ]
  },
  {
   "cell_type": "markdown",
   "id": "f8d96d02-7fe0-4bc1-aebe-02482fb70557",
   "metadata": {},
   "source": [
    "Calculamos el intervalo de confianza con la superficie de nivel de la función de costo. Para esto usamos de la librería [`likefit`](https://pypi.org/project/likefit/), la función de costo binomial, $ J(p) = 2 \\, n \\left[  \\hat{p} \\, \\ln\\left( \\frac{\\hat{p}}{p} \\right) +  (1-\\hat{p}) \\, \\ln\\left( \\frac{1-\\hat{p}}{1-p} \\right)  \\right]$:"
   ]
  },
  {
   "cell_type": "markdown",
   "id": "7b685c64-e2df-4a7f-b1cd-c29d255df5bc",
   "metadata": {},
   "source": [
    "Install the library likefit if not already installed"
   ]
  },
  {
   "cell_type": "code",
   "execution_count": null,
   "id": "897e56cc-be15-47fe-af38-1ec8393a8528",
   "metadata": {},
   "outputs": [],
   "source": [
    "pip install likefit"
   ]
  },
  {
   "cell_type": "code",
   "execution_count": null,
   "id": "582210bd-3ff3-488a-99f1-73cd571df816",
   "metadata": {},
   "outputs": [],
   "source": [
    "import likefit\n",
    "def cost(x):\n",
    "    return likefit.binomial_cost(x, k_obs, ntrials) "
   ]
  },
  {
   "cell_type": "markdown",
   "id": "e2f28791-e715-44c0-aa13-ff388559c826",
   "metadata": {},
   "source": [
    "Debemos encontrar los valores del parámetro $p$ a los que la función de costo es igual $m^2$ para encontrar el intervalo $m$σ. Realizamos este procedimiento buscando la raíz de la función de costo menos $m^2$: "
   ]
  },
  {
   "cell_type": "code",
   "execution_count": null,
   "id": "0abbbe0b-bac8-44dd-bce8-b5c27959f770",
   "metadata": {},
   "outputs": [],
   "source": [
    "msigma = 1\n",
    "def delta_cost(x):\n",
    "    return cost(x) - msigma**2"
   ]
  },
  {
   "cell_type": "code",
   "execution_count": null,
   "id": "c8f6f790-c1a7-403c-8d7f-462012a53109",
   "metadata": {},
   "outputs": [],
   "source": [
    "from scipy.optimize import brentq\n",
    "proba_down = brentq(delta_cost, a=0.01, b=proba_est)  \n",
    "proba_up = brentq(delta_cost, a=proba_est, b=0.99) \n",
    "print(f\"Confidence interval: [{proba_down:.3f},{proba_up:.3f}]\")"
   ]
  },
  {
   "cell_type": "markdown",
   "id": "0ca8d2cf-d4bc-40b7-926a-a5894692af08",
   "metadata": {},
   "source": [
    "Reportamos un intervalo asimétrico:"
   ]
  },
  {
   "cell_type": "code",
   "execution_count": null,
   "id": "29c7a19e-88e0-43bb-ad20-5a371bf5f2fe",
   "metadata": {},
   "outputs": [],
   "source": [
    "error_down = proba_est - proba_down\n",
    "error_up =  proba_up - proba_est\n",
    "print(f\"p = {proba_est} +{error_up:.3f} -{error_down:.3f}\")"
   ]
  },
  {
   "cell_type": "markdown",
   "id": "9139ec1f-037a-455f-8db0-2173188c8055",
   "metadata": {},
   "source": [
    "## Errores parabólicos "
   ]
  },
  {
   "cell_type": "markdown",
   "id": "34186358-36f7-46d5-b72b-ec2e2da29cfa",
   "metadata": {},
   "source": [
    "De esta forma calculamos númericamente el intervalo de confianza con la función de verosimilitud. También podríamos calcular analíticamente los errores parabólicos $\\delta p = m \\, \\left( \\frac{1}{2} \\, \\frac{\\partial^2 J(p)}{ \\partial p^2 }\\Big|_{\\hat{p}} \\right)^{-1/2} = m \\, \\sqrt{ \\frac{\\hat{p} \\, (1-\\hat{p})}{n}   }$:"
   ]
  },
  {
   "cell_type": "code",
   "execution_count": null,
   "id": "e2628682-da2b-4402-a10a-cd04b4e0a611",
   "metadata": {},
   "outputs": [],
   "source": [
    "import math\n",
    "parabolic_error = msigma * math.sqrt(proba_est * (1 - proba_est) / ntrials )\n",
    "print(f\"p = {proba_est} ±  {parabolic_error:.3f}\")"
   ]
  },
  {
   "cell_type": "markdown",
   "id": "5c7e2c3c-0653-4c49-a141-f5bbf528f570",
   "metadata": {},
   "source": [
    "Los errores parabólicos son iguales a los que obtendríamos de aproximar la distribución de $\\hat{p}$ por una normal. Veamos primero que la media del estimador es igual al valor del parámetro, $\\mathrm{E}(\\hat{p}) = p$; esto es, no tiene sesgo. A su vez, la varianza es $\\mathrm{Var}(\\hat{p}) = (1-p) p / n$. Como no conocemos el parámetro $p$, para estimar la varianza usamos el valor del estimador en su lugar, $\\mathrm{Var}(\\hat{p}) = (1-\\hat{p}) \\hat{p} / n$. El error de $p$ para $\\hat{p}$ normal es la desviación estándar de $\\hat{p}$, que justamente coincide con la definición de $\\delta p$ que dimos más arriba. "
   ]
  },
  {
   "cell_type": "markdown",
   "id": "1da3b348-3413-41d0-8c60-e1006f306fae",
   "metadata": {},
   "source": [
    "## Plot del intervalo"
   ]
  },
  {
   "cell_type": "markdown",
   "id": "6bbc6f9a-74b7-4fcd-8679-50ccd4b76477",
   "metadata": {},
   "source": [
    "Definimos un rango de algunos pocos sigmas alrededor del estimador de máxima verosimilitud para graficar la función de costo:"
   ]
  },
  {
   "cell_type": "code",
   "execution_count": null,
   "id": "71408593-c932-483e-9158-629a1281f4a5",
   "metadata": {},
   "outputs": [],
   "source": [
    "import numpy as np\n",
    "proba_min = proba_est - (msigma+1) * parabolic_error\n",
    "proba_max = proba_est + (msigma+1) * parabolic_error\n",
    "proba = np.linspace(proba_min, proba_max, num=100) "
   ]
  },
  {
   "cell_type": "code",
   "execution_count": null,
   "id": "cd2239fe-1c71-46eb-a5d7-0faa4621e681",
   "metadata": {},
   "outputs": [],
   "source": [
    "cost = likefit.binomial_cost(proba, k_obs, ntrials)"
   ]
  },
  {
   "cell_type": "markdown",
   "id": "9c762694-1337-4e8d-ad58-75f5c4275709",
   "metadata": {},
   "source": [
    "Ploteamos la función de costo"
   ]
  },
  {
   "cell_type": "code",
   "execution_count": null,
   "id": "27b20e7c-412d-4ed0-bd34-f5dd7696ca35",
   "metadata": {},
   "outputs": [],
   "source": [
    "import matplotlib.pyplot as plt\n",
    "fig, ax = plt.subplots()\n",
    "ax.set_xlabel(\"Bernoulli probability\")\n",
    "ax.set_ylabel(\"Cost\")\n",
    "ax.plot(proba, cost)\n",
    "ax.axhline(0, ls='--', color='tab:gray')\n",
    "ax.axhline(msigma**2, ls='--', color='tab:orange', label=\"1σ\")\n",
    "ax.vlines(x=proba_down, ymin=0, ymax=msigma**2)\n",
    "ax.text(proba_down, 0.5, \"$p_1$ \", horizontalalignment='right')\n",
    "ax.vlines(x=proba_up, ymin=0, ymax=msigma**2)\n",
    "ax.text(proba_up, 0.5, \" $p_2$\", horizontalalignment='left')\n",
    "fig.tight_layout()\n",
    "# fig.savefig(\"intervalo_binomial.svg\")"
   ]
  },
  {
   "cell_type": "code",
   "execution_count": null,
   "id": "486197f6-6718-4577-bdb0-2d56359cf191",
   "metadata": {},
   "outputs": [],
   "source": []
  }
 ],
 "metadata": {
  "kernelspec": {
   "display_name": "Python 3 (ipykernel)",
   "language": "python",
   "name": "python3"
  },
  "language_info": {
   "codemirror_mode": {
    "name": "ipython",
    "version": 3
   },
   "file_extension": ".py",
   "mimetype": "text/x-python",
   "name": "python",
   "nbconvert_exporter": "python",
   "pygments_lexer": "ipython3",
   "version": "3.10.12"
  }
 },
 "nbformat": 4,
 "nbformat_minor": 5
}
