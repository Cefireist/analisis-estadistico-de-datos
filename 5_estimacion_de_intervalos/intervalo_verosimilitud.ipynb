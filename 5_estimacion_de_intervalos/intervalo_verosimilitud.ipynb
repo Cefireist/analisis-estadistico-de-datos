{
 "cells": [
  {
   "cell_type": "code",
   "execution_count": null,
   "id": "27126f9b-0f0f-4068-a54b-74cc49907790",
   "metadata": {},
   "outputs": [],
   "source": []
  }
 ],
 "metadata": {
  "kernelspec": {
   "display_name": "Python 3 (ipykernel)",
   "language": "python",
   "name": "python3"
  },
  "language_info": {
   "codemirror_mode": {
    "name": "ipython",
    "version": 3
   },
   "file_extension": ".py",
   "mimetype": "text/x-python",
   "name": "python",
   "nbconvert_exporter": "python",
   "pygments_lexer": "ipython3",
   "version": "3.10.12"
  }
 },
 "nbformat": 4,
 "nbformat_minor": 5
}
