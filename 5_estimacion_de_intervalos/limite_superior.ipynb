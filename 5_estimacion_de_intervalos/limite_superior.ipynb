{
 "cells": [
  {
   "cell_type": "markdown",
   "id": "5e36a44d-19d1-4a65-9754-92cc90308424",
   "metadata": {},
   "source": [
    "# Límite superior para una variable de Poisson"
   ]
  },
  {
   "cell_type": "markdown",
   "id": "8bb39669-5595-499f-8c34-3a121c19fd36",
   "metadata": {},
   "source": [
    "Esta demo calcula el límite superior del parámetro μ de una distribución de Poisson"
   ]
  },
  {
   "cell_type": "markdown",
   "id": "41b432d5-48a5-40d7-991f-6d245ebb3ca1",
   "metadata": {},
   "source": [
    "Definimos el nivel de confianza del límite superior:"
   ]
  },
  {
   "cell_type": "code",
   "execution_count": null,
   "id": "ba190ff5-8267-42c5-8bf9-a5cdaff19a6b",
   "metadata": {},
   "outputs": [],
   "source": [
    "confidence_level = 0.9"
   ]
  },
  {
   "cell_type": "markdown",
   "id": "f7cbbebe-44e8-4865-90d4-f09c8d4117c5",
   "metadata": {},
   "source": [
    "Y la probabilidad de la cola inferior de la distribución:"
   ]
  },
  {
   "cell_type": "code",
   "execution_count": null,
   "id": "b883edd7-2e8c-427b-92ce-ccd4f04af25f",
   "metadata": {},
   "outputs": [],
   "source": [
    "tail_probability = 1 - confidence_level"
   ]
  },
  {
   "cell_type": "markdown",
   "id": "01b41c98-1250-4667-a4bf-4adaedb8d174",
   "metadata": {},
   "source": [
    "Consideramos un rango de valores observados de la variable aleatoria de Poisson $k \\sim \\mathrm{Poisson}(\\mu)$:"
   ]
  },
  {
   "cell_type": "code",
   "execution_count": null,
   "id": "d50ba69e-ea6c-45e2-a11c-319356e3f7a0",
   "metadata": {},
   "outputs": [],
   "source": [
    "import numpy as np\n",
    "kmax = 10\n",
    "k = np.arange(0, kmax+1)"
   ]
  },
  {
   "cell_type": "markdown",
   "id": "7bfc1033-857b-4ffc-8a41-a910fdfba11b",
   "metadata": {},
   "source": [
    "Para cada valor posible $k_{obs}$, calculamos el valor de $\\mu$ tal que $P(k \\le k_{obs}) = 1 - \\mathrm{CL}$: "
   ]
  },
  {
   "cell_type": "code",
   "execution_count": null,
   "id": "d563c371-2c04-49e8-88d4-e9043d9a1f9b",
   "metadata": {},
   "outputs": [],
   "source": [
    "from scipy.stats import poisson\n",
    "from scipy.optimize import brentq\n",
    "\n",
    "upper_limit = []\n",
    "\n",
    "for k_i in k:\n",
    "   \n",
    "    # CDF complement minus the target confidence level \n",
    "    def f(mu):\n",
    "        # fixed random variable and free parameter mu as in a likelihood function\n",
    "        return poisson.cdf(k_i, mu) - tail_probability\n",
    "\n",
    "    # Searching the value of mu that sets the CDF complement equal to the target confidence level\n",
    "    mu_i =  brentq(f, a=0, b=100)\n",
    "\n",
    "    # This is the upper limit for the observed k_i\n",
    "    upper_limit.append(mu_i)"
   ]
  },
  {
   "cell_type": "markdown",
   "id": "9488692d-97d3-41da-a5e4-05c6c6b9cdd3",
   "metadata": {},
   "source": [
    "Como en este problema la variable aleatoria es discreta, es más práctico calcular el cinturón de confianza en un solo paso en lugar del procedimiento de dos pasos que usamos hasta ahora. Los límites toman valores discretos como la variable aleatoria aunque no son valores enteros. La siguiente figura muestra la función de distribución acumulada para uno de los límites superiores de $\\mu$ encontrados:  "
   ]
  },
  {
   "cell_type": "code",
   "execution_count": null,
   "id": "8d515367-82db-4d3f-9e1e-5cd4e13326c5",
   "metadata": {
    "scrolled": true
   },
   "outputs": [],
   "source": [
    "import matplotlib.pyplot as plt\n",
    "fig, ax = plt.subplots()\n",
    "ax.set_xlabel(\"$k$\")\n",
    "ax.set_ylabel(\"$F(k)$\")\n",
    "\n",
    "# Select event to plot\n",
    "k_obs = 1\n",
    "mu_up = upper_limit[k_obs]\n",
    "\n",
    "# Plot CDF\n",
    "cumulative_probability = poisson.cdf(k, mu=mu_up)\n",
    "ax.scatter(k, cumulative_probability)\n",
    "\n",
    "# Set axis limits to control the positioning of my text  \n",
    "ymin = -0.05\n",
    "ax.set_ylim(bottom=ymin)\n",
    "xmin = -0.5\n",
    "ax.set_xlim(left=xmin)\n",
    "\n",
    "# Plot μ line \n",
    "ax.axvline(mu_up, ls='--', color='tab:green')\n",
    "ax.text(mu_up, 0.25,\"   $\\mu_{up}$\", transform = ax.get_xaxis_transform(), color='tab:green', fontsize='large')\n",
    "\n",
    "# Plot observed event coordinates\n",
    "ax.vlines(x=k_obs, ymin=ymin, ymax=tail_probability, ls='--', color='tab:orange')\n",
    "ax.text(k_obs, ymin,\"   $k_{obs}$\", ha='center', va='top', color='tab:orange', fontsize='large')\n",
    "ax.hlines(y=tail_probability, xmin=xmin, xmax=k_obs, ls='--', color='tab:orange')\n",
    "ax.text(xmin, tail_probability,\"$1 - CL$  \", ha='right', va='center', color='tab:orange', fontsize='large')\n",
    "\n",
    "ax.text(0.7, 0.5, f\"CL = {confidence_level} \\n $k_{{obs}} = {k_obs}$ \\n $\\mu_{{up}}$ = {mu_up:.2f}\", transform=ax.transAxes)\n",
    "\n",
    "\n",
    "fig.savefig(\"limite_superior.svg\")"
   ]
  },
  {
   "cell_type": "markdown",
   "id": "7a2f34ea-1a21-4d91-ab0a-cdc197e50deb",
   "metadata": {},
   "source": [
    "Vemos que para este valor $\\mu_{up}$ la probabilidad que k sea menor o igual al dato observado es igual a 1 menos el nivel de confianza. Este es justamente el criterio que usamos para encontrar $\\mu_{up}$. "
   ]
  },
  {
   "cell_type": "markdown",
   "id": "332cc59b-2cd9-4993-acb0-674a9a6bb2fa",
   "metadata": {},
   "source": [
    "Mostramos los límites superiores de $\\mu$ para cada $k$ observado:"
   ]
  },
  {
   "cell_type": "code",
   "execution_count": null,
   "id": "8e611ddd-a3c3-496f-8d98-804164f36734",
   "metadata": {},
   "outputs": [],
   "source": [
    "import pandas as pd\n",
    "df = pd.DataFrame({\"$\\mu_{up}$\": upper_limit}, index=k)\n",
    "df.index.name = \"k\"\n",
    "df"
   ]
  },
  {
   "cell_type": "markdown",
   "id": "fe56d3d9-c38a-4327-8b42-f68bafdcc5f2",
   "metadata": {},
   "source": [
    "Ploteamos el cinturón de confianza"
   ]
  },
  {
   "cell_type": "code",
   "execution_count": null,
   "id": "1ae87ca7-7bb5-4a92-b97a-d4b0c8355f2a",
   "metadata": {},
   "outputs": [],
   "source": [
    "import matplotlib.pyplot as plt\n",
    "fig, ax = plt.subplots()\n",
    "ax.set_xlabel(\"$\\mu$\")\n",
    "ax.set_ylabel(\"$k$\")\n",
    "mu = np.linspace(0, upper_limit[-1], 100)\n",
    "ax.plot(mu, mu, label=\"Mean\")\n",
    "ax.plot(upper_limit, k, ls='', marker='o', label=\"$\\mu_{up}$\")\n",
    "ax.set_xlim(left=0)\n",
    "ax.legend()"
   ]
  },
  {
   "cell_type": "markdown",
   "id": "d784e961-1f80-4927-b649-110ff8542aab",
   "metadata": {},
   "source": [
    "El cinturón de confianza es discreto al igual que la variable $k$."
   ]
  },
  {
   "cell_type": "markdown",
   "id": "0400e6fe-6200-41e1-a148-0dbab583fcd2",
   "metadata": {},
   "source": [
    "El caso más frecuente de uso del límite superior es en un experimento que se observan cero eventos, $k=0$. En este caso el límite superior del parámetro de Poisson es $\\mu_{up} = 2.30$. En la práctica se usa un límite más laxo $\\mu_{up} = 2.44$ que unifica el método para calcular intervalos de confianza y límites. Más detalles sobre esto en: [G. J. Feldman and R. D. Cousins, Phys. Rev. D57, 3873 (1998)]( \t\n",
    "https://doi.org/10.1103/PhysRevD.57.3873).  "
   ]
  }
 ],
 "metadata": {
  "kernelspec": {
   "display_name": "Python 3 (ipykernel)",
   "language": "python",
   "name": "python3"
  },
  "language_info": {
   "codemirror_mode": {
    "name": "ipython",
    "version": 3
   },
   "file_extension": ".py",
   "mimetype": "text/x-python",
   "name": "python",
   "nbconvert_exporter": "python",
   "pygments_lexer": "ipython3",
   "version": "3.10.12"
  }
 },
 "nbformat": 4,
 "nbformat_minor": 5
}
