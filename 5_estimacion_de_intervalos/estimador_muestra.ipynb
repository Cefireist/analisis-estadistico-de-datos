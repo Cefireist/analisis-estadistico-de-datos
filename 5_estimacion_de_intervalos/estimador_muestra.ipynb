{
 "cells": [
  {
   "cell_type": "markdown",
   "metadata": {},
   "source": [
    "## Estimador vs. tamaño de una muestra"
   ]
  },
  {
   "cell_type": "markdown",
   "metadata": {},
   "source": [
    "Consideramos una muestra de datos medidos en un experimento. Modelamos cada resultado como una variable alearoria $X$ que sigue una distribución normal con media μ desconocida y desviación estándar σ conocida, $X_i \\sim N(\\mu,\\sigma)$. Representamos una muestra con el vector aleatorio, $X = (X_1, X_1, \\cdots, X_n)$, dónde n es el tamaño de la muestra. "
   ]
  },
  {
   "cell_type": "markdown",
   "metadata": {},
   "source": [
    "Desviación estándar"
   ]
  },
  {
   "cell_type": "code",
   "execution_count": null,
   "metadata": {},
   "outputs": [],
   "source": [
    "sigma = 1.8"
   ]
  },
  {
   "cell_type": "markdown",
   "metadata": {},
   "source": [
    "## Muestra 1"
   ]
  },
  {
   "cell_type": "markdown",
   "metadata": {},
   "source": [
    "Consideramos primero una muestra de cinco datos:"
   ]
  },
  {
   "cell_type": "code",
   "execution_count": null,
   "metadata": {},
   "outputs": [],
   "source": [
    "import numpy as np\n",
    "x1 = np.array([27.37, 26.79, 27.84, 25.03, 27.85])"
   ]
  },
  {
   "cell_type": "code",
   "execution_count": null,
   "metadata": {},
   "outputs": [],
   "source": [
    "sample_size1 = len(x1)\n",
    "sample_size1"
   ]
  },
  {
   "cell_type": "markdown",
   "metadata": {},
   "source": [
    "El estimador de la media μ es, $\\bar{X}_1 = \\sum_{i=1}^5 X_i$:"
   ]
  },
  {
   "cell_type": "code",
   "execution_count": null,
   "metadata": {
    "scrolled": true
   },
   "outputs": [],
   "source": [
    "mu_est_1 = np.mean(x1)\n",
    "print(f\"{mu_est_1:2.2f}\")"
   ]
  },
  {
   "cell_type": "markdown",
   "metadata": {},
   "source": [
    "La desviación estándar de la media muestral es:"
   ]
  },
  {
   "cell_type": "code",
   "execution_count": null,
   "metadata": {},
   "outputs": [],
   "source": [
    "import math\n",
    "sigma_sample_mean_1 = sigma / math.sqrt(sample_size1)\n",
    "print(f\"{sigma_sample_mean_1:2.2f}\")"
   ]
  },
  {
   "cell_type": "markdown",
   "metadata": {},
   "source": [
    "## Muestra 2"
   ]
  },
  {
   "cell_type": "markdown",
   "metadata": {},
   "source": [
    "Tomamos otros cinco nuevos datos con nuestro experimento:"
   ]
  },
  {
   "cell_type": "code",
   "execution_count": null,
   "metadata": {},
   "outputs": [],
   "source": [
    "x2 = np.array([23.89, 24.33, 26.44, 24.61, 27.45])"
   ]
  },
  {
   "cell_type": "markdown",
   "metadata": {},
   "source": [
    "Combinamos los diez datos en una sola muestra para aprovechar toda la información disponible:"
   ]
  },
  {
   "cell_type": "code",
   "execution_count": null,
   "metadata": {},
   "outputs": [],
   "source": [
    "x = np.concatenate([x1,x2])\n",
    "x"
   ]
  },
  {
   "cell_type": "code",
   "execution_count": null,
   "metadata": {},
   "outputs": [],
   "source": [
    "sample_size2 = len(x)\n",
    "sample_size2"
   ]
  },
  {
   "cell_type": "markdown",
   "metadata": {},
   "source": [
    "Calculamos el estimador de μ con todos los datos, $\\bar{X}_2 = \\sum_{i=1}^{10} X_i$::"
   ]
  },
  {
   "cell_type": "code",
   "execution_count": null,
   "metadata": {},
   "outputs": [],
   "source": [
    "mu_est_2 = np.mean(x)\n",
    "print(f'{mu_est_2:2.2f}')"
   ]
  },
  {
   "cell_type": "markdown",
   "metadata": {},
   "source": [
    "El estimador de μ cambia cuando tomamos más datos."
   ]
  },
  {
   "cell_type": "markdown",
   "metadata": {},
   "source": [
    "Calculamos la desviación estándar del estimador de μ"
   ]
  },
  {
   "cell_type": "code",
   "execution_count": null,
   "metadata": {},
   "outputs": [],
   "source": [
    "sigma_mean = sigma / math.sqrt(sample_size2)\n",
    "print(f'{sigma_mean:2.2f}')"
   ]
  },
  {
   "cell_type": "markdown",
   "metadata": {},
   "source": [
    "Debido a que el tamaño de la muestra 2 es mayor al de la muestra 1, las fluctuaciones de la media muestral $\\bar{X}_2$ son menores a las de $\\bar{X}_1$. "
   ]
  },
  {
   "cell_type": "markdown",
   "metadata": {},
   "source": [
    "Recordemos que, dado que $X$ es una variable normal, la media muestral es un estimador sin sesgo de la media μ. Por lo tanto, las medias muestrales fluctúan alrededor de la media μ. Entonces, la variable aleatoria $\\bar{X}_2$ fluctúa menos *alrededor de μ* que $\\bar{X}_1$. Sin embargo para un experimento en particular, como el que estamos mostrando, desconocemos cuáles de las dos medias muestrales están más cerca de la media μ. Por ejemplo puede haber pasado que por azar el evento $\\bar{X}_1 = \\bar{x}_1$ sea más cercano a μ que el evento $\\bar{X}_2 = \\bar{x}_2$. "
   ]
  }
 ],
 "metadata": {
  "kernelspec": {
   "display_name": "Python 3 (ipykernel)",
   "language": "python",
   "name": "aed_demos"
  },
  "language_info": {
   "codemirror_mode": {
    "name": "ipython",
    "version": 3
   },
   "file_extension": ".py",
   "mimetype": "text/x-python",
   "name": "python",
   "nbconvert_exporter": "python",
   "pygments_lexer": "ipython3",
   "version": "3.10.12"
  }
 },
 "nbformat": 4,
 "nbformat_minor": 4
}
