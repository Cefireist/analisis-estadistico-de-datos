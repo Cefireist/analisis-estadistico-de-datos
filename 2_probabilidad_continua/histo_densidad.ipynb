{
 "cells": [
  {
   "cell_type": "markdown",
   "metadata": {
    "id": "FzEcosTiVOco"
   },
   "source": [
    "# Histogramas de frecuencia y densidad"
   ]
  },
  {
   "cell_type": "code",
   "execution_count": 1,
   "metadata": {
    "executionInfo": {
     "elapsed": 3,
     "status": "ok",
     "timestamp": 1693507018894,
     "user": {
      "displayName": "Diego Ravignani Guerrero",
      "userId": "10540030550289703153"
     },
     "user_tz": 180
    },
    "id": "W2UlvWJnVOcs"
   },
   "outputs": [],
   "source": [
    "import numpy as np\n",
    "import matplotlib.pyplot as plt\n",
    "from scipy.stats import norm"
   ]
  },
  {
   "cell_type": "markdown",
   "metadata": {
    "id": "3lgL3LnLVOcs"
   },
   "source": [
    "## Simulación de los datos"
   ]
  },
  {
   "cell_type": "code",
   "execution_count": 2,
   "metadata": {
    "executionInfo": {
     "elapsed": 483,
     "status": "ok",
     "timestamp": 1693507042659,
     "user": {
      "displayName": "Diego Ravignani Guerrero",
      "userId": "10540030550289703153"
     },
     "user_tz": 180
    },
    "id": "gX-WT2IuVOct"
   },
   "outputs": [],
   "source": [
    "rng = np.random.default_rng(seed=6870)\n",
    "nevents = 1000\n",
    "data = rng.normal(size=nevents)"
   ]
  },
  {
   "cell_type": "code",
   "execution_count": 3,
   "metadata": {
    "colab": {
     "base_uri": "https://localhost:8080/"
    },
    "executionInfo": {
     "elapsed": 332,
     "status": "ok",
     "timestamp": 1693507059273,
     "user": {
      "displayName": "Diego Ravignani Guerrero",
      "userId": "10540030550289703153"
     },
     "user_tz": 180
    },
    "id": "LPJpvIu74t6K",
    "outputId": "70f2eee7-7839-4e21-a7af-094a6646a6f1"
   },
   "outputs": [
    {
     "data": {
      "text/plain": [
       "array([-8.03600555e-01,  8.00611287e-01, -6.59963198e-01, -8.12641682e-01,\n",
       "        7.03268093e-01,  1.32635076e+00, -4.47615971e-01,  2.26303976e+00,\n",
       "       -1.24969587e+00, -2.12706489e+00,  1.65409153e+00, -3.84486595e-01,\n",
       "        3.81456297e-02, -9.88156993e-01,  1.55862346e+00, -1.06766983e+00,\n",
       "       -2.42087567e-01, -1.43125382e+00, -1.25310833e+00, -7.34242118e-01,\n",
       "       -4.85442486e-01,  3.10154745e+00,  2.17091359e+00, -1.76630388e-01,\n",
       "       -1.05104867e+00, -1.58728550e+00,  1.47557579e+00,  7.71892851e-02,\n",
       "       -1.23951467e+00, -1.90289970e-01,  1.75036707e+00,  4.74727305e-01,\n",
       "        3.20165582e-01, -1.15844734e+00,  1.15751238e+00, -2.37015018e-01,\n",
       "        2.04586616e+00, -1.74366354e+00, -9.25026631e-01, -1.50720967e+00,\n",
       "        9.81741873e-02,  1.16615127e+00,  7.49344255e-01, -1.21536601e-01,\n",
       "       -4.51239967e-01,  7.31849816e-01, -3.26690642e-01, -8.22252132e-01,\n",
       "       -3.97216713e-01,  1.25801152e-01, -1.29893601e+00,  7.16327194e-01,\n",
       "       -1.15995375e+00, -2.81134110e-01,  1.12311880e+00,  6.82325004e-01,\n",
       "        2.63566895e+00,  4.69513193e-01, -1.03908977e+00, -9.55476129e-01,\n",
       "        1.03979631e+00, -1.48826313e+00,  9.63385614e-01, -5.38216501e-01,\n",
       "        1.73602938e+00,  9.43294193e-01, -1.90635602e-01,  1.91627820e+00,\n",
       "        6.05946225e-01, -1.09767584e+00, -7.64456957e-01,  4.37249688e-01,\n",
       "       -2.76156363e-01,  6.96345879e-01, -1.02863866e+00, -5.03551267e-01,\n",
       "       -2.86842341e-01, -6.18821276e-01,  5.87489218e-01, -2.72404197e-01,\n",
       "       -1.75264695e+00,  1.24924272e-01, -2.01549245e+00, -1.45850684e-01,\n",
       "        1.82062053e+00,  1.82139874e-03,  2.75983701e-01, -1.70235116e+00,\n",
       "       -4.44331634e-01,  1.54573090e+00,  9.69998756e-01, -8.05448685e-01,\n",
       "       -1.34566741e-01, -4.72562275e-02, -7.95226680e-01, -1.87301106e+00,\n",
       "        4.67110982e-01, -6.72131988e-01,  1.85560426e-01, -2.12543430e+00,\n",
       "       -1.09376704e+00,  1.08744841e+00, -2.64938765e-01, -3.04933357e+00,\n",
       "        7.27914964e-02, -2.20228762e+00,  6.01165494e-01,  9.60657545e-01,\n",
       "        7.97096785e-01,  3.81666271e-01,  9.59546141e-01,  6.29476078e-01,\n",
       "        6.52526366e-01,  1.52228306e+00, -1.90906879e+00, -5.95601342e-01,\n",
       "        5.00009220e-01,  1.05704128e+00, -1.17448604e+00, -4.38960544e-01,\n",
       "        1.09726882e+00, -1.40914528e+00, -1.36163096e+00, -1.03448616e-01,\n",
       "        4.11728910e-01, -1.67364672e-01, -8.26692929e-01, -1.12465098e+00,\n",
       "       -7.85488242e-01,  5.62434093e-01,  1.20009480e+00, -2.46401994e+00,\n",
       "       -2.53015934e-01,  1.43004179e-01,  5.10038362e-01, -1.88208651e-01,\n",
       "       -5.45150746e-01,  1.21116861e+00, -1.19322817e+00,  1.22973499e+00,\n",
       "        1.19770532e+00, -3.85099063e-01,  1.60425011e-01,  2.13145973e+00,\n",
       "       -1.24841770e+00, -5.68514994e-01,  1.35000897e+00, -1.84892231e+00,\n",
       "       -1.08036634e+00, -1.12760751e+00, -6.25041741e-01,  9.73951553e-01,\n",
       "       -1.30216301e+00,  3.76930406e-01,  1.29017392e-01,  5.81865041e-01,\n",
       "       -2.05585792e+00,  5.22056218e-01, -1.57331068e+00, -3.92866710e-01,\n",
       "        5.51391554e-01,  8.57857336e-01, -1.95796144e+00,  3.73850247e-03,\n",
       "       -6.15424249e-01,  1.24770872e+00, -1.56579944e-01, -8.80855709e-01,\n",
       "        2.15272373e+00,  1.34506887e+00,  9.28925891e-01, -3.83013347e-01,\n",
       "        5.11108834e-01, -5.95547332e-01, -2.68466721e-01, -1.25734152e+00,\n",
       "       -3.88856302e-01,  1.75402949e+00,  6.73212629e-01, -5.73486740e-01,\n",
       "       -7.88335845e-01, -1.30523207e+00,  1.44133092e+00, -9.13590190e-01,\n",
       "       -1.86057972e-02,  3.22341194e-01, -1.52681403e+00,  1.06565346e+00,\n",
       "       -9.48893727e-01, -1.31049675e+00, -8.46309821e-01,  1.46770564e+00,\n",
       "        4.80680256e-01,  1.24170659e+00, -1.88615573e-01, -6.67096184e-01,\n",
       "        3.85649594e-01,  2.02097640e-02,  5.40768161e-01,  9.97932523e-01,\n",
       "        1.62829051e+00, -2.56814045e+00,  1.58639712e+00,  1.16886338e+00,\n",
       "       -4.34430140e-02, -1.34531682e+00,  6.57434487e-02,  5.34420292e-01,\n",
       "       -1.01415142e+00,  6.06027846e-01,  1.79600455e+00, -2.00771770e+00,\n",
       "       -1.33990979e-01,  1.38893749e+00, -6.53041851e-01, -2.78429808e+00,\n",
       "        7.91602394e-01,  2.43261014e-01,  6.13770614e-01, -6.83301755e-01,\n",
       "       -1.29027899e+00,  2.26625883e-02,  2.56109640e+00,  3.87930741e-01,\n",
       "        7.65147879e-01,  8.44985635e-01,  2.30434968e-01,  1.29148446e+00,\n",
       "        1.17659782e+00,  3.19086081e-01, -2.47298197e-01, -2.26287569e-01,\n",
       "       -1.24954096e+00,  1.04510236e+00,  4.20931299e-01,  6.64096120e-01,\n",
       "        6.93363643e-01,  1.72420333e+00, -3.34633669e-01,  1.65611708e+00,\n",
       "        2.59761957e-01, -9.00769507e-01, -5.61144848e-01,  1.98505428e-01,\n",
       "       -1.69862573e+00, -1.93526036e+00, -2.04501794e-01,  6.73464199e-02,\n",
       "       -4.88853660e-01, -1.70927934e+00, -2.49696779e+00,  2.46997659e-01,\n",
       "       -1.51392823e+00, -3.24136519e-01,  6.08573156e-01, -1.00464874e-01,\n",
       "       -3.05157173e-01,  1.26506716e+00,  3.94822624e-01, -1.07768997e+00,\n",
       "        7.95261433e-01, -2.48636744e-01,  4.22551612e-02,  3.35363952e-01,\n",
       "       -1.81857849e+00, -7.05834254e-01, -3.21783793e-01, -6.78134665e-01,\n",
       "       -4.23455405e-01,  5.16072655e-03,  8.59592855e-02, -1.02169024e-01,\n",
       "       -1.73215788e-01, -1.30889220e-01, -1.09989631e+00, -1.31628985e-01,\n",
       "        1.51197866e+00,  6.24013064e-01, -4.19570390e-01, -8.46353591e-02,\n",
       "       -1.03649178e+00, -1.19079429e+00, -1.43460752e+00, -1.81697933e-01,\n",
       "        4.79060765e-01, -8.32836800e-01, -3.58709972e-01,  1.22261862e+00,\n",
       "       -4.38578528e-01, -1.05543212e+00, -1.20638321e+00, -2.32814299e+00,\n",
       "       -4.39349066e-01,  1.74991258e+00, -9.91232447e-03,  2.50914589e+00,\n",
       "       -1.23854574e+00, -1.70175618e+00,  2.13071290e-01,  2.01510265e-01,\n",
       "        9.53504151e-01,  3.68735249e-01,  3.16208881e-01,  8.87685487e-02,\n",
       "       -7.87105287e-03, -6.81637047e-01,  7.35516461e-01, -2.13176031e+00,\n",
       "        2.09864207e+00, -1.08636280e+00, -8.96136219e-01, -9.24770000e-01,\n",
       "       -5.75945223e-01, -1.99139051e+00, -3.38329289e-01,  5.23565665e-01,\n",
       "       -1.81526636e-01,  6.78247220e-01, -7.67110671e-01,  2.98555263e-01,\n",
       "       -1.12562116e+00,  8.56096510e-01, -9.48611573e-01,  9.47731852e-01,\n",
       "        9.03920274e-01, -4.67883365e-01, -1.51450990e+00, -5.82104500e-01,\n",
       "        1.80405940e+00,  1.11676750e-02,  4.59960810e-01,  4.00661444e-01,\n",
       "        1.44436552e-01,  1.83038203e+00, -8.49852347e-01, -1.87080386e+00,\n",
       "       -1.50576049e+00,  2.08981292e+00,  5.88114714e-01,  5.41374836e-01,\n",
       "       -3.57374076e-01, -1.55532139e+00,  5.90093271e-01,  7.63354280e-01,\n",
       "       -4.53548577e-01, -1.05209652e+00,  1.03048517e+00,  5.29555683e-01,\n",
       "        6.89749958e-01, -8.41664564e-01, -3.77378471e-01, -6.45278763e-01,\n",
       "       -1.21656285e+00, -1.65750755e-01,  4.33189233e-01, -1.60157495e+00,\n",
       "       -1.87005491e-01, -2.62853307e+00, -3.26241229e-02,  2.61763053e-01,\n",
       "        4.43029971e-01, -1.63821530e-02,  4.95825772e-01, -1.90963544e-01,\n",
       "        4.04527251e-01,  1.24166056e-01,  1.32927249e-01, -8.52615633e-01,\n",
       "       -1.10450132e-01, -1.61628311e+00, -6.18612742e-01, -1.13672891e-01,\n",
       "        5.02899156e-02,  1.52475315e+00, -1.53867536e+00,  2.52335809e-01,\n",
       "        4.02304529e-01,  1.99697128e+00, -8.21001287e-01,  1.85521984e+00,\n",
       "       -1.54182246e+00,  5.03311585e-01, -4.64857033e-01,  2.12181578e+00,\n",
       "       -1.35372182e+00, -1.12372543e+00, -5.76654228e-01, -5.20613103e-01,\n",
       "        7.02079323e-01, -9.05263410e-02,  2.04569843e+00, -4.51702342e-01,\n",
       "        1.45002520e-01, -8.03899674e-01, -2.42823684e-01, -4.54200165e-01,\n",
       "        7.19572102e-01,  1.84105029e+00,  3.48426078e-01,  3.36434831e-01,\n",
       "        1.76769543e-01, -6.72343468e-02,  1.07002333e-01, -1.83623868e-01,\n",
       "       -5.09254784e-02,  9.17014400e-01,  1.15880936e+00,  1.17298238e+00,\n",
       "        1.03859850e+00,  6.59969317e-01,  7.10731014e-02, -9.28122274e-01,\n",
       "        8.00293523e-01, -3.87807419e-01,  1.23256617e+00, -9.06808225e-02,\n",
       "        9.61591511e-01,  4.22574303e-01, -1.04233060e+00, -1.12975399e-01,\n",
       "       -1.00594978e+00, -1.54280633e+00, -2.35073337e+00, -9.51072620e-01,\n",
       "        2.21713263e-01,  2.90229767e-01, -9.80571529e-01,  6.21249888e-02,\n",
       "        7.61156401e-01, -1.04879937e+00, -7.80073373e-01, -7.09590900e-01,\n",
       "       -4.36689278e-01,  6.60529201e-01,  5.95193689e-03, -6.86355924e-01,\n",
       "        9.82837243e-01, -1.53383926e+00,  9.69512839e-01,  2.59898015e+00,\n",
       "       -3.96469929e-01, -1.48227395e+00,  1.48810911e+00,  1.90862199e+00,\n",
       "       -5.47206763e-02, -1.16948004e+00, -2.26060761e-01, -3.38806081e-02,\n",
       "       -1.10844369e+00, -1.08578167e+00,  1.74848634e-01,  1.16783698e+00,\n",
       "        1.64552032e+00,  1.74931377e-02, -1.05913162e+00,  1.39903254e+00,\n",
       "        5.77033864e-01, -2.15762760e-01,  3.47559908e-01, -5.70847256e-01,\n",
       "       -4.80723590e-01, -1.38537871e+00, -4.85198965e-01, -1.13268926e+00,\n",
       "        2.72298643e-01,  1.19575756e+00, -2.29950388e+00,  4.86798235e-01,\n",
       "        4.06331086e-01, -8.42983244e-01,  6.53567717e-01, -5.59050838e-01,\n",
       "       -1.63095359e-01,  2.17408999e-02,  2.51977848e-01,  8.38096003e-01,\n",
       "        7.34619878e-01, -2.37880334e-01,  6.64455629e-01,  3.12428237e-01,\n",
       "        3.23272795e-01,  1.15348003e+00, -7.37214155e-01, -7.65460798e-01,\n",
       "       -3.86964792e-01, -1.32206853e-01, -3.79872428e-01, -1.65988922e-02,\n",
       "        3.91662132e-02, -1.85484733e+00,  1.46475100e+00,  2.11109271e+00,\n",
       "       -1.08562255e+00,  5.68416589e-01,  8.58794222e-01,  1.54252374e+00,\n",
       "        1.12014101e+00,  9.15881382e-01, -5.91251337e-01, -1.24707626e+00,\n",
       "       -1.31071175e-01, -2.31164436e-01, -6.38565953e-01, -8.28555974e-01,\n",
       "        3.21548139e-01, -7.26554414e-01, -1.78881047e+00, -9.35487864e-01,\n",
       "       -9.21985669e-02,  1.85700736e-01, -2.71245230e-01,  1.46063214e+00,\n",
       "        6.87704279e-01, -5.27455277e-01,  1.50664535e+00, -2.78112437e-01,\n",
       "       -9.07498271e-01, -1.16727593e+00, -2.85405953e-01, -1.67918056e-01,\n",
       "        1.84882725e+00, -4.95510821e-01, -3.30887514e-01,  1.15927645e+00,\n",
       "       -1.60998354e-01,  2.64869549e-01,  8.44572204e-01, -1.39259293e-02,\n",
       "       -1.67527299e-01, -1.08461353e+00,  2.22574069e-02,  2.75332062e-01,\n",
       "       -5.15973598e-01,  7.11607841e-02,  1.91087227e+00, -2.23382473e+00,\n",
       "        6.66722019e-01, -1.33861775e-01,  3.14569841e-01,  4.00540381e-01,\n",
       "       -5.33722673e-02, -2.65827095e-01, -4.20848901e-01,  8.34984168e-01,\n",
       "        2.79028509e-01,  1.19311045e-01, -8.40280616e-01, -1.41200412e+00,\n",
       "       -3.18530458e-01, -9.10266588e-01, -1.94991474e+00,  2.23499000e-01,\n",
       "        8.88025607e-01,  2.01210599e-01,  5.40172565e-01, -6.55660704e-01,\n",
       "        7.93009613e-01,  1.58093027e+00,  1.43508272e+00,  1.27089244e-01,\n",
       "        1.29419553e+00, -6.07698132e-01,  1.21761530e+00, -4.41586787e-01,\n",
       "       -3.52801123e-02, -1.76374105e+00,  4.78268690e-01,  9.04565327e-01,\n",
       "       -7.75409646e-01,  4.69150978e-01,  6.01976723e-01,  2.93064090e-01,\n",
       "        1.76682977e+00,  8.50086791e-01,  4.80632576e-01,  5.05962522e-01,\n",
       "        5.11003130e-01,  5.02314356e-01, -1.47218116e+00, -9.34561765e-01,\n",
       "       -5.91702121e-01,  1.25820054e+00,  2.50052297e-01,  6.39792035e-01,\n",
       "        8.04282552e-01, -1.84151647e-01,  1.14602056e+00,  1.05036840e+00,\n",
       "       -1.79372563e-01, -3.92753907e-01,  2.97403193e-01,  4.33798332e-01,\n",
       "        1.94766958e+00, -3.06304324e+00,  3.99728036e-01,  7.16601270e-02,\n",
       "       -6.38664263e-01, -8.64488819e-01, -4.25785529e-01,  3.87797492e-01,\n",
       "        9.18615934e-01,  2.46962757e-01,  9.39372213e-01, -1.79100419e+00,\n",
       "       -4.46037215e-01,  2.28604825e-01,  1.00476651e+00, -6.70642815e-01,\n",
       "        2.00491942e+00, -7.30965451e-01, -8.52081407e-01,  1.42324118e+00,\n",
       "        1.56814005e-01,  3.66065750e-01,  2.34588153e-01,  6.84070144e-02,\n",
       "       -5.68094982e-01, -9.14740973e-01, -3.82535686e-01,  2.09940236e+00,\n",
       "       -1.85520387e+00, -9.21249816e-01, -1.11611768e+00, -6.13605549e-01,\n",
       "       -2.21347066e+00,  6.46474902e-01, -6.75219537e-01, -1.20778925e+00,\n",
       "       -2.56043076e+00, -4.40919422e-01, -1.19952114e+00, -2.70658390e-01,\n",
       "        1.73611936e+00, -1.27086374e-01, -1.39878177e+00,  1.17992112e+00,\n",
       "       -1.89562335e+00,  1.30202129e+00,  1.11476541e+00,  6.19060584e-01,\n",
       "       -6.38542821e-01,  7.20824567e-01,  3.42750032e-01,  4.99830432e-01,\n",
       "        1.21407149e-02, -8.47257070e-01,  6.41861308e-01,  5.02063683e-01,\n",
       "       -3.20282280e-01,  2.24527972e-01, -2.67567169e-01,  3.45655655e-02,\n",
       "       -1.61087010e+00, -4.41937610e-01,  2.65239593e-01,  1.27011984e-01,\n",
       "       -2.29905075e-01, -7.59701025e-02, -1.21837130e+00, -6.34186894e-01,\n",
       "        2.07640295e-01,  1.14047243e-01,  2.03466930e+00,  4.30012148e-01,\n",
       "       -1.31555223e-01, -1.48416415e+00, -5.17703819e-02, -9.19901351e-01,\n",
       "        1.52195298e+00,  1.26394588e+00,  1.93500714e+00,  2.27927707e-01,\n",
       "       -6.69248911e-01, -3.98409614e-01,  1.38293131e-01,  8.90352069e-01,\n",
       "       -1.35552690e-01,  1.52449232e+00,  1.34375588e+00, -2.05250575e+00,\n",
       "       -9.24443296e-01, -5.13050019e-01, -7.73715733e-01, -8.77041825e-01,\n",
       "       -1.32173260e+00, -7.83683090e-01, -3.20674031e-01, -1.19108606e+00,\n",
       "       -1.94433173e+00, -1.23594889e+00, -3.89073678e-01,  8.03586304e-02,\n",
       "        4.94625698e-01,  8.15579202e-01, -4.41650770e-01, -1.34804195e+00,\n",
       "        6.22681433e-02,  5.16773382e-01,  6.50780229e-01, -3.04713949e-01,\n",
       "       -1.03759991e+00, -1.10087896e-01,  7.97645113e-01, -1.51720412e+00,\n",
       "        8.44315449e-01,  8.90379650e-01,  4.03874207e-01, -8.96249673e-01,\n",
       "       -2.27325357e-01, -5.38748847e-01,  2.78066991e-02,  1.77786241e+00,\n",
       "        4.27277208e-02, -1.22935162e+00,  3.93682580e-01,  1.58046352e+00,\n",
       "        2.60755684e-01,  5.79291331e-02, -5.13723028e-01, -3.57788833e-01,\n",
       "       -1.00094830e+00, -1.15557875e+00,  9.02925636e-01,  6.36543759e-01,\n",
       "       -5.74231503e-03,  6.77555463e-01,  7.78202222e-01,  2.94808507e-01,\n",
       "        7.76260544e-01,  5.47811658e-01,  4.55768900e-01,  7.50552647e-03,\n",
       "        1.22434921e+00,  1.86902072e+00, -1.80048201e+00, -1.79488169e-01,\n",
       "       -1.73889212e+00, -1.45885045e-01, -2.06825914e-01,  4.59320213e-01,\n",
       "       -1.39080259e+00,  3.91469678e-01, -5.75303700e-01,  5.92123783e-01,\n",
       "       -1.19745332e+00,  8.50848729e-01, -8.86706223e-01, -4.13892148e-01,\n",
       "        1.17403015e+00,  9.34846900e-01, -1.98297943e-01, -1.62864717e-01,\n",
       "        7.92176634e-01, -4.77678248e-02, -5.66629820e-01, -7.40715397e-01,\n",
       "        8.17231864e-01,  5.24027432e-01,  1.19470061e+00, -1.07377359e-01,\n",
       "       -1.19277680e-02,  2.11593807e+00, -1.52284326e-01, -2.16038972e-01,\n",
       "       -6.91994942e-01, -8.43516965e-01,  5.25071361e-01, -1.19484746e+00,\n",
       "        2.21099836e+00,  5.70653370e-01, -3.53610217e-01, -1.22975337e+00,\n",
       "       -1.59314447e+00, -5.75765310e-02, -1.94295132e+00, -9.22319828e-01,\n",
       "       -3.03944496e-01,  1.31168215e+00, -3.29229284e-01, -1.37185060e+00,\n",
       "        2.42899647e+00, -5.52232571e-02,  4.00622531e-01,  5.93333782e-01,\n",
       "       -1.83703951e-01, -1.39662912e+00,  1.79481692e+00, -8.24935406e-01,\n",
       "       -1.06849610e+00,  1.94483531e+00, -7.60660365e-01,  1.44129177e-01,\n",
       "        7.08409904e-01,  5.83999159e-02,  1.88906552e+00, -3.46009384e-01,\n",
       "       -5.04337141e-01, -4.69495218e-01,  1.53571167e+00,  7.07748594e-01,\n",
       "       -6.80150238e-01,  1.42032379e+00, -1.91121620e+00,  9.76717778e-01,\n",
       "        6.93853798e-01,  9.90238224e-02,  5.57230785e-01, -1.49735932e+00,\n",
       "       -7.45325344e-01, -7.21050860e-02, -6.09588280e-01,  6.07543075e-01,\n",
       "       -6.04251027e-02,  3.76412734e-02, -3.69010057e-01, -5.50483516e-01,\n",
       "       -3.00181270e-01,  7.68796989e-01, -1.11367803e+00, -6.77220903e-01,\n",
       "       -2.39800176e+00, -1.44364351e-01, -7.43101605e-01, -5.01206192e-01,\n",
       "        8.28317336e-01,  6.54975492e-01,  1.15561554e+00,  7.12783052e-01,\n",
       "        1.10398015e+00, -4.35291691e-01,  6.89961195e-01, -8.57869218e-01,\n",
       "       -7.45523128e-01,  4.22519912e-01,  1.55837843e+00,  9.92999344e-01,\n",
       "        1.89306973e-01, -5.48495509e-01, -5.68299174e-01, -1.06711030e-01,\n",
       "       -4.81527285e-01, -3.25865683e-01, -6.79301165e-01, -4.29443161e-01,\n",
       "       -1.02051325e+00, -2.41229518e+00,  5.65296331e-02,  2.62354963e-02,\n",
       "        1.08164104e-01,  2.52466713e-01,  1.35896340e-01, -3.90073015e-01,\n",
       "       -2.57566931e-01, -6.67300472e-01, -4.84784502e-01,  3.49864036e-01,\n",
       "        2.47487299e-01,  1.28285818e-01, -2.28210195e-01, -6.60264162e-01,\n",
       "       -3.71133432e-01, -4.47382844e-01, -6.02674571e-01, -1.03783644e+00,\n",
       "       -2.59331272e-01,  4.24773872e-01, -1.05234085e+00, -9.04188811e-01,\n",
       "       -7.56239233e-01, -7.05251909e-01, -2.35292816e+00,  1.30106800e+00,\n",
       "       -6.32654366e-02,  7.59495883e-01, -9.34031053e-02,  8.39002605e-02,\n",
       "       -3.36727153e-01, -5.73066572e-01, -1.91232729e-01, -3.28414783e-01,\n",
       "        1.02877149e+00, -4.88896870e-01, -1.04168358e+00,  5.90601634e-01,\n",
       "       -6.78885651e-01, -1.34501813e-01, -5.27465556e-01, -1.12079581e-01,\n",
       "       -3.73673598e-01,  2.01411788e-01, -4.99637073e-01,  2.46381764e-01,\n",
       "        9.62559691e-01,  6.19380710e-01,  6.51822577e-03,  1.27268761e+00,\n",
       "        1.94713808e-02, -1.37194313e+00, -9.22480566e-01, -1.99933909e+00,\n",
       "       -8.97208702e-01, -1.62474772e-01, -6.00841945e-01, -1.07890991e+00,\n",
       "       -1.64220687e-01, -1.57627537e+00,  1.38332011e-01,  1.52664077e+00,\n",
       "        3.08753927e+00,  1.54864210e-01,  8.32380807e-01,  2.39958362e+00,\n",
       "       -1.76459994e-01,  2.75962532e-01,  1.12939155e+00,  3.28776555e-01,\n",
       "       -7.86737798e-03, -8.52209651e-02, -4.65731057e-01,  3.95087869e-01,\n",
       "       -1.18289721e+00,  9.82192001e-01, -1.97206533e+00, -1.98430432e-01,\n",
       "        5.43845625e-02,  1.63765150e+00, -1.54755329e+00,  5.44183403e-01,\n",
       "       -6.10084215e-01, -1.71508247e+00,  1.47776771e+00, -6.29069126e-01,\n",
       "        3.11415024e-01,  9.69722108e-02,  1.88022494e-01, -6.16358025e-01,\n",
       "       -1.22315132e+00,  2.04039051e+00, -2.54261171e-01,  3.51770918e-01,\n",
       "        2.32040690e+00, -7.46964955e-01, -1.48194961e+00, -2.30320952e-01,\n",
       "        2.38583771e+00,  2.66438294e-01,  5.68151181e-01,  5.07233611e-01,\n",
       "        1.42431477e+00, -1.41288019e+00, -1.27259519e-01, -9.83453625e-01,\n",
       "        8.36709283e-01,  2.20391603e-01,  1.50263930e+00,  3.35336424e-01,\n",
       "        2.86845960e-01,  7.34271147e-01,  6.96756095e-01,  2.26201369e-01,\n",
       "        1.53860365e+00,  8.24714182e-01,  1.58791074e+00,  9.99884144e-01,\n",
       "       -8.21774436e-01, -8.57198148e-01,  9.86751175e-01,  5.46348391e-01,\n",
       "        2.44156638e-02,  8.68336630e-01,  1.23679805e+00, -9.55662604e-01,\n",
       "       -7.01781640e-01, -9.14311897e-01,  4.08917139e-01, -1.37797659e+00,\n",
       "        3.78267006e-01,  1.20501337e+00,  1.78668460e-01,  1.15672244e-01,\n",
       "       -1.08403019e+00,  1.68791451e+00, -8.47862262e-01, -1.68167525e+00,\n",
       "        1.65743858e-01, -2.69695245e-02,  3.93062934e-01,  8.48444925e-01,\n",
       "       -7.19302374e-01,  7.63170655e-01,  1.75405506e+00, -3.48687743e-01,\n",
       "        5.28054826e-01, -6.23775938e-02, -7.11150961e-01,  3.55466590e-01,\n",
       "       -1.37292844e+00,  1.44047692e+00,  7.04110677e-02,  1.00116457e+00])"
      ]
     },
     "execution_count": 3,
     "metadata": {},
     "output_type": "execute_result"
    }
   ],
   "source": [
    "data"
   ]
  },
  {
   "cell_type": "markdown",
   "metadata": {
    "id": "IYE_seLGVOcu"
   },
   "source": [
    "## Histograma de frecuencia"
   ]
  },
  {
   "cell_type": "code",
   "execution_count": 4,
   "metadata": {
    "executionInfo": {
     "elapsed": 300,
     "status": "ok",
     "timestamp": 1693507074566,
     "user": {
      "displayName": "Diego Ravignani Guerrero",
      "userId": "10540030550289703153"
     },
     "user_tz": 180
    },
    "id": "Qor3erO8VOcu",
    "scrolled": false
   },
   "outputs": [],
   "source": [
    "xmin, xmax = -5, 5\n",
    "frequency_histo, bin_edges = np.histogram(data, bins=20, range=[xmin, xmax])\n",
    "xbin = ( bin_edges[:-1] + bin_edges[1:] ) / 2\n",
    "# same width for all bins\n",
    "bin_width = bin_edges[1] - bin_edges[0]\n",
    "scale_factor = nevents * bin_width"
   ]
  },
  {
   "cell_type": "code",
   "execution_count": 5,
   "metadata": {
    "colab": {
     "base_uri": "https://localhost:8080/"
    },
    "executionInfo": {
     "elapsed": 264,
     "status": "ok",
     "timestamp": 1693507098419,
     "user": {
      "displayName": "Diego Ravignani Guerrero",
      "userId": "10540030550289703153"
     },
     "user_tz": 180
    },
    "id": "64UwC5ITVOcv",
    "outputId": "7bdb40a8-e9ce-43c7-97e6-d3fa01c47fc2",
    "scrolled": false
   },
   "outputs": [
    {
     "data": {
      "text/plain": [
       "array([-5. , -4.5, -4. , -3.5, -3. , -2.5, -2. , -1.5, -1. , -0.5,  0. ,\n",
       "        0.5,  1. ,  1.5,  2. ,  2.5,  3. ,  3.5,  4. ,  4.5,  5. ])"
      ]
     },
     "execution_count": 5,
     "metadata": {},
     "output_type": "execute_result"
    }
   ],
   "source": [
    "bin_edges"
   ]
  },
  {
   "cell_type": "code",
   "execution_count": 6,
   "metadata": {
    "colab": {
     "base_uri": "https://localhost:8080/"
    },
    "executionInfo": {
     "elapsed": 297,
     "status": "ok",
     "timestamp": 1693507111899,
     "user": {
      "displayName": "Diego Ravignani Guerrero",
      "userId": "10540030550289703153"
     },
     "user_tz": 180
    },
    "id": "97iPL9yZVOcv",
    "outputId": "63d0b21c-ceb2-43b0-e096-fbf377aacd87"
   },
   "outputs": [
    {
     "data": {
      "text/plain": [
       "array([-4.75, -4.25, -3.75, -3.25, -2.75, -2.25, -1.75, -1.25, -0.75,\n",
       "       -0.25,  0.25,  0.75,  1.25,  1.75,  2.25,  2.75,  3.25,  3.75,\n",
       "        4.25,  4.75])"
      ]
     },
     "execution_count": 6,
     "metadata": {},
     "output_type": "execute_result"
    }
   ],
   "source": [
    "xbin"
   ]
  },
  {
   "cell_type": "code",
   "execution_count": 7,
   "metadata": {},
   "outputs": [
    {
     "data": {
      "text/plain": [
       "0.5"
      ]
     },
     "execution_count": 7,
     "metadata": {},
     "output_type": "execute_result"
    }
   ],
   "source": [
    "bin_width"
   ]
  },
  {
   "cell_type": "code",
   "execution_count": 8,
   "metadata": {
    "colab": {
     "base_uri": "https://localhost:8080/"
    },
    "executionInfo": {
     "elapsed": 261,
     "status": "ok",
     "timestamp": 1693507084522,
     "user": {
      "displayName": "Diego Ravignani Guerrero",
      "userId": "10540030550289703153"
     },
     "user_tz": 180
    },
    "id": "P-cMRjWlVOcv",
    "outputId": "0cf700ab-6153-435b-b48c-aa1046053c74"
   },
   "outputs": [
    {
     "data": {
      "text/plain": [
       "array([  0,   0,   0,   2,   4,  18,  49,  96, 149, 201, 184, 150,  71,\n",
       "        50,  20,   4,   2,   0,   0,   0])"
      ]
     },
     "execution_count": 8,
     "metadata": {},
     "output_type": "execute_result"
    }
   ],
   "source": [
    "frequency_histo"
   ]
  },
  {
   "cell_type": "markdown",
   "metadata": {
    "id": "llo6U5CXVOcv"
   },
   "source": [
    "Factor de escala: $ n \\, \\Delta x $"
   ]
  },
  {
   "cell_type": "code",
   "execution_count": 9,
   "metadata": {
    "colab": {
     "base_uri": "https://localhost:8080/"
    },
    "executionInfo": {
     "elapsed": 288,
     "status": "ok",
     "timestamp": 1693507127974,
     "user": {
      "displayName": "Diego Ravignani Guerrero",
      "userId": "10540030550289703153"
     },
     "user_tz": 180
    },
    "id": "rGyftKXvVOcv",
    "outputId": "6d87ccb2-1519-41a6-b51f-3d7d6d37bb54",
    "scrolled": true
   },
   "outputs": [
    {
     "data": {
      "text/plain": [
       "500.0"
      ]
     },
     "execution_count": 9,
     "metadata": {},
     "output_type": "execute_result"
    }
   ],
   "source": [
    "scale_factor"
   ]
  },
  {
   "cell_type": "code",
   "execution_count": 10,
   "metadata": {
    "colab": {
     "base_uri": "https://localhost:8080/",
     "height": 449
    },
    "executionInfo": {
     "elapsed": 913,
     "status": "ok",
     "timestamp": 1693507146047,
     "user": {
      "displayName": "Diego Ravignani Guerrero",
      "userId": "10540030550289703153"
     },
     "user_tz": 180
    },
    "id": "tDTLks_LVOcv",
    "outputId": "0a5edcf6-8c5b-4352-e36b-d98f80f32ad8",
    "scrolled": true
   },
   "outputs": [
    {
     "data": {
      "text/plain": [
       "<matplotlib.legend.Legend at 0x7fe5eacc5db0>"
      ]
     },
     "execution_count": 10,
     "metadata": {},
     "output_type": "execute_result"
    },
    {
     "data": {
      "image/png": "[encoded data removed]",
      "text/plain": [
       "<Figure size 480x360 with 1 Axes>"
      ]
     },
     "metadata": {},
     "output_type": "display_data"
    }
   ],
   "source": [
    "fig1, ax1 = plt.subplots()\n",
    "ax1.set_xlabel('X')\n",
    "ax1.set_ylabel('Frecuencia')\n",
    "\n",
    "ax1.plot(xbin, frequency_histo, ls='None', marker='o', label=\"Datos\")\n",
    "x = np.linspace(xmin, xmax, 256)\n",
    "ax1.plot(x, norm.pdf(x)*scale_factor, label='PDF')\n",
    "ax1.legend()"
   ]
  },
  {
   "cell_type": "markdown",
   "metadata": {
    "id": "ashlkvZcVOcv"
   },
   "source": [
    "## Histograma de densidad\n"
   ]
  },
  {
   "cell_type": "code",
   "execution_count": 11,
   "metadata": {
    "colab": {
     "base_uri": "https://localhost:8080/",
     "height": 449
    },
    "executionInfo": {
     "elapsed": 900,
     "status": "ok",
     "timestamp": 1693419240669,
     "user": {
      "displayName": "Diego Ravignani Guerrero",
      "userId": "10540030550289703153"
     },
     "user_tz": 180
    },
    "id": "8fiuYikfVOcw",
    "outputId": "f61d0573-f5d2-4d62-e8d1-9316c3fbbd63"
   },
   "outputs": [
    {
     "data": {
      "text/plain": [
       "<matplotlib.legend.Legend at 0x7fe5ead49840>"
      ]
     },
     "execution_count": 11,
     "metadata": {},
     "output_type": "execute_result"
    },
    {
     "data": {
      "image/png": "[encoded data removed]",
      "text/plain": [
       "<Figure size 480x360 with 1 Axes>"
      ]
     },
     "metadata": {},
     "output_type": "display_data"
    }
   ],
   "source": [
    "fig2, ax2 = plt.subplots()\n",
    "ax2.set_xlabel(\"X\")\n",
    "ax2.set_ylabel(\"Densidad\")\n",
    "\n",
    "density_histo,_ = np.histogram(data, bins=20, range=[xmin, xmax], density=True)\n",
    "ax2.plot(xbin, density_histo, ls='None', marker='o', label=\"Datos\")\n",
    "ax2.plot(x, norm.pdf(x), label='PDF')\n",
    "ax2.legend()"
   ]
  }
 ],
 "metadata": {
  "colab": {
   "provenance": []
  },
  "kernelspec": {
   "display_name": "Python 3 (ipykernel)",
   "language": "python",
   "name": "python3"
  },
  "language_info": {
   "codemirror_mode": {
    "name": "ipython",
    "version": 3
   },
   "file_extension": ".py",
   "mimetype": "text/x-python",
   "name": "python",
   "nbconvert_exporter": "python",
   "pygments_lexer": "ipython3",
   "version": "3.10.12"
  }
 },
 "nbformat": 4,
 "nbformat_minor": 1
}
