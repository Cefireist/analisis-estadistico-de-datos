{
 "cells": [
  {
   "cell_type": "markdown",
   "metadata": {
    "id": "obcl0jnH4h04"
   },
   "source": [
    "# Suma de variables uniformes"
   ]
  },
  {
   "cell_type": "markdown",
   "metadata": {
    "id": "BP5wRqUf1TXX"
   },
   "source": [
    "Ejemplo del teorema central del límite. El código simula n variables continuas con distribución uniforme entre 0 y 1. Luego construye un histograma de frecuencias con la suma de las variables y lo compara con una distribución Normal."
   ]
  },
  {
   "cell_type": "markdown",
   "metadata": {
    "id": "rplNz4Wd1TXY"
   },
   "source": [
    "$X = \\sum_{i=1}^{n} X_i, \\; X_i \\sim \\mathrm{U}(0,1)$"
   ]
  },
  {
   "cell_type": "code",
   "execution_count": null,
   "metadata": {
    "executionInfo": {
     "elapsed": 1061,
     "status": "ok",
     "timestamp": 1693397982279,
     "user": {
      "displayName": "Diego Ravignani Guerrero",
      "userId": "10540030550289703153"
     },
     "user_tz": 180
    },
    "id": "u8ENxgTz1TXZ"
   },
   "outputs": [],
   "source": [
    "import math\n",
    "import numpy as np\n",
    "from scipy.stats import norm"
   ]
  },
  {
   "cell_type": "markdown",
   "metadata": {
    "id": "o-RJsCGx1TXZ"
   },
   "source": [
    "## Simulación Monte Carlo"
   ]
  },
  {
   "cell_type": "markdown",
   "metadata": {
    "id": "1OGwmes31TXZ"
   },
   "source": [
    "Número de variables a sumar"
   ]
  },
  {
   "cell_type": "code",
   "execution_count": null,
   "metadata": {
    "executionInfo": {
     "elapsed": 12,
     "status": "ok",
     "timestamp": 1693397982280,
     "user": {
      "displayName": "Diego Ravignani Guerrero",
      "userId": "10540030550289703153"
     },
     "user_tz": 180
    },
    "id": "fTHlabYo1TXa"
   },
   "outputs": [],
   "source": [
    "nvariables = 10"
   ]
  },
  {
   "cell_type": "markdown",
   "metadata": {
    "id": "aGDN3eOK1TXa"
   },
   "source": [
    "Número de simulaciones"
   ]
  },
  {
   "cell_type": "code",
   "execution_count": null,
   "metadata": {
    "executionInfo": {
     "elapsed": 12,
     "status": "ok",
     "timestamp": 1693397982281,
     "user": {
      "displayName": "Diego Ravignani Guerrero",
      "userId": "10540030550289703153"
     },
     "user_tz": 180
    },
    "id": "jBK8djVS1TXa"
   },
   "outputs": [],
   "source": [
    "nsimulations = 100000"
   ]
  },
  {
   "cell_type": "markdown",
   "metadata": {
    "id": "fhEwB8oQ1TXa"
   },
   "source": [
    "Generador de números aleatorios"
   ]
  },
  {
   "cell_type": "code",
   "execution_count": null,
   "metadata": {
    "executionInfo": {
     "elapsed": 13,
     "status": "ok",
     "timestamp": 1693397982283,
     "user": {
      "displayName": "Diego Ravignani Guerrero",
      "userId": "10540030550289703153"
     },
     "user_tz": 180
    },
    "id": "Ruetsl8p1TXa"
   },
   "outputs": [],
   "source": [
    "rng = np.random.default_rng(seed=6870)"
   ]
  },
  {
   "cell_type": "markdown",
   "metadata": {
    "id": "micENv4A1TXa"
   },
   "source": [
    "Arreglo para guardar los datos"
   ]
  },
  {
   "cell_type": "code",
   "execution_count": null,
   "metadata": {
    "executionInfo": {
     "elapsed": 12,
     "status": "ok",
     "timestamp": 1693397982283,
     "user": {
      "displayName": "Diego Ravignani Guerrero",
      "userId": "10540030550289703153"
     },
     "user_tz": 180
    },
    "id": "Oj1qpxYh1TXa",
    "scrolled": true
   },
   "outputs": [],
   "source": [
    "data = []"
   ]
  },
  {
   "cell_type": "code",
   "execution_count": null,
   "metadata": {
    "executionInfo": {
     "elapsed": 1506,
     "status": "ok",
     "timestamp": 1693397983778,
     "user": {
      "displayName": "Diego Ravignani Guerrero",
      "userId": "10540030550289703153"
     },
     "user_tz": 180
    },
    "id": "7nDubq9h1TXb"
   },
   "outputs": [],
   "source": [
    "for i in range(nsimulations):\n",
    "    # print(\"Iteración \", i)\n",
    "    x = rng.random(size=nvariables)     # distribución uniforme [0,1)\n",
    "    # print(\"x = \", x)\n",
    "    x_sum = x.sum()\n",
    "    # print(\"z = \", z)\n",
    "    data.append(x_sum)"
   ]
  },
  {
   "cell_type": "markdown",
   "metadata": {
    "id": "SGJ89xcH1TXb"
   },
   "source": [
    "## Momentos de X"
   ]
  },
  {
   "cell_type": "code",
   "execution_count": null,
   "metadata": {
    "colab": {
     "base_uri": "https://localhost:8080/"
    },
    "executionInfo": {
     "elapsed": 54,
     "status": "ok",
     "timestamp": 1693397983779,
     "user": {
      "displayName": "Diego Ravignani Guerrero",
      "userId": "10540030550289703153"
     },
     "user_tz": 180
    },
    "id": "7BXI1Pkb1TXb",
    "outputId": "5523c1ab-d80e-4536-9470-a87ec1512261"
   },
   "outputs": [],
   "source": [
    "mu = nvariables / 2\n",
    "print(f'Media: {mu}')"
   ]
  },
  {
   "cell_type": "code",
   "execution_count": null,
   "metadata": {
    "colab": {
     "base_uri": "https://localhost:8080/"
    },
    "executionInfo": {
     "elapsed": 35,
     "status": "ok",
     "timestamp": 1693397983780,
     "user": {
      "displayName": "Diego Ravignani Guerrero",
      "userId": "10540030550289703153"
     },
     "user_tz": 180
    },
    "id": "tgTr1KTN1TXb",
    "outputId": "4575655d-348d-4691-a135-517e9b2bb81f"
   },
   "outputs": [],
   "source": [
    "sigma = math.sqrt(nvariables/12)\n",
    "print(f'Desviación estándar: {sigma}')"
   ]
  },
  {
   "cell_type": "markdown",
   "metadata": {
    "id": "n2R1lDMJ1TXc"
   },
   "source": [
    "## Histograma de frecuencia"
   ]
  },
  {
   "cell_type": "code",
   "execution_count": null,
   "metadata": {
    "executionInfo": {
     "elapsed": 32,
     "status": "ok",
     "timestamp": 1693397983781,
     "user": {
      "displayName": "Diego Ravignani Guerrero",
      "userId": "10540030550289703153"
     },
     "user_tz": 180
    },
    "id": "49DVZVnV1TXc",
    "scrolled": true
   },
   "outputs": [],
   "source": [
    "import danatools\n",
    "xmin, xmax = mu-3*sigma, mu+3*sigma\n",
    "frequency, bin_centres = danatools.histogram(data, bins=20, range=[xmin, xmax])"
   ]
  },
  {
   "cell_type": "markdown",
   "metadata": {
    "id": "0tHxnuwU1TXc"
   },
   "source": [
    "Normalización de la distribución"
   ]
  },
  {
   "cell_type": "code",
   "execution_count": null,
   "metadata": {
    "colab": {
     "base_uri": "https://localhost:8080/"
    },
    "executionInfo": {
     "elapsed": 29,
     "status": "ok",
     "timestamp": 1693397983784,
     "user": {
      "displayName": "Diego Ravignani Guerrero",
      "userId": "10540030550289703153"
     },
     "user_tz": 180
    },
    "id": "6zrY-yMn1TXc",
    "outputId": "f4d74202-d9a0-4e64-dbc0-6a59351885c3"
   },
   "outputs": [],
   "source": [
    "# same width for all bins\n",
    "bin_width = bin_centres[1] - bin_centres[0]\n",
    "scale_factor = nsimulations * bin_width\n",
    "scale_factor"
   ]
  },
  {
   "cell_type": "markdown",
   "metadata": {},
   "source": [
    "Frecuencia relativa"
   ]
  },
  {
   "cell_type": "code",
   "execution_count": null,
   "metadata": {},
   "outputs": [],
   "source": [
    "relative_frequency = frequency / scale_factor"
   ]
  },
  {
   "cell_type": "markdown",
   "metadata": {
    "id": "U_ap6FDH1TXc"
   },
   "source": [
    "## Distribución Normal"
   ]
  },
  {
   "cell_type": "code",
   "execution_count": null,
   "metadata": {
    "executionInfo": {
     "elapsed": 25,
     "status": "ok",
     "timestamp": 1693397983784,
     "user": {
      "displayName": "Diego Ravignani Guerrero",
      "userId": "10540030550289703153"
     },
     "user_tz": 180
    },
    "id": "HAzRUr1B1TXd"
   },
   "outputs": [],
   "source": [
    "x = np.linspace(xmin, xmax, 100)\n",
    "y = norm.pdf(x, loc=mu, scale=sigma)"
   ]
  },
  {
   "cell_type": "code",
   "execution_count": null,
   "metadata": {
    "colab": {
     "base_uri": "https://localhost:8080/",
     "height": 569
    },
    "executionInfo": {
     "elapsed": 25,
     "status": "ok",
     "timestamp": 1693397983785,
     "user": {
      "displayName": "Diego Ravignani Guerrero",
      "userId": "10540030550289703153"
     },
     "user_tz": 180
    },
    "id": "6NV55Kcj1TXd",
    "outputId": "048df033-80a6-45fa-d102-9c0c9dbf9dd9"
   },
   "outputs": [],
   "source": [
    "import matplotlib.pyplot as plt\n",
    "fig, ax = plt.subplots()\n",
    "ax.set_xlabel(\"$X = \\sum X_i$\")\n",
    "ax.set_ylabel(\"Probability density\")\n",
    "ax.plot(bin_centres, relative_frequency, ls='None', marker='o', label=\"Monte Carlo\")\n",
    "ax.plot(x, y, ls='--', label=\"PDF\")\n",
    "ax.set_ylim(bottom=0)\n",
    "ax.legend()"
   ]
  }
 ],
 "metadata": {
  "colab": {
   "provenance": []
  },
  "kernelspec": {
   "display_name": "Python 3 (ipykernel)",
   "language": "python",
   "name": "python3"
  },
  "language_info": {
   "codemirror_mode": {
    "name": "ipython",
    "version": 3
   },
   "file_extension": ".py",
   "mimetype": "text/x-python",
   "name": "python",
   "nbconvert_exporter": "python",
   "pygments_lexer": "ipython3",
   "version": "3.10.12"
  }
 },
 "nbformat": 4,
 "nbformat_minor": 4
}
