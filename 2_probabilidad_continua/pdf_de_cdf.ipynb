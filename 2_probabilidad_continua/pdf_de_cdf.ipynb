{
 "cells": [
  {
   "cell_type": "markdown",
   "id": "3f0f57f5-2bcf-41c4-8d8e-fc63c4b61a55",
   "metadata": {},
   "source": [
    "# CDF de una variable aleatoria"
   ]
  },
  {
   "cell_type": "markdown",
   "id": "f24f6c20-b6e0-41e1-96fb-f660c530ae0f",
   "metadata": {},
   "source": [
    "Este cuaderno muestra un ejemplo que la CDF de una variable aleatoria sigue un distribución uniforme entre 0 y 1"
   ]
  },
  {
   "cell_type": "markdown",
   "id": "2357a022-82ab-41e0-abd6-ba17b3515307",
   "metadata": {},
   "source": [
    "$X$ cualquier variable aleatoria y hacemos el cambio de variables $Y = F_X(X) \\Rightarrow Y \\sim U(0, 1)$"
   ]
  },
  {
   "cell_type": "code",
   "execution_count": null,
   "id": "e39557c6-0aea-40c0-a9b8-162eebe272c3",
   "metadata": {},
   "outputs": [],
   "source": [
    "import numpy as np\n",
    "rng = np.random.default_rng(seed=6870)"
   ]
  },
  {
   "cell_type": "code",
   "execution_count": null,
   "id": "c52ed1a9-c36f-4081-932a-c4bfbc5ff54e",
   "metadata": {},
   "outputs": [],
   "source": [
    "nsimulations = 100000"
   ]
  },
  {
   "cell_type": "markdown",
   "id": "fa518dae-addd-4aa4-abad-d31fd19d570c",
   "metadata": {},
   "source": [
    "Generamos los datos:"
   ]
  },
  {
   "cell_type": "code",
   "execution_count": null,
   "id": "39957d2b-efc8-4af6-9b2e-6e84727f4fc8",
   "metadata": {},
   "outputs": [],
   "source": [
    "from scipy.stats import norm\n",
    "x = norm.rvs(size=nsimulations, random_state=rng)"
   ]
  },
  {
   "cell_type": "markdown",
   "id": "6c75aa0f-7bcd-479b-b36a-544d0923aab7",
   "metadata": {},
   "source": [
    "Definimos la variable $Y$ como la CDF de $X$: "
   ]
  },
  {
   "cell_type": "code",
   "execution_count": null,
   "id": "8b82cf6f-34c1-4bb5-915d-aaa11d6cd7dd",
   "metadata": {},
   "outputs": [],
   "source": [
    "y = norm.cdf(x)"
   ]
  },
  {
   "cell_type": "markdown",
   "id": "f5dfca99-11d6-47cf-9488-6f69d493d1c6",
   "metadata": {},
   "source": [
    "*Importante: usamos la misma distribución con la que generamos* $X$"
   ]
  },
  {
   "cell_type": "markdown",
   "id": "7ce609fa-6919-404c-9f8a-7517e0141624",
   "metadata": {},
   "source": [
    "Histograma de densidad de $Y$"
   ]
  },
  {
   "cell_type": "code",
   "execution_count": null,
   "id": "cea1b18d-a2fc-4e94-b591-1aa84d2e5231",
   "metadata": {},
   "outputs": [],
   "source": [
    "import danatools\n",
    "density, bin_centres = danatools.histogram(y, bins=50, range=[0, 1], density=True)"
   ]
  },
  {
   "cell_type": "markdown",
   "id": "8b4d957e-ce35-48bb-b8c2-6592fbf8db51",
   "metadata": {},
   "source": [
    "PDF Uniforme continua entre 0 y 1"
   ]
  },
  {
   "cell_type": "code",
   "execution_count": null,
   "id": "9c4fa294-846f-4b14-b93c-24d7285ca94b",
   "metadata": {},
   "outputs": [],
   "source": [
    "from scipy.stats import uniform\n",
    "x_pdf = np.linspace(start=0, stop=1, num=100)\n",
    "y_pdf = uniform.pdf(x_pdf) "
   ]
  },
  {
   "cell_type": "markdown",
   "id": "03eb26fd-e6d5-42fe-82f6-ed2c724b04b8",
   "metadata": {},
   "source": [
    "Plot de los datos y de la PDF"
   ]
  },
  {
   "cell_type": "code",
   "execution_count": null,
   "id": "3cca36b1-cdda-4922-91c4-ac136d5d674c",
   "metadata": {},
   "outputs": [],
   "source": [
    "import matplotlib.pyplot as plt\n",
    "fig, ax = plt.subplots()\n",
    "ax.set_xlabel(\"$F_X(x)$\")\n",
    "ax.set_ylabel(\"Probability density\")\n",
    "ax.plot(bin_centres, density, ls='None', marker='o', label=\"Data\")\n",
    "ax.plot(x_pdf, y_pdf, ls='--', label=\"PDF\")\n",
    "ax.set_ylim(bottom=0)\n",
    "ax.legend()"
   ]
  }
 ],
 "metadata": {
  "kernelspec": {
   "display_name": "Python 3 (ipykernel)",
   "language": "python",
   "name": "aed_demos"
  },
  "language_info": {
   "codemirror_mode": {
    "name": "ipython",
    "version": 3
   },
   "file_extension": ".py",
   "mimetype": "text/x-python",
   "name": "python",
   "nbconvert_exporter": "python",
   "pygments_lexer": "ipython3",
   "version": "3.10.12"
  }
 },
 "nbformat": 4,
 "nbformat_minor": 5
}
