{
 "cells": [
  {
   "cell_type": "markdown",
   "id": "559df1a7-b834-4bd9-ba6a-0275a2a0d0ff",
   "metadata": {},
   "source": [
    "# Suma de variables chi-cuadrado"
   ]
  },
  {
   "cell_type": "markdown",
   "id": "2c80a1f2-cdcc-4496-9eaa-e7fad3b3b8ba",
   "metadata": {},
   "source": [
    "Mostramos que la suma de dos variables chi-cuadrado con $n_1$ y $n_2$ grados de libertad es una variable chi-cuadrado con $n_1 + n_2$ grados de libertad"
   ]
  },
  {
   "cell_type": "code",
   "execution_count": null,
   "id": "6a3e1466-fb7c-4b98-a169-f1945e211a1b",
   "metadata": {},
   "outputs": [],
   "source": [
    "import numpy as np\n",
    "rng = np.random.default_rng(seed=6870)"
   ]
  },
  {
   "cell_type": "markdown",
   "id": "69473b9c-49f5-4abc-8146-357f0dc5956d",
   "metadata": {},
   "source": [
    "Grados de libertad de la primera variable chi-cuadrado"
   ]
  },
  {
   "cell_type": "code",
   "execution_count": null,
   "id": "15d2bbf5-e8d7-4884-858f-3d9626655e85",
   "metadata": {},
   "outputs": [],
   "source": [
    "ndof1 = 5"
   ]
  },
  {
   "cell_type": "markdown",
   "id": "228b9d37-336a-4399-9d7c-ebe55c5ebd81",
   "metadata": {},
   "source": [
    "Grados de libertad de la segunda variable chi-cuadrado"
   ]
  },
  {
   "cell_type": "code",
   "execution_count": null,
   "id": "159ddd61-ab0b-4efd-a7ac-d855390e1ed2",
   "metadata": {},
   "outputs": [],
   "source": [
    "ndof2 = 7"
   ]
  },
  {
   "cell_type": "markdown",
   "id": "994305c4-4260-4a6d-a1f8-455ace1703c4",
   "metadata": {},
   "source": [
    "Número de simulaciones"
   ]
  },
  {
   "cell_type": "code",
   "execution_count": null,
   "id": "7e2927f8-433c-4cd5-bb31-ec12468d7ff9",
   "metadata": {},
   "outputs": [],
   "source": [
    "nsimulations = 100000"
   ]
  },
  {
   "cell_type": "markdown",
   "id": "9348651f-93ce-421f-817e-b9bb2f8f4ba9",
   "metadata": {},
   "source": [
    "Simulamos los datos"
   ]
  },
  {
   "cell_type": "code",
   "execution_count": null,
   "id": "18667a5e-0f92-4f29-a83c-403e1f8be04e",
   "metadata": {},
   "outputs": [],
   "source": [
    "from scipy.stats import chi2\n",
    "X = chi2.rvs(df=ndof1, size=nsimulations, random_state=rng)\n",
    "Y = chi2.rvs(df=ndof2, size=nsimulations, random_state=rng)\n",
    "Z = X + Y"
   ]
  },
  {
   "cell_type": "markdown",
   "id": "b7245eeb-a638-4e70-ad97-a3b057e2b033",
   "metadata": {},
   "source": [
    "Histograma de densidad"
   ]
  },
  {
   "cell_type": "code",
   "execution_count": null,
   "id": "157bbca7-f9c0-4a02-b82a-4e4b94ca1183",
   "metadata": {},
   "outputs": [],
   "source": [
    "xmin = 0\n",
    "xmax = max(Z)\n",
    "density, bin_edges = np.histogram(Z, bins=50, range=[xmin, xmax], density=True)\n",
    "xbin = xbin = ( bin_edges[:-1] + bin_edges[1:] ) / 2"
   ]
  },
  {
   "cell_type": "markdown",
   "id": "7964407a-5a96-45fc-ab28-211ea53ac97d",
   "metadata": {},
   "source": [
    "PDF de la suma"
   ]
  },
  {
   "cell_type": "code",
   "execution_count": null,
   "id": "b193153c-877e-4eba-8ea2-4ce74e909036",
   "metadata": {},
   "outputs": [],
   "source": [
    "ndof = ndof1 + ndof2\n",
    "x_pdf = np.linspace(start=xmin, stop=xmax, num=100)\n",
    "y_pdf = chi2.pdf(x_pdf, df=ndof) "
   ]
  },
  {
   "cell_type": "markdown",
   "id": "2a82ca82-47e9-47b4-a95d-53e558d9f88f",
   "metadata": {},
   "source": [
    "Ploteo los datos y la PDF"
   ]
  },
  {
   "cell_type": "code",
   "execution_count": null,
   "id": "e8a41000-4b75-4697-866c-2fa9e66782a6",
   "metadata": {},
   "outputs": [],
   "source": [
    "import matplotlib.pyplot as plt\n",
    "fig, ax = plt.subplots()\n",
    "ax.set_xlabel(\"$Z$\")\n",
    "ax.set_ylabel(\"Probability density\")\n",
    "ax.plot(xbin, density, ls='None', marker='o', label=\"Data\")\n",
    "ax.plot(x_pdf, y_pdf, ls='--', label=\"$PDF$\")\n",
    "ax.set_ylim(bottom=0)\n",
    "ax.legend()"
   ]
  },
  {
   "cell_type": "markdown",
   "id": "70ac2bf3-7c1f-4c52-8364-2cc678e538b9",
   "metadata": {},
   "source": [
    "El histograma de densidad de la suma de la dos variables chi-cuadrado es consistente con la PDF de una distribución chi-cuadrado."
   ]
  }
 ],
 "metadata": {
  "kernelspec": {
   "display_name": "Python 3 (ipykernel)",
   "language": "python",
   "name": "python3"
  },
  "language_info": {
   "codemirror_mode": {
    "name": "ipython",
    "version": 3
   },
   "file_extension": ".py",
   "mimetype": "text/x-python",
   "name": "python",
   "nbconvert_exporter": "python",
   "pygments_lexer": "ipython3",
   "version": "3.10.12"
  }
 },
 "nbformat": 4,
 "nbformat_minor": 5
}
