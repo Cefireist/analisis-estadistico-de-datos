{
 "cells": [
  {
   "cell_type": "markdown",
   "id": "9846b74a-91b3-48cb-99d1-9fe503d44ba1",
   "metadata": {},
   "source": [
    "# Verosimilitud de una variable normal bivariada"
   ]
  },
  {
   "cell_type": "markdown",
   "id": "4e6075b8-14c6-43f8-81e7-2cdf189888ac",
   "metadata": {},
   "source": [
    "Graficamos las funciones de verosimilitud y de costo de una variable normal bivariada. Este ejemplo corresponde a un ajuste de datos de cuadrados mínimos lineal que vamos a realizar más adelante en el curso. "
   ]
  },
  {
   "cell_type": "markdown",
   "id": "0c0f32fb-94d3-447e-b011-fa377071bd4f",
   "metadata": {},
   "source": [
    "Valor medido de la variable normal bivariada: "
   ]
  },
  {
   "cell_type": "code",
   "execution_count": null,
   "id": "a4af1469-4a80-4948-8f7d-e5755b75ef49",
   "metadata": {},
   "outputs": [],
   "source": [
    "import numpy as np\n",
    "x_measured = np.array([2.119, -0.727])"
   ]
  },
  {
   "cell_type": "markdown",
   "id": "cfbb16d8-e892-4e21-b929-c38f4a158da2",
   "metadata": {},
   "source": [
    "Errores y coefficiente de correlación conocidos:"
   ]
  },
  {
   "cell_type": "code",
   "execution_count": null,
   "id": "9e8bce8b-27d4-4d31-8b29-a79af9491ac7",
   "metadata": {},
   "outputs": [],
   "source": [
    "x_sigma = np.array([0.00491, 0.0411])\n",
    "correlation_coefficient = 0.67"
   ]
  },
  {
   "cell_type": "markdown",
   "id": "89409061-06fa-41da-b1a0-f2d60659bec9",
   "metadata": {},
   "source": [
    "Construyo la matriz de covarianza"
   ]
  },
  {
   "cell_type": "code",
   "execution_count": null,
   "id": "5cdab690-8404-4ba4-80d4-836b334d5822",
   "metadata": {},
   "outputs": [],
   "source": [
    "import danatools\n",
    "covariance_matrix = danatools.covariance_matrix_2d(x_sigma[0], x_sigma[1], correlation_coefficient)"
   ]
  },
  {
   "cell_type": "markdown",
   "id": "44f01ddd-70df-4c29-8eaa-b6883baba91d",
   "metadata": {},
   "source": [
    "El estimador de máxima verosimilitud es igual al dato medido:"
   ]
  },
  {
   "cell_type": "code",
   "execution_count": null,
   "id": "b560aa86-243a-4bef-8049-71ea73d1f9ca",
   "metadata": {},
   "outputs": [],
   "source": [
    "mu_mle = x_measured"
   ]
  },
  {
   "cell_type": "markdown",
   "id": "4f2da95a-058f-4aa3-9125-10f3ea48b4c5",
   "metadata": {},
   "source": [
    "## Verosimilitud"
   ]
  },
  {
   "cell_type": "markdown",
   "id": "818d258b-286c-466c-bf29-315c78e67afe",
   "metadata": {},
   "source": [
    "La función de verosimilitud tiene como argumento el parámetro vectorial 2D $\\mu = (\\mu_1, \\mu_2)$. Cubro una región del espacio del parámetro $\\mu$ alrededor del dato observado. Fuera de esta región la función de verosimilitud es casi 0. "
   ]
  },
  {
   "cell_type": "code",
   "execution_count": null,
   "id": "ef678b0c-5e59-463b-a4dc-95d952757268",
   "metadata": {},
   "outputs": [],
   "source": [
    "nsigma = 3\n",
    "mu1_min =  x_measured[0] - nsigma * x_sigma[0]\n",
    "mu1_max =  x_measured[0] + nsigma * x_sigma[0]\n",
    "mu1 = np.linspace(mu1_min, mu1_max, num=50)"
   ]
  },
  {
   "cell_type": "code",
   "execution_count": null,
   "id": "1da891bf-fcaa-4009-8fe5-cf2bd026faeb",
   "metadata": {},
   "outputs": [],
   "source": [
    "mu2_min =  x_measured[1] - nsigma * x_sigma[1]\n",
    "mu2_max =  x_measured[1] + nsigma * x_sigma[1]\n",
    "mu2 = np.linspace(mu2_min, mu2_max, num=50)"
   ]
  },
  {
   "cell_type": "markdown",
   "id": "fbb90775-2c19-43e6-9d83-16a0d3aed612",
   "metadata": {},
   "source": [
    "Definimos una malla en el espacio de $\\mu$ para graficar la verosimilitud con matplotlib "
   ]
  },
  {
   "cell_type": "code",
   "execution_count": null,
   "id": "ac7813a7-e0a5-4c51-b31d-58cf5d6f13e5",
   "metadata": {},
   "outputs": [],
   "source": [
    "mu1_mesh, mu2_mesh = np.meshgrid(mu1, mu2)\n",
    "mu_mesh = np.dstack((mu1_mesh, mu2_mesh))\n",
    "mu_mesh"
   ]
  },
  {
   "cell_type": "markdown",
   "id": "a9ea4922-addd-453c-b62c-6b5fbb32d73f",
   "metadata": {},
   "source": [
    "Reusamos la PDF normal multivariada para la verosimilitud intercambiando la variable aleatoria $x$ y el parámetro $\\mu$: "
   ]
  },
  {
   "cell_type": "code",
   "execution_count": null,
   "id": "a17ae704-06f8-4f27-a637-6c23952d2aab",
   "metadata": {},
   "outputs": [],
   "source": [
    "from scipy.stats import multivariate_normal\n",
    "likelihood = multivariate_normal.pdf(x=mu_mesh, mean=x_measured, cov=covariance_matrix)\n",
    "likelihood.shape"
   ]
  },
  {
   "cell_type": "markdown",
   "id": "5ecd7bca-4ce8-43a1-9b95-3fc37d5aa7e5",
   "metadata": {},
   "source": [
    "Con este truco evitamos escribir la verosimilitud explícitamente. Esto es posible para la PDF normal porque la variable aleatoria $x$ y el parámetro $\\mu$ son simétricos. La PDF toma el mesh de $\\mu$ como argumento y retorna un mesh de las mismas dimensiones con los valores de la verosimilitud correspondiente a cada punto en el espacio de $\\mu$."
   ]
  },
  {
   "cell_type": "markdown",
   "id": "7bef85c8-e0b3-4c62-bb2e-c1c90aa6b062",
   "metadata": {},
   "source": [
    "Con las mesh construidas, ploteamos la verosimilitud:"
   ]
  },
  {
   "cell_type": "code",
   "execution_count": null,
   "id": "8651781e-64eb-4ce5-9a30-31313a4e4087",
   "metadata": {},
   "outputs": [],
   "source": [
    "import matplotlib.pyplot as plt\n",
    "from matplotlib import cm\n",
    "fig = plt.figure(figsize=(8, 6.5))\n",
    "ax = fig.subplots(subplot_kw={\"projection\": \"3d\"})\n",
    "ax.set_xlabel(\"$\\mu_1$\")\n",
    "ax.set_ylabel(\"$\\mu_2$\")\n",
    "ax.set_zlabel(\"Likelihood\")\n",
    "ax.plot_surface(mu1_mesh, mu2_mesh, likelihood, cmap=cm.viridis)"
   ]
  },
  {
   "cell_type": "markdown",
   "id": "96607d3e-7ad7-4c3c-9eee-325588b459a6",
   "metadata": {},
   "source": [
    "## Función de costo"
   ]
  },
  {
   "cell_type": "markdown",
   "id": "bb05710a-8d88-4be7-a189-b72233f1a735",
   "metadata": {},
   "source": [
    "En la práctica es más habitual plotear las superficies de nivel en 2D en lugar de hacer una figura en 3D como la anterior. Como las superficies de nivel de la verosimilitud y la función de costo tienen la misma forma, y además como la función de costo es más simple, vamos a usar esta función para las plotear las superficies de nivel. Más adelante vamos a ver que las superficies de nivel además dan información sobre los errores de los parámetros."
   ]
  },
  {
   "cell_type": "markdown",
   "id": "f9f626a5-d8a9-4ffd-a87e-3d5767910f85",
   "metadata": {},
   "source": [
    "Construímos la función de costo en 2D:"
   ]
  },
  {
   "cell_type": "code",
   "execution_count": null,
   "id": "2b44e72b-c810-4682-998f-23ac4560b63b",
   "metadata": {},
   "outputs": [],
   "source": [
    "cost_mesh = danatools.normal_cost_2d(mu_mesh, x_measured, covariance_matrix)\n",
    "cost_mesh.shape"
   ]
  },
  {
   "cell_type": "markdown",
   "id": "220c5863-0c2f-476b-b939-da4a71255ba1",
   "metadata": {},
   "source": [
    "Como trabajar con un mesh en la función de costo conlleva alguna complejidad, usamos una función de la librería danatools para hacerlo."
   ]
  },
  {
   "cell_type": "markdown",
   "id": "d8d1d9d7-b4bb-4461-a525-36e032033cd3",
   "metadata": {},
   "source": [
    "Graficamos las superficies de nivel de la función de costo"
   ]
  },
  {
   "cell_type": "code",
   "execution_count": null,
   "id": "af92a7eb-95cf-4ec3-9b8f-8e3c45ca781b",
   "metadata": {
    "scrolled": true
   },
   "outputs": [],
   "source": [
    "fig, ax = plt.subplots()\n",
    "ax.set_xlabel(\"$\\mu_1$\")\n",
    "ax.set_ylabel(\"$\\mu_2$\")\n",
    "ax.plot(mu_mle[0], mu_mle[1], marker='o', ls='', label=\"$\\hat{\\mu}$\")\n",
    "sigma_levels = np.arange(0, nsigma)\n",
    "ax.contour(mu1_mesh, mu2_mesh, cost_mesh, levels=sigma_levels**2, linestyles='dashed')\n",
    "ax.legend()"
   ]
  },
  {
   "cell_type": "markdown",
   "id": "8a499aef-5685-4a33-a6bd-4dd8ed493088",
   "metadata": {},
   "source": [
    "Dibujamos la posición del estimador de máxima verosimilitud y, en analogía con la PDF normal multivariada, marcamos las supeficies nsigma. "
   ]
  },
  {
   "cell_type": "markdown",
   "id": "364071e8-0704-4d73-9602-45e550624d79",
   "metadata": {},
   "source": [
    "Como para una variable normal bivariada, las superficies de nivel son elipses, como opción alternativa podemos dibujar la elipses directamente."
   ]
  },
  {
   "cell_type": "code",
   "execution_count": null,
   "id": "6718e6d6-f636-432c-a9ae-b7651d630030",
   "metadata": {},
   "outputs": [],
   "source": [
    "fig, ax = plt.subplots()\n",
    "ax.set_xlabel(\"$\\mu_1$\")\n",
    "ax.set_ylabel(\"$\\mu_2$\")\n",
    "ax.plot(mu_mle[0], mu_mle[1], marker='o', ls='', label=\"$\\hat{\\mu}$\")\n",
    "ax.plot(*danatools.get_ellipse(mu_mle, covariance_matrix, nsigma=1), ls='--')\n",
    "ax.plot(*danatools.get_ellipse(mu_mle, covariance_matrix, nsigma=2), ls='--')\n",
    "ax.legend()\n",
    "fig.tight_layout()\n",
    "# fig.savefig(\"verosimilitud_bivariada.svg\")"
   ]
  },
  {
   "cell_type": "markdown",
   "id": "6d6e3ada-cc0c-4d2a-aa8a-0b3e51c03e35",
   "metadata": {},
   "source": [
    "En esta demo mostramos como plotear la función de verosimilitud y de costo para una variable normal bivariada. En el camino señalamos algunos detalles a tener en cuenta y mostramos como hacerlo aprovechando algunas librerías disponibles."
   ]
  }
 ],
 "metadata": {
  "kernelspec": {
   "display_name": "aed_demos",
   "language": "python",
   "name": "aed_demos"
  },
  "language_info": {
   "codemirror_mode": {
    "name": "ipython",
    "version": 3
   },
   "file_extension": ".py",
   "mimetype": "text/x-python",
   "name": "python",
   "nbconvert_exporter": "python",
   "pygments_lexer": "ipython3",
   "version": "3.10.12"
  }
 },
 "nbformat": 4,
 "nbformat_minor": 5
}
