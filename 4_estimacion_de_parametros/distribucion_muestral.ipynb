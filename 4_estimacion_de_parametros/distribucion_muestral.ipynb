{
 "cells": [
  {
   "cell_type": "markdown",
   "id": "c620eb57-b42d-4807-8b14-ca7aafc6945c",
   "metadata": {},
   "source": [
    "# Distribución muestral"
   ]
  },
  {
   "cell_type": "markdown",
   "id": "ede84168-47de-4daa-ba4e-c4c2620712ef",
   "metadata": {},
   "source": [
    "Distribución muestral de la varianza muestral"
   ]
  },
  {
   "cell_type": "markdown",
   "id": "7e65c54a-0cd3-467c-b137-a9d03db88b53",
   "metadata": {},
   "source": [
    "Genero muchas muestras de datos normales"
   ]
  },
  {
   "cell_type": "code",
   "execution_count": null,
   "id": "0aa83e75-67b3-4f40-9a43-e44ccb316d0c",
   "metadata": {},
   "outputs": [],
   "source": [
    "sigma = 1\n",
    "# Sample size\n",
    "nvariables = 3\n",
    "# Number of simulated samples\n",
    "nsimulations = 100000"
   ]
  },
  {
   "cell_type": "code",
   "execution_count": null,
   "id": "72242ba0-da8a-4e5f-a924-8ee5f4fe8ef4",
   "metadata": {},
   "outputs": [],
   "source": [
    "population_variance = sigma**2\n",
    "print(f\"Population variance = {population_variance}\")"
   ]
  },
  {
   "cell_type": "code",
   "execution_count": null,
   "id": "8f3d81d7-d207-4ed8-b5ef-a436fc08d372",
   "metadata": {},
   "outputs": [],
   "source": [
    "from scipy.stats import norm\n",
    "import numpy as np\n",
    "rng = np.random.default_rng(seed=6870)\n",
    "data = norm.rvs(scale=sigma, size=(nsimulations, nvariables))\n",
    "data[0:5]"
   ]
  },
  {
   "cell_type": "markdown",
   "id": "0f10550e-8f07-406b-8aab-4d699221669b",
   "metadata": {},
   "source": [
    "Varianza muestral de cada muestra, $S^2 = \\frac{1}{n-1} \\sum_{i=1}^n  \\left( X - \\bar{X} \\right)^2 $: "
   ]
  },
  {
   "cell_type": "code",
   "execution_count": null,
   "id": "ea34201e-4cf4-452b-9ed8-4ebf94c98cd9",
   "metadata": {},
   "outputs": [],
   "source": [
    "sample_variance = data.var(ddof=1, axis=1)\n",
    "sample_variance[0:5]"
   ]
  },
  {
   "cell_type": "markdown",
   "id": "1f228d78-a759-4006-9b89-040509b117ec",
   "metadata": {},
   "source": [
    "Histograma de densidad de la varianza muestral:"
   ]
  },
  {
   "cell_type": "code",
   "execution_count": null,
   "id": "6a2dba9d-8f33-456d-ae4a-9c62f48f7e62",
   "metadata": {},
   "outputs": [],
   "source": [
    "import danatools\n",
    "xmax = nvariables * 3\n",
    "density_histo, xbin = danatools.histogram(sample_variance, bins=100, range=[0, xmax], density=True)"
   ]
  },
  {
   "cell_type": "markdown",
   "id": "b3768cfc-7f11-492e-a4ca-6c62ab023f33",
   "metadata": {},
   "source": [
    "Distribución de la varianza muestral"
   ]
  },
  {
   "cell_type": "markdown",
   "id": "87e7036b-ea62-4102-af48-4cf38931d6c1",
   "metadata": {},
   "source": [
    "Vamos a calcular más adelante la PDF de $S^2$ a partir de la distribución de la variable aleatoria $ U = \\frac{n-1}{\\sigma^2}  S^2 \\sim \\chi^2_{n-1}$ y el cambio de variables $S^2 = \\frac{\\sigma^2}{n-1} U$."
   ]
  },
  {
   "cell_type": "code",
   "execution_count": null,
   "id": "eaf8baf0-000a-44b4-91ef-41a9fb3bf1a2",
   "metadata": {},
   "outputs": [],
   "source": [
    "import math\n",
    "from scipy.stats import chi2\n",
    "x_pdf = np.linspace(0, xmax, 100)\n",
    "ndof = nvariables-1\n",
    "scale = ndof / sigma**2\n",
    "y_pdf = chi2.pdf(x_pdf*scale, df=ndof) * scale"
   ]
  },
  {
   "cell_type": "code",
   "execution_count": null,
   "id": "c0821573-ab86-47f4-b17c-a313a81ce2bf",
   "metadata": {
    "scrolled": true
   },
   "outputs": [],
   "source": [
    "import matplotlib.pyplot as plt\n",
    "fig, ax = plt.subplots()\n",
    "ax.set_xlabel(\"$S^2$\")\n",
    "ax.set_ylabel(\"Probability density\")\n",
    "ax.plot(xbin, density_histo, ls='None', marker='o', label=\"Data\")\n",
    "ax.plot(x_pdf, y_pdf, label=\"PDF\")\n",
    "# fig.savefig(\"distribucion_muestral.svg\")"
   ]
  },
  {
   "cell_type": "markdown",
   "id": "3bb0fee9-8383-4988-8925-d9babb68c476",
   "metadata": {},
   "source": [
    "Los datos simulatods siguen la PDF propuesta. El estadístico $S^2$ es una variable aleatoria que sigue un distribución de probabilidad. Se denomina a las PDFs de los estadísticos calculados a partir de una muestra como *distribuciones muestrales*."
   ]
  }
 ],
 "metadata": {
  "kernelspec": {
   "display_name": "Python 3 (ipykernel)",
   "language": "python",
   "name": "python3"
  },
  "language_info": {
   "codemirror_mode": {
    "name": "ipython",
    "version": 3
   },
   "file_extension": ".py",
   "mimetype": "text/x-python",
   "name": "python",
   "nbconvert_exporter": "python",
   "pygments_lexer": "ipython3",
   "version": "3.10.12"
  }
 },
 "nbformat": 4,
 "nbformat_minor": 5
}
