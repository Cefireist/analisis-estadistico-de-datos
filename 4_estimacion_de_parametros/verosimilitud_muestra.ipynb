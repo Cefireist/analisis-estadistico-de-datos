{
 "cells": [
  {
   "cell_type": "markdown",
   "metadata": {
    "id": "9UnR4HUeqBXT"
   },
   "source": [
    "# Verosimilitud de una muestra"
   ]
  },
  {
   "cell_type": "markdown",
   "metadata": {},
   "source": [
    "La variable aleatoria es el tiempo de vida de un radioisótopo (t) que sigue una distribución exponencial \\\n",
    "$f(t) = \\frac{1}{\\tau} \\, \\exp \\left(- t/\\tau \\right)$, \\\n",
    "dónde el parámetro $\\tau$ es el tiempo de vida medio del radioisótopo ($\\mathrm{E}(t)=\\tau$). "
   ]
  },
  {
   "cell_type": "code",
   "execution_count": 1,
   "metadata": {
    "executionInfo": {
     "elapsed": 241,
     "status": "ok",
     "timestamp": 1684331542400,
     "user": {
      "displayName": "Ezequiel Rodriguez",
      "userId": "03024089132465404102"
     },
     "user_tz": -120
    },
    "id": "43VzpJEPqBXZ"
   },
   "outputs": [],
   "source": [
    "import math\n",
    "import numpy as np\n",
    "import matplotlib.pyplot as plt"
   ]
  },
  {
   "cell_type": "markdown",
   "metadata": {
    "id": "F-iMrn92qBXZ"
   },
   "source": [
    "## Datos"
   ]
  },
  {
   "cell_type": "code",
   "execution_count": 2,
   "metadata": {
    "executionInfo": {
     "elapsed": 2,
     "status": "ok",
     "timestamp": 1684331544243,
     "user": {
      "displayName": "Ezequiel Rodriguez",
      "userId": "03024089132465404102"
     },
     "user_tz": -120
    },
    "id": "g1kiPcaHqBXa"
   },
   "outputs": [],
   "source": [
    "datos = np.array([0.32, 1.02, 5.07, 1.28, 1.61])"
   ]
  },
  {
   "cell_type": "markdown",
   "metadata": {},
   "source": [
    "Tamaño de la muestra"
   ]
  },
  {
   "cell_type": "code",
   "execution_count": 3,
   "metadata": {
    "colab": {
     "base_uri": "https://localhost:8080/"
    },
    "executionInfo": {
     "elapsed": 24,
     "status": "ok",
     "timestamp": 1684331544841,
     "user": {
      "displayName": "Ezequiel Rodriguez",
      "userId": "03024089132465404102"
     },
     "user_tz": -120
    },
    "id": "Jr8IsrScqBXa",
    "outputId": "321b142a-7bbd-423a-ede4-fbd4267317fa"
   },
   "outputs": [
    {
     "data": {
      "text/plain": [
       "5"
      ]
     },
     "execution_count": 3,
     "metadata": {},
     "output_type": "execute_result"
    }
   ],
   "source": [
    "ndatos = len(datos)\n",
    "ndatos"
   ]
  },
  {
   "cell_type": "markdown",
   "metadata": {},
   "source": [
    "Media muestral"
   ]
  },
  {
   "cell_type": "code",
   "execution_count": 4,
   "metadata": {
    "colab": {
     "base_uri": "https://localhost:8080/"
    },
    "executionInfo": {
     "elapsed": 23,
     "status": "ok",
     "timestamp": 1684331544845,
     "user": {
      "displayName": "Ezequiel Rodriguez",
      "userId": "03024089132465404102"
     },
     "user_tz": -120
    },
    "id": "Rrr5JHoGqBXb",
    "outputId": "ae2d7c8b-93db-421c-80af-c9b5844676af"
   },
   "outputs": [
    {
     "data": {
      "text/plain": [
       "1.86"
      ]
     },
     "execution_count": 4,
     "metadata": {},
     "output_type": "execute_result"
    }
   ],
   "source": [
    "tmedio = np.mean(datos)\n",
    "tmedio"
   ]
  },
  {
   "cell_type": "markdown",
   "metadata": {
    "id": "EEVIF6FIqBXb"
   },
   "source": [
    "## Verosimilitud"
   ]
  },
  {
   "cell_type": "markdown",
   "metadata": {},
   "source": [
    "La función de verosimilitud de una muestra de $n$ datos exponenciales es \\\n",
    "$L(\\tau) = \\left( \\frac{\\exp(-\\bar{t}/\\tau)}{\\tau} \\right)^n$\n",
    "\n",
    "$\\frac{1}{\\tau^n} \\, \\exp(-n\\bar{t}/\\tau)$, dónde $\\bar{t} = \\frac{1}{n} \\sum_{i=1}^n t_i$ es la media muestral."
   ]
  },
  {
   "cell_type": "code",
   "execution_count": 5,
   "metadata": {
    "executionInfo": {
     "elapsed": 428,
     "status": "ok",
     "timestamp": 1684331551414,
     "user": {
      "displayName": "Ezequiel Rodriguez",
      "userId": "03024089132465404102"
     },
     "user_tz": -120
    },
    "id": "ngq7vDzRqBXc"
   },
   "outputs": [],
   "source": [
    "xmax = tmedio * 5       # límite superior del eje x\n",
    "tau = np.linspace(0.1, xmax, 100)"
   ]
  },
  {
   "cell_type": "code",
   "execution_count": 6,
   "metadata": {
    "executionInfo": {
     "elapsed": 211,
     "status": "ok",
     "timestamp": 1684331624295,
     "user": {
      "displayName": "Ezequiel Rodriguez",
      "userId": "03024089132465404102"
     },
     "user_tz": -120
    },
    "id": "rTo93PmmqBXc",
    "scrolled": true
   },
   "outputs": [],
   "source": [
    "verosimilitud = np.power( np.exp(-tmedio/tau)/tau, ndatos)"
   ]
  },
  {
   "cell_type": "code",
   "execution_count": 7,
   "metadata": {
    "colab": {
     "base_uri": "https://localhost:8080/",
     "height": 489
    },
    "executionInfo": {
     "elapsed": 1382,
     "status": "ok",
     "timestamp": 1684331628329,
     "user": {
      "displayName": "Ezequiel Rodriguez",
      "userId": "03024089132465404102"
     },
     "user_tz": -120
    },
    "id": "YvpLYs-5qBXd",
    "outputId": "b0fe3b1b-73e5-4e7c-c2be-0a413db2b2b8"
   },
   "outputs": [
    {
     "data": {
      "text/plain": [
       "<matplotlib.legend.Legend at 0x7f9cc059ab30>"
      ]
     },
     "execution_count": 7,
     "metadata": {},
     "output_type": "execute_result"
    },
    {
     "data": {
      "image/png": "[encoded data removed]",
      "text/plain": [
       "<Figure size 480x360 with 1 Axes>"
      ]
     },
     "metadata": {},
     "output_type": "display_data"
    }
   ],
   "source": [
    "fig1, ax1 = plt.subplots()\n",
    "# usa raw strings (r\"...\") para no tener que escapear los backslashs '\\'\n",
    "ax1.set_xlabel(r\"$\\tau$\")\n",
    "ax1.set_ylabel(r\"L($\\tau$)\")\n",
    "ax1.plot(tau, verosimilitud)\n",
    "ax1.axvline(tmedio, ls='--', color='tab:orange', label=r\"$\\hat{\\tau}$\")\n",
    "ax1.legend()"
   ]
  },
  {
   "cell_type": "markdown",
   "metadata": {},
   "source": [
    "## Negativo del logaritmo de la verosimilitud"
   ]
  },
  {
   "cell_type": "markdown",
   "metadata": {},
   "source": [
    "*Negative log-likelihood*"
   ]
  },
  {
   "cell_type": "code",
   "execution_count": 8,
   "metadata": {},
   "outputs": [],
   "source": [
    "nlogL = -np.log(verosimilitud)"
   ]
  },
  {
   "cell_type": "code",
   "execution_count": 9,
   "metadata": {},
   "outputs": [
    {
     "data": {
      "text/plain": [
       "<matplotlib.legend.Legend at 0x7f9cc04c15a0>"
      ]
     },
     "execution_count": 9,
     "metadata": {},
     "output_type": "execute_result"
    },
    {
     "data": {
      "image/png": "[encoded data removed]",
      "text/plain": [
       "<Figure size 480x360 with 1 Axes>"
      ]
     },
     "metadata": {},
     "output_type": "display_data"
    }
   ],
   "source": [
    "fig2, ax2 = plt.subplots()\n",
    "# usa raw strings (r\"...\") para no tener que escapear los backslashs '\\'\n",
    "ax2.set_xlabel(r\"$\\tau$\")\n",
    "ax2.set_ylabel(r\"$-\\log L(\\tau$)\")\n",
    "ax2.plot(tau, nlogL)\n",
    "ax2.axvline(tmedio, ls='--', color='tab:orange', label=r\"$\\hat{\\tau}$\")\n",
    "ax2.legend()"
   ]
  }
 ],
 "metadata": {
  "colab": {
   "provenance": [],
   "toc_visible": true
  },
  "kernelspec": {
   "display_name": "Python 3 (ipykernel)",
   "language": "python",
   "name": "python3"
  },
  "language_info": {
   "codemirror_mode": {
    "name": "ipython",
    "version": 3
   },
   "file_extension": ".py",
   "mimetype": "text/x-python",
   "name": "python",
   "nbconvert_exporter": "python",
   "pygments_lexer": "ipython3",
   "version": "3.10.12"
  }
 },
 "nbformat": 4,
 "nbformat_minor": 1
}
