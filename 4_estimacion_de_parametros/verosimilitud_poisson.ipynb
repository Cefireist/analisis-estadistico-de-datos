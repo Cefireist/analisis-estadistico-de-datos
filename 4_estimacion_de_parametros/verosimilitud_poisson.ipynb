{
 "cells": [
  {
   "cell_type": "markdown",
   "id": "66eb3e8d-aee2-4e68-a058-8c2df30ac6f7",
   "metadata": {},
   "source": [
    "# Verosimilitud de Poisson "
   ]
  },
  {
   "cell_type": "markdown",
   "id": "6700fef5-8fec-4099-bf60-61f8d190608a",
   "metadata": {},
   "source": [
    "Consideremos una variable aleatoria discreta $k$ que sigue una distribución de Poisson. Su función de masa de probabilidad es, $P(k) = \\exp(-\\mu) \\, \\mu^k / k!$, con $\\mu$ el parámetro de la distribución. "
   ]
  },
  {
   "cell_type": "markdown",
   "id": "1a8e6c93-bb12-4e88-8d7d-ec4231313fa3",
   "metadata": {},
   "source": [
    "Supongamos que el resultado de un experimento es: "
   ]
  },
  {
   "cell_type": "code",
   "execution_count": 1,
   "id": "25569023-90ad-412b-b187-d08a525fe241",
   "metadata": {},
   "outputs": [],
   "source": [
    "k = 3"
   ]
  },
  {
   "cell_type": "markdown",
   "id": "aa19b49b-3332-4b3f-a1a5-f773bb1bdee3",
   "metadata": {},
   "source": [
    "Probamos diferentes valores del parámetro $\\mu$:"
   ]
  },
  {
   "cell_type": "code",
   "execution_count": 2,
   "id": "10b60e20-1560-495a-a797-a4e1b83aaa34",
   "metadata": {},
   "outputs": [],
   "source": [
    "import numpy as np\n",
    "mu = np.linspace(0, 10, num=100)"
   ]
  },
  {
   "cell_type": "markdown",
   "id": "71dea1bd-3e02-495c-9caa-0c73ef6de481",
   "metadata": {},
   "source": [
    "Para cada valor de $\\mu$ calculamos la probabilidad de observar el número de eventos del experimento:"
   ]
  },
  {
   "cell_type": "code",
   "execution_count": 3,
   "id": "e65036ef-ce79-4353-88dc-0f19f11e0ef0",
   "metadata": {},
   "outputs": [
    {
     "data": {
      "text/plain": [
       "array([0.00000000e+00, 1.55265525e-04, 1.12278575e-03, 3.42533097e-03,\n",
       "       7.33923209e-03, 1.29572408e-02, 2.02389576e-02, 2.90509527e-02,\n",
       "       3.91983775e-02, 5.04495770e-02, 6.25549773e-02, 7.52613141e-02,\n",
       "       8.83220926e-02, 1.01505024e-01, 1.14597056e-01, 1.27407502e-01,\n",
       "       1.39769703e-01, 1.51541551e-01, 1.62605170e-01, 1.72865970e-01,\n",
       "       1.82251270e-01, 1.90708623e-01, 1.98203975e-01, 2.04719728e-01,\n",
       "       2.10252798e-01, 2.14812700e-01, 2.18419719e-01, 2.21103166e-01,\n",
       "       2.22899777e-01, 2.23852219e-01, 2.24007751e-01, 2.23417009e-01,\n",
       "       2.22132936e-01, 2.20209835e-01, 2.17702549e-01, 2.14665754e-01,\n",
       "       2.11153365e-01, 2.07218033e-01, 2.02910740e-01, 1.98280469e-01,\n",
       "       1.93373946e-01, 1.88235455e-01, 1.82906693e-01, 1.77426696e-01,\n",
       "       1.71831784e-01, 1.66155561e-01, 1.60428937e-01, 1.54680175e-01,\n",
       "       1.48934963e-01, 1.43216502e-01, 1.37545601e-01, 1.31940793e-01,\n",
       "       1.26418451e-01, 1.20992907e-01, 1.15676583e-01, 1.10480114e-01,\n",
       "       1.05412471e-01, 1.00481093e-01, 9.56920011e-02, 9.10499184e-02,\n",
       "       8.65583856e-02, 8.22198674e-02, 7.80358574e-02, 7.40069756e-02,\n",
       "       7.01330620e-02, 6.64132631e-02, 6.28461136e-02, 5.94296125e-02,\n",
       "       5.61612931e-02, 5.30382888e-02, 5.00573923e-02, 4.72151114e-02,\n",
       "       4.45077185e-02, 4.19312968e-02, 3.94817817e-02, 3.71549982e-02,\n",
       "       3.49466944e-02, 3.28525716e-02, 3.08683115e-02, 2.89895992e-02,\n",
       "       2.72121445e-02, 2.55317001e-02, 2.39440773e-02, 2.24451595e-02,\n",
       "       2.10309140e-02, 1.96974015e-02, 1.84407841e-02, 1.72573322e-02,\n",
       "       1.61434290e-02, 1.50955750e-02, 1.41103907e-02, 1.31846182e-02,\n",
       "       1.23151225e-02, 1.14988913e-02, 1.07330352e-02, 1.00147862e-02,\n",
       "       9.34149605e-03, 8.71063485e-03, 8.11978824e-03, 7.56665496e-03])"
      ]
     },
     "execution_count": 3,
     "metadata": {},
     "output_type": "execute_result"
    }
   ],
   "source": [
    "from scipy.stats import poisson\n",
    "likelihood = poisson.pmf(k, mu=mu)\n",
    "likelihood"
   ]
  },
  {
   "cell_type": "markdown",
   "id": "da0985f3-e218-4ee5-8f61-b17628b1da25",
   "metadata": {},
   "source": [
    "Esta es la definición de la función de verosimilitud!"
   ]
  },
  {
   "cell_type": "markdown",
   "id": "8e37eb71-7a8d-4c38-88dc-93c3e068b515",
   "metadata": {},
   "source": [
    "La función alcanza un máximo en:"
   ]
  },
  {
   "cell_type": "code",
   "execution_count": 4,
   "id": "c08fe162-fe92-4774-9289-e8341c3eb88b",
   "metadata": {},
   "outputs": [],
   "source": [
    "mu_mle = k"
   ]
  },
  {
   "cell_type": "markdown",
   "id": "7b56ac27-57e5-48f0-9480-df65a9bfc671",
   "metadata": {},
   "source": [
    "Para terminar dibujamos la función y su máximo:"
   ]
  },
  {
   "cell_type": "code",
   "execution_count": 5,
   "id": "227953f2-9df2-4a00-8c40-652462412ba0",
   "metadata": {},
   "outputs": [
    {
     "data": {
      "image/png": "[encoded data removed]",
      "text/plain": [
       "<Figure size 480x360 with 1 Axes>"
      ]
     },
     "metadata": {},
     "output_type": "display_data"
    }
   ],
   "source": [
    "import matplotlib.pyplot as plt\n",
    "fig, ax = plt.subplots()\n",
    "ax.set_xlabel(\"$\\mu$\")\n",
    "ax.set_ylabel(\"Likelihood\")\n",
    "ax.plot(mu, likelihood, label=\"Likelihood\")\n",
    "ax.axvline(mu_mle, ls='--', color='tab:orange', label=\"MLE\")\n",
    "ax.text(mu_mle, 0.5,\"  MLE\", transform = ax.get_xaxis_transform(), color='tab:orange')\n",
    "fig.tight_layout()\n",
    "# fig.savefig(\"verosimilitud_poisson.svg\")"
   ]
  },
  {
   "cell_type": "markdown",
   "id": "80ee1a63-5bfa-40c1-8229-63c6f7665605",
   "metadata": {},
   "source": [
    "Notamos que, si bien $k$ es una variable discreta, el parámetro $\\mu$ y por lo tanto, la función de verosimilitud asociada, son continuos. "
   ]
  }
 ],
 "metadata": {
  "kernelspec": {
   "display_name": "Demos Análisis Datos",
   "language": "python",
   "name": "aed_demos"
  },
  "language_info": {
   "codemirror_mode": {
    "name": "ipython",
    "version": 3
   },
   "file_extension": ".py",
   "mimetype": "text/x-python",
   "name": "python",
   "nbconvert_exporter": "python",
   "pygments_lexer": "ipython3",
   "version": "3.10.12"
  }
 },
 "nbformat": 4,
 "nbformat_minor": 5
}
