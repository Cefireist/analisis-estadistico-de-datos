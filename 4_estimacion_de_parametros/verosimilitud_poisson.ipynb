{
 "cells": [
  {
   "cell_type": "markdown",
   "id": "66eb3e8d-aee2-4e68-a058-8c2df30ac6f7",
   "metadata": {},
   "source": [
    "# Verosimilitud de Poisson "
   ]
  },
  {
   "cell_type": "markdown",
   "id": "6700fef5-8fec-4099-bf60-61f8d190608a",
   "metadata": {},
   "source": [
    "Consideremos una variable aleatoria discreta $k$ que sigue una distribución de Poisson. Su función de masa de probabilidad es, $P(k) = \\exp(-\\mu) \\, \\mu^k / k!$, con $\\mu$ el parámetro de la distribución. "
   ]
  },
  {
   "cell_type": "markdown",
   "id": "1a8e6c93-bb12-4e88-8d7d-ec4231313fa3",
   "metadata": {},
   "source": [
    "Supongamos que el resultado de un experimento es: "
   ]
  },
  {
   "cell_type": "code",
   "execution_count": null,
   "id": "25569023-90ad-412b-b187-d08a525fe241",
   "metadata": {},
   "outputs": [],
   "source": [
    "k = 3"
   ]
  },
  {
   "cell_type": "markdown",
   "id": "aa19b49b-3332-4b3f-a1a5-f773bb1bdee3",
   "metadata": {},
   "source": [
    "Probamos diferentes valores del parámetro $\\mu$:"
   ]
  },
  {
   "cell_type": "code",
   "execution_count": null,
   "id": "10b60e20-1560-495a-a797-a4e1b83aaa34",
   "metadata": {},
   "outputs": [],
   "source": [
    "import numpy as np\n",
    "mu = np.linspace(0, 10, num=100)"
   ]
  },
  {
   "cell_type": "markdown",
   "id": "71dea1bd-3e02-495c-9caa-0c73ef6de481",
   "metadata": {},
   "source": [
    "Para cada valor de $\\mu$ calculamos la probabilidad de observar el número de eventos del experimento:"
   ]
  },
  {
   "cell_type": "code",
   "execution_count": null,
   "id": "e65036ef-ce79-4353-88dc-0f19f11e0ef0",
   "metadata": {},
   "outputs": [],
   "source": [
    "from scipy.stats import poisson\n",
    "likelihood = poisson.pmf(k, mu=mu)\n",
    "likelihood"
   ]
  },
  {
   "cell_type": "markdown",
   "id": "da0985f3-e218-4ee5-8f61-b17628b1da25",
   "metadata": {},
   "source": [
    "Esta es la definición de la función de verosimilitud!"
   ]
  },
  {
   "cell_type": "markdown",
   "id": "8e37eb71-7a8d-4c38-88dc-93c3e068b515",
   "metadata": {},
   "source": [
    "La función alcanza un máximo en:"
   ]
  },
  {
   "cell_type": "code",
   "execution_count": null,
   "id": "c08fe162-fe92-4774-9289-e8341c3eb88b",
   "metadata": {},
   "outputs": [],
   "source": [
    "mu_mle = k"
   ]
  },
  {
   "cell_type": "markdown",
   "id": "7b56ac27-57e5-48f0-9480-df65a9bfc671",
   "metadata": {},
   "source": [
    "Para terminar dibujamos la función y su máximo:"
   ]
  },
  {
   "cell_type": "code",
   "execution_count": null,
   "id": "227953f2-9df2-4a00-8c40-652462412ba0",
   "metadata": {},
   "outputs": [],
   "source": [
    "import matplotlib.pyplot as plt\n",
    "fig, ax = plt.subplots()\n",
    "ax.set_xlabel(\"$\\mu$\")\n",
    "ax.set_ylabel(\"Likelihood\")\n",
    "ax.plot(mu, likelihood, label=\"Likelihood\")\n",
    "ax.axvline(mu_mle, ls='--', color='tab:orange', label=\"MLE\")\n",
    "ax.text(mu_mle, 0.5,\"  MLE\", transform = ax.get_xaxis_transform(), color='tab:orange')\n",
    "fig.tight_layout()\n",
    "# fig.savefig(\"verosimilitud_poisson.svg\")"
   ]
  },
  {
   "cell_type": "markdown",
   "id": "80ee1a63-5bfa-40c1-8229-63c6f7665605",
   "metadata": {},
   "source": [
    "Notamos que, si bien $k$ es una variable discreta, el parámetro $\\mu$ y por lo tanto, la función de verosimilitud asociada, son continuos. "
   ]
  }
 ],
 "metadata": {
  "kernelspec": {
   "display_name": "aed_demos",
   "language": "python",
   "name": "aed_demos"
  },
  "language_info": {
   "codemirror_mode": {
    "name": "ipython",
    "version": 3
   },
   "file_extension": ".py",
   "mimetype": "text/x-python",
   "name": "python",
   "nbconvert_exporter": "python",
   "pygments_lexer": "ipython3",
   "version": "3.10.12"
  }
 },
 "nbformat": 4,
 "nbformat_minor": 5
}
