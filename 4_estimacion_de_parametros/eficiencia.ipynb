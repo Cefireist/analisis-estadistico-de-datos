{
 "cells": [
  {
   "cell_type": "markdown",
   "id": "6b2a1565-3644-4408-851f-0f32042c322e",
   "metadata": {},
   "source": [
    "# Eficiencia de la media y la mediana"
   ]
  },
  {
   "cell_type": "code",
   "execution_count": null,
   "id": "48254e88-e930-49df-a76c-61faf4365780",
   "metadata": {},
   "outputs": [],
   "source": [
    "mu = 0\n",
    "sigma = 1\n",
    "# Sample size\n",
    "nvariables = 3"
   ]
  },
  {
   "cell_type": "markdown",
   "id": "c0ed7ccc-3dbc-4d70-97d0-4f0f20b26a97",
   "metadata": {},
   "source": [
    "## Media muestral"
   ]
  },
  {
   "cell_type": "markdown",
   "id": "3fe9e2ea-8513-4b2c-8cee-4f50c633c459",
   "metadata": {},
   "source": [
    "La media de la media muestral es igual a la media de la variable aleatoria. Por lo tanto, la media muestral es un estimador sin sesgo de la media."
   ]
  },
  {
   "cell_type": "code",
   "execution_count": null,
   "id": "d19339d7-d7a6-4b1c-b2f9-058d10646fa5",
   "metadata": {},
   "outputs": [],
   "source": [
    "sample_mean_mean = mu\n",
    "print(f\"Media de la media muestral: {sample_mean_mean:.5f}\")"
   ]
  },
  {
   "cell_type": "markdown",
   "id": "cb0d348d-53d0-4073-b704-f37dd933554e",
   "metadata": {},
   "source": [
    "Calculamos la desviación estándar de la media muestral a partir de la desviación estándar de la variable aleatoria"
   ]
  },
  {
   "cell_type": "code",
   "execution_count": null,
   "id": "0993fb04-a660-4cbc-be31-4d8e49e5956d",
   "metadata": {},
   "outputs": [],
   "source": [
    "import math\n",
    "sample_mean_sigma = sigma / math.sqrt(nvariables)\n",
    "print(f\"Desviación estándar de la media muestral: {sample_mean_sigma:.5f}\")"
   ]
  },
  {
   "cell_type": "markdown",
   "id": "9c569e45-5f75-4839-a990-07a4559bc572",
   "metadata": {},
   "source": [
    "## Mediana muestral"
   ]
  },
  {
   "cell_type": "markdown",
   "id": "15dddf9b-5625-43ff-b67d-f788f2f0d287",
   "metadata": {},
   "source": [
    "Al contrario del caso de la media muestral, la mediana muestral no sigue una distribución conocida. Para salvar este inconveniente, estimamos su media y desviación estándar a partir de simulaciones."
   ]
  },
  {
   "cell_type": "markdown",
   "id": "c4ad5dd8-687f-408e-a14d-e454a8ef5f75",
   "metadata": {},
   "source": [
    "Simulamos muestras de variables normales"
   ]
  },
  {
   "cell_type": "code",
   "execution_count": null,
   "id": "580294a5-d559-4b9b-9829-8cb70fc4b98c",
   "metadata": {},
   "outputs": [],
   "source": [
    "from scipy.stats import norm\n",
    "import numpy as np\n",
    "# Number of simulated samples\n",
    "nsimulations = 100000\n",
    "rng = np.random.default_rng(seed=6870)\n",
    "data = norm.rvs(scale=sigma, size=(nsimulations, nvariables), random_state=rng)\n",
    "data[0:5]"
   ]
  },
  {
   "cell_type": "code",
   "execution_count": null,
   "id": "782c7773-f76d-4954-b544-794c7061e2a6",
   "metadata": {},
   "outputs": [],
   "source": [
    "sample_median = np.median(data, axis=1)"
   ]
  },
  {
   "cell_type": "markdown",
   "id": "59a7d6ff-8158-45b5-85a8-d3baca41e9a8",
   "metadata": {},
   "source": [
    "Desviación estándar muestral de la mediana muestral. Notar que la mediana muestral es un estadístico y, a su vez, la desviación estándar muestral calculada a partir de la mediana muestral es otro estadístico.  "
   ]
  },
  {
   "cell_type": "code",
   "execution_count": null,
   "id": "1087e3a6-38fc-43ad-a658-a14519c2fdeb",
   "metadata": {},
   "outputs": [],
   "source": [
    "sample_median_sample_mean = sample_median.mean()\n",
    "print(f\"Media muestral de la mediana muestral: {sample_median_sample_mean:.5f}\")"
   ]
  },
  {
   "cell_type": "markdown",
   "id": "26cdb401-7441-4085-a7b2-5f8518083eaa",
   "metadata": {},
   "source": [
    "Verificamos que la mediana muestral es un estimador sin sesgo de la media dentro de la incerteza númerica dada por el número finito de simulaciones."
   ]
  },
  {
   "cell_type": "code",
   "execution_count": null,
   "id": "ac98ac37-4856-42de-9732-958f39580532",
   "metadata": {},
   "outputs": [],
   "source": [
    "sample_median_sample_sigma = sample_median.std(ddof=1)\n",
    "print(f\"Desviación estándar muestral de la mediana muestral: {sample_median_sample_sigma:.5f}\")"
   ]
  },
  {
   "cell_type": "markdown",
   "id": "e5ae3291-d18b-47f3-b5fd-5a0cbb9b1caf",
   "metadata": {},
   "source": [
    "## Comparación de las PDFs"
   ]
  },
  {
   "cell_type": "markdown",
   "id": "8bb69601-990e-4746-8014-414bc38c6904",
   "metadata": {},
   "source": [
    "Comparo la PDF de la media muestral con el histograma de densidad de la mediana muestral"
   ]
  },
  {
   "cell_type": "code",
   "execution_count": null,
   "id": "d9ef8e81-c195-49d0-a530-e617125b8943",
   "metadata": {},
   "outputs": [],
   "source": [
    "xmax = 2\n",
    "x = np.linspace(-xmax, xmax, num=100)\n",
    "mean_pdf = norm.pdf(x, loc=mu, scale=sample_mean_sigma)"
   ]
  },
  {
   "cell_type": "code",
   "execution_count": null,
   "id": "ce140577-2612-4135-954e-9fc916ae2a97",
   "metadata": {},
   "outputs": [],
   "source": [
    "import danatools\n",
    "median_histo, median_xbin = danatools.histogram(sample_median,  bins=30, range=(-xmax,xmax), density=True)"
   ]
  },
  {
   "cell_type": "code",
   "execution_count": null,
   "id": "afc28ede-c748-48fa-ba01-2a7c7e7ad1aa",
   "metadata": {},
   "outputs": [],
   "source": [
    "import matplotlib.pyplot as plt\n",
    "fig, ax = plt.subplots()\n",
    "ax.set_xlabel(\"Mean\")\n",
    "ax.set_ylabel(\"Probability density\")\n",
    "ax.plot(x, mean_pdf, label=\"Mean\")\n",
    "ax.plot(median_xbin, median_histo, ls='None', marker='o', label=\"Median\")\n",
    "ax.legend()"
   ]
  },
  {
   "cell_type": "markdown",
   "id": "9e464401-b7a2-4b8a-a10e-dd2292dcdb58",
   "metadata": {},
   "source": [
    "La figura muestra que la media muestral fluctúa menos que la mediana muestral."
   ]
  },
  {
   "cell_type": "markdown",
   "id": "90d70568-4442-4708-b301-0916f31d3414",
   "metadata": {},
   "source": [
    "Esta demo muestra que la media y la mediana muestrales son estimadores sin sesgo de la media pero la media muestral es un estimador más eficiente que la mediana muestral. "
   ]
  }
 ],
 "metadata": {
  "kernelspec": {
   "display_name": "Python 3 (ipykernel)",
   "language": "python",
   "name": "python3"
  },
  "language_info": {
   "codemirror_mode": {
    "name": "ipython",
    "version": 3
   },
   "file_extension": ".py",
   "mimetype": "text/x-python",
   "name": "python",
   "nbconvert_exporter": "python",
   "pygments_lexer": "ipython3",
   "version": "3.10.12"
  }
 },
 "nbformat": 4,
 "nbformat_minor": 5
}
