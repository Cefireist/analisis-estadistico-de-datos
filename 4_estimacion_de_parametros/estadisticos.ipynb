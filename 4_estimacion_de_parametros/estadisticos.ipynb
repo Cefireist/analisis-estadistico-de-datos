{
 "cells": [
  {
   "cell_type": "markdown",
   "id": "3f12c319-2c5b-42a7-9295-50609550ba17",
   "metadata": {},
   "source": [
    "# Estadísticos con Pandas y Numpy"
   ]
  },
  {
   "cell_type": "markdown",
   "id": "e6d31c7d-aae3-4cf7-8431-8ce72a6bb426",
   "metadata": {},
   "source": [
    "Usamos el dataset *Breast Cancer Wisconsin* https://data.world/health/breast-cancer-wisconsin"
   ]
  },
  {
   "cell_type": "markdown",
   "id": "ca8544e6-f13f-41b3-8f99-7697eb5d9bfe",
   "metadata": {},
   "source": [
    "Importamos el dataset desde la librería sklearn"
   ]
  },
  {
   "cell_type": "code",
   "execution_count": null,
   "id": "3b1335ab-c19e-47de-83af-1507a2d1b26f",
   "metadata": {
    "scrolled": true
   },
   "outputs": [],
   "source": [
    "import sklearn.datasets\n",
    "dataset = sklearn.datasets.load_breast_cancer(as_frame=True)"
   ]
  },
  {
   "cell_type": "markdown",
   "id": "7cb92b0a-aeec-4a0e-8b67-e36ad288075e",
   "metadata": {},
   "source": [
    "Cargamos los datos en un DataFrame de Pandas"
   ]
  },
  {
   "cell_type": "code",
   "execution_count": null,
   "id": "11c3a113-74fb-4f61-aa4e-87e6c8477906",
   "metadata": {},
   "outputs": [],
   "source": [
    "df = dataset['data']\n",
    "df.head(10)"
   ]
  },
  {
   "cell_type": "markdown",
   "id": "436dd8b7-e460-4e7a-9fdd-c25cacb38016",
   "metadata": {},
   "source": [
    "Verificamos que no hay filas duplicadas"
   ]
  },
  {
   "cell_type": "markdown",
   "id": "7978363f-32f7-4a39-9316-a8a116a93f24",
   "metadata": {},
   "source": [
    "Ploteamos histogramas de frecuencia de las primeras cuatro columnas"
   ]
  },
  {
   "cell_type": "code",
   "execution_count": null,
   "id": "a151bd3f-7b5a-4da3-ace9-490cc0f7350b",
   "metadata": {},
   "outputs": [],
   "source": [
    "df.hist([\"mean radius\", \"mean texture\", \"mean perimeter\", \"mean area\"], grid=False, bins=20, figsize=(8,5))"
   ]
  },
  {
   "cell_type": "markdown",
   "id": "7a1eee2a-3cc5-43ed-8414-71faf80363fa",
   "metadata": {},
   "source": [
    "## Estadísticos con Pandas"
   ]
  },
  {
   "cell_type": "markdown",
   "id": "b6260749-de5a-489c-b798-1be246aa8030",
   "metadata": {},
   "source": [
    "Calculamos la media y la desviación estándar muestral con Pandas"
   ]
  },
  {
   "cell_type": "markdown",
   "id": "5e8223d0-a45e-4994-9c78-c8fda9e81bc4",
   "metadata": {},
   "source": [
    "Media muestral"
   ]
  },
  {
   "cell_type": "code",
   "execution_count": null,
   "id": "831b1038-21b0-4a70-97b7-a50495fbe837",
   "metadata": {},
   "outputs": [],
   "source": [
    "df.mean()"
   ]
  },
  {
   "cell_type": "markdown",
   "id": "3ef0dbe9-8d54-4f91-ab10-8c760e03614e",
   "metadata": {},
   "source": [
    "*Mostramos solo los resultados de las primeras cinco columnas para no inundar la pantalla con datos.*"
   ]
  },
  {
   "cell_type": "markdown",
   "id": "556b9449-b14d-4a1f-b989-0b3631a6891a",
   "metadata": {},
   "source": [
    "Mediana muestral"
   ]
  },
  {
   "cell_type": "code",
   "execution_count": null,
   "id": "c1c9edc9-4daa-466b-802f-f7cd1480fb17",
   "metadata": {},
   "outputs": [],
   "source": [
    "df.median()"
   ]
  },
  {
   "cell_type": "markdown",
   "id": "84d6753e-027c-46fb-9f6b-da07d412b969",
   "metadata": {},
   "source": [
    "Desviación estándar muestral"
   ]
  },
  {
   "cell_type": "markdown",
   "id": "92fb1c38-f6fe-4025-9538-60e0d1531169",
   "metadata": {},
   "source": [
    "Pandas calcula la desviación estándar $S^2 = \\frac{1}{n-1} \\sum_{i=1}^n (X_i - \\bar{X})^2$ por defecto "
   ]
  },
  {
   "cell_type": "code",
   "execution_count": null,
   "id": "98eb3d58-5906-46d8-af0e-de7a65d47b86",
   "metadata": {},
   "outputs": [],
   "source": [
    "df.std()"
   ]
  },
  {
   "cell_type": "markdown",
   "id": "7a7cef9d-b9a9-47c6-920b-20b73d7196ff",
   "metadata": {},
   "source": [
    "Pandas calcula varios estadísticos de las columnas del DataFrame en una línea de código!"
   ]
  },
  {
   "cell_type": "code",
   "execution_count": null,
   "id": "c5ead8bf-ef8a-475d-bfd7-a51f2df53120",
   "metadata": {},
   "outputs": [],
   "source": [
    "df.describe()"
   ]
  },
  {
   "cell_type": "markdown",
   "id": "1ee9d06c-d5da-4f3d-b0d4-c81f8de53bcf",
   "metadata": {},
   "source": [
    "# Estadísticos con NumPy"
   ]
  },
  {
   "cell_type": "markdown",
   "id": "fc77dabf-2715-43a6-83e2-8398f19ee248",
   "metadata": {},
   "source": [
    "Ahora calculamos los estadísticos con NumPy."
   ]
  },
  {
   "cell_type": "markdown",
   "id": "1174205e-effe-47a5-9bf5-3be62d042737",
   "metadata": {},
   "source": [
    "Convertimos la primera columna del DataFrame a un `numpy.array`: "
   ]
  },
  {
   "cell_type": "code",
   "execution_count": null,
   "id": "89316d0b-82dd-4230-8347-756f88caed4a",
   "metadata": {},
   "outputs": [],
   "source": [
    "import numpy as np\n",
    "radius = df[\"mean radius\"].to_numpy()\n",
    "type(radius)"
   ]
  },
  {
   "cell_type": "markdown",
   "id": "44441331-9389-4f72-9548-8bb7365dbed4",
   "metadata": {},
   "source": [
    "Media muestral con el método mean de la clase array `numpy.array.mean` (opción *object-oriented*):"
   ]
  },
  {
   "cell_type": "code",
   "execution_count": null,
   "id": "bb56acce-00ac-476f-b3e3-f4994baec4b9",
   "metadata": {},
   "outputs": [],
   "source": [
    "radius.mean()"
   ]
  },
  {
   "cell_type": "markdown",
   "id": "bd9f1e4c-d393-47f3-a95a-0434365088c8",
   "metadata": {},
   "source": [
    "También se puede calcular con la función `numpy.mean` (opción *procedural*):"
   ]
  },
  {
   "cell_type": "code",
   "execution_count": null,
   "id": "93182534-aebf-4723-a51d-4dd1b3fda4d7",
   "metadata": {},
   "outputs": [],
   "source": [
    "np.mean(radius)"
   ]
  },
  {
   "cell_type": "markdown",
   "id": "4f8682a1-9c6b-4bac-b350-94e054c07342",
   "metadata": {},
   "source": [
    "En tensión con el aforismo del [Zen of Python](https://peps.python.org/pep-0020/) - *There should be one-- and preferably only one --obvious way to do it.* :)"
   ]
  },
  {
   "cell_type": "markdown",
   "id": "ae6ec296-0597-41ec-909c-ca692f31261d",
   "metadata": {},
   "source": [
    "La mediana muestral solo se puede calcular de una única forma, con `numpy.median`:"
   ]
  },
  {
   "cell_type": "code",
   "execution_count": null,
   "id": "f4df8e92-05ec-49e6-9a66-f73c3eb9f295",
   "metadata": {},
   "outputs": [],
   "source": [
    "np.median(radius)"
   ]
  },
  {
   "cell_type": "markdown",
   "id": "8b948b1d-27ca-438a-8668-6bded06711e0",
   "metadata": {},
   "source": [
    "Calculamos la desviación estándar muestral con [`numpy.ndarray.std`](https://numpy.org/doc/stable/reference/generated/numpy.std.html). Al contrario de Pandas, este método usa por defecto ddof=0 calculando $S_n^2$; "
   ]
  },
  {
   "cell_type": "markdown",
   "id": "a9449888-b518-4760-8902-94a3ee96930d",
   "metadata": {},
   "source": [
    "NumPy calcula la desviación estándar $S_n^2 = \\frac{1}{n} \\sum_{i=1}^n (X_i - \\bar{X})^2$ por defecto "
   ]
  },
  {
   "cell_type": "code",
   "execution_count": null,
   "id": "5fa40e71-e31e-4cf0-97b0-467f86e4fb84",
   "metadata": {},
   "outputs": [],
   "source": [
    "np.std(radius)"
   ]
  },
  {
   "cell_type": "code",
   "execution_count": null,
   "id": "4be15567-dacf-4ab9-83bb-84f65d6ef1c5",
   "metadata": {},
   "outputs": [],
   "source": [
    "radius.std()"
   ]
  },
  {
   "cell_type": "markdown",
   "id": "1b4d77c4-1e4e-4fd6-a587-3681ed44e98d",
   "metadata": {},
   "source": [
    "Para calcular la desviación estándar muestral con la corrección de Bessel $S^2$, debemos setear ddof=1 explícitamente:"
   ]
  }
 ],
 "metadata": {
  "kernelspec": {
   "display_name": "Python 3 (ipykernel)",
   "language": "python",
   "name": "python3"
  },
  "language_info": {
   "codemirror_mode": {
    "name": "ipython",
    "version": 3
   },
   "file_extension": ".py",
   "mimetype": "text/x-python",
   "name": "python",
   "nbconvert_exporter": "python",
   "pygments_lexer": "ipython3",
   "version": "3.10.12"
  }
 },
 "nbformat": 4,
 "nbformat_minor": 5
}
