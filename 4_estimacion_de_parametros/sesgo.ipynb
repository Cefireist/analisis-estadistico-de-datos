{
 "cells": [
  {
   "cell_type": "markdown",
   "id": "2538940b-510c-456a-a147-ec6849cbb36b",
   "metadata": {},
   "source": [
    "# Sesgo de las varianzas muestrales"
   ]
  },
  {
   "cell_type": "markdown",
   "id": "b63e98fd-eaff-4c6f-8483-7ae599aad6dd",
   "metadata": {},
   "source": [
    "Mostramos que la varianza muestral sin la corrección de Bessel ($S_n^2$) es un estimador sesgado de la varianza. Por otro lado, la versión corregida de la varianza muestral $S^2$, no tiene sesgo dentro de las incertezas numéricas."
   ]
  },
  {
   "cell_type": "markdown",
   "id": "907ee71f-95bc-4cdd-9a43-b8d7fed64a97",
   "metadata": {},
   "source": [
    "Simulo muestras de de variables normales mucha veces"
   ]
  },
  {
   "cell_type": "code",
   "execution_count": null,
   "id": "58acea1c-35e7-484f-bb68-dab44e812d31",
   "metadata": {
    "scrolled": true
   },
   "outputs": [],
   "source": [
    "import math\n",
    "variance = 1\n",
    "sigma = math.sqrt(variance)\n",
    "# Sample size\n",
    "nvariables = 3\n",
    "# Number of simulated samples\n",
    "nsimulations = 100000"
   ]
  },
  {
   "cell_type": "code",
   "execution_count": null,
   "id": "e5c5593c-87c3-4aa6-b7eb-c28a65db667f",
   "metadata": {},
   "outputs": [],
   "source": [
    "from scipy.stats import norm\n",
    "import numpy as np\n",
    "rng = np.random.default_rng(seed=6870)\n",
    "data = norm.rvs(scale=sigma, size=(nsimulations, nvariables))\n",
    "data[0:5]"
   ]
  },
  {
   "cell_type": "markdown",
   "id": "46b202a7-71da-4797-93d5-4f3f784d458a",
   "metadata": {},
   "source": [
    "## Estadístico $S_n^2$"
   ]
  },
  {
   "cell_type": "markdown",
   "id": "e69720c2-7015-45a8-b272-f79973f747a2",
   "metadata": {},
   "source": [
    "Calculo la varianza muestral **sin** la corrección de Bessel: "
   ]
  },
  {
   "cell_type": "code",
   "execution_count": null,
   "id": "402b0a16-c96a-4c8e-a6ea-88aa794c7950",
   "metadata": {},
   "outputs": [],
   "source": [
    "variance_1 = data.var(ddof=0, axis=1)"
   ]
  },
  {
   "cell_type": "markdown",
   "id": "fde91563-0a77-4050-a966-2367372eca3d",
   "metadata": {},
   "source": [
    "Media de la varianza muestral"
   ]
  },
  {
   "cell_type": "code",
   "execution_count": null,
   "id": "b0823289-4a1e-4f8a-af31-3dbe13400975",
   "metadata": {},
   "outputs": [],
   "source": [
    "variance_1_mean = variance_1.mean()\n",
    "variance_1_mean"
   ]
  },
  {
   "cell_type": "markdown",
   "id": "005b6dd9-acfb-463c-94a5-93b84c748242",
   "metadata": {},
   "source": [
    "Sesgo de la varianza muestral"
   ]
  },
  {
   "cell_type": "code",
   "execution_count": null,
   "id": "c67ca7ba-cbb3-494b-ae24-1da0f2f71b44",
   "metadata": {},
   "outputs": [],
   "source": [
    "bias_1 = variance_1_mean - variance\n",
    "bias_1"
   ]
  },
  {
   "cell_type": "markdown",
   "id": "6f857b0d-a5b8-417f-ba64-01c62ef67087",
   "metadata": {},
   "source": [
    "El estadístico $S_n^2$ es un estimador *sesgado* de la varianza."
   ]
  },
  {
   "cell_type": "markdown",
   "id": "f069ae19-c15a-4d5f-9e2c-d97503fef35c",
   "metadata": {},
   "source": [
    "## Estadístico $S^2$"
   ]
  },
  {
   "cell_type": "markdown",
   "id": "8e3ecf4e-53b4-4835-b3a8-1e61ef367b04",
   "metadata": {},
   "source": [
    "Calculo la varianza muestral **con** la corrección de Bessel: "
   ]
  },
  {
   "cell_type": "code",
   "execution_count": null,
   "id": "f43c8cda-b000-4834-a25f-5f5380d270d8",
   "metadata": {},
   "outputs": [],
   "source": [
    "variance_2 = data.var(ddof=1, axis=1)"
   ]
  },
  {
   "cell_type": "markdown",
   "id": "507ee5e3-415a-4f9a-a806-495c53b91baa",
   "metadata": {},
   "source": [
    "Media de la varianza muestral"
   ]
  },
  {
   "cell_type": "code",
   "execution_count": null,
   "id": "ac769478-b2ea-4e56-95fb-3681a954f5c6",
   "metadata": {},
   "outputs": [],
   "source": [
    "variance_2_mean = variance_2.mean()\n",
    "variance_2_mean"
   ]
  },
  {
   "cell_type": "markdown",
   "id": "d07126c6-0f8a-4a7a-99e3-d9f8d7f481ac",
   "metadata": {},
   "source": [
    "Sesgo de la varianza muestral"
   ]
  },
  {
   "cell_type": "code",
   "execution_count": null,
   "id": "24235a83-713f-4141-8d08-7b07b11f0902",
   "metadata": {},
   "outputs": [],
   "source": [
    "bias_2 = variance_2_mean - variance\n",
    "bias_2"
   ]
  },
  {
   "cell_type": "markdown",
   "id": "f57c2770-05cf-4492-8778-b440fda134d1",
   "metadata": {},
   "source": [
    "El estadístico $S^2$ es un estimador *sin sesgo* de la varianza. Al menos lo vimos dentro de las incertezas numéricas por el número finito de simulaciones."
   ]
  }
 ],
 "metadata": {
  "kernelspec": {
   "display_name": "Python 3 (ipykernel)",
   "language": "python",
   "name": "python3"
  },
  "language_info": {
   "codemirror_mode": {
    "name": "ipython",
    "version": 3
   },
   "file_extension": ".py",
   "mimetype": "text/x-python",
   "name": "python",
   "nbconvert_exporter": "python",
   "pygments_lexer": "ipython3",
   "version": "3.10.12"
  }
 },
 "nbformat": 4,
 "nbformat_minor": 5
}
