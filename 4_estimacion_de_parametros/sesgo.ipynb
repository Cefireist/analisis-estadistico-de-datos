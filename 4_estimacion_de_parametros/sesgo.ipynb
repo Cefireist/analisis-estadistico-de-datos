{
 "cells": [
  {
   "cell_type": "markdown",
   "id": "2538940b-510c-456a-a147-ec6849cbb36b",
   "metadata": {},
   "source": [
    "# Sesgo de las varianzas muestrales"
   ]
  },
  {
   "cell_type": "markdown",
   "id": "b63e98fd-eaff-4c6f-8483-7ae599aad6dd",
   "metadata": {},
   "source": [
    "Mostramos que la varianza muestral sin la corrección de Bessel ($S_n^2$) es un estimador sesgado de la varianza. Por otro lado, mostramos que la versión corregida de la varianza muestral $S^2$, no tiene sesgo."
   ]
  },
  {
   "cell_type": "markdown",
   "id": "907ee71f-95bc-4cdd-9a43-b8d7fed64a97",
   "metadata": {},
   "source": [
    "Simulamos muestras de variables normales"
   ]
  },
  {
   "cell_type": "code",
   "execution_count": null,
   "id": "58acea1c-35e7-484f-bb68-dab44e812d31",
   "metadata": {
    "scrolled": true
   },
   "outputs": [],
   "source": [
    "import math\n",
    "variance = 1\n",
    "sigma = math.sqrt(variance)"
   ]
  },
  {
   "cell_type": "code",
   "execution_count": null,
   "id": "c73781ab-5093-4eb4-b3ca-99259416e5ad",
   "metadata": {},
   "outputs": [],
   "source": [
    "# Sample size\n",
    "nvariables = 3\n",
    "# Number of simulated samples\n",
    "nsimulations = 100000"
   ]
  },
  {
   "cell_type": "code",
   "execution_count": null,
   "id": "e5c5593c-87c3-4aa6-b7eb-c28a65db667f",
   "metadata": {},
   "outputs": [],
   "source": [
    "from scipy.stats import norm\n",
    "import numpy as np\n",
    "rng = np.random.default_rng(seed=6870)\n",
    "data = norm.rvs(scale=sigma, size=(nsimulations, nvariables), random_state=rng)\n",
    "data[0:5]"
   ]
  },
  {
   "cell_type": "markdown",
   "id": "46b202a7-71da-4797-93d5-4f3f784d458a",
   "metadata": {},
   "source": [
    "## Estadístico $S_n^2$"
   ]
  },
  {
   "cell_type": "markdown",
   "id": "e69720c2-7015-45a8-b272-f79973f747a2",
   "metadata": {},
   "source": [
    "Calculo la varianza muestral **sin** la corrección de Bessel: "
   ]
  },
  {
   "cell_type": "code",
   "execution_count": null,
   "id": "402b0a16-c96a-4c8e-a6ea-88aa794c7950",
   "metadata": {},
   "outputs": [],
   "source": [
    "sample_variance_1 = data.var(ddof=0, axis=1)"
   ]
  },
  {
   "cell_type": "markdown",
   "id": "fde91563-0a77-4050-a966-2367372eca3d",
   "metadata": {},
   "source": [
    "Media de la varianza muestral"
   ]
  },
  {
   "cell_type": "code",
   "execution_count": null,
   "id": "b0823289-4a1e-4f8a-af31-3dbe13400975",
   "metadata": {},
   "outputs": [],
   "source": [
    "sample_variance_1_mean = sample_variance_1.mean()\n",
    "sample_variance_1_mean"
   ]
  },
  {
   "cell_type": "markdown",
   "id": "005b6dd9-acfb-463c-94a5-93b84c748242",
   "metadata": {},
   "source": [
    "Sesgo de la varianza muestral"
   ]
  },
  {
   "cell_type": "code",
   "execution_count": null,
   "id": "c67ca7ba-cbb3-494b-ae24-1da0f2f71b44",
   "metadata": {},
   "outputs": [],
   "source": [
    "bias_1 = sample_variance_1_mean - variance\n",
    "bias_1"
   ]
  },
  {
   "cell_type": "markdown",
   "id": "6d41d67a-7cc7-4bb6-92b2-2383b2a3970d",
   "metadata": {},
   "source": [
    "## Plot $S_n^2$"
   ]
  },
  {
   "cell_type": "markdown",
   "id": "5db98c38-035b-405c-8d1a-05d25a2d14c1",
   "metadata": {},
   "source": [
    "Distribución de los datos simulados"
   ]
  },
  {
   "cell_type": "code",
   "execution_count": null,
   "id": "1f70693e-7f30-42c8-b339-619933be0576",
   "metadata": {},
   "outputs": [],
   "source": [
    "import danatools\n",
    "xmax = 2\n",
    "density_histo, xbin = danatools.histogram(sample_variance_1,  bins=30, range=(0,xmax), density=True)"
   ]
  },
  {
   "cell_type": "markdown",
   "id": "27a5b5db-1012-4f78-848c-23a67375f332",
   "metadata": {},
   "source": [
    "PDF de $S_n^2$ calculada a partir de la distribución de $ Z = \\frac{n}{\\sigma^2}  S_n^2 \\sim \\chi^2_{n-1}$ con un cambio de variables"
   ]
  },
  {
   "cell_type": "code",
   "execution_count": null,
   "id": "ec97a58c-4bbb-4498-8f7d-0c4e37e72d13",
   "metadata": {},
   "outputs": [],
   "source": [
    "from scipy.stats import chi2\n",
    "x_pdf = np.linspace(0, xmax, num=100)\n",
    "ndof = nvariables - 1\n",
    "scale_factor = nvariables / variance \n",
    "y_pdf = chi2.pdf(x_pdf * scale_factor, df=ndof) * scale_factor"
   ]
  },
  {
   "cell_type": "code",
   "execution_count": null,
   "id": "e9b47979-fb1d-4256-b34d-b590b1726893",
   "metadata": {},
   "outputs": [],
   "source": [
    "import matplotlib.pyplot as plt\n",
    "fig, ax = plt.subplots()\n",
    "ax.set_xlabel(\"$S_n^2$\")\n",
    "ax.set_ylabel(\"Probability density\")\n",
    "ax.plot(xbin, density_histo, ls='None', marker='o', label=\"Data\")\n",
    "ax.plot(x_pdf, y_pdf, label=\"PDF\")\n",
    "ax.axvline(sample_variance_1_mean, label=\"Mean\", color='tab:green', ls='--')\n",
    "ax.axvline(variance, label=\"Variance\", color='tab:gray', ls='--')\n",
    "ax.legend()"
   ]
  },
  {
   "cell_type": "markdown",
   "id": "6e6310f8-4051-4116-a85d-a5b4c0417158",
   "metadata": {},
   "source": [
    "El estadístico $S_n^2$ es un estimador *sesgado* de la varianza."
   ]
  },
  {
   "cell_type": "markdown",
   "id": "f069ae19-c15a-4d5f-9e2c-d97503fef35c",
   "metadata": {},
   "source": [
    "## Estadístico $S^2$"
   ]
  },
  {
   "cell_type": "markdown",
   "id": "8e3ecf4e-53b4-4835-b3a8-1e61ef367b04",
   "metadata": {},
   "source": [
    "Calculo la varianza muestral **con** la corrección de Bessel: "
   ]
  },
  {
   "cell_type": "code",
   "execution_count": null,
   "id": "f43c8cda-b000-4834-a25f-5f5380d270d8",
   "metadata": {},
   "outputs": [],
   "source": [
    "sample_variance_2 = data.var(ddof=1, axis=1)"
   ]
  },
  {
   "cell_type": "markdown",
   "id": "507ee5e3-415a-4f9a-a806-495c53b91baa",
   "metadata": {},
   "source": [
    "Media de la varianza muestral"
   ]
  },
  {
   "cell_type": "code",
   "execution_count": null,
   "id": "ac769478-b2ea-4e56-95fb-3681a954f5c6",
   "metadata": {},
   "outputs": [],
   "source": [
    "sample_variance_2_mean = sample_variance_2.mean()\n",
    "sample_variance_2_mean"
   ]
  },
  {
   "cell_type": "markdown",
   "id": "d07126c6-0f8a-4a7a-99e3-d9f8d7f481ac",
   "metadata": {},
   "source": [
    "Sesgo de la varianza muestral"
   ]
  },
  {
   "cell_type": "code",
   "execution_count": null,
   "id": "24235a83-713f-4141-8d08-7b07b11f0902",
   "metadata": {},
   "outputs": [],
   "source": [
    "bias_2 = sample_variance_2_mean - variance\n",
    "bias_2"
   ]
  },
  {
   "cell_type": "markdown",
   "id": "77dc642f-35d8-4dcd-8a93-0cb78e7e32d7",
   "metadata": {},
   "source": [
    "## Plot $S^2$"
   ]
  },
  {
   "cell_type": "code",
   "execution_count": null,
   "id": "909a1ad8-d6e4-4ccc-a32e-73391d15dc8e",
   "metadata": {},
   "outputs": [],
   "source": [
    "density_histo, xbin = danatools.histogram(sample_variance_2,  bins=30, range=(0,2), density=True)"
   ]
  },
  {
   "cell_type": "code",
   "execution_count": null,
   "id": "67410fd4-ad0c-4ac7-8e49-c5362fb34b43",
   "metadata": {},
   "outputs": [],
   "source": [
    "x_pdf = np.linspace(0, xmax, num=100)\n",
    "ndof = nvariables - 1\n",
    "scale_factor = ndof / variance \n",
    "y_pdf = chi2.pdf(x_pdf * scale_factor, df=ndof) * scale_factor"
   ]
  },
  {
   "cell_type": "code",
   "execution_count": null,
   "id": "84eaec08-0a7a-4ed8-86a7-f5340cd2f5ea",
   "metadata": {},
   "outputs": [],
   "source": [
    "fig, ax = plt.subplots()\n",
    "ax.set_xlabel(\"$S^2$\")\n",
    "ax.set_ylabel(\"Probability density\")\n",
    "ax.plot(xbin, density_histo, ls='None', marker='o', label=\"Data\")\n",
    "ax.plot(x_pdf, y_pdf, label=\"PDF\")\n",
    "ax.axvline(sample_variance_2_mean, label=\"Mean\", color='tab:green', ls='--')\n",
    "ax.axvline(variance, label=\"Variance\", color='tab:gray', ls='--')\n",
    "ax.legend()"
   ]
  },
  {
   "cell_type": "markdown",
   "id": "a91d9b1c-b0b3-41df-b260-3283b402603a",
   "metadata": {},
   "source": [
    "El estadístico $S^2$ es un estimador *sin sesgo* de la varianza. Al menos lo vimos dentro de las incertezas numéricas por el número finito de simulaciones."
   ]
  }
 ],
 "metadata": {
  "kernelspec": {
   "display_name": "Python 3 (ipykernel)",
   "language": "python",
   "name": "python3"
  },
  "language_info": {
   "codemirror_mode": {
    "name": "ipython",
    "version": 3
   },
   "file_extension": ".py",
   "mimetype": "text/x-python",
   "name": "python",
   "nbconvert_exporter": "python",
   "pygments_lexer": "ipython3",
   "version": "3.10.12"
  }
 },
 "nbformat": 4,
 "nbformat_minor": 5
}
