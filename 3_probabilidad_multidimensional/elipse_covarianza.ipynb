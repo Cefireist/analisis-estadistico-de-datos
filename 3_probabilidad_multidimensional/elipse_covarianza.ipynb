{
 "cells": [
  {
   "cell_type": "markdown",
   "metadata": {
    "id": "0TMligSDKDF8"
   },
   "source": [
    "# Elipses de covarianza"
   ]
  },
  {
   "cell_type": "code",
   "execution_count": 1,
   "metadata": {
    "id": "2LByiXAhKDGA"
   },
   "outputs": [],
   "source": [
    "import math\n",
    "import numpy as np\n",
    "from numpy import linalg as la\n",
    "import matplotlib.pyplot as plt"
   ]
  },
  {
   "cell_type": "markdown",
   "metadata": {},
   "source": [
    "Importar la librería danatools"
   ]
  },
  {
   "cell_type": "code",
   "execution_count": 2,
   "metadata": {},
   "outputs": [],
   "source": [
    "import danatools"
   ]
  },
  {
   "cell_type": "markdown",
   "metadata": {
    "id": "gGrMEQV1KDGA"
   },
   "source": [
    "## Parámetros de la distribución normal bivariada"
   ]
  },
  {
   "cell_type": "code",
   "execution_count": 3,
   "metadata": {
    "id": "Y9EtPy9vKDGA"
   },
   "outputs": [],
   "source": [
    "mu1 = 0\n",
    "mu2 = 0\n",
    "sigma1 = 1"
   ]
  },
  {
   "cell_type": "code",
   "execution_count": 4,
   "metadata": {
    "id": "ppkwpio_KDGA"
   },
   "outputs": [],
   "source": [
    "# Sin correlación y σ₂ = σ₁\n",
    "sigma2 = sigma1\n",
    "rho = 0"
   ]
  },
  {
   "cell_type": "code",
   "execution_count": 5,
   "metadata": {
    "id": "S2ZywKs1KDGB"
   },
   "outputs": [],
   "source": [
    "# Sin correlación y σ₂ = σ₁/2\n",
    "# sigma2 = sigma1 / 2\n",
    "# rho = 0"
   ]
  },
  {
   "cell_type": "code",
   "execution_count": 6,
   "metadata": {
    "id": "rKHbMFPGKDGB"
   },
   "outputs": [],
   "source": [
    "# Correlación positiva\n",
    "# sigma2 = sigma1\n",
    "# rho = 0.95"
   ]
  },
  {
   "cell_type": "code",
   "execution_count": 7,
   "metadata": {
    "id": "SIaX0UXGKDGB"
   },
   "outputs": [],
   "source": [
    "# Correlación negativa\n",
    "# sigma2 = sigma1\n",
    "# rho = -0.95"
   ]
  },
  {
   "cell_type": "markdown",
   "metadata": {
    "id": "LJ0W6Xl_KDGB"
   },
   "source": [
    "Parámetro μ en notación vectorial"
   ]
  },
  {
   "cell_type": "code",
   "execution_count": 8,
   "metadata": {
    "colab": {
     "base_uri": "https://localhost:8080/"
    },
    "executionInfo": {
     "elapsed": 50,
     "status": "ok",
     "timestamp": 1693924964100,
     "user": {
      "displayName": "Diego Ravignani Guerrero",
      "userId": "10540030550289703153"
     },
     "user_tz": 180
    },
    "id": "rYw_T4PeKDGB",
    "outputId": "f0a22f0d-2889-4ec9-807b-4371b1bf2c0d"
   },
   "outputs": [
    {
     "data": {
      "text/plain": [
       "array([0, 0])"
      ]
     },
     "execution_count": 8,
     "metadata": {},
     "output_type": "execute_result"
    }
   ],
   "source": [
    "mu = np.array([mu1, mu2])\n",
    "mu"
   ]
  },
  {
   "cell_type": "markdown",
   "metadata": {
    "id": "jEybNBL6KDGC"
   },
   "source": [
    "Matriz de covarianza"
   ]
  },
  {
   "cell_type": "code",
   "execution_count": 9,
   "metadata": {
    "id": "4ZQgqN4uKDGC"
   },
   "outputs": [],
   "source": [
    "var1 = sigma1**2\n",
    "var2 = sigma2**2\n",
    "cova12 = rho*sigma1*sigma2"
   ]
  },
  {
   "cell_type": "code",
   "execution_count": 10,
   "metadata": {
    "colab": {
     "base_uri": "https://localhost:8080/"
    },
    "executionInfo": {
     "elapsed": 46,
     "status": "ok",
     "timestamp": 1693924964101,
     "user": {
      "displayName": "Diego Ravignani Guerrero",
      "userId": "10540030550289703153"
     },
     "user_tz": 180
    },
    "id": "A1q2ZH9vKDGC",
    "outputId": "2dddad34-ce3d-4665-80f3-2861de132c9f"
   },
   "outputs": [
    {
     "name": "stdout",
     "output_type": "stream",
     "text": [
      "[[1 0]\n",
      " [0 1]]\n"
     ]
    }
   ],
   "source": [
    "cova = np.array([[var1, cova12],\n",
    "                 [cova12, var2]])\n",
    "print(cova)"
   ]
  },
  {
   "cell_type": "markdown",
   "metadata": {
    "id": "5AvNZe7dKDGD"
   },
   "source": [
    "## Diagonalización de la matriz de covarianza"
   ]
  },
  {
   "cell_type": "code",
   "execution_count": 11,
   "metadata": {
    "id": "zfbR6qhrKDGD",
    "scrolled": true
   },
   "outputs": [
    {
     "data": {
      "text/plain": [
       "array([[1., 0.],\n",
       "       [0., 1.]])"
      ]
     },
     "execution_count": 11,
     "metadata": {},
     "output_type": "execute_result"
    }
   ],
   "source": [
    "autovalores, autovectores = la.eigh(cova)\n",
    "autovectores"
   ]
  },
  {
   "cell_type": "code",
   "execution_count": 12,
   "metadata": {
    "colab": {
     "base_uri": "https://localhost:8080/"
    },
    "executionInfo": {
     "elapsed": 34,
     "status": "ok",
     "timestamp": 1693924964103,
     "user": {
      "displayName": "Diego Ravignani Guerrero",
      "userId": "10540030550289703153"
     },
     "user_tz": 180
    },
    "id": "tnojGlofKDGD",
    "outputId": "21c14380-f1a4-48f1-835c-24a41344b7b5"
   },
   "outputs": [
    {
     "name": "stdout",
     "output_type": "stream",
     "text": [
      "autovector1: [1. 0.]\n",
      "autovalor1: 1.0\n"
     ]
    }
   ],
   "source": [
    "autovector1 = autovectores[:,0]\n",
    "autovalor1 = autovalores[0]\n",
    "print(f\"autovector1: {autovector1}\")\n",
    "print(f\"autovalor1: {autovalor1}\")"
   ]
  },
  {
   "cell_type": "code",
   "execution_count": 13,
   "metadata": {
    "colab": {
     "base_uri": "https://localhost:8080/"
    },
    "executionInfo": {
     "elapsed": 31,
     "status": "ok",
     "timestamp": 1693924964104,
     "user": {
      "displayName": "Diego Ravignani Guerrero",
      "userId": "10540030550289703153"
     },
     "user_tz": 180
    },
    "id": "Og5WA9BaKDGD",
    "outputId": "27834cfb-0d68-4eb4-8ca2-4e73a7b22f43"
   },
   "outputs": [
    {
     "name": "stdout",
     "output_type": "stream",
     "text": [
      "autovector2: [0. 1.]\n",
      "autovalor2: 1.0\n"
     ]
    }
   ],
   "source": [
    "autovalor2 = autovalores[1]\n",
    "autovector2 = autovectores[:,1]\n",
    "print(f\"autovector2: {autovector2}\")\n",
    "print(f\"autovalor2: {autovalor2}\")"
   ]
  },
  {
   "cell_type": "markdown",
   "metadata": {
    "id": "sYwumnKmKDGD"
   },
   "source": [
    "## Elipse 1$\\sigma$"
   ]
  },
  {
   "cell_type": "code",
   "execution_count": 14,
   "metadata": {},
   "outputs": [
    {
     "data": {
      "text/plain": [
       "(-1.1002198080833183,\n",
       " 1.1047247527658723,\n",
       " -1.1002237020200274,\n",
       " 1.10472493819143)"
      ]
     },
     "execution_count": 14,
     "metadata": {},
     "output_type": "execute_result"
    },
    {
     "data": {
      "image/png": "[encoded data removed]",
      "text/plain": [
       "<Figure size 480x360 with 1 Axes>"
      ]
     },
     "metadata": {},
     "output_type": "display_data"
    }
   ],
   "source": [
    "fig1, ax1 = plt.subplots()\n",
    "ax1.set_xlabel('$X_1$')\n",
    "ax1.set_ylabel('$X_2$')\n",
    "ax1.plot(mu1, mu2, marker='o', ls='', label='$\\mu$')\n",
    "x_1sigma, y_1sigma = danatools.get_ellipse(mu, cova, nsigma=1)\n",
    "ax1.plot(x_1sigma, y_1sigma)\n",
    "ax1.arrow(mu1, mu2, autovalor1*autovector1[0], autovalor1*autovector1[1], color='tab:green', label='$v_1$')\n",
    "ax1.arrow(mu1, mu2, autovalor2*autovector2[0], autovalor2*autovector2[1], color='tab:red', label='$v_2$')\n",
    "ax1.legend()\n",
    "plt.axis('scaled')        # igual escala en los dos ejes "
   ]
  },
  {
   "cell_type": "markdown",
   "metadata": {},
   "source": [
    "## Elipses 1, 2 y 3 $\\sigma$"
   ]
  },
  {
   "cell_type": "code",
   "execution_count": 15,
   "metadata": {
    "colab": {
     "base_uri": "https://localhost:8080/",
     "height": 452
    },
    "executionInfo": {
     "elapsed": 964,
     "status": "ok",
     "timestamp": 1693925037344,
     "user": {
      "displayName": "Diego Ravignani Guerrero",
      "userId": "10540030550289703153"
     },
     "user_tz": 180
    },
    "id": "q3gL2oXXYsIT",
    "outputId": "42401aa0-4612-4d70-a0b2-98d5953fa626"
   },
   "outputs": [
    {
     "data": {
      "text/plain": [
       "(-3.2999844242499545,\n",
       " 3.2999992582976168,\n",
       " -3.2999959206343714,\n",
       " 3.2999959206343714)"
      ]
     },
     "execution_count": 15,
     "metadata": {},
     "output_type": "execute_result"
    },
    {
     "data": {
      "image/png": "[encoded data removed]",
      "text/plain": [
       "<Figure size 480x360 with 1 Axes>"
      ]
     },
     "metadata": {},
     "output_type": "display_data"
    }
   ],
   "source": [
    "fig2, ax2 = plt.subplots()\n",
    "ax2.set_xlabel('$X_1$')\n",
    "ax2.set_ylabel('$X_2$')\n",
    "ax2.plot(mu1, mu2, marker='o', ls='', label='$\\mu$')\n",
    "x_1sigma, y_1sigma= danatools.get_ellipse(mu, cova, nsigma=1)\n",
    "ax2.plot(x_1sigma, y_1sigma, label='$1\\sigma$')\n",
    "x_2sigma, y_2sigma = danatools.get_ellipse(mu, cova, nsigma=2)\n",
    "ax2.plot(x_2sigma, y_2sigma, label='$2\\sigma$')\n",
    "x_3sigma, y_3sigma = danatools.get_ellipse(mu, cova, nsigma=3)\n",
    "ax2.plot(x_3sigma, y_3sigma, label='$3\\sigma$')\n",
    "ax2.legend()\n",
    "plt.axis('scaled')"
   ]
  },
  {
   "cell_type": "code",
   "execution_count": null,
   "metadata": {},
   "outputs": [],
   "source": []
  }
 ],
 "metadata": {
  "colab": {
   "provenance": []
  },
  "kernelspec": {
   "display_name": "Python 3 (ipykernel)",
   "language": "python",
   "name": "python3"
  },
  "language_info": {
   "codemirror_mode": {
    "name": "ipython",
    "version": 3
   },
   "file_extension": ".py",
   "mimetype": "text/x-python",
   "name": "python",
   "nbconvert_exporter": "python",
   "pygments_lexer": "ipython3",
   "version": "3.10.12"
  }
 },
 "nbformat": 4,
 "nbformat_minor": 1
}
