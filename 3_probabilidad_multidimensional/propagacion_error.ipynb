{
 "cells": [
  {
   "cell_type": "code",
   "execution_count": null,
   "id": "f5f76cfe-de55-4b23-9290-ae9fe4984ed6",
   "metadata": {
    "scrolled": true
   },
   "outputs": [],
   "source": [
    "import numpy as np\n",
    "mean_x1 = 1\n",
    "mean_x2 = -1\n",
    "mean_x = np.array([mean_x1, mean_x2])"
   ]
  },
  {
   "cell_type": "code",
   "execution_count": null,
   "id": "584ac422-c0a0-4080-8df2-0353b9793dc3",
   "metadata": {},
   "outputs": [],
   "source": [
    "import danatools\n",
    "sigma_x1 = 0.056\n",
    "sigma_x2 = 0.048\n",
    "correlation =  -0.85\n",
    "covariance_x = danatools.covariance_matrix_2d(sigma_x1, sigma_x2, correlation)"
   ]
  },
  {
   "cell_type": "markdown",
   "id": "7e1f081e-a606-4bdb-93b2-05007cd19c3d",
   "metadata": {},
   "source": [
    "## Variance propagation"
   ]
  },
  {
   "cell_type": "code",
   "execution_count": null,
   "id": "d370c33e-816e-41fc-b8bb-fca487d9cf8d",
   "metadata": {},
   "outputs": [],
   "source": [
    "def function(x1, x2):\n",
    "    return x1 * np.exp(x2)"
   ]
  },
  {
   "cell_type": "code",
   "execution_count": null,
   "id": "03ec9c17-474f-4d71-acca-433a5cdfcf9b",
   "metadata": {},
   "outputs": [],
   "source": [
    "mean_y_ana = function(mean_x1, mean_x2)\n",
    "mean_y_ana"
   ]
  },
  {
   "cell_type": "code",
   "execution_count": null,
   "id": "b33df118-9d9c-42c4-b761-250eb8a554a4",
   "metadata": {},
   "outputs": [],
   "source": [
    "import math\n",
    "gradient_x1 = math.exp(mean_x2)\n",
    "gradient_x2 = mean_x1 * math.exp(mean_x2)"
   ]
  },
  {
   "cell_type": "code",
   "execution_count": null,
   "id": "f777fb48-d21b-4b7d-a384-0104652fc134",
   "metadata": {},
   "outputs": [],
   "source": [
    "variance_y_ana = gradient_x1**2 * covariance_x[0,0] + gradient_x2**2 * covariance_x[1,1] + 2 * gradient_x1 * gradient_x2 *  covariance_x[0,1]\n",
    "variance_y_ana"
   ]
  },
  {
   "cell_type": "code",
   "execution_count": null,
   "id": "f8bd3107-c009-4be9-86c0-637090aef1ac",
   "metadata": {},
   "outputs": [],
   "source": [
    "sigma_y_ana = math.sqrt(variance_y_ana)\n",
    "sigma_y_ana"
   ]
  },
  {
   "cell_type": "markdown",
   "id": "17203200-a2e5-4b3e-8326-c549b24caeaf",
   "metadata": {},
   "source": [
    "## Simulations"
   ]
  },
  {
   "cell_type": "code",
   "execution_count": null,
   "id": "c181df4e-7d30-4ecd-9130-5f4439b243ca",
   "metadata": {},
   "outputs": [],
   "source": [
    "from scipy.stats import multivariate_normal\n",
    "population = 1000000\n",
    "rng = np.random.default_rng(seed=6870)\n",
    "data_x = multivariate_normal.rvs(mean_x, covariance_x, size=population, random_state=rng)\n",
    "data_x"
   ]
  },
  {
   "cell_type": "code",
   "execution_count": null,
   "id": "13cf0800-9afe-4be8-87f2-d707058fc830",
   "metadata": {},
   "outputs": [],
   "source": [
    "data_y = function(data_x[:,0], data_x[:,1])\n",
    "data_y"
   ]
  },
  {
   "cell_type": "code",
   "execution_count": null,
   "id": "53419673-df62-4079-9953-9b0ae75bd95b",
   "metadata": {},
   "outputs": [],
   "source": [
    "mean_y_sim = data_y.mean()\n",
    "mean_y_sim"
   ]
  },
  {
   "cell_type": "code",
   "execution_count": null,
   "id": "4c71ac61-cc56-41c2-b7d2-d1658b67faa6",
   "metadata": {},
   "outputs": [],
   "source": [
    "sigma_y_sim = data_y.std(ddof=1)\n",
    "sigma_y_sim"
   ]
  },
  {
   "cell_type": "markdown",
   "id": "f805d718-269d-4ec4-b401-26f1abf5c2d1",
   "metadata": {},
   "source": [
    "## Variance propagation vs. simulations"
   ]
  },
  {
   "cell_type": "code",
   "execution_count": null,
   "id": "c14048ee-6db8-402a-bd7e-e4723c97c49d",
   "metadata": {},
   "outputs": [],
   "source": [
    "delta_mean = (mean_y_ana / mean_y_sim - 1) \n",
    "print(f\"Mean: {delta_mean*100:.2f}%\")"
   ]
  },
  {
   "cell_type": "code",
   "execution_count": null,
   "id": "d776cec2-43ec-4cc2-aed5-bd60a4235b03",
   "metadata": {},
   "outputs": [],
   "source": [
    "delta_sigma = (sigma_y_ana / sigma_y_sim - 1) \n",
    "print(f\"Standard deviation: {delta_sigma*100:.2f}%\")"
   ]
  },
  {
   "cell_type": "code",
   "execution_count": null,
   "id": "8c8133fa-e93b-4cfe-8bde-7a5e0186c459",
   "metadata": {},
   "outputs": [],
   "source": [
    "import matplotlib.pyplot as plt\n",
    "from matplotlib import cm\n",
    "fig, ax = plt.subplots()\n",
    "ax.set_xlabel(\"$X_1$\")\n",
    "ax.set_ylabel(\"$X_2$\")\n",
    "\n",
    "height_limits = [mean_x1-3*sigma_x1, mean_x1+3*sigma_x1]\n",
    "weight_limits = [mean_x2-3*sigma_x2, mean_x2+3*sigma_x2]\n",
    "counts, xedges, yedges, im = ax.hist2d(data_x[:,0], data_x[:,1], range=[height_limits, weight_limits], bins=100, density=True, cmap=cm.viridis)\n",
    "clb = plt.colorbar(im)\n",
    "\n",
    "ax.plot(*danatools.get_ellipse(mean_x, covariance_x, nsigma=1), color='tab:red', ls='--')\n",
    "ax.plot(*danatools.get_ellipse(mean_x, covariance_x, nsigma=2), color='tab:red', ls='--')"
   ]
  },
  {
   "cell_type": "code",
   "execution_count": null,
   "id": "5192863e-4e2b-4d4a-9867-d91b61d83594",
   "metadata": {},
   "outputs": [],
   "source": [
    "fig, ax = plt.subplots()\n",
    "ax.set_xlabel(\"$Y$\")\n",
    "ax.set_ylabel(\" Probability density\")\n",
    "\n",
    "limits = [mean_y_ana-3*sigma_y_ana, mean_y_ana+3*sigma_y_ana] \n",
    "ax.hist(data_y, range=limits, bins=100, density=True, label=\"Simulation\")\n",
    "\n",
    "from scipy.stats import norm\n",
    "x = np.linspace(*limits, 100)\n",
    "y = norm.pdf(x, loc=mean_y_ana, scale=sigma_y_ana)\n",
    "plt.plot(x, y, label=\"PDF\")\n",
    "\n",
    "ax.legend()"
   ]
  },
  {
   "cell_type": "code",
   "execution_count": null,
   "id": "a10fd38a-7e3f-4b80-bbb2-44f4aa962f00",
   "metadata": {},
   "outputs": [],
   "source": []
  }
 ],
 "metadata": {
  "kernelspec": {
   "display_name": "Python 3 (ipykernel)",
   "language": "python",
   "name": "python3"
  },
  "language_info": {
   "codemirror_mode": {
    "name": "ipython",
    "version": 3
   },
   "file_extension": ".py",
   "mimetype": "text/x-python",
   "name": "python",
   "nbconvert_exporter": "python",
   "pygments_lexer": "ipython3",
   "version": "3.10.12"
  }
 },
 "nbformat": 4,
 "nbformat_minor": 5
}
