{
 "cells": [
  {
   "cell_type": "markdown",
   "id": "a2053300-749d-4d8f-895f-25725b065865",
   "metadata": {},
   "source": [
    "# Transformación linear de una variable bivariada"
   ]
  },
  {
   "cell_type": "markdown",
   "id": "c9a7aa1f-ffab-4c54-915e-ada53134f472",
   "metadata": {},
   "source": [
    "Esta demo muestra la transformación de una variable normal bivariada con correlación $X$ a una variable $Y$ sin correlación. \n",
    "Este ejemplo es útil para diagonalizar la forma cuadrática,\n",
    "$ Q = (\\boldsymbol{X}-\\boldsymbol{\\mu}_X)^T \\, \\boldsymbol{V}_X^{-1} \\, (\\boldsymbol{X}-\\boldsymbol{\\mu}_X)$, que aparece en la PDF conjunta de una variable normal bivariada."
   ]
  },
  {
   "cell_type": "markdown",
   "id": "73968fd0-0bd4-4ed4-9a12-d839fa9278a0",
   "metadata": {},
   "source": [
    "## Variable normal bivariada $X$"
   ]
  },
  {
   "cell_type": "markdown",
   "id": "6528abdf-7c09-401f-82a7-3ecb479be170",
   "metadata": {},
   "source": [
    "$X$ = (altura, peso) de una persona"
   ]
  },
  {
   "cell_type": "code",
   "execution_count": null,
   "id": "371f9569-2487-4c6f-a7f1-fd220d6851e5",
   "metadata": {},
   "outputs": [],
   "source": [
    "import numpy as np\n",
    "# Height in centimeters\n",
    "mean_height = 159  \n",
    "# Weight in kilograms\n",
    "mean_weight = 62.5\n",
    "mean_x = np.array([mean_height, mean_weight])\n",
    "mean_x"
   ]
  },
  {
   "cell_type": "markdown",
   "id": "225c6d53-fd1f-4063-8e57-076a41a7fadf",
   "metadata": {},
   "source": [
    "Matrix de covarianza de $X$"
   ]
  },
  {
   "cell_type": "code",
   "execution_count": null,
   "id": "548b47c7-8fe2-4b67-861e-25a27fe3c601",
   "metadata": {},
   "outputs": [],
   "source": [
    "import danatools\n",
    "sigma_height = 10\n",
    "sigma_weight = 7\n",
    "correlation = 0.7\n",
    "covariance_x = danatools.covariance_matrix_2d(sigma_height, sigma_weight, correlation)\n",
    "covariance_x"
   ]
  },
  {
   "cell_type": "markdown",
   "id": "7e272623-0283-4b8e-8f76-349a807e2782",
   "metadata": {},
   "source": [
    "Generamos muchos eventos de la variable $X$"
   ]
  },
  {
   "cell_type": "code",
   "execution_count": null,
   "id": "b97eb5f0-02e7-45b1-a461-c16a8a600cae",
   "metadata": {},
   "outputs": [],
   "source": [
    "from scipy.stats import multivariate_normal\n",
    "population = 1000000\n",
    "rng = np.random.default_rng(seed=6870)\n",
    "data_x = multivariate_normal.rvs(mean_x, covariance_x, size=population, random_state=rng)\n",
    "data_x"
   ]
  },
  {
   "cell_type": "markdown",
   "id": "bdbfbc08-cb0d-4a9d-b20f-b9a679fe5124",
   "metadata": {},
   "source": [
    "Plot del histograma de densidad y de las elipses de covarianza de la PDF conjunta de $X$  "
   ]
  },
  {
   "cell_type": "code",
   "execution_count": null,
   "id": "36153514-abb2-42c9-aa7e-f94a8d13766e",
   "metadata": {},
   "outputs": [],
   "source": [
    "import matplotlib.pyplot as plt\n",
    "from matplotlib import cm\n",
    "fig, ax = plt.subplots()\n",
    "ax.set_xlabel(\"$X_1$\")\n",
    "ax.set_ylabel(\"$X_2$\")\n",
    "\n",
    "height_limits = [mean_height-3*sigma_height, mean_height+3*sigma_height]\n",
    "weight_limits = [mean_weight-3*sigma_weight, mean_weight+3*sigma_weight]\n",
    "counts, xedges, yedges, im = ax.hist2d(data_x[:,0], data_x[:,1], range=[height_limits, weight_limits], bins=100, density=True, cmap=cm.viridis)\n",
    "clb = plt.colorbar(im)\n",
    "\n",
    "ax.plot(*danatools.get_ellipse(mean_x, covariance_x, nsigma=1), color='tab:red', ls='--')\n",
    "ax.plot(*danatools.get_ellipse(mean_x, covariance_x, nsigma=2), color='tab:red', ls='--')"
   ]
  },
  {
   "cell_type": "markdown",
   "id": "f761e33f-c8d3-44b5-b439-ba76c7caa16f",
   "metadata": {},
   "source": [
    "## Variable bivariada $Y$"
   ]
  },
  {
   "cell_type": "markdown",
   "id": "7e61d04c-664a-4431-8704-f3d0297e4b86",
   "metadata": {},
   "source": [
    "Obtenemos la variable $Y$ a partir de la diagonalización de la matriz hessiana de $X$"
   ]
  },
  {
   "cell_type": "markdown",
   "id": "8034eaa3-a635-4749-8a36-aeca32a3c0be",
   "metadata": {},
   "source": [
    "Matriz hessiana "
   ]
  },
  {
   "cell_type": "code",
   "execution_count": null,
   "id": "b08122c2-761b-4498-badc-33c3674fddcf",
   "metadata": {},
   "outputs": [],
   "source": [
    "from numpy import linalg\n",
    "hessian_matrix = linalg.inv(covariance_x)"
   ]
  },
  {
   "cell_type": "markdown",
   "id": "5b7c9ce0-ac89-410a-ad20-b8906a8a397e",
   "metadata": {},
   "source": [
    "Diagonalización de la matriz hessiana"
   ]
  },
  {
   "cell_type": "code",
   "execution_count": null,
   "id": "d15e4cdc-f713-418c-a7ca-13bda4633e65",
   "metadata": {},
   "outputs": [],
   "source": [
    "eigenvalues, eigenvectors = linalg.eig(hessian_matrix)"
   ]
  },
  {
   "cell_type": "code",
   "execution_count": null,
   "id": "72badc76-f724-4e53-a652-eab7635f67b7",
   "metadata": {},
   "outputs": [],
   "source": [
    "eigenvalues"
   ]
  },
  {
   "cell_type": "code",
   "execution_count": null,
   "id": "396dcee7-d179-4184-bc10-0930740b98f6",
   "metadata": {},
   "outputs": [],
   "source": [
    "eigenvectors"
   ]
  },
  {
   "cell_type": "markdown",
   "id": "dbde470c-748a-42d4-8b32-0a3839a2639e",
   "metadata": {},
   "source": [
    "*Nota*: también se puede diagonalizar la matriz de covarianza en lugar de la hessiana ya que una matriz y su inversa tienen los mismos autovectores."
   ]
  },
  {
   "cell_type": "markdown",
   "id": "9906fc72-ac0b-4e70-abbe-eaead4e59052",
   "metadata": {},
   "source": [
    "Matriz de rotación"
   ]
  },
  {
   "cell_type": "code",
   "execution_count": null,
   "id": "ebe4a434-d1a0-4c32-91a2-954f02384d4f",
   "metadata": {},
   "outputs": [],
   "source": [
    "# Transpossing to put the eigenvectors in the columns of the rotation matrix as required for matrix multiplication \n",
    "rotation_matrix = eigenvectors.T\n",
    "rotation_matrix"
   ]
  },
  {
   "cell_type": "markdown",
   "id": "0679f9b6-7773-4786-ba93-71d0ff460c34",
   "metadata": {},
   "source": [
    "Multiplicamos los eventos de $X$ por la matriz de rotación para obtener los eventos de $Y$"
   ]
  },
  {
   "cell_type": "code",
   "execution_count": null,
   "id": "63321992-023d-49bc-8088-f028c345f243",
   "metadata": {
    "scrolled": true
   },
   "outputs": [],
   "source": [
    "# Using an Einstein sum to transform all X events in a single line of code\n",
    "data_y = np.einsum(\"nk,pk->pn\", rotation_matrix, data_x)\n",
    "data_y"
   ]
  },
  {
   "cell_type": "code",
   "execution_count": null,
   "id": "69657611-7fce-4210-afbc-698186da7481",
   "metadata": {},
   "outputs": [],
   "source": [
    "len(data_y)"
   ]
  },
  {
   "cell_type": "markdown",
   "id": "55043ef2-961f-4b54-a3f0-7a65962cb153",
   "metadata": {},
   "source": [
    "Media de $Y$"
   ]
  },
  {
   "cell_type": "code",
   "execution_count": null,
   "id": "8535b72b-1223-4f81-9b29-4ad3e3a5c393",
   "metadata": {},
   "outputs": [],
   "source": [
    "mean_y = rotation_matrix @ mean_x\n",
    "mean_y"
   ]
  },
  {
   "cell_type": "code",
   "execution_count": null,
   "id": "2d8d1058-62db-4965-83b4-6c57425c4537",
   "metadata": {},
   "outputs": [],
   "source": [
    "mean_y1 = mean_y[0]\n",
    "mean_y2 = mean_y[1]"
   ]
  },
  {
   "cell_type": "markdown",
   "id": "4e9db9d2-6bc6-4a2f-97f2-8f27dd9247b8",
   "metadata": {},
   "source": [
    "Covarianza de $Y$"
   ]
  },
  {
   "cell_type": "code",
   "execution_count": null,
   "id": "6f3539ee-c93e-472d-ae60-db97df1eb9ca",
   "metadata": {},
   "outputs": [],
   "source": [
    "covariance_y = rotation_matrix @ covariance_x @ rotation_matrix.T\n",
    "covariance_y"
   ]
  },
  {
   "cell_type": "markdown",
   "id": "bbfe2482-66ce-470d-84d8-5b42645dde69",
   "metadata": {},
   "source": [
    "La matriz de covarianza de $Y$ es diagonal *dentro de la precisión númerica*"
   ]
  },
  {
   "cell_type": "code",
   "execution_count": null,
   "id": "62587938-ebfb-4e05-af14-1f2d879d4142",
   "metadata": {},
   "outputs": [],
   "source": [
    "import math\n",
    "sigma_y1 = math.sqrt(covariance_y[0,0])\n",
    "sigma_y1"
   ]
  },
  {
   "cell_type": "code",
   "execution_count": null,
   "id": "49874d88-750f-4956-8d28-4d064ca52dbd",
   "metadata": {},
   "outputs": [],
   "source": [
    "sigma_y2 = math.sqrt(covariance_y[1,1])\n",
    "sigma_y2"
   ]
  },
  {
   "cell_type": "markdown",
   "id": "445411b3-4857-4856-8f6f-e6164cafcf82",
   "metadata": {},
   "source": [
    "Plot del histograma de densidad y de las elipses de covarianza de la PDF conjunta de $Y$  "
   ]
  },
  {
   "cell_type": "code",
   "execution_count": null,
   "id": "fdf3958e-9c23-4c52-9f9f-732a2bd1534c",
   "metadata": {},
   "outputs": [],
   "source": [
    "fig, ax = plt.subplots()\n",
    "ax.set_xlabel(\"$Y_1$\")\n",
    "ax.set_ylabel(\"$Y_2$\")\n",
    "\n",
    "y1_limits = [mean_y1-3*sigma_y1, mean_y1+3*sigma_y1]\n",
    "y2_limits = [mean_y2-5*sigma_y2, mean_y2+5*sigma_y2]\n",
    "counts, xedges, yedges, im = ax.hist2d(data_y[:,0], data_y[:,1], range=[y1_limits, y2_limits], bins=100, density=True, cmap=cm.viridis)\n",
    "clb = plt.colorbar(im)\n",
    "\n",
    "import danatools\n",
    "ax.plot(*danatools.get_ellipse(mean_y, covariance_y, nsigma=1), color='tab:red', ls='--')\n",
    "ax.plot(*danatools.get_ellipse(mean_y, covariance_y, nsigma=2), color='tab:red', ls='--')"
   ]
  },
  {
   "cell_type": "markdown",
   "id": "eb10a1dd-ed56-429e-956f-2da8d00580ea",
   "metadata": {},
   "source": [
    "La base de autovectores se obtiene mediante una rotación de la base canónica\n",
    "En la base de autovectores de la matriz Hessiana, la matriz de covarianza de $Y$ es diagonal.\n",
    "Por lo tanto la correlación entre las dos componentes de $Y$ es nula.\n",
    "Como $Y$ sigue una distribución normal bivariada, correlación nula implica independencia de las componentes de $Y$. "
   ]
  },
  {
   "cell_type": "markdown",
   "id": "046c8e86-036d-4ece-8fa3-4779e271fad8",
   "metadata": {},
   "source": [
    "Esta demo muestra que una variable con correlación $X$ se puede reducir a una variable sin correlación $Y$ a través de una rotación de la  base de vectores "
   ]
  }
 ],
 "metadata": {
  "kernelspec": {
   "display_name": "Python 3 (ipykernel)",
   "language": "python",
   "name": "aed_demos"
  },
  "language_info": {
   "codemirror_mode": {
    "name": "ipython",
    "version": 3
   },
   "file_extension": ".py",
   "mimetype": "text/x-python",
   "name": "python",
   "nbconvert_exporter": "python",
   "pygments_lexer": "ipython3",
   "version": "3.10.12"
  }
 },
 "nbformat": 4,
 "nbformat_minor": 5
}
