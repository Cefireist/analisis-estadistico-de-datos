{
 "cells": [
  {
   "cell_type": "markdown",
   "id": "c1be6f18-cf4d-4734-a61e-9fbd9426c757",
   "metadata": {},
   "source": [
    "# Variable normal bivariada"
   ]
  },
  {
   "cell_type": "code",
   "execution_count": null,
   "id": "62c9145b-e39f-4164-a51d-098bed9abfb8",
   "metadata": {},
   "outputs": [],
   "source": [
    "import numpy as np\n",
    "mean_height_cm = 159\n",
    "mean_weight_kg = 62.5\n",
    "mean = np.array([mean_height_cm, mean_weight_kg])"
   ]
  },
  {
   "cell_type": "code",
   "execution_count": null,
   "id": "bea5b45e-ea2f-4d7c-aa87-e691a23c07cc",
   "metadata": {},
   "outputs": [],
   "source": [
    "height_sigma_cm = 10\n",
    "weight_sigma_kg = 7\n",
    "correlation = 0.7\n",
    "cov = np.empty(shape=(2,2))\n",
    "cov[0, 0] = height_sigma_cm**2\n",
    "cov[0, 1] = cov[1,0] = correlation*height_sigma_cm*weight_sigma_kg\n",
    "cov[1, 1] = weight_sigma_kg**2\n",
    "cov"
   ]
  },
  {
   "cell_type": "markdown",
   "id": "797aa9f4-94da-418c-9e29-b0d84587fabb",
   "metadata": {},
   "source": [
    "## PDFs marginales"
   ]
  },
  {
   "cell_type": "markdown",
   "id": "69f6ed70-d12b-4e7b-84ca-2efacc157532",
   "metadata": {},
   "source": [
    "PDF marginal de la altura $g_X(x)$"
   ]
  },
  {
   "cell_type": "code",
   "execution_count": null,
   "id": "e5cfe445-f0ce-4ce5-9765-b285616748bd",
   "metadata": {},
   "outputs": [],
   "source": [
    "from scipy.stats import norm\n",
    "height = np.linspace(mean_height_cm - 2*height_sigma_cm, mean_height_cm + 2*height_sigma_cm, num=100)\n",
    "pdf_marginal_height = norm.pdf(height, loc=mean_height_cm, scale=height_sigma_cm)"
   ]
  },
  {
   "cell_type": "code",
   "execution_count": null,
   "id": "db8e6ad9-e9c5-468a-938d-efb69a8955dc",
   "metadata": {},
   "outputs": [],
   "source": [
    "import matplotlib.pyplot as plt\n",
    "fig, ax = plt.subplots()\n",
    "ax.set_xlabel(\"Height (cm)\")\n",
    "ax.set_ylabel(\"$g_X(x) \\; (cm^{-1}$)\")\n",
    "ax.plot(height, pdf_marginal_height)"
   ]
  },
  {
   "cell_type": "markdown",
   "id": "8eefe9b5-0fe8-40ad-a389-2865a368a061",
   "metadata": {},
   "source": [
    "PDF marginal del peso $g_Y(y)$"
   ]
  },
  {
   "cell_type": "code",
   "execution_count": null,
   "id": "4700032a-58a0-49e6-bcc0-121a16b9406b",
   "metadata": {},
   "outputs": [],
   "source": [
    "weight = np.linspace(mean_weight_kg - 2*weight_sigma_kg, mean_weight_kg + 2*weight_sigma_kg, num=100)\n",
    "pdf_marginal_weight = norm.pdf(weight, loc=mean_weight_kg, scale=weight_sigma_kg)"
   ]
  },
  {
   "cell_type": "code",
   "execution_count": null,
   "id": "c2609943-2ade-4260-af1e-c2b00341051a",
   "metadata": {},
   "outputs": [],
   "source": [
    "import matplotlib.pyplot as plt\n",
    "fig, ax = plt.subplots()\n",
    "ax.set_xlabel(\"Weight (kg)\")\n",
    "ax.set_ylabel(\"$g_Y(y) \\; (kg^{-1}$)\")\n",
    "ax.plot(weight, pdf_marginal_weight)"
   ]
  },
  {
   "cell_type": "markdown",
   "id": "25ea92fb-64e5-4c56-bb36-9091910a453b",
   "metadata": {},
   "source": [
    "## PDF conjunta f(x,y)"
   ]
  },
  {
   "cell_type": "code",
   "execution_count": null,
   "id": "5c976fe8-9203-4167-ba58-0ab63eb5a51b",
   "metadata": {},
   "outputs": [],
   "source": [
    "x, y = np.meshgrid(height, weight)\n",
    "pos = np.dstack((x, y))"
   ]
  },
  {
   "cell_type": "code",
   "execution_count": null,
   "id": "7da8dd1e-bbf0-4897-bdc1-9801b3b56ff1",
   "metadata": {},
   "outputs": [],
   "source": [
    "from scipy.stats import multivariate_normal\n",
    "z = multivariate_normal.pdf(pos, mean, cov)"
   ]
  },
  {
   "cell_type": "markdown",
   "id": "9ee594b5-9eb0-41b5-aa11-c3606acf81f9",
   "metadata": {},
   "source": [
    "Surface plot"
   ]
  },
  {
   "cell_type": "code",
   "execution_count": null,
   "id": "7d9cf714-3f5d-49e2-a579-d14236d01836",
   "metadata": {},
   "outputs": [],
   "source": [
    "from matplotlib import cm\n",
    "fig = plt.figure(figsize=(8, 6.5))\n",
    "ax = fig.subplots(subplot_kw={\"projection\": \"3d\"})\n",
    "ax.set_xlabel(\"Height (cm)\")\n",
    "ax.set_ylabel(\"Weight (kg)\")\n",
    "ax.set_zlabel(\"$PDF (cm^{-1} kg^{-1})$\")\n",
    "ax.plot_surface(x, y, z, cmap=cm.Blues)"
   ]
  },
  {
   "cell_type": "markdown",
   "id": "2b3aafb2-ff7f-4fbc-8c54-fbbc983299bd",
   "metadata": {},
   "source": [
    "Density plot"
   ]
  },
  {
   "cell_type": "code",
   "execution_count": null,
   "id": "05680223-45cd-4655-b0a1-7986118c255d",
   "metadata": {},
   "outputs": [],
   "source": [
    "fig, ax = plt.subplots()\n",
    "ax.set_xlabel(\"Height (cm)\")\n",
    "ax.set_ylabel(\"Weight (kg)\")\n",
    "density_plot = ax.pcolormesh(x, y, z, shading='auto', cmap=cm.viridis)\n",
    "clb = plt.colorbar(density_plot)\n",
    "clb.ax.set_title(\"$PDF (cm^{-1} kg^{-1})$\")"
   ]
  },
  {
   "cell_type": "markdown",
   "id": "cb97de23-31e9-4867-88eb-c1ad18f5e2d7",
   "metadata": {},
   "source": [
    "Surface level plot"
   ]
  },
  {
   "cell_type": "code",
   "execution_count": null,
   "id": "c45b6f03-f5aa-46e6-9a3e-f61af2fe20e4",
   "metadata": {},
   "outputs": [],
   "source": [
    "fig, ax = plt.subplots()\n",
    "ax.set_xlabel(\"Height (cm)\")\n",
    "ax.set_ylabel(\"Weight (kg)\")\n",
    "contours = ax.contour(x, y, z, linestyles='dashed')"
   ]
  },
  {
   "cell_type": "markdown",
   "id": "1830c6f5-cdbe-45f8-b4d0-196ef62a4abf",
   "metadata": {},
   "source": [
    "## PDF condicional del peso dada la altura $h_{Y|X}(y)$"
   ]
  },
  {
   "cell_type": "code",
   "execution_count": null,
   "id": "02d5b84c-b0af-42ab-8975-6ed75091393f",
   "metadata": {},
   "outputs": [],
   "source": [
    "import matplotlib.pyplot as plt\n",
    "import math\n",
    "\n",
    "fig, ax = plt.subplots()\n",
    "ax.set_xlabel(\"Weight (kg)\")\n",
    "ax.set_ylabel(\"$h_{Y|X}(y) \\; (kg^{-1}$)\")\n",
    "\n",
    "height_steps = mean_height_cm + np.linspace(-1, 1, 5) * height_sigma_cm\n",
    "for height in height_steps:\n",
    "    mean =  mean_weight_kg + correlation * weight_sigma_kg / height_sigma_cm * (height - mean_height_cm)\n",
    "    sigma = weight_sigma_kg * math.sqrt(1-correlation**2)\n",
    "    conditional_pdf = norm.pdf(weight, loc=mean, scale=sigma)\n",
    "    ax.plot(weight, conditional_pdf, ls='--', label=f\"{height:.0f}\") \n",
    "\n",
    "ax.legend(title=\"Height (cm)\")"
   ]
  }
 ],
 "metadata": {
  "kernelspec": {
   "display_name": "Python 3 (ipykernel)",
   "language": "python",
   "name": "python3"
  },
  "language_info": {
   "codemirror_mode": {
    "name": "ipython",
    "version": 3
   },
   "file_extension": ".py",
   "mimetype": "text/x-python",
   "name": "python",
   "nbconvert_exporter": "python",
   "pygments_lexer": "ipython3",
   "version": "3.10.12"
  }
 },
 "nbformat": 4,
 "nbformat_minor": 5
}
