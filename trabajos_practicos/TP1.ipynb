{
 "cells": [
  {
   "cell_type": "markdown",
   "id": "c5e00a7d-fdee-4de2-95ea-4f73574c0f6c",
   "metadata": {},
   "source": [
    "---\n",
    "---\n",
    "## Trabajo Práctico 1 - Probabilidad Discreta\n",
    "---\n",
    "---"
   ]
  },
  {
   "cell_type": "markdown",
   "id": "5a98464b-bebf-40c9-8336-b9e0b7089d4f",
   "metadata": {},
   "source": [
    "Simular dos variables aleatorias $X_1$ y $X_2$ que siguen distribuciones de Poisson con parametros $\\mu_1 = 1$ y $\\mu_2 = 2$ respectivamente. Calcular la variable $Y = X_1 + X_2$. Repetir la simulación 1000 veces. Graficar la distribución de la variable $Y$ y comparar con una distribución de probabilidad adecuada."
   ]
  },
  {
   "cell_type": "code",
   "execution_count": null,
   "id": "215d14a3-cd8a-4a8a-a37a-d644249e8582",
   "metadata": {},
   "outputs": [],
   "source": []
  }
 ],
 "metadata": {
  "kernelspec": {
   "display_name": "Python 3 (ipykernel)",
   "language": "python",
   "name": "python3"
  },
  "language_info": {
   "codemirror_mode": {
    "name": "ipython",
    "version": 3
   },
   "file_extension": ".py",
   "mimetype": "text/x-python",
   "name": "python",
   "nbconvert_exporter": "python",
   "pygments_lexer": "ipython3",
   "version": "3.8.10"
  }
 },
 "nbformat": 4,
 "nbformat_minor": 5
}
