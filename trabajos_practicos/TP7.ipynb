{
 "cells": [
  {
   "cell_type": "markdown",
   "metadata": {
    "id": "vNeE23OUxoV-"
   },
   "source": [
    "# Final Análisis Estadístico de Datos"
   ]
  },
  {
   "cell_type": "markdown",
   "metadata": {},
   "source": [
    "**Nombre**:  \n",
    "**Cuatrimestre**:  "
   ]
  },
  {
   "cell_type": "markdown",
   "metadata": {
    "id": "EfbpnSY50UoY"
   },
   "source": [
    "Un experimento consiste en contar el número de partículas detectadas por un detector ($k$) sobre un total de partículas incidentes ($n$) para medir la eficiencia del detector. El experimento se repite para distintas energías de la partículas incidentes ($E$). Buscamos ajustar un modelo de la eficiencia $\\varepsilon$ en función de la energía en base a los datos medidos. La siguiente tabla muestra los resultados del experimento.  "
   ]
  },
  {
   "cell_type": "code",
   "execution_count": null,
   "metadata": {
    "colab": {
     "base_uri": "https://localhost:8080/",
     "height": 676
    },
    "executionInfo": {
     "elapsed": 14,
     "status": "ok",
     "timestamp": 1701262169131,
     "user": {
      "displayName": "Diego Ravignani Guerrero",
      "userId": "10540030550289703153"
     },
     "user_tz": 180
    },
    "id": "KiQIVO_erpbM",
    "outputId": "bf776c1d-fdfb-4054-f4d9-fa0eafbe8fde"
   },
   "outputs": [],
   "source": [
    "import numpy as np\n",
    "import pandas as pd\n",
    "energy = np.arange(start=0.05, stop=1.05, step=0.05)\n",
    "ntrials = 30\n",
    "total_particles = np.full(energy.shape, ntrials)\n",
    "observed_particles = np.array([0, 0, 0, 3, 3, 2, 8, 5, 4, 11, 18, 15, 19, 20, 26, 24, 26, 29, 30, 30])\n",
    "data = pd.DataFrame(data = {'Energy': energy, 'Total': total_particles, 'Observed': observed_particles})\n",
    "data"
   ]
  },
  {
   "cell_type": "markdown",
   "metadata": {},
   "source": [
    "**1**. Calcular el estimador de la eficiencia del detector ($\\hat\\varepsilon$) para cada energía"
   ]
  },
  {
   "cell_type": "code",
   "execution_count": null,
   "metadata": {},
   "outputs": [],
   "source": []
  },
  {
   "cell_type": "markdown",
   "metadata": {},
   "source": [
    "**2**. Graficar el estimador de la eficiencia ($\\hat\\varepsilon$) en función de la energía "
   ]
  },
  {
   "cell_type": "code",
   "execution_count": null,
   "metadata": {},
   "outputs": [],
   "source": []
  },
  {
   "cell_type": "markdown",
   "metadata": {
    "executionInfo": {
     "elapsed": 13,
     "status": "ok",
     "timestamp": 1701262169132,
     "user": {
      "displayName": "Diego Ravignani Guerrero",
      "userId": "10540030550289703153"
     },
     "user_tz": 180
    },
    "id": "PMdcfIEL03lL"
   },
   "source": [
    "**3**. Escribir el código para el modelo del ajuste  \n",
    "El modelo de la eficiencia en función de la energía es la función sigmoide,\n",
    "\\begin{equation}\n",
    "\\varepsilon(E;a,b)=\\frac{1}{1+\\exp(-(E-a)/b)},\n",
    "\\end{equation}\n",
    "con $a$ y $b$ los parámetros del ajuste. "
   ]
  },
  {
   "cell_type": "code",
   "execution_count": null,
   "metadata": {},
   "outputs": [],
   "source": []
  },
  {
   "cell_type": "markdown",
   "metadata": {
    "id": "34OPxWzr0p-z"
   },
   "source": [
    "**4**. Ajustar los datos con el modelo de la eficiencia con una función de costo Binomial"
   ]
  },
  {
   "cell_type": "code",
   "execution_count": null,
   "metadata": {
    "executionInfo": {
     "elapsed": 12,
     "status": "ok",
     "timestamp": 1701262169133,
     "user": {
      "displayName": "Diego Ravignani Guerrero",
      "userId": "10540030550289703153"
     },
     "user_tz": 180
    },
    "id": "WVjusmtC0ql4"
   },
   "outputs": [],
   "source": []
  },
  {
   "cell_type": "markdown",
   "metadata": {
    "executionInfo": {
     "elapsed": 532,
     "status": "ok",
     "timestamp": 1701262169654,
     "user": {
      "displayName": "Diego Ravignani Guerrero",
      "userId": "10540030550289703153"
     },
     "user_tz": 180
    },
    "id": "WJAIfWHP05Lc"
   },
   "source": [
    "**5**. Reportar los resultados para los parámetros $a$ y $b$ incluyendo los errores correspondientes"
   ]
  },
  {
   "cell_type": "code",
   "execution_count": null,
   "metadata": {
    "executionInfo": {
     "elapsed": 12,
     "status": "ok",
     "timestamp": 1701262169655,
     "user": {
      "displayName": "Diego Ravignani Guerrero",
      "userId": "10540030550289703153"
     },
     "user_tz": 180
    },
    "id": "cywD-dIa05QF"
   },
   "outputs": [],
   "source": []
  },
  {
   "cell_type": "markdown",
   "metadata": {},
   "source": [
    "**6**. Reportar la correlación entre los estimadores de los parámetros $a$ y $b$"
   ]
  },
  {
   "cell_type": "code",
   "execution_count": null,
   "metadata": {},
   "outputs": [],
   "source": []
  },
  {
   "cell_type": "markdown",
   "metadata": {},
   "source": [
    "**7**. Graficar la región de confianza $1\\sigma$ de los parámetros $a$ y $b$ "
   ]
  },
  {
   "cell_type": "code",
   "execution_count": null,
   "metadata": {},
   "outputs": [],
   "source": []
  },
  {
   "cell_type": "markdown",
   "metadata": {
    "id": "3QBQI7xm0zt-"
   },
   "source": [
    "**8**. Calcular el $\\chi^2$ del ajuste y su p-valor. Decidir si el modelo es consistente con los datos."
   ]
  },
  {
   "cell_type": "code",
   "execution_count": null,
   "metadata": {
    "executionInfo": {
     "elapsed": 11,
     "status": "ok",
     "timestamp": 1701262169656,
     "user": {
      "displayName": "Diego Ravignani Guerrero",
      "userId": "10540030550289703153"
     },
     "user_tz": 180
    },
    "id": "QRrRt2nb06Cz"
   },
   "outputs": [],
   "source": []
  },
  {
   "cell_type": "markdown",
   "metadata": {
    "id": "5O6RgzA-vnaf"
   },
   "source": [
    "**9**. Graficar los datos y el ajuste incluyendo la banda de error del ajuste"
   ]
  },
  {
   "cell_type": "code",
   "execution_count": null,
   "metadata": {},
   "outputs": [],
   "source": []
  }
 ],
 "metadata": {
  "colab": {
   "provenance": []
  },
  "kernelspec": {
   "display_name": "Python 3 (ipykernel)",
   "language": "python",
   "name": "python3"
  },
  "language_info": {
   "codemirror_mode": {
    "name": "ipython",
    "version": 3
   },
   "file_extension": ".py",
   "mimetype": "text/x-python",
   "name": "python",
   "nbconvert_exporter": "python",
   "pygments_lexer": "ipython3",
   "version": "3.10.12"
  }
 },
 "nbformat": 4,
 "nbformat_minor": 4
}
