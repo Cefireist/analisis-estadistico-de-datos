{
 "cells": [
  {
   "cell_type": "markdown",
   "id": "862da38d-04b2-4eb9-84c9-61e8b407c885",
   "metadata": {},
   "source": [
    "## Trabajo Práctico 7 - Ajuste de Datos"
   ]
  },
  {
   "cell_type": "markdown",
   "id": "b91ab5a9-8f3e-4de9-b7e5-045e000e60e0",
   "metadata": {},
   "source": [
    "### Ajuste de la eficiencia\n",
    "\n",
    "**1.** Considerar una variable aleatoria $k$ que sigue una distribución binomial\n",
    "con un número de pruebas de Bernoulli $n=30$ y probabilidad de éxito\n",
    "o eficiencia $p$. Calcular la función de verosimilitud $L(p)$, el estimador\n",
    "de máxima verosimilitud $\\hat{p}$, la verosimilitud máxima $L_{max}$, el cociente de verosimilitudes $λ(p)$ y la función de costo $J_1(p)$ para los casos:\n",
    "\n",
    "* k = 0\n",
    "* k = 10\n",
    "* k = n"
   ]
  },
  {
   "cell_type": "code",
   "execution_count": null,
   "id": "451934d8-dea5-45a6-947c-00c94830373d",
   "metadata": {},
   "outputs": [],
   "source": []
  },
  {
   "cell_type": "markdown",
   "id": "a2d1c9dc-d597-49fb-a10c-441333f8697b",
   "metadata": {},
   "source": [
    "**2.** Graficar la función de costo $J_1(p)$ para los tres casos anteriores."
   ]
  },
  {
   "cell_type": "code",
   "execution_count": null,
   "id": "f356c664-e43c-4487-a46b-ad6021e58dad",
   "metadata": {},
   "outputs": [],
   "source": []
  },
  {
   "cell_type": "markdown",
   "id": "74855cf8-56fa-4329-a428-96e24e5149e3",
   "metadata": {},
   "source": [
    "**3.** En un experimento se midieron los 20 datos de la tabla que contiene la variable independiente $x$ (columna 1), el número de pruebas de Bernoulli $n$ (columna 2) y el número de éxitos $k$ (columna 3). Graficar los datos usando el eje horizontal para la variable independiente $x$ y el eje vertical para el estimador de la eficiencia calculado a partir de $k$ y $n$."
   ]
  },
  {
   "cell_type": "code",
   "execution_count": null,
   "id": "d76add1a-e412-43f5-a935-30cb4d0b1f4e",
   "metadata": {},
   "outputs": [],
   "source": []
  },
  {
   "cell_type": "markdown",
   "id": "ef4ca554-8c8c-420a-a65c-30f5d757c4ef",
   "metadata": {},
   "source": [
    "**4.** El modelo a ajustar es la función sigmoide,\n",
    "\\begin{equation}\n",
    "s(x;a,b)=\\frac{1}{1+\\exp(-(x-a)/b)},\n",
    "\\end{equation}\n",
    "con $a$ y $b$ los parámetros del ajuste. En base al modelo $s(x)$ y a la\n",
    "función de costo $J_1(p)$ escribir el código para la función de costo del\n",
    "ajuste $J(\\theta)$ con $\\theta = (a, b)$."
   ]
  },
  {
   "cell_type": "code",
   "execution_count": null,
   "id": "52469e87-fc0a-4c11-8116-2ade488ee45a",
   "metadata": {},
   "outputs": [],
   "source": []
  },
  {
   "cell_type": "markdown",
   "id": "a9257c2a-c664-4d55-a8c3-918f06fb1f97",
   "metadata": {},
   "source": [
    "**5.** Minimizar el costo del ajuste $J(\\theta)$ usando como semilla inicial $a=0.5$ y $b=0.1$. Calcular los estimadores de máxima verosimilitud y los errores\n",
    "de los parámetros $a$ y $b.$ Calcular la correlación entre los estimadores de $a$ y $b$."
   ]
  },
  {
   "cell_type": "code",
   "execution_count": null,
   "id": "e5196351-5aba-458f-9671-e2c9882a5a8f",
   "metadata": {},
   "outputs": [],
   "source": []
  },
  {
   "cell_type": "markdown",
   "id": "cb1332a5-43f5-4928-887f-8ca6e5acc110",
   "metadata": {},
   "source": [
    "**6.** Calcular el χ2 del ajuste y su p-valor."
   ]
  },
  {
   "cell_type": "code",
   "execution_count": null,
   "id": "a4058e13-779b-4ac4-a3f9-15b0ba78dda9",
   "metadata": {},
   "outputs": [],
   "source": []
  },
  {
   "cell_type": "markdown",
   "id": "c0dcbd50-d4c2-4a32-82a4-39d8f0ff97fe",
   "metadata": {},
   "source": [
    "**7.** Calcular la banda de error del ajuste considerando que las derivadas del modelo con respecto a los parámetros son:\n",
    "\n",
    "\\begin{equation}\n",
    "\\frac{\\partial s}{\\partial a} = -s \\, (1-s) \\,  \\left(\\frac{1}{b} \\right)\n",
    "\\end{equation}\n",
    "\n",
    "\\begin{equation}\n",
    "\\frac{\\partial s}{\\partial b} = -s \\, (1-s) \\,  \\left( \\frac{x-a}{b^2} \\right).\n",
    "\\end{equation}"
   ]
  },
  {
   "cell_type": "code",
   "execution_count": null,
   "id": "66461686-2d5c-4e0f-a377-eb15c0d28c2f",
   "metadata": {},
   "outputs": [],
   "source": []
  },
  {
   "cell_type": "markdown",
   "id": "fbbfe2d4-7a95-4b78-a7b2-726251521de5",
   "metadata": {},
   "source": [
    "**8.** Graficar los datos y el ajuste incluyendo la banda de error."
   ]
  },
  {
   "cell_type": "code",
   "execution_count": null,
   "id": "33f5ef17-fc67-40fd-a396-543df208bcb5",
   "metadata": {},
   "outputs": [],
   "source": []
  }
 ],
 "metadata": {
  "kernelspec": {
   "display_name": "Python 3 (ipykernel)",
   "language": "python",
   "name": "python3"
  },
  "language_info": {
   "codemirror_mode": {
    "name": "ipython",
    "version": 3
   },
   "file_extension": ".py",
   "mimetype": "text/x-python",
   "name": "python",
   "nbconvert_exporter": "python",
   "pygments_lexer": "ipython3",
   "version": "3.8.10"
  }
 },
 "nbformat": 4,
 "nbformat_minor": 5
}
