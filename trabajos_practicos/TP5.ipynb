{
 "cells": [
  {
   "cell_type": "markdown",
   "id": "01d19ab4-a455-4350-b15d-38575e4d7fe1",
   "metadata": {},
   "source": [
    "---\n",
    "---\n",
    "## Trabajo Práctico 5 - Estimación de Intervalos\n",
    "---\n",
    "---"
   ]
  },
  {
   "cell_type": "markdown",
   "id": "4d4a4e66-9ea9-4d03-84e3-2f6fad01bf0c",
   "metadata": {},
   "source": [
    "Considerar $n=32$ lanzamientos de una moneda cargada con probabilidad $p$ de salir cara. El numero de caras $X$ es una variable aleatoria con distribucion binomial $X \\sim B(n, p)$. Considerar\n",
    "un tanda de lanzamientos en el que salen $k$ caras. El estimador del\n",
    "parametro $p$ es $\\hat{p} = \\frac{k}{n}$. El intervalo de confianza estándar de $p$ con un nivel de confianza del $95\\%$ es $\\hat{p} \\pm 1.96\\sqrt{\\hat{p}(1 − \\hat{p})/n}$, donde $q = 1.96$ es el cuantil normal estandar para un $95\\%$ CL.\n",
    "\n",
    "  * Simular 10.000 tandas de lanzamientos asumiendo $p = 0.2$.\n",
    "\n",
    "  * Verificar para cada tanda si el intervalo incluye o no a $p = 0.2$.\n",
    "\n",
    "  * Estimar la cobertura del intervalo.\n",
    "\n",
    "  * Decidir si el intervalo es exacto y comparar la cobertura con respecto al nivel de confianza.\n",
    "\n",
    "  * Barrer $p$ en el intervalo [0,1] en pasos de $0.01$, graficar y ver si hay valores de $p$ para los cuáles la cobertura es particularmente mala.\n",
    "\n",
    "  * Estimar la cobertura de un nuevo intervalo $t \\pm 1.96 \\sqrt{t(1 − t)/n}$ con $t = (k + 2)/(n + 2)$, equivalente a “agregar dos  aciertos y dos fracasos”."
   ]
  },
  {
   "cell_type": "code",
   "execution_count": null,
   "id": "c1f3e2e5-4dc7-463c-a0de-9b2adeca9745",
   "metadata": {},
   "outputs": [],
   "source": []
  }
 ],
 "metadata": {
  "kernelspec": {
   "display_name": "Python 3 (ipykernel)",
   "language": "python",
   "name": "python3"
  },
  "language_info": {
   "codemirror_mode": {
    "name": "ipython",
    "version": 3
   },
   "file_extension": ".py",
   "mimetype": "text/x-python",
   "name": "python",
   "nbconvert_exporter": "python",
   "pygments_lexer": "ipython3",
   "version": "3.8.10"
  }
 },
 "nbformat": 4,
 "nbformat_minor": 5
}
