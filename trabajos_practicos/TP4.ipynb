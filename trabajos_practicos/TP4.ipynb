{
 "cells": [
  {
   "cell_type": "markdown",
   "id": "ecbc8823-a1ca-4c2c-821c-90eb22ca226d",
   "metadata": {},
   "source": [
    "## Trabajo Práctico 4 - Estimación de parámetros\n",
    "\n",
    "---\n",
    "\n",
    "Simular una muestra de dos variables aleatorias $X_1$ y $X_2$ que siguen una distribución normal estándar. Calcular la varianza muestral $s^2$. Considerar dos estimadores diferentes de la desviación estándar $t_1 = \\sqrt{s^2}$ y $t_2 = \\sqrt{\\pi s^2/2}$. Repetir la simulación 1000 veces y construir los histogramas de frecuencia de $t_1$ y $t_2$. Decidir si los estimadores $t_1$ y $t_2$ son sesgados o no. Discutir porque el estimador de varianza $s^2$ no tiene sesgo pero el estimador de la desviación estándar $t_1 = \\sqrt(s^2)$ es sesgado.\n"
   ]
  },
  {
   "cell_type": "code",
   "execution_count": null,
   "id": "6fcb24af-5165-41da-a1d7-bd8e200b7f42",
   "metadata": {},
   "outputs": [],
   "source": []
  }
 ],
 "metadata": {
  "kernelspec": {
   "display_name": "Python 3 (ipykernel)",
   "language": "python",
   "name": "python3"
  },
  "language_info": {
   "codemirror_mode": {
    "name": "ipython",
    "version": 3
   },
   "file_extension": ".py",
   "mimetype": "text/x-python",
   "name": "python",
   "nbconvert_exporter": "python",
   "pygments_lexer": "ipython3",
   "version": "3.8.10"
  }
 },
 "nbformat": 4,
 "nbformat_minor": 5
}
