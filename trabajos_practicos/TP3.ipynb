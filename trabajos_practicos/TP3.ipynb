{
 "cells": [
  {
   "cell_type": "markdown",
   "id": "d3eae515-419c-46d9-885b-3c3b7e469490",
   "metadata": {},
   "source": [
    "## Trabajo Práctico 3 - Probabilidad multidimensional"
   ]
  },
  {
   "cell_type": "markdown",
   "id": "ef617cfa-6930-43cc-ad66-450b86b445d0",
   "metadata": {},
   "source": [
    "7. **(Para entregar)** Simular una variable aleatoria $X = (X_1, X_2)$ que sigue una distribución binormal con parámetros $\\mu_1 = 2.3$,  $\\mu_2 = 1.5$, $\\sigma_1 = 1.2$, $\\sigma_2 = 0.5$ y correlación $\\rho = 0.7$. Repetir la simulación 1000 veces. Calcular la fracción de eventos caen en la elipse $1\\sigma$ y comparar con la probabilidad contenida dentro de dicha región. Graficar 10 de los datos simulados junto a la elipse 1σ.\n",
    "\n",
    "Nota: un punto $(x_1, x_2)$ pertenece a la elipse $r\\sigma$ si la forma cuadrática asociada $q(x_1, x_2) ≤ r$."
   ]
  },
  {
   "cell_type": "code",
   "execution_count": null,
   "id": "baa04c51-aae1-4a33-9b6f-f4c014f1219f",
   "metadata": {},
   "outputs": [],
   "source": []
  }
 ],
 "metadata": {
  "kernelspec": {
   "display_name": "Python 3 (ipykernel)",
   "language": "python",
   "name": "python3"
  },
  "language_info": {
   "codemirror_mode": {
    "name": "ipython",
    "version": 3
   },
   "file_extension": ".py",
   "mimetype": "text/x-python",
   "name": "python",
   "nbconvert_exporter": "python",
   "pygments_lexer": "ipython3",
   "version": "3.8.10"
  }
 },
 "nbformat": 4,
 "nbformat_minor": 5
}
